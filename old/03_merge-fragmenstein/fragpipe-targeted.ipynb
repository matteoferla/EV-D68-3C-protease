{
 "cells": [
  {
   "cell_type": "code",
   "execution_count": 12,
   "id": "0fe475cf-da4b-404f-9be9-006b2b78bd6f",
   "metadata": {},
   "outputs": [
    {
     "name": "stdout",
     "output_type": "stream",
     "text": [
      "NGlView import failed: 'super' object has no attribute '_ipython_display_'\n",
      "PyRosetta-4 2023 [Rosetta PyRosetta4.Release.python310.ubuntu 2023.16+release.942c01d5066fd96860b7d268702b832fe906a739 2023-04-12T15:05:51] retrieved from: http://www.pyrosetta.org\n",
      "(C) Copyright Rosetta Commons Member Institutions. Created in JHU by Sergey Lyskov and PyRosetta Team.\n"
     ]
    },
    {
     "name": "stderr",
     "output_type": "stream",
     "text": [
      "/home/ubuntu/miniconda3/lib/python3.10/site-packages/Bio/pairwise2.py:278: BiopythonDeprecationWarning: Bio.pairwise2 has been deprecated, and we intend to remove it in a future release of Biopython. As an alternative, please consider using Bio.Align.PairwiseAligner as a replacement, and contact the Biopython developers if you still need the Bio.pairwise2 module.\n",
      "  warnings.warn(\n"
     ]
    }
   ],
   "source": [
    "from rdkit import Chem\n",
    "from rdkit.Chem import AllChem, Draw, PandasTools, BRICS\n",
    "from rdkit.Chem.Draw import IPythonConsole\n",
    "import pandas as pd\n",
    "import pandera.typing as pdt\n",
    "from typing import List, Dict\n",
    "\n",
    "with Chem.SDMolSupplier('fragmented_hits.sdf') as sd:\n",
    "    hits: Dict[str, Chem.Mol] = {mol.GetProp('_Name'): mol for mol in sd}\n",
    "    \n",
    "with Chem.SDMolSupplier('trimmed_x0771-x1604.sdf') as sds:\n",
    "    for hit in sds:\n",
    "        h_name = hit.GetProp('_Name')\n",
    "        hits[h_name] = hit\n",
    "    \n",
    "    \n",
    "with open('reference.pdb') as fh:\n",
    "    pdbblock = fh.read()\n",
    "    \n",
    "# ------------------------------------------------------\n",
    "    \n",
    "import logging\n",
    "import pyrosetta_help as ph\n",
    "import pyrosetta\n",
    "\n",
    "logger = ph.configure_logger()\n",
    "logger.handlers[0].setLevel(logging.ERROR)  # logging.WARNING = 30\n",
    "extra_options = ph.make_option_string(no_optH=False,\n",
    "                                      ex1=None,\n",
    "                                      ex2=None,\n",
    "                                      #mute='all',\n",
    "                                      ignore_unrecognized_res=True,\n",
    "                                      load_PDB_components=False,\n",
    "                                      ignore_waters=True)\n",
    "pyrosetta.init(extra_options=extra_options)"
   ]
  },
  {
   "cell_type": "code",
   "execution_count": 13,
   "id": "42a027c4-935e-4f55-be17-994bf4960454",
   "metadata": {},
   "outputs": [],
   "source": [
    "import pyrosetta\n",
    "import pyrosetta_help as ph\n",
    "from types import ModuleType\n",
    "\n",
    "prc: ModuleType = pyrosetta.rosetta.core\n",
    "prp: ModuleType = pyrosetta.rosetta.protocols\n",
    "prn: ModuleType = pyrosetta.rosetta.numeric\n",
    "prcc: ModuleType = pyrosetta.rosetta.core.conformation\n",
    "pr_scoring: ModuleType = pyrosetta.rosetta.core.scoring\n",
    "pr_simple: ModuleType = prp.simple_moves\n",
    "pr_rsele: ModuleType = prc.select.residue_selector"
   ]
  },
  {
   "cell_type": "code",
   "execution_count": 29,
   "id": "dbd57293-8b9c-4114-ac34-01494bbee926",
   "metadata": {},
   "outputs": [],
   "source": [
    "# crude filtering via PyRosetta.\n",
    "# does it affect the masked score (10Å radius of Cys).\n",
    "\n",
    "from rdkit import Geometry\n",
    "\n",
    "def mol2pose(mol) -> pyrosetta.Pose:\n",
    "    params = Params.from_mol(mol, name='LIG')\n",
    "    # params.to_pose() is an ideal pose.\n",
    "    #params.add_residuetype(pose)\n",
    "    pose = params.to_pose()\n",
    "    conf = params.mol.GetConformer()\n",
    "    for atom in params.mol.GetAtoms():\n",
    "        name = atom.GetPDBResidueInfo().GetName()\n",
    "        pos: Geometry.Point3D = conf.GetAtomPosition(atom.GetIdx())\n",
    "        xyz = prn.xyzVector_double_t(pos.x, pos.y, pos.z)\n",
    "        pose.residue(1).set_xyz(name, xyz)\n",
    "    return pose\n",
    "\n",
    "def get_radius_score(pose, radius=10) -> float:\n",
    "    cys_idx = pose.pdb_info().pdb2pose(chain='A', res=147)\n",
    "    assert pose.residue(cys_idx).name3() == 'CYS'\n",
    "    neigh_sele = pr_rsele.NeighborhoodResidueSelector(pr_rsele.ResidueIndexSelector(cys_idx),\n",
    "                                                     radius,\n",
    "                                                      True\n",
    "                                                     )\n",
    "    scorefxn = pyrosetta.get_fa_scorefxn()\n",
    "    # clashes go away...\n",
    "    scorefxn.set_weight(pr_scoring.ScoreType.fa_rep, 0)\n",
    "    scorefxn(pose) # dummy call or segfault!\n",
    "    return scorefxn.get_sub_score(pose, neigh_sele.apply(pose))"
   ]
  },
  {
   "cell_type": "code",
   "execution_count": 33,
   "id": "f5f499bf-d6a4-4634-9e24-69e834c9b0c6",
   "metadata": {},
   "outputs": [],
   "source": [
    "from rdkit_to_params import Params\n",
    "\n",
    "apo = pyrosetta.Pose()\n",
    "prc.import_pose.pose_from_pdbstring(apo, pdbblock)\n",
    "\n",
    "def is_good(hit, apo):\n",
    "    try:\n",
    "        holo = apo.clone()\n",
    "        lig_pose = mol2pose(hit)\n",
    "        holo.append_pose_by_jump(lig_pose, holo.num_jump()+1)\n",
    "        return get_radius_score(holo) - get_radius_score(apo) < -1\n",
    "    except Exception as error:\n",
    "        if 'CONN1' not in str(error):\n",
    "            print(error.__class__.__name__, error)\n",
    "        return False"
   ]
  },
  {
   "cell_type": "code",
   "execution_count": null,
   "id": "15b0b963-ff22-4833-ad07-0b1b1e1934f9",
   "metadata": {},
   "outputs": [],
   "source": [
    "verdicts = {}\n",
    "for name, hit in hits.items():\n",
    "    verdicts[name] = is_good(hit, apo)"
   ]
  },
  {
   "cell_type": "code",
   "execution_count": 35,
   "id": "5e3dbdc8-b900-481c-a612-94baac1dd116",
   "metadata": {},
   "outputs": [
    {
     "data": {
      "text/plain": [
       "[(False, 688), (True, 308)]"
      ]
     },
     "execution_count": 35,
     "metadata": {},
     "output_type": "execute_result"
    }
   ],
   "source": [
    "from collections import Counter\n",
    "\n",
    "Counter(verdicts.values()).most_common()"
   ]
  },
  {
   "cell_type": "code",
   "execution_count": 32,
   "id": "aef3a0c6-5d4c-4d05-a8ad-5190d4275e0e",
   "metadata": {},
   "outputs": [],
   "source": [
    "with Chem.SDWriter('craplets.sdf') as s:\n",
    "    for name in hits:\n",
    "        if not verdicts.get(name, False):\n",
    "            s.write(hits[name])"
   ]
  },
  {
   "cell_type": "code",
   "execution_count": 36,
   "id": "bf12a488-8152-49d5-b46b-8e93a6763e1a",
   "metadata": {},
   "outputs": [],
   "source": [
    "ranking = '∆∆G' #@param [\"LE\", \"∆∆G\", \"comRMSD\"]\n",
    "joining_cutoff:int = 5\n",
    "quick_reananimation:bool = False\n",
    "output_folder = 'frag_output'\n",
    "\n",
    "import os\n",
    "if not os.path.exists(output_folder):\n",
    "    # isnt this done automatically?\n",
    "    os.mkdir(output_folder)\n",
    "\n",
    "import os, re\n",
    "import pyrosetta, logging\n",
    "import pandas as pd\n",
    "from rdkit import Chem\n",
    "from fragmenstein import Victor, Laboratory\n",
    "\n",
    "Victor.work_path = output_folder\n",
    "Victor.monster_throw_on_discard = True  # stop this merger if a fragment cannot be used.\n",
    "Victor.monster_joining_cutoff = joining_cutoff  # Å\n",
    "Victor.quick_reanimation = quick_reananimation  # for the impatient\n",
    "Victor.error_to_catch = Exception  # stop the whole laboratory otherwise\n",
    "#Victor.enable_stdout(logging.ERROR)\n",
    "Victor.enable_logfile(os.path.join(output_folder, 'fragmenstein.log'), logging.ERROR)"
   ]
  },
  {
   "cell_type": "code",
   "execution_count": null,
   "id": "454ffe8c-b0a0-48ca-bbc2-288fa0c322c2",
   "metadata": {},
   "outputs": [],
   "source": [
    "import random, time\n",
    "\n",
    "# calculate!\n",
    "lab = Laboratory(pdbblock=pdbblock, covalent_resi=None)\n",
    "n_cores = 55  #@param {type:\"integer\"}\n",
    "\n",
    "# post-fail fix:\n",
    "for name, hit in hits.items():\n",
    "    hit.SetProp('_Name', name)\n",
    "    hit.SetProp('name', name)\n",
    "\n",
    "hitlist = [hit for name, hit in hits.items() if verdicts.get(name, False)]\n",
    "\n",
    "tick = time.time()\n",
    "combinations:pd.DataFrame = lab.combine(hitlist, n_cores=n_cores)\n",
    "combinations.to_pickle(f'fragmenstein-fragments.pkl.gz')\n",
    "combinations.to_csv(f'fragmenstein-fragments.csv')\n",
    "print(tick - time.time())"
   ]
  },
  {
   "cell_type": "code",
   "execution_count": 3,
   "id": "747c9201-1788-4e37-8895-2586bb9a3821",
   "metadata": {},
   "outputs": [],
   "source": [
    "# import pandas as pd\n",
    "# combinations = pd.read_pickle(f'fragmenstein-fragments.pkl.gz')"
   ]
  },
  {
   "cell_type": "code",
   "execution_count": 5,
   "id": "5483e960-d6b7-4555-a19a-922212aa4802",
   "metadata": {},
   "outputs": [
    {
     "data": {
      "application/vnd.plotly.v1+json": {
       "config": {
        "plotlyServerURL": "https://plot.ly"
       },
       "data": [
        {
         "alignmentgroup": "True",
         "bingroup": "x",
         "hovertemplate": "∆∆G=%{x}<br>count=%{y}<extra></extra>",
         "legendgroup": "",
         "marker": {
          "color": "#636efa",
          "pattern": {
           "shape": ""
          }
         },
         "name": "",
         "offsetgroup": "",
         "orientation": "v",
         "showlegend": false,
         "type": "histogram",
         "x": [
          -6.147844898153093,
          -7.06194219257881,
          -3.0422649860339157,
          -3.2625629075724385,
          -8.550244799332692,
          -8.64912113300086,
          -8.795927995229192,
          -5.838516850102619,
          -5.469913954583168,
          -8.562983124181352,
          -6.257641130370867,
          -7.13712665285966,
          -6.7268826208716135,
          -7.447432429461669,
          -11.579771819087966,
          -10.33225259495249,
          -6.842514556247412,
          -8.901235566348014,
          -10.708646000827901,
          -11.884312066168322,
          -11.806658060539842,
          -9.10497298485048,
          -3.377292127816232,
          -5.361945228659577,
          -8.419516543609443,
          -7.878574281939181,
          -8.106000502722035,
          -9.063462256159646,
          -8.987795144194614,
          -5.852315764635447,
          -6.351146471384554,
          -5.742804658462549,
          -5.623047523888126,
          -5.38014542124577,
          -7.367485615951591,
          -11.092846967204975,
          -4.632399111507357,
          -4.201042806381043,
          -11.176295470874566,
          -11.629884449071273,
          -10.919696628298189,
          -15.180060099800922,
          -1.309192952613937,
          -3.203569090063642,
          -2.6574227221752853,
          -9.875579946454794,
          -5.495193319757541,
          -2.47434418284415,
          -11.938454424515237,
          -16.292914676719565,
          -13.598476167514887,
          -13.853043292227474,
          -4.7121146146900745,
          -8.325562515365615,
          -14.599133564684424,
          -13.309157942564179,
          -5.045214576537724,
          -1.629644364941968,
          -10.694522910547436,
          -12.687638790479197,
          -13.931577348265964,
          -9.956350363226797,
          -11.52943595614706,
          -7.378141435951412,
          -12.869907375110396,
          -13.071427403990663,
          -11.272172392282345,
          -12.124084720701445,
          -9.514240516339036,
          -10.117121119966527,
          -8.822314386664317,
          -12.667208921905242,
          -5.588199136378769,
          -2.933859566750486,
          -2.6990714880681677,
          -4.877801716319253,
          -9.420268979951643,
          -11.231240651223626,
          -9.382970409916242,
          -10.369302361022031,
          -6.607707008634986,
          -9.30835899630803,
          -10.356813769277903,
          -10.391635790068758,
          -5.611400190903215,
          -5.671379085888701,
          -9.520752318103398,
          -8.492442262585806,
          -8.727748944362268,
          -8.548401511579277,
          -10.89267040025215,
          -9.26374720108451,
          -12.485504379987805,
          -10.078854848829021,
          -12.271399864559756,
          -6.978943990544772,
          -10.779012439828183,
          -10.679932665732041,
          -7.709483844043164,
          -5.1988458962939825,
          -4.886094840672543,
          -4.5448634410587525,
          -10.793833266684796,
          -10.365813298422326,
          -10.289221656045102,
          -8.884701304251276,
          -11.436407820537447,
          -13.641318506211725,
          -12.797344820706778,
          -11.377721790748964,
          -16.348184905655827,
          -9.336379331594888,
          -11.8215610118359,
          -11.389403132979481,
          -12.611597233508485,
          -9.080602960056899,
          -9.485985298596278,
          -7.525210468890272,
          -10.655917542837479,
          -8.683056728088507,
          -10.746491638075584,
          -11.344229239035162,
          -11.73528112403573,
          -11.154714405440163,
          -12.142958589826554,
          -11.91462931344674,
          -11.924633634608261,
          -11.79641438247611,
          -11.747699081429712,
          -12.560383390342546,
          -10.917646325105835,
          -11.330023999898511,
          -10.510011221823069,
          -11.340644223596922,
          -10.800458234775862,
          -12.273645154159404,
          -6.177373035593921,
          -6.689239354217087,
          -7.037951210049994,
          -3.989391076598389,
          -4.911547639753515,
          -1.6780528504667518,
          -9.213181943587422,
          -4.930373488673206,
          -5.062760949617513,
          -5.70454753434617,
          -4.655237198163952,
          -6.516146916462183,
          -9.174363315034556,
          -11.34455475417165,
          -7.59565303060672,
          -6.117364410247226,
          -8.392382966803888,
          -11.443862617415807,
          -6.086681392645149,
          -5.115239227079236,
          -1.9240503398123934,
          -6.33084098986976,
          -5.287140868530782,
          -4.506153008404394,
          -4.303590852405799,
          -2.8730512104263273,
          -4.322004778923448,
          -10.62535970503554,
          -5.836731158848081,
          -16.344347408057118,
          -7.958173515247113,
          -15.969908742407867,
          -4.563053345081128,
          -6.308925423365538,
          -8.242377668140449,
          -7.466313558950211,
          -7.175065475388756,
          -11.905118351430344,
          -12.455442398955554,
          -8.56537286656112,
          -10.319611028998853,
          -8.158422636441886,
          -6.460603710597886,
          -8.86541299506541,
          -10.795141893673849,
          -12.28337308732942,
          -12.604900584093166,
          -11.974340530423977,
          -10.336003613763706,
          -11.32036336394825,
          -14.214727198841132,
          -12.015672820551032,
          -10.557457002618081,
          -11.600406247070483,
          -11.171295412879195,
          -10.510130847648078,
          -10.758331748705075,
          -11.492758598787548,
          -11.603382324117264,
          -12.976316699023862,
          -14.146806260203347,
          -15.630655494518168,
          -12.281393087471061,
          -14.488964596219812,
          -14.087598696753894,
          -8.975253794739634,
          -9.548982954618065,
          -8.126904447019998,
          -10.099847502416027,
          -9.389480407216062,
          -9.174969957377842,
          -8.65673331175477,
          -10.009057130627873,
          -7.410125028470493,
          -7.988582882004632,
          -11.824789120792747,
          -8.55662500781162,
          -9.695034496009116,
          -8.831447148103182,
          -14.870242792169062,
          -11.300971186263958,
          -11.699750524503905,
          -12.989579966273375,
          -14.008973766289198,
          -13.5577429183382,
          -13.25271734607196,
          -11.701331138889747,
          -10.38763903621455,
          -13.25431773201273,
          -14.01383117668054,
          -12.460408836594947,
          -11.844705690968226,
          -16.490581999194024,
          -13.233496062286079,
          -11.778972770608492,
          -4.000701444162064,
          -7.424136160597536,
          -3.5228243257638576,
          -6.473744167143618,
          -7.197343357696566,
          -7.4020399350834865,
          -2.2133027852689313,
          -2.030875617066952
         ],
         "xaxis": "x",
         "yaxis": "y"
        }
       ],
       "layout": {
        "autosize": true,
        "barmode": "relative",
        "legend": {
         "tracegroupgap": 0
        },
        "template": {
         "data": {
          "bar": [
           {
            "error_x": {
             "color": "#2a3f5f"
            },
            "error_y": {
             "color": "#2a3f5f"
            },
            "marker": {
             "line": {
              "color": "#E5ECF6",
              "width": 0.5
             },
             "pattern": {
              "fillmode": "overlay",
              "size": 10,
              "solidity": 0.2
             }
            },
            "type": "bar"
           }
          ],
          "barpolar": [
           {
            "marker": {
             "line": {
              "color": "#E5ECF6",
              "width": 0.5
             },
             "pattern": {
              "fillmode": "overlay",
              "size": 10,
              "solidity": 0.2
             }
            },
            "type": "barpolar"
           }
          ],
          "carpet": [
           {
            "aaxis": {
             "endlinecolor": "#2a3f5f",
             "gridcolor": "white",
             "linecolor": "white",
             "minorgridcolor": "white",
             "startlinecolor": "#2a3f5f"
            },
            "baxis": {
             "endlinecolor": "#2a3f5f",
             "gridcolor": "white",
             "linecolor": "white",
             "minorgridcolor": "white",
             "startlinecolor": "#2a3f5f"
            },
            "type": "carpet"
           }
          ],
          "choropleth": [
           {
            "colorbar": {
             "outlinewidth": 0,
             "ticks": ""
            },
            "type": "choropleth"
           }
          ],
          "contour": [
           {
            "colorbar": {
             "outlinewidth": 0,
             "ticks": ""
            },
            "colorscale": [
             [
              0,
              "#0d0887"
             ],
             [
              0.1111111111111111,
              "#46039f"
             ],
             [
              0.2222222222222222,
              "#7201a8"
             ],
             [
              0.3333333333333333,
              "#9c179e"
             ],
             [
              0.4444444444444444,
              "#bd3786"
             ],
             [
              0.5555555555555556,
              "#d8576b"
             ],
             [
              0.6666666666666666,
              "#ed7953"
             ],
             [
              0.7777777777777778,
              "#fb9f3a"
             ],
             [
              0.8888888888888888,
              "#fdca26"
             ],
             [
              1,
              "#f0f921"
             ]
            ],
            "type": "contour"
           }
          ],
          "contourcarpet": [
           {
            "colorbar": {
             "outlinewidth": 0,
             "ticks": ""
            },
            "type": "contourcarpet"
           }
          ],
          "heatmap": [
           {
            "colorbar": {
             "outlinewidth": 0,
             "ticks": ""
            },
            "colorscale": [
             [
              0,
              "#0d0887"
             ],
             [
              0.1111111111111111,
              "#46039f"
             ],
             [
              0.2222222222222222,
              "#7201a8"
             ],
             [
              0.3333333333333333,
              "#9c179e"
             ],
             [
              0.4444444444444444,
              "#bd3786"
             ],
             [
              0.5555555555555556,
              "#d8576b"
             ],
             [
              0.6666666666666666,
              "#ed7953"
             ],
             [
              0.7777777777777778,
              "#fb9f3a"
             ],
             [
              0.8888888888888888,
              "#fdca26"
             ],
             [
              1,
              "#f0f921"
             ]
            ],
            "type": "heatmap"
           }
          ],
          "heatmapgl": [
           {
            "colorbar": {
             "outlinewidth": 0,
             "ticks": ""
            },
            "colorscale": [
             [
              0,
              "#0d0887"
             ],
             [
              0.1111111111111111,
              "#46039f"
             ],
             [
              0.2222222222222222,
              "#7201a8"
             ],
             [
              0.3333333333333333,
              "#9c179e"
             ],
             [
              0.4444444444444444,
              "#bd3786"
             ],
             [
              0.5555555555555556,
              "#d8576b"
             ],
             [
              0.6666666666666666,
              "#ed7953"
             ],
             [
              0.7777777777777778,
              "#fb9f3a"
             ],
             [
              0.8888888888888888,
              "#fdca26"
             ],
             [
              1,
              "#f0f921"
             ]
            ],
            "type": "heatmapgl"
           }
          ],
          "histogram": [
           {
            "marker": {
             "pattern": {
              "fillmode": "overlay",
              "size": 10,
              "solidity": 0.2
             }
            },
            "type": "histogram"
           }
          ],
          "histogram2d": [
           {
            "colorbar": {
             "outlinewidth": 0,
             "ticks": ""
            },
            "colorscale": [
             [
              0,
              "#0d0887"
             ],
             [
              0.1111111111111111,
              "#46039f"
             ],
             [
              0.2222222222222222,
              "#7201a8"
             ],
             [
              0.3333333333333333,
              "#9c179e"
             ],
             [
              0.4444444444444444,
              "#bd3786"
             ],
             [
              0.5555555555555556,
              "#d8576b"
             ],
             [
              0.6666666666666666,
              "#ed7953"
             ],
             [
              0.7777777777777778,
              "#fb9f3a"
             ],
             [
              0.8888888888888888,
              "#fdca26"
             ],
             [
              1,
              "#f0f921"
             ]
            ],
            "type": "histogram2d"
           }
          ],
          "histogram2dcontour": [
           {
            "colorbar": {
             "outlinewidth": 0,
             "ticks": ""
            },
            "colorscale": [
             [
              0,
              "#0d0887"
             ],
             [
              0.1111111111111111,
              "#46039f"
             ],
             [
              0.2222222222222222,
              "#7201a8"
             ],
             [
              0.3333333333333333,
              "#9c179e"
             ],
             [
              0.4444444444444444,
              "#bd3786"
             ],
             [
              0.5555555555555556,
              "#d8576b"
             ],
             [
              0.6666666666666666,
              "#ed7953"
             ],
             [
              0.7777777777777778,
              "#fb9f3a"
             ],
             [
              0.8888888888888888,
              "#fdca26"
             ],
             [
              1,
              "#f0f921"
             ]
            ],
            "type": "histogram2dcontour"
           }
          ],
          "mesh3d": [
           {
            "colorbar": {
             "outlinewidth": 0,
             "ticks": ""
            },
            "type": "mesh3d"
           }
          ],
          "parcoords": [
           {
            "line": {
             "colorbar": {
              "outlinewidth": 0,
              "ticks": ""
             }
            },
            "type": "parcoords"
           }
          ],
          "pie": [
           {
            "automargin": true,
            "type": "pie"
           }
          ],
          "scatter": [
           {
            "fillpattern": {
             "fillmode": "overlay",
             "size": 10,
             "solidity": 0.2
            },
            "type": "scatter"
           }
          ],
          "scatter3d": [
           {
            "line": {
             "colorbar": {
              "outlinewidth": 0,
              "ticks": ""
             }
            },
            "marker": {
             "colorbar": {
              "outlinewidth": 0,
              "ticks": ""
             }
            },
            "type": "scatter3d"
           }
          ],
          "scattercarpet": [
           {
            "marker": {
             "colorbar": {
              "outlinewidth": 0,
              "ticks": ""
             }
            },
            "type": "scattercarpet"
           }
          ],
          "scattergeo": [
           {
            "marker": {
             "colorbar": {
              "outlinewidth": 0,
              "ticks": ""
             }
            },
            "type": "scattergeo"
           }
          ],
          "scattergl": [
           {
            "marker": {
             "colorbar": {
              "outlinewidth": 0,
              "ticks": ""
             }
            },
            "type": "scattergl"
           }
          ],
          "scattermapbox": [
           {
            "marker": {
             "colorbar": {
              "outlinewidth": 0,
              "ticks": ""
             }
            },
            "type": "scattermapbox"
           }
          ],
          "scatterpolar": [
           {
            "marker": {
             "colorbar": {
              "outlinewidth": 0,
              "ticks": ""
             }
            },
            "type": "scatterpolar"
           }
          ],
          "scatterpolargl": [
           {
            "marker": {
             "colorbar": {
              "outlinewidth": 0,
              "ticks": ""
             }
            },
            "type": "scatterpolargl"
           }
          ],
          "scatterternary": [
           {
            "marker": {
             "colorbar": {
              "outlinewidth": 0,
              "ticks": ""
             }
            },
            "type": "scatterternary"
           }
          ],
          "surface": [
           {
            "colorbar": {
             "outlinewidth": 0,
             "ticks": ""
            },
            "colorscale": [
             [
              0,
              "#0d0887"
             ],
             [
              0.1111111111111111,
              "#46039f"
             ],
             [
              0.2222222222222222,
              "#7201a8"
             ],
             [
              0.3333333333333333,
              "#9c179e"
             ],
             [
              0.4444444444444444,
              "#bd3786"
             ],
             [
              0.5555555555555556,
              "#d8576b"
             ],
             [
              0.6666666666666666,
              "#ed7953"
             ],
             [
              0.7777777777777778,
              "#fb9f3a"
             ],
             [
              0.8888888888888888,
              "#fdca26"
             ],
             [
              1,
              "#f0f921"
             ]
            ],
            "type": "surface"
           }
          ],
          "table": [
           {
            "cells": {
             "fill": {
              "color": "#EBF0F8"
             },
             "line": {
              "color": "white"
             }
            },
            "header": {
             "fill": {
              "color": "#C8D4E3"
             },
             "line": {
              "color": "white"
             }
            },
            "type": "table"
           }
          ]
         },
         "layout": {
          "annotationdefaults": {
           "arrowcolor": "#2a3f5f",
           "arrowhead": 0,
           "arrowwidth": 1
          },
          "autotypenumbers": "strict",
          "coloraxis": {
           "colorbar": {
            "outlinewidth": 0,
            "ticks": ""
           }
          },
          "colorscale": {
           "diverging": [
            [
             0,
             "#8e0152"
            ],
            [
             0.1,
             "#c51b7d"
            ],
            [
             0.2,
             "#de77ae"
            ],
            [
             0.3,
             "#f1b6da"
            ],
            [
             0.4,
             "#fde0ef"
            ],
            [
             0.5,
             "#f7f7f7"
            ],
            [
             0.6,
             "#e6f5d0"
            ],
            [
             0.7,
             "#b8e186"
            ],
            [
             0.8,
             "#7fbc41"
            ],
            [
             0.9,
             "#4d9221"
            ],
            [
             1,
             "#276419"
            ]
           ],
           "sequential": [
            [
             0,
             "#0d0887"
            ],
            [
             0.1111111111111111,
             "#46039f"
            ],
            [
             0.2222222222222222,
             "#7201a8"
            ],
            [
             0.3333333333333333,
             "#9c179e"
            ],
            [
             0.4444444444444444,
             "#bd3786"
            ],
            [
             0.5555555555555556,
             "#d8576b"
            ],
            [
             0.6666666666666666,
             "#ed7953"
            ],
            [
             0.7777777777777778,
             "#fb9f3a"
            ],
            [
             0.8888888888888888,
             "#fdca26"
            ],
            [
             1,
             "#f0f921"
            ]
           ],
           "sequentialminus": [
            [
             0,
             "#0d0887"
            ],
            [
             0.1111111111111111,
             "#46039f"
            ],
            [
             0.2222222222222222,
             "#7201a8"
            ],
            [
             0.3333333333333333,
             "#9c179e"
            ],
            [
             0.4444444444444444,
             "#bd3786"
            ],
            [
             0.5555555555555556,
             "#d8576b"
            ],
            [
             0.6666666666666666,
             "#ed7953"
            ],
            [
             0.7777777777777778,
             "#fb9f3a"
            ],
            [
             0.8888888888888888,
             "#fdca26"
            ],
            [
             1,
             "#f0f921"
            ]
           ]
          },
          "colorway": [
           "#636efa",
           "#EF553B",
           "#00cc96",
           "#ab63fa",
           "#FFA15A",
           "#19d3f3",
           "#FF6692",
           "#B6E880",
           "#FF97FF",
           "#FECB52"
          ],
          "font": {
           "color": "#2a3f5f"
          },
          "geo": {
           "bgcolor": "white",
           "lakecolor": "white",
           "landcolor": "#E5ECF6",
           "showlakes": true,
           "showland": true,
           "subunitcolor": "white"
          },
          "hoverlabel": {
           "align": "left"
          },
          "hovermode": "closest",
          "mapbox": {
           "style": "light"
          },
          "paper_bgcolor": "white",
          "plot_bgcolor": "#E5ECF6",
          "polar": {
           "angularaxis": {
            "gridcolor": "white",
            "linecolor": "white",
            "ticks": ""
           },
           "bgcolor": "#E5ECF6",
           "radialaxis": {
            "gridcolor": "white",
            "linecolor": "white",
            "ticks": ""
           }
          },
          "scene": {
           "xaxis": {
            "backgroundcolor": "#E5ECF6",
            "gridcolor": "white",
            "gridwidth": 2,
            "linecolor": "white",
            "showbackground": true,
            "ticks": "",
            "zerolinecolor": "white"
           },
           "yaxis": {
            "backgroundcolor": "#E5ECF6",
            "gridcolor": "white",
            "gridwidth": 2,
            "linecolor": "white",
            "showbackground": true,
            "ticks": "",
            "zerolinecolor": "white"
           },
           "zaxis": {
            "backgroundcolor": "#E5ECF6",
            "gridcolor": "white",
            "gridwidth": 2,
            "linecolor": "white",
            "showbackground": true,
            "ticks": "",
            "zerolinecolor": "white"
           }
          },
          "shapedefaults": {
           "line": {
            "color": "#2a3f5f"
           }
          },
          "ternary": {
           "aaxis": {
            "gridcolor": "white",
            "linecolor": "white",
            "ticks": ""
           },
           "baxis": {
            "gridcolor": "white",
            "linecolor": "white",
            "ticks": ""
           },
           "bgcolor": "#E5ECF6",
           "caxis": {
            "gridcolor": "white",
            "linecolor": "white",
            "ticks": ""
           }
          },
          "title": {
           "x": 0.05
          },
          "xaxis": {
           "automargin": true,
           "gridcolor": "white",
           "linecolor": "white",
           "ticks": "",
           "title": {
            "standoff": 15
           },
           "zerolinecolor": "white",
           "zerolinewidth": 2
          },
          "yaxis": {
           "automargin": true,
           "gridcolor": "white",
           "linecolor": "white",
           "ticks": "",
           "title": {
            "standoff": 15
           },
           "zerolinecolor": "white",
           "zerolinewidth": 2
          }
         }
        },
        "title": {
         "text": "Distribution of ∆∆G"
        },
        "xaxis": {
         "anchor": "y",
         "autorange": true,
         "domain": [
          0,
          1
         ],
         "range": [
          -17,
          -1
         ],
         "title": {
          "text": "∆∆G"
         },
         "type": "linear"
        },
        "yaxis": {
         "anchor": "x",
         "autorange": true,
         "domain": [
          0,
          1
         ],
         "range": [
          0,
          40
         ],
         "title": {
          "text": "count"
         }
        }
       }
      },
      "image/png": "[encoded data removed]",
      "text/html": [
       "<div>                            <div id=\"a1204009-ef85-4b2b-9b16-58a04a9bb292\" class=\"plotly-graph-div\" style=\"height:525px; width:100%;\"></div>            <script type=\"text/javascript\">                require([\"plotly\"], function(Plotly) {                    window.PLOTLYENV=window.PLOTLYENV || {};                                    if (document.getElementById(\"a1204009-ef85-4b2b-9b16-58a04a9bb292\")) {                    Plotly.newPlot(                        \"a1204009-ef85-4b2b-9b16-58a04a9bb292\",                        [{\"alignmentgroup\":\"True\",\"bingroup\":\"x\",\"hovertemplate\":\"\\u2206\\u2206G=%{x}<br>count=%{y}<extra></extra>\",\"legendgroup\":\"\",\"marker\":{\"color\":\"#636efa\",\"pattern\":{\"shape\":\"\"}},\"name\":\"\",\"offsetgroup\":\"\",\"orientation\":\"v\",\"showlegend\":false,\"x\":[-6.147844898153093,-7.06194219257881,-3.0422649860339157,-3.2625629075724385,-8.550244799332692,-8.64912113300086,-8.795927995229192,-5.838516850102619,-5.469913954583168,-8.562983124181352,-6.257641130370867,-7.13712665285966,-6.7268826208716135,-7.447432429461669,-11.579771819087966,-10.33225259495249,-6.842514556247412,-8.901235566348014,-10.708646000827901,-11.884312066168322,-11.806658060539842,-9.10497298485048,-3.377292127816232,-5.361945228659577,-8.419516543609443,-7.878574281939181,-8.106000502722035,-9.063462256159646,-8.987795144194614,-5.852315764635447,-6.351146471384554,-5.742804658462549,-5.623047523888126,-5.38014542124577,-7.367485615951591,-11.092846967204975,-4.632399111507357,-4.201042806381043,-11.176295470874566,-11.629884449071273,-10.919696628298189,-15.180060099800922,-1.309192952613937,-3.203569090063642,-2.6574227221752853,-9.875579946454794,-5.495193319757541,-2.47434418284415,-11.938454424515237,-16.292914676719565,-13.598476167514887,-13.853043292227474,-4.7121146146900745,-8.325562515365615,-14.599133564684424,-13.309157942564179,-5.045214576537724,-1.629644364941968,-10.694522910547436,-12.687638790479197,-13.931577348265964,-9.956350363226797,-11.52943595614706,-7.378141435951412,-12.869907375110396,-13.071427403990663,-11.272172392282345,-12.124084720701445,-9.514240516339036,-10.117121119966527,-8.822314386664317,-12.667208921905242,-5.588199136378769,-2.933859566750486,-2.6990714880681677,-4.877801716319253,-9.420268979951643,-11.231240651223626,-9.382970409916242,-10.369302361022031,-6.607707008634986,-9.30835899630803,-10.356813769277903,-10.391635790068758,-5.611400190903215,-5.671379085888701,-9.520752318103398,-8.492442262585806,-8.727748944362268,-8.548401511579277,-10.89267040025215,-9.26374720108451,-12.485504379987805,-10.078854848829021,-12.271399864559756,-6.978943990544772,-10.779012439828183,-10.679932665732041,-7.709483844043164,-5.1988458962939825,-4.886094840672543,-4.5448634410587525,-10.793833266684796,-10.365813298422326,-10.289221656045102,-8.884701304251276,-11.436407820537447,-13.641318506211725,-12.797344820706778,-11.377721790748964,-16.348184905655827,-9.336379331594888,-11.8215610118359,-11.389403132979481,-12.611597233508485,-9.080602960056899,-9.485985298596278,-7.525210468890272,-10.655917542837479,-8.683056728088507,-10.746491638075584,-11.344229239035162,-11.73528112403573,-11.154714405440163,-12.142958589826554,-11.91462931344674,-11.924633634608261,-11.79641438247611,-11.747699081429712,-12.560383390342546,-10.917646325105835,-11.330023999898511,-10.510011221823069,-11.340644223596922,-10.800458234775862,-12.273645154159404,-6.177373035593921,-6.689239354217087,-7.037951210049994,-3.989391076598389,-4.911547639753515,-1.6780528504667518,-9.213181943587422,-4.930373488673206,-5.062760949617513,-5.70454753434617,-4.655237198163952,-6.516146916462183,-9.174363315034556,-11.34455475417165,-7.59565303060672,-6.117364410247226,-8.392382966803888,-11.443862617415807,-6.086681392645149,-5.115239227079236,-1.9240503398123934,-6.33084098986976,-5.287140868530782,-4.506153008404394,-4.303590852405799,-2.8730512104263273,-4.322004778923448,-10.62535970503554,-5.836731158848081,-16.344347408057118,-7.958173515247113,-15.969908742407867,-4.563053345081128,-6.308925423365538,-8.242377668140449,-7.466313558950211,-7.175065475388756,-11.905118351430344,-12.455442398955554,-8.56537286656112,-10.319611028998853,-8.158422636441886,-6.460603710597886,-8.86541299506541,-10.795141893673849,-12.28337308732942,-12.604900584093166,-11.974340530423977,-10.336003613763706,-11.32036336394825,-14.214727198841132,-12.015672820551032,-10.557457002618081,-11.600406247070483,-11.171295412879195,-10.510130847648078,-10.758331748705075,-11.492758598787548,-11.603382324117264,-12.976316699023862,-14.146806260203347,-15.630655494518168,-12.281393087471061,-14.488964596219812,-14.087598696753894,-8.975253794739634,-9.548982954618065,-8.126904447019998,-10.099847502416027,-9.389480407216062,-9.174969957377842,-8.65673331175477,-10.009057130627873,-7.410125028470493,-7.988582882004632,-11.824789120792747,-8.55662500781162,-9.695034496009116,-8.831447148103182,-14.870242792169062,-11.300971186263958,-11.699750524503905,-12.989579966273375,-14.008973766289198,-13.5577429183382,-13.25271734607196,-11.701331138889747,-10.38763903621455,-13.25431773201273,-14.01383117668054,-12.460408836594947,-11.844705690968226,-16.490581999194024,-13.233496062286079,-11.778972770608492,-4.000701444162064,-7.424136160597536,-3.5228243257638576,-6.473744167143618,-7.197343357696566,-7.4020399350834865,-2.2133027852689313,-2.030875617066952],\"xaxis\":\"x\",\"yaxis\":\"y\",\"type\":\"histogram\"}],                        {\"template\":{\"data\":{\"histogram2dcontour\":[{\"type\":\"histogram2dcontour\",\"colorbar\":{\"outlinewidth\":0,\"ticks\":\"\"},\"colorscale\":[[0.0,\"#0d0887\"],[0.1111111111111111,\"#46039f\"],[0.2222222222222222,\"#7201a8\"],[0.3333333333333333,\"#9c179e\"],[0.4444444444444444,\"#bd3786\"],[0.5555555555555556,\"#d8576b\"],[0.6666666666666666,\"#ed7953\"],[0.7777777777777778,\"#fb9f3a\"],[0.8888888888888888,\"#fdca26\"],[1.0,\"#f0f921\"]]}],\"choropleth\":[{\"type\":\"choropleth\",\"colorbar\":{\"outlinewidth\":0,\"ticks\":\"\"}}],\"histogram2d\":[{\"type\":\"histogram2d\",\"colorbar\":{\"outlinewidth\":0,\"ticks\":\"\"},\"colorscale\":[[0.0,\"#0d0887\"],[0.1111111111111111,\"#46039f\"],[0.2222222222222222,\"#7201a8\"],[0.3333333333333333,\"#9c179e\"],[0.4444444444444444,\"#bd3786\"],[0.5555555555555556,\"#d8576b\"],[0.6666666666666666,\"#ed7953\"],[0.7777777777777778,\"#fb9f3a\"],[0.8888888888888888,\"#fdca26\"],[1.0,\"#f0f921\"]]}],\"heatmap\":[{\"type\":\"heatmap\",\"colorbar\":{\"outlinewidth\":0,\"ticks\":\"\"},\"colorscale\":[[0.0,\"#0d0887\"],[0.1111111111111111,\"#46039f\"],[0.2222222222222222,\"#7201a8\"],[0.3333333333333333,\"#9c179e\"],[0.4444444444444444,\"#bd3786\"],[0.5555555555555556,\"#d8576b\"],[0.6666666666666666,\"#ed7953\"],[0.7777777777777778,\"#fb9f3a\"],[0.8888888888888888,\"#fdca26\"],[1.0,\"#f0f921\"]]}],\"heatmapgl\":[{\"type\":\"heatmapgl\",\"colorbar\":{\"outlinewidth\":0,\"ticks\":\"\"},\"colorscale\":[[0.0,\"#0d0887\"],[0.1111111111111111,\"#46039f\"],[0.2222222222222222,\"#7201a8\"],[0.3333333333333333,\"#9c179e\"],[0.4444444444444444,\"#bd3786\"],[0.5555555555555556,\"#d8576b\"],[0.6666666666666666,\"#ed7953\"],[0.7777777777777778,\"#fb9f3a\"],[0.8888888888888888,\"#fdca26\"],[1.0,\"#f0f921\"]]}],\"contourcarpet\":[{\"type\":\"contourcarpet\",\"colorbar\":{\"outlinewidth\":0,\"ticks\":\"\"}}],\"contour\":[{\"type\":\"contour\",\"colorbar\":{\"outlinewidth\":0,\"ticks\":\"\"},\"colorscale\":[[0.0,\"#0d0887\"],[0.1111111111111111,\"#46039f\"],[0.2222222222222222,\"#7201a8\"],[0.3333333333333333,\"#9c179e\"],[0.4444444444444444,\"#bd3786\"],[0.5555555555555556,\"#d8576b\"],[0.6666666666666666,\"#ed7953\"],[0.7777777777777778,\"#fb9f3a\"],[0.8888888888888888,\"#fdca26\"],[1.0,\"#f0f921\"]]}],\"surface\":[{\"type\":\"surface\",\"colorbar\":{\"outlinewidth\":0,\"ticks\":\"\"},\"colorscale\":[[0.0,\"#0d0887\"],[0.1111111111111111,\"#46039f\"],[0.2222222222222222,\"#7201a8\"],[0.3333333333333333,\"#9c179e\"],[0.4444444444444444,\"#bd3786\"],[0.5555555555555556,\"#d8576b\"],[0.6666666666666666,\"#ed7953\"],[0.7777777777777778,\"#fb9f3a\"],[0.8888888888888888,\"#fdca26\"],[1.0,\"#f0f921\"]]}],\"mesh3d\":[{\"type\":\"mesh3d\",\"colorbar\":{\"outlinewidth\":0,\"ticks\":\"\"}}],\"scatter\":[{\"fillpattern\":{\"fillmode\":\"overlay\",\"size\":10,\"solidity\":0.2},\"type\":\"scatter\"}],\"parcoords\":[{\"type\":\"parcoords\",\"line\":{\"colorbar\":{\"outlinewidth\":0,\"ticks\":\"\"}}}],\"scatterpolargl\":[{\"type\":\"scatterpolargl\",\"marker\":{\"colorbar\":{\"outlinewidth\":0,\"ticks\":\"\"}}}],\"bar\":[{\"error_x\":{\"color\":\"#2a3f5f\"},\"error_y\":{\"color\":\"#2a3f5f\"},\"marker\":{\"line\":{\"color\":\"#E5ECF6\",\"width\":0.5},\"pattern\":{\"fillmode\":\"overlay\",\"size\":10,\"solidity\":0.2}},\"type\":\"bar\"}],\"scattergeo\":[{\"type\":\"scattergeo\",\"marker\":{\"colorbar\":{\"outlinewidth\":0,\"ticks\":\"\"}}}],\"scatterpolar\":[{\"type\":\"scatterpolar\",\"marker\":{\"colorbar\":{\"outlinewidth\":0,\"ticks\":\"\"}}}],\"histogram\":[{\"marker\":{\"pattern\":{\"fillmode\":\"overlay\",\"size\":10,\"solidity\":0.2}},\"type\":\"histogram\"}],\"scattergl\":[{\"type\":\"scattergl\",\"marker\":{\"colorbar\":{\"outlinewidth\":0,\"ticks\":\"\"}}}],\"scatter3d\":[{\"type\":\"scatter3d\",\"line\":{\"colorbar\":{\"outlinewidth\":0,\"ticks\":\"\"}},\"marker\":{\"colorbar\":{\"outlinewidth\":0,\"ticks\":\"\"}}}],\"scattermapbox\":[{\"type\":\"scattermapbox\",\"marker\":{\"colorbar\":{\"outlinewidth\":0,\"ticks\":\"\"}}}],\"scatterternary\":[{\"type\":\"scatterternary\",\"marker\":{\"colorbar\":{\"outlinewidth\":0,\"ticks\":\"\"}}}],\"scattercarpet\":[{\"type\":\"scattercarpet\",\"marker\":{\"colorbar\":{\"outlinewidth\":0,\"ticks\":\"\"}}}],\"carpet\":[{\"aaxis\":{\"endlinecolor\":\"#2a3f5f\",\"gridcolor\":\"white\",\"linecolor\":\"white\",\"minorgridcolor\":\"white\",\"startlinecolor\":\"#2a3f5f\"},\"baxis\":{\"endlinecolor\":\"#2a3f5f\",\"gridcolor\":\"white\",\"linecolor\":\"white\",\"minorgridcolor\":\"white\",\"startlinecolor\":\"#2a3f5f\"},\"type\":\"carpet\"}],\"table\":[{\"cells\":{\"fill\":{\"color\":\"#EBF0F8\"},\"line\":{\"color\":\"white\"}},\"header\":{\"fill\":{\"color\":\"#C8D4E3\"},\"line\":{\"color\":\"white\"}},\"type\":\"table\"}],\"barpolar\":[{\"marker\":{\"line\":{\"color\":\"#E5ECF6\",\"width\":0.5},\"pattern\":{\"fillmode\":\"overlay\",\"size\":10,\"solidity\":0.2}},\"type\":\"barpolar\"}],\"pie\":[{\"automargin\":true,\"type\":\"pie\"}]},\"layout\":{\"autotypenumbers\":\"strict\",\"colorway\":[\"#636efa\",\"#EF553B\",\"#00cc96\",\"#ab63fa\",\"#FFA15A\",\"#19d3f3\",\"#FF6692\",\"#B6E880\",\"#FF97FF\",\"#FECB52\"],\"font\":{\"color\":\"#2a3f5f\"},\"hovermode\":\"closest\",\"hoverlabel\":{\"align\":\"left\"},\"paper_bgcolor\":\"white\",\"plot_bgcolor\":\"#E5ECF6\",\"polar\":{\"bgcolor\":\"#E5ECF6\",\"angularaxis\":{\"gridcolor\":\"white\",\"linecolor\":\"white\",\"ticks\":\"\"},\"radialaxis\":{\"gridcolor\":\"white\",\"linecolor\":\"white\",\"ticks\":\"\"}},\"ternary\":{\"bgcolor\":\"#E5ECF6\",\"aaxis\":{\"gridcolor\":\"white\",\"linecolor\":\"white\",\"ticks\":\"\"},\"baxis\":{\"gridcolor\":\"white\",\"linecolor\":\"white\",\"ticks\":\"\"},\"caxis\":{\"gridcolor\":\"white\",\"linecolor\":\"white\",\"ticks\":\"\"}},\"coloraxis\":{\"colorbar\":{\"outlinewidth\":0,\"ticks\":\"\"}},\"colorscale\":{\"sequential\":[[0.0,\"#0d0887\"],[0.1111111111111111,\"#46039f\"],[0.2222222222222222,\"#7201a8\"],[0.3333333333333333,\"#9c179e\"],[0.4444444444444444,\"#bd3786\"],[0.5555555555555556,\"#d8576b\"],[0.6666666666666666,\"#ed7953\"],[0.7777777777777778,\"#fb9f3a\"],[0.8888888888888888,\"#fdca26\"],[1.0,\"#f0f921\"]],\"sequentialminus\":[[0.0,\"#0d0887\"],[0.1111111111111111,\"#46039f\"],[0.2222222222222222,\"#7201a8\"],[0.3333333333333333,\"#9c179e\"],[0.4444444444444444,\"#bd3786\"],[0.5555555555555556,\"#d8576b\"],[0.6666666666666666,\"#ed7953\"],[0.7777777777777778,\"#fb9f3a\"],[0.8888888888888888,\"#fdca26\"],[1.0,\"#f0f921\"]],\"diverging\":[[0,\"#8e0152\"],[0.1,\"#c51b7d\"],[0.2,\"#de77ae\"],[0.3,\"#f1b6da\"],[0.4,\"#fde0ef\"],[0.5,\"#f7f7f7\"],[0.6,\"#e6f5d0\"],[0.7,\"#b8e186\"],[0.8,\"#7fbc41\"],[0.9,\"#4d9221\"],[1,\"#276419\"]]},\"xaxis\":{\"gridcolor\":\"white\",\"linecolor\":\"white\",\"ticks\":\"\",\"title\":{\"standoff\":15},\"zerolinecolor\":\"white\",\"automargin\":true,\"zerolinewidth\":2},\"yaxis\":{\"gridcolor\":\"white\",\"linecolor\":\"white\",\"ticks\":\"\",\"title\":{\"standoff\":15},\"zerolinecolor\":\"white\",\"automargin\":true,\"zerolinewidth\":2},\"scene\":{\"xaxis\":{\"backgroundcolor\":\"#E5ECF6\",\"gridcolor\":\"white\",\"linecolor\":\"white\",\"showbackground\":true,\"ticks\":\"\",\"zerolinecolor\":\"white\",\"gridwidth\":2},\"yaxis\":{\"backgroundcolor\":\"#E5ECF6\",\"gridcolor\":\"white\",\"linecolor\":\"white\",\"showbackground\":true,\"ticks\":\"\",\"zerolinecolor\":\"white\",\"gridwidth\":2},\"zaxis\":{\"backgroundcolor\":\"#E5ECF6\",\"gridcolor\":\"white\",\"linecolor\":\"white\",\"showbackground\":true,\"ticks\":\"\",\"zerolinecolor\":\"white\",\"gridwidth\":2}},\"shapedefaults\":{\"line\":{\"color\":\"#2a3f5f\"}},\"annotationdefaults\":{\"arrowcolor\":\"#2a3f5f\",\"arrowhead\":0,\"arrowwidth\":1},\"geo\":{\"bgcolor\":\"white\",\"landcolor\":\"#E5ECF6\",\"subunitcolor\":\"white\",\"showland\":true,\"showlakes\":true,\"lakecolor\":\"white\"},\"title\":{\"x\":0.05},\"mapbox\":{\"style\":\"light\"}}},\"xaxis\":{\"anchor\":\"y\",\"domain\":[0.0,1.0],\"title\":{\"text\":\"\\u2206\\u2206G\"}},\"yaxis\":{\"anchor\":\"x\",\"domain\":[0.0,1.0],\"title\":{\"text\":\"count\"}},\"legend\":{\"tracegroupgap\":0},\"title\":{\"text\":\"Distribution of \\u2206\\u2206G\"},\"barmode\":\"relative\"},                        {\"responsive\": true}                    ).then(function(){\n",
       "                            \n",
       "var gd = document.getElementById('a1204009-ef85-4b2b-9b16-58a04a9bb292');\n",
       "var x = new MutationObserver(function (mutations, observer) {{\n",
       "        var display = window.getComputedStyle(gd).display;\n",
       "        if (!display || display === 'none') {{\n",
       "            console.log([gd, 'removed!']);\n",
       "            Plotly.purge(gd);\n",
       "            observer.disconnect();\n",
       "        }}\n",
       "}});\n",
       "\n",
       "// Listen for the removal of the full notebook cells\n",
       "var notebookContainer = gd.closest('#notebook-container');\n",
       "if (notebookContainer) {{\n",
       "    x.observe(notebookContainer, {childList: true});\n",
       "}}\n",
       "\n",
       "// Listen for the clearing of the current output cell\n",
       "var outputEl = gd.closest('.output');\n",
       "if (outputEl) {{\n",
       "    x.observe(outputEl, {childList: true});\n",
       "}}\n",
       "\n",
       "                        })                };                });            </script>        </div>"
      ]
     },
     "metadata": {},
     "output_type": "display_data"
    }
   ],
   "source": [
    "import plotly.express as px\n",
    "\n",
    "px.histogram(combinations.loc[(combinations['∆∆G'] < 0) & (combinations.outcome == 'acceptable')], '∆∆G', title='Distribution of ∆∆G')"
   ]
  },
  {
   "cell_type": "code",
   "execution_count": 158,
   "id": "3baa58b9-66a3-4069-92b4-278bdceeae1d",
   "metadata": {},
   "outputs": [],
   "source": [
    "## Names are mucked up\n",
    "import re\n",
    "import numpy as np\n",
    "from typing import Iterable\n",
    "\n",
    "#first_atoms: Dict[str, Geometry.Point3D] = {name: hit.GetConformer().GetAtomPosition(0) for name, hit in hits.items()}\n",
    "#mass_centres: Dict[str, Geometry.Point3D] = {name: np.sum(hit.GetConformer().GetPositions(), axis=0) / hit.GetNumAtoms() for name, hit in hits.items()}\n",
    "coord_summed = {name: np.sum(hit.GetConformer().GetPositions()) for name, hit in hits.items()}\n",
    "\n",
    "def get_name(mol, cutoff=0.001):\n",
    "    #coords: Geometry.Point3D = mol.GetConformer().GetAtomPosition(0)\n",
    "    csed = np.sum(mol.GetConformer().GetPositions())\n",
    "    names = []\n",
    "    for name, ref_csed in coord_summed.items():\n",
    "        if np.abs(csed - ref_csed) <= cutoff:\n",
    "            names.append(name)\n",
    "    if len(names) == 1:\n",
    "        return names[0]\n",
    "    if len(set(re.findall('(x\\d+)', ' '.join(names)))) == 1:\n",
    "        # ['x0771L1AP1', 'x0771L0AP1']\n",
    "        return names[0]\n",
    "    if cutoff > 1:\n",
    "        return 'LIG'\n",
    "    if len(names) == 0:\n",
    "        return get_name_by_first(mol, cutoff * 2)\n",
    "    else:\n",
    "        print(names)\n",
    "        return get_name_by_first(mol, cutoff / 1.5)\n",
    "    \n",
    "def get_names(mols):\n",
    "    if not isinstance(mols, Iterable):\n",
    "        return []\n",
    "    return [get_name(mol) if isinstance(mol, Chem.Mol) else 'LIG' for mol in mols]\n",
    "        \n",
    "            \n",
    "\n",
    "combinations['regarded'] = combinations.hit_mols.apply(get_names)\n",
    "combinations.to_pickle(f'fragmenstein-fragments.pkl.gz')\n",
    "combinations.to_csv(f'fragmenstein-fragments.csv')"
   ]
  },
  {
   "cell_type": "code",
   "execution_count": 160,
   "id": "49956f9e-0985-4e8a-8756-38b0d0fda0e1",
   "metadata": {},
   "outputs": [],
   "source": [
    "combinations['name'] = combinations['regarded'].apply('-'.join)"
   ]
  },
  {
   "cell_type": "code",
   "execution_count": 161,
   "id": "e715f498-f8b2-44b9-8155-0c4bd619cbd0",
   "metadata": {},
   "outputs": [],
   "source": [
    "from rdkit import Chem, rdBase\n",
    "from rdkit.Chem import AllChem\n",
    "from molecular_rectifier import Rectifier\n",
    "\n",
    "def to_simple_smiles(mol: Chem.Mol) -> str:\n",
    "    if not isinstance(mol, Chem.Mol) or not mol.GetNumAtoms():\n",
    "        return ''\n",
    "    try:\n",
    "        mol = AllChem.RemoveAllHs(mol)\n",
    "        for atom in mol.GetAtoms():\n",
    "            atom.SetChiralTag(Chem.ChiralType.CHI_UNSPECIFIED)\n",
    "        return Chem.MolToSmiles(mol)\n",
    "    except:\n",
    "        return ''\n",
    "    \n",
    "with rdBase.BlockLogs():\n",
    "    combinations['simple_smiles'] = combinations.unminimized_mol.apply(to_simple_smiles)"
   ]
  },
  {
   "cell_type": "code",
   "execution_count": 162,
   "id": "63f7302f-7bec-44ac-b124-0fe2cf8e128f",
   "metadata": {},
   "outputs": [],
   "source": [
    "combinations.to_pickle(f'fragmenstein-fragments.pkl.gz')\n",
    "combinations.to_csv(f'fragmenstein-fragments.csv')"
   ]
  },
  {
   "cell_type": "code",
   "execution_count": null,
   "id": "c265ff84-d038-4b9c-bf71-76b28692572e",
   "metadata": {},
   "outputs": [],
   "source": [
    "from smallworld_api import SmallWorld\n",
    "from warnings import warn\n",
    "\n",
    "sws = SmallWorld()\n",
    "\n",
    "chemical_databases:pd.DataFrame = sws.retrieve_databases()\n",
    "\n",
    "queries = combinations.loc[(combinations.outcome == 'acceptable')]['simple_smiles'].drop_duplicates().head(500)\n",
    "\n",
    "similars = sws.search_many(queries.to_list(),\n",
    "                           dist=25,\n",
    "                           length=50,\n",
    "                           db=sws.REAL_dataset,\n",
    "                           tolerated_exceptions=Exception)\n",
    "# query_index was added clientside to keep track!\n",
    "similars['query_name'] = similars.query_index.map( queries.reset_index().name.to_dict() )\n",
    "similars['hits'] = similars.query_index.map( queries.reset_index().hit_mols.to_dict() )\n",
    "similars['name'] = similars['id'] + ':' + similars['query_name']\n",
    "similars.to_pickle('similars-fragments.pkl.gz')\n",
    "print(f'Found {len(similars)} analogues')"
   ]
  },
  {
   "cell_type": "code",
   "execution_count": 7,
   "id": "b9a25dd8-5ea5-4c82-9388-e1fb98585f02",
   "metadata": {},
   "outputs": [
    {
     "name": "stdout",
     "output_type": "stream",
     "text": [
      "Found 2953 analogues\n"
     ]
    }
   ],
   "source": [
    "# similars = pd.read_pickle('similars-fragments.pkl.gz')\n",
    "# print(f'Found {len(similars)} analogues')"
   ]
  },
  {
   "cell_type": "code",
   "execution_count": 176,
   "id": "2f8371ee-2675-4c06-b1b7-dbeba37cda79",
   "metadata": {},
   "outputs": [
    {
     "name": "stdout",
     "output_type": "stream",
     "text": [
      "Found 2953 analogues\n"
     ]
    }
   ],
   "source": [
    "# column 'index' in query is not similars.query_index, the index proper is:\n",
    "queries = combinations.loc[(combinations.outcome == 'acceptable')].drop_duplicates('simple_smiles').head(500).reset_index()\n",
    "# post error fix\n",
    "for i, row in queries.iterrows():\n",
    "    row.unminimized_mol.SetProp('_Name', row['name'])\n",
    "    row.minimized_mol.SetProp('_Name', row['name'])\n",
    "    for h, n in zip(row.hit_mols, row.regarded):\n",
    "        # a bit incorrect as order is wrong\n",
    "        h.SetProp('_Name', n)\n",
    "\n",
    "similars['query_name'] = similars.query_index.map( queries['name'].to_dict() )\n",
    "similars['real_hits'] = similars.query_index.map( queries.reset_index().hit_mols.to_dict() )\n",
    "similars['hits'] = similars.query_index.apply(lambda i: [queries.loc[i].unminimized_mol] + queries.loc[i].hit_mols)\n",
    "similars['name'] = similars['id'] + ':' + similars['query_name']\n",
    "similars.to_pickle('similars-fragments.pkl.gz')\n",
    "print(f'Found {len(similars)} analogues')"
   ]
  },
  {
   "cell_type": "code",
   "execution_count": null,
   "id": "4882ad58-7129-4009-a511-3666ae5011cc",
   "metadata": {},
   "outputs": [],
   "source": [
    "from rdkit import Chem\n",
    "from rdkit.Chem import AllChem, Draw, PandasTools, BRICS\n",
    "from rdkit.Chem.Draw import IPythonConsole\n",
    "import pandas as pd\n",
    "import pandera.typing as pdt\n",
    "from typing import List, Dict\n",
    "    \n",
    "# ------------------------------------------------------\n",
    "    \n",
    "import logging\n",
    "import pyrosetta_help as ph\n",
    "import pyrosetta\n",
    "\n",
    "ranking = '∆∆G' #@param [\"LE\", \"∆∆G\", \"comRMSD\"]\n",
    "joining_cutoff:int = 10\n",
    "quick_reananimation:bool = False\n",
    "output_folder = 'frag_output'\n",
    "\n",
    "import os\n",
    "if not os.path.exists(output_folder):\n",
    "    # isnt this done automatically?\n",
    "    os.mkdir(output_folder)\n",
    "\n",
    "import os, re\n",
    "import pyrosetta, logging\n",
    "import pandas as pd\n",
    "from rdkit import Chem\n",
    "from fragmenstein import Victor, Laboratory\n",
    "\n",
    "Victor.work_path = output_folder\n",
    "Victor.monster_throw_on_discard = False  # unmin + hits combo\n",
    "Victor.monster_joining_cutoff = joining_cutoff  # Å\n",
    "Victor.quick_reanimation = quick_reananimation  # for the impatient\n",
    "Victor.error_to_catch = Exception  # stop the whole laboratory otherwise\n",
    "#Victor.enable_stdout(logging.ERROR)\n",
    "Victor.enable_logfile(os.path.join(output_folder, 'fragmenstein.log'), logging.ERROR)\n",
    "\n",
    "from fragmenstein.laboratory.validator import place_input_validator\n",
    "\n",
    "n_cores = 55\n",
    "\n",
    "lab = Laboratory(pdbblock=pdbblock, covalent_resi=None)\n",
    "placements:pd.DataFrame = lab.place(place_input_validator(similars), n_cores=n_cores)\n",
    "placements.to_pickle(f'placed-fragments.pkl.gz')\n",
    "placements.to_csv(f'placed-fragments.csv')"
   ]
  },
  {
   "cell_type": "code",
   "execution_count": null,
   "id": "545b1854-c3b3-4f96-9327-f8d6b1691dca",
   "metadata": {},
   "outputs": [],
   "source": [
    "placements.loc[placements.outcome == 'timeout'].index"
   ]
  },
  {
   "cell_type": "code",
   "execution_count": null,
   "id": "074ba36f-bd62-48bb-93de-1a73dd555598",
   "metadata": {},
   "outputs": [],
   "source": [
    "timeout_mask = (placements.outcome == 'timeout')\n",
    "\n",
    "placements2: pd.DataFrame = lab.place(place_input_validator(similars.loc[timeout_mask]),\n",
    "                                      n_cores=n_cores,\n",
    "                                      timeout=600)"
   ]
  },
  {
   "cell_type": "code",
   "execution_count": 1,
   "id": "c8254389-60c0-457c-bb35-dadc54a3123c",
   "metadata": {},
   "outputs": [
    {
     "ename": "NameError",
     "evalue": "name 'placements' is not defined",
     "output_type": "error",
     "traceback": [
      "\u001b[0;31m---------------------------------------------------------------------------\u001b[0m",
      "\u001b[0;31mNameError\u001b[0m                                 Traceback (most recent call last)",
      "Cell \u001b[0;32mIn[1], line 3\u001b[0m\n\u001b[1;32m      1\u001b[0m \u001b[38;5;28;01mimport\u001b[39;00m \u001b[38;5;21;01mplotly\u001b[39;00m\u001b[38;5;21;01m.\u001b[39;00m\u001b[38;5;21;01mexpress\u001b[39;00m \u001b[38;5;28;01mas\u001b[39;00m \u001b[38;5;21;01mpx\u001b[39;00m\n\u001b[0;32m----> 3\u001b[0m px\u001b[38;5;241m.\u001b[39mhistogram(\u001b[43mplacements\u001b[49m\u001b[38;5;241m.\u001b[39mloc[(placements[\u001b[38;5;124m'\u001b[39m\u001b[38;5;124m∆∆G\u001b[39m\u001b[38;5;124m'\u001b[39m] \u001b[38;5;241m<\u001b[39m \u001b[38;5;241m0\u001b[39m) \u001b[38;5;241m&\u001b[39m (placements\u001b[38;5;241m.\u001b[39moutcome \u001b[38;5;241m==\u001b[39m \u001b[38;5;124m'\u001b[39m\u001b[38;5;124macceptable\u001b[39m\u001b[38;5;124m'\u001b[39m)], \u001b[38;5;124m'\u001b[39m\u001b[38;5;124m∆∆G\u001b[39m\u001b[38;5;124m'\u001b[39m, title\u001b[38;5;241m=\u001b[39m\u001b[38;5;124m'\u001b[39m\u001b[38;5;124mDistribution of ∆∆G\u001b[39m\u001b[38;5;124m'\u001b[39m)\n",
      "\u001b[0;31mNameError\u001b[0m: name 'placements' is not defined"
     ]
    }
   ],
   "source": [
    "import plotly.express as px\n",
    "\n",
    "px.histogram(placements.loc[(placements['∆∆G'] < 0) & (placements.outcome == 'acceptable')], '∆∆G', title='Distribution of ∆∆G')"
   ]
  },
  {
   "cell_type": "code",
   "execution_count": 23,
   "id": "3991a7bd-165e-4db5-a1da-bb54079f0b39",
   "metadata": {},
   "outputs": [
    {
     "data": {
      "text/plain": [
       "outcome\n",
       "timeout       1531\n",
       "acceptable    1372\n",
       "weak            32\n",
       "too moved       18\n",
       "Name: count, dtype: int64"
      ]
     },
     "execution_count": 23,
     "metadata": {},
     "output_type": "execute_result"
    }
   ],
   "source": [
    "import functools\n",
    "\n",
    "def fix_bad_cats(placements):\n",
    "    placements['unminimized_mol'] = placements.unminimized_mol.fillna(Chem.Mol())\n",
    "    placements['outcome'] = placements.apply(functools.partial(lab.categorize, size_tolerance=+50, move_cutoff=2.0), axis=1)\n",
    "\n",
    "fix_bad_cats(placements)\n",
    "placements.loc[(placements['∆∆G'] > -1) & (placements.outcome == 'acceptable'), 'outcome'] = 'weak'\n",
    "placements.outcome.value_counts()"
   ]
  },
  {
   "cell_type": "code",
   "execution_count": null,
   "id": "77351c52-3feb-4d41-a865-5ec72f13496f",
   "metadata": {},
   "outputs": [],
   "source": [
    "import re, operator\n",
    "\n",
    "def split_name(name):\n",
    "    if not name:\n",
    "        return ('','')\n",
    "    if 'PV-' in name:\n",
    "        match = re.match(r'(PV-\\d+)-(.*)-(.*)', name).groups()\n",
    "    else:\n",
    "        match = re.match(r'(Z\\d+)-(.*)-(.*)', name).groups()\n",
    "    return (match[0], f\"{match[1]}-{match[2]}\" )\n",
    "\n",
    "names = placements['name'].apply(split_name)\n",
    "\n",
    "placements['enamine_name'] = names.apply(operator.itemgetter(0))\n",
    "placements['merger_name'] = names.apply(operator.itemgetter(1))\n",
    "\n",
    "# -----------------\n",
    "\n",
    "n2mol = combinations.minimized_mol.to_dict()\n",
    "# there seems to be some name bleaching? if so:\n",
    "#n2mol = dict(zip([n.replace('_', '-') for n in n2mol.keys()], n2mol.values()))\n",
    "placements['merger_mol'] = placements.merger_name.map(n2mol)\n",
    "\n",
    "placements['hit_names'] = placements.merger_name.str.split('-')\n",
    "placements['LE'] = placements.LE.abs()\n",
    "\n",
    "placements.to_pickle(f'placed-fragments.pkl.gz')\n",
    "placements.to_csv(f'placed-fragments.csv')"
   ]
  },
  {
   "cell_type": "code",
   "execution_count": null,
   "id": "bac4c763-5ccc-4575-a2d1-caf95e85fbf0",
   "metadata": {},
   "outputs": [],
   "source": [
    "from pathlib import Path\n",
    "\n",
    "valids = placements.loc[placements.outcome == 'acceptable'].sort_values('∆∆G')\n",
    "valids['combined_name'] = valids['name']\n",
    "valids['name'] = valids['enamine_name']\n",
    "valids['path'] = valids.combined_name.apply(lambda n: Path('frag_output') / n / f'{n}.holo_minimised.pdb')\n",
    "\n",
    "valids.to_pickle('acceptables-fragments.pkl.gz')\n",
    "\n",
    "valids.path.apply(Path.exists).value_counts()"
   ]
  },
  {
   "cell_type": "code",
   "execution_count": null,
   "id": "85c1834a-6279-4714-9b46-ef077f957bf6",
   "metadata": {},
   "outputs": [],
   "source": [
    "\"\"\"\n",
    "https://github.com/matteoferla/PLIP-PyRosetta-hotspots-test/blob/main/plipspots_docking/plipspots/serial.py\n",
    "\n",
    "This is a class I use to _apply_ PLIP to a pd.Series of molecules.\n",
    "It is not built for the project, but works.\n",
    "Note I have not dumped the methods that are not needed for the project.\n",
    "\"\"\"\n",
    "\n",
    "import os\n",
    "from pathlib import Path\n",
    "from rdkit import Chem\n",
    "from rdkit.Chem import AllChem\n",
    "from rdkit.Chem import Draw\n",
    "from rdkit.Chem import PandasTools\n",
    "\n",
    "from functools import singledispatchmethod\n",
    "from typing import Tuple, Dict, List, Union\n",
    "from collections import Counter, defaultdict\n",
    "from plip.structure.preparation import PDBComplex, PLInteraction\n",
    "from openbabel.pybel import Atom, Residue\n",
    "from openbabel.pybel import ob\n",
    "from fragmenstein.victor import MinimalPDBParser\n",
    "import warnings\n",
    "\n",
    "\n",
    "class SerialPLIPper:\n",
    "    \"\"\"\n",
    "    Calling the instance will return a ``Dict[Tuple[str, str, int], int]``,\n",
    "    where the key is interaction type, residue 3-letter name, residue index\n",
    "    and the value is the count of interactions.\n",
    "    Basically, applying Plip to a pd.Series of Chem.Mol.\n",
    "\n",
    "    Unplacking it is kind of wierd, the best way I reckon is a brutal for-loop:\n",
    "\n",
    "    .. code-block:: python\n",
    "\n",
    "        import pandas as pd\n",
    "        import pandera.typing as pdt\n",
    "\n",
    "        intxndexes: pdt.Series[Dict[Tuple[str, str, int], int]] = hits.ROMol.apply(SerialPLIPper(pdb_filename))\n",
    "        # columns will still be a tuple...:\n",
    "        intxn_df = pd.DataFrame(intxndexes.to_list()).fillna(0).astype(int)\n",
    "        hits['N_interactions'] = intxn_df.sum(axis='columns')\n",
    "        for c in sorted(intxn_df.columns, key=lambda kv: kv[2]):\n",
    "            # columns will be a colon-separated string:\n",
    "            hits[':'.join(map(str, c))] = intxn_df[c]\n",
    "    \"\"\"\n",
    "\n",
    "    def __init__(self, pdb_block: str, resn='LIG', chain='B'):\n",
    "        assert 'ATOM' in pdb_block, f'No ATOM entry in block provided: {pdb_block}'\n",
    "        self.pdb_block = pdb_block\n",
    "        self.resn = resn\n",
    "        self.chain = chain\n",
    "\n",
    "    @classmethod\n",
    "    def from_filename(cls, pdb_filename: str, *args, **kwargs):\n",
    "        \"\"\"\n",
    "        The main constructor is from PDB block, this is from PDB file\n",
    "        \"\"\"\n",
    "        with open(pdb_filename, 'r') as f:\n",
    "            pdb_block = f.read()\n",
    "        return cls(pdb_block, *args, **kwargs)\n",
    "\n",
    "    def __call__(self, mol) -> Dict[Tuple[str, str, int], int]:\n",
    "        if mol is None or not isinstance(mol, Chem.Mol) or mol.GetNumAtoms() == 0:\n",
    "            return {}\n",
    "        holo: str = self.plonk(mol)\n",
    "        interaction_set: PLInteraction = self.get_interaction_set(holo)\n",
    "        return self.get_interaction_counts(interaction_set)\n",
    "\n",
    "    def assign_pdb(self, mol: Chem.Mol):\n",
    "        \"\"\"\n",
    "        Fix the PDB info for the molecule, in place\n",
    "        \"\"\"\n",
    "        counts = defaultdict(int)\n",
    "        atom: Chem.Atom\n",
    "        for atom in mol.GetAtoms():\n",
    "            element: str = atom.GetSymbol()\n",
    "            counts[element] += 1\n",
    "            info = Chem.AtomPDBResidueInfo(atomName=f'{element: >2}{counts[element]: <2}',\n",
    "                                           residueName=self.resn,\n",
    "                                           residueNumber=1, chainId=self.chain)\n",
    "            atom.SetPDBResidueInfo(info)\n",
    "\n",
    "    def plonk(self, mol):\n",
    "        \"\"\"\n",
    "        Temporarily here. Do not copy.\n",
    "        There likely is a way to do this in OBabel\n",
    "        This is using Fragmenstein ``MinimalPDBParser``.\n",
    "\n",
    "        :param mol:\n",
    "        :return:\n",
    "        \"\"\"\n",
    "        pdbdata = MinimalPDBParser(self.pdb_block, remove_other_hetatms=True, ligname=self.resn)\n",
    "        self.assign_pdb(mol)\n",
    "        moldata = MinimalPDBParser(Chem.MolToPDBBlock(mol))\n",
    "        pdbdata.append(moldata)\n",
    "        return str(pdbdata)\n",
    "\n",
    "    @singledispatchmethod\n",
    "    def get_interaction_set(self) -> PLInteraction:\n",
    "        \"\"\"\n",
    "        Overloaded method: block or mol return the iternaction set\n",
    "        :return:\n",
    "        \"\"\"\n",
    "        raise NotImplementedError\n",
    "\n",
    "    @get_interaction_set.register\n",
    "    def _(self, block: str) -> PLInteraction:\n",
    "        holo = PDBComplex()\n",
    "        holo.load_pdb(block, as_string=True)\n",
    "        holo.analyze()\n",
    "        return holo.interaction_sets[':'.join([self.resn, self.chain, str(1)])]\n",
    "\n",
    "    @get_interaction_set.register\n",
    "    def _(self, mol: Chem.Mol) -> PLInteraction:\n",
    "        if mol.GetNumAtoms() == 0:\n",
    "            raise ValueError('Molecule has no atoms')\n",
    "        holo = PDBComplex()\n",
    "        holo.load_pdb(self.plonk(mol), as_string=True)\n",
    "        holo.analyze()\n",
    "        return holo.interaction_sets[':'.join([self.resn, self.chain, str(1)])]\n",
    "\n",
    "    def get_atomname(self, atom: Union[Atom, ob.OBAtom]) -> str:\n",
    "        \"\"\"\n",
    "        Given an atom, return its name.\n",
    "        \"\"\"\n",
    "        if isinstance(atom, Atom):\n",
    "            res: ob.OBResidue = atom.residue.OBResidue\n",
    "            obatom = atom.OBAtom\n",
    "        elif isinstance(atom, ob.OBAtom):\n",
    "            obatom: ob.OBAtom = atom\n",
    "            res: ob.OBResidue = obatom.GetResidue()\n",
    "        else:\n",
    "            raise TypeError\n",
    "        return res.GetAtomID(obatom)\n",
    "\n",
    "    def get_atom_by_atomname(self, residue: Union[ob.OBResidue, Residue], atomname: str) -> ob.OBAtom:\n",
    "        \"\"\"\n",
    "        Get an atom by its name in a residue.\n",
    "        \"\"\"\n",
    "        if isinstance(residue, Residue):\n",
    "            residue = residue.OBResidue\n",
    "        obatom: ob.OBAtom\n",
    "        for obatom in ob.OBResidueAtomIter(residue):\n",
    "            if residue.GetAtomID(obatom).strip() == atomname:\n",
    "                return obatom\n",
    "        else:\n",
    "            raise ValueError(f'No atom with name {atomname} in residue {residue.GetName()}')\n",
    "\n",
    "    def get_interaction_counts(self, interaction_set: PLInteraction) -> Dict[Tuple[str, str, int], int]:\n",
    "        \"\"\"\n",
    "        Count the number of interactions of each type for each residue\n",
    "        \"\"\"\n",
    "        intxns: List = interaction_set.all_itypes\n",
    "        intxn_dex = defaultdict(int)\n",
    "        for intxn in intxns:\n",
    "            key = (intxn.__class__.__name__, intxn.restype, intxn.resnr)\n",
    "            intxn_dex[key] += 1\n",
    "        return dict(sorted(intxn_dex.items(), key=lambda kv: kv[0][2]))"
   ]
  },
  {
   "cell_type": "code",
   "execution_count": null,
   "id": "93b70180-4354-4d6b-a94f-bf2f9c7a84a1",
   "metadata": {},
   "outputs": [],
   "source": [
    "chain_check = {l[21:26].strip() for l in valids.iloc[0].path.read_text().split('\\n') if ' LIG ' in l} - {'LIG'}\n",
    "print(chain_check)\n",
    "chain = next(iter(chain_check)).split()[0]\n",
    "\n",
    "import operator\n",
    "\n",
    "plipper = SerialPLIPper('ATOM', resn='LIG', chain=chain)\n",
    "def get_intxns(path: Path) -> dict:\n",
    "    interaction_set: PLInteraction = plipper.get_interaction_set(path.read_text())\n",
    "    return plipper.get_interaction_counts(interaction_set)\n",
    "\n",
    "intxns = valids.path.apply(get_intxns)\n",
    "key_order = sorted(set(intxns.apply(lambda d: list(d.keys())).sum()), key=operator.itemgetter(2))\n",
    "for key in key_order:\n",
    "    valids[key] = intxns.apply(lambda d: d.get(key, 0))\n",
    "valids['N_interactions'] = valids[key_order].sum(axis=1)\n",
    "\n",
    "valids.to_pickle('acceptables-fragments.pkl.gz')\n",
    "valids[['name', 'regarded', 'smiles', '∆∆G', '∆G_bound', '∆G_unbound',\n",
    "       'comRMSD', 'N_constrained_atoms', 'N_unconstrained_atoms', 'runtime',\n",
    "       'LE',  'outcome',\n",
    "       'percent_hybrid', 'N_interactions'] + key_order].to_csv('interactions.csv')\n",
    "print('done')"
   ]
  },
  {
   "cell_type": "code",
   "execution_count": null,
   "id": "55cd8e06-c4de-4f22-bd62-d276e9eb59e1",
   "metadata": {},
   "outputs": [],
   "source": [
    "valids.to_pickle('acceptables-fragments.pkl.gz')\n",
    "valids[['name', 'regarded', 'smiles', '∆∆G', '∆G_bound', '∆G_unbound',\n",
    "       'comRMSD', 'N_constrained_atoms', 'N_unconstrained_atoms', 'runtime',\n",
    "       'LE',  'outcome',\n",
    "       'percent_hybrid', 'N_interactions'] + key_order].to_csv('interactions.csv')\n",
    "print('done')"
   ]
  },
  {
   "cell_type": "code",
   "execution_count": null,
   "id": "9b13deb1-c1ea-4f01-97e1-600fb0a05718",
   "metadata": {},
   "outputs": [],
   "source": [
    "from rdkit.Chem import PandasTools\n",
    "\n",
    "short = combinations.loc[(combinations.outcome == 'acceptable')].sort_values('∆∆G').reset_index().drop_duplicates('name')\n",
    "\n",
    "PandasTools.WriteSDF(df=short,\n",
    "                    out=f'combinations-fragments.sdf',\n",
    "                    molColName='minimized_mol',\n",
    "                    idName='name',\n",
    "                    properties=['regarded', 'smiles', '∆∆G', '∆G_bound', '∆G_unbound',\n",
    "       'comRMSD', 'N_constrained_atoms', 'N_unconstrained_atoms', 'runtime',\n",
    "       'LE',  'outcome',\n",
    "       'percent_hybrid']\n",
    "                    )\n",
    "\n",
    "short[['name', 'regarded', 'smiles', '∆∆G', '∆G_bound', '∆G_unbound',\n",
    "       'comRMSD', 'N_constrained_atoms', 'N_unconstrained_atoms', 'runtime',\n",
    "       'LE',  'outcome',\n",
    "       'percent_hybrid']].to_csv(f'combinations-fragments.csv')"
   ]
  },
  {
   "cell_type": "code",
   "execution_count": null,
   "id": "03abec73-7050-43aa-a606-2461962a9e18",
   "metadata": {},
   "outputs": [],
   "source": [
    "from rdkit.Chem import PandasTools\n",
    "\n",
    "placements['regarded'] = placements.merger_name.str.split('-')\n",
    "short = placements.loc[(placements.outcome == 'acceptable')].sort_values('∆∆G').drop_duplicates('name')\n",
    "\n",
    "PandasTools.WriteSDF(df=short,\n",
    "                    out=f'placements-fragments.sdf',\n",
    "                    molColName='minimized_mol',\n",
    "                    idName='name',\n",
    "                    properties=['regarded', 'merger_name', 'smiles', '∆∆G', '∆G_bound', '∆G_unbound',\n",
    "       'comRMSD', 'N_constrained_atoms', 'N_unconstrained_atoms', 'runtime',\n",
    "       'LE',  'outcome',\n",
    "       'percent_hybrid']\n",
    "                    )\n",
    "\n",
    "short[['name', 'regarded', 'smiles', '∆∆G', '∆G_bound', '∆G_unbound',\n",
    "       'comRMSD', 'N_constrained_atoms', 'N_unconstrained_atoms', 'runtime',\n",
    "       'LE',  'outcome',\n",
    "       'percent_hybrid']].to_csv(f'placements-fragments.csv')"
   ]
  },
  {
   "cell_type": "code",
   "execution_count": 34,
   "id": "7a659cdd-9cfe-431e-8883-9fdfddd5174c",
   "metadata": {},
   "outputs": [
    {
     "data": {
      "text/plain": [
       "1415          AG7P11S33-G83P1S78\n",
       "794            E22P1S38-E22P1S10\n",
       "1375          AG7P11S28-AG7P8S10\n",
       "633             E22P1S19-E22P1S7\n",
       "1412          AG7P11S33-G83P1S78\n",
       "                  ...           \n",
       "517           G83P1S173-E22P1S32\n",
       "1786           AG7P12S22-AG7P8S5\n",
       "607             E22P1S19-E22P1S7\n",
       "2915    x1604hydroxyl-x0771benzo\n",
       "825          E22P1S39-x1498L1BP1\n",
       "Name: merger_name, Length: 1372, dtype: object"
      ]
     },
     "execution_count": 34,
     "metadata": {},
     "output_type": "execute_result"
    }
   ],
   "source": [
    "valids.merger_name"
   ]
  },
  {
   "cell_type": "code",
   "execution_count": 35,
   "id": "ca7038e5-2ec3-4381-8e47-59805b7961c6",
   "metadata": {},
   "outputs": [],
   "source": [
    "valids['merger_mol'] = valids.merger_name.map(placements.set_index('merger_name').minimized_mol.to_dict().get)"
   ]
  },
  {
   "cell_type": "code",
   "execution_count": 37,
   "id": "d068a769-0050-488b-8d8c-4d58d7457883",
   "metadata": {},
   "outputs": [],
   "source": [
    "valids = valids.loc[~valids.merger_mol.isna()]"
   ]
  },
  {
   "cell_type": "code",
   "execution_count": 38,
   "id": "5e4c5c71-83a8-4de1-9f73-99975b133b7c",
   "metadata": {},
   "outputs": [
    {
     "data": {
      "text/html": [
       "<div>\n",
       "<style scoped>\n",
       "    .dataframe tbody tr th:only-of-type {\n",
       "        vertical-align: middle;\n",
       "    }\n",
       "\n",
       "    .dataframe tbody tr th {\n",
       "        vertical-align: top;\n",
       "    }\n",
       "\n",
       "    .dataframe thead th {\n",
       "        text-align: right;\n",
       "    }\n",
       "</style>\n",
       "<table border=\"1\" class=\"dataframe\">\n",
       "  <thead>\n",
       "    <tr style=\"text-align: right;\">\n",
       "      <th></th>\n",
       "      <th>name</th>\n",
       "      <th>smiles</th>\n",
       "      <th>error</th>\n",
       "      <th>mode</th>\n",
       "      <th>∆∆G</th>\n",
       "      <th>∆G_bound</th>\n",
       "      <th>∆G_unbound</th>\n",
       "      <th>comRMSD</th>\n",
       "      <th>N_constrained_atoms</th>\n",
       "      <th>N_unconstrained_atoms</th>\n",
       "      <th>...</th>\n",
       "      <th>(hbond, HIS, 161)</th>\n",
       "      <th>(hbond, VAL, 162)</th>\n",
       "      <th>(hbond, GLY, 163)</th>\n",
       "      <th>(halogenbond, GLY, 164)</th>\n",
       "      <th>(hbond, GLY, 164)</th>\n",
       "      <th>(hydroph_interaction, ASN, 165)</th>\n",
       "      <th>(hbond, GLY, 166)</th>\n",
       "      <th>(hydroph_interaction, PHE, 170)</th>\n",
       "      <th>(pistack, PHE, 170)</th>\n",
       "      <th>N_interactions</th>\n",
       "    </tr>\n",
       "  </thead>\n",
       "  <tbody>\n",
       "    <tr>\n",
       "      <th>1415</th>\n",
       "      <td>Z4145520382</td>\n",
       "      <td>CCC(C)C(=O)N[C@@H](CC1=CC=C(O)C=C1)C(=O)NC(C)C...</td>\n",
       "      <td></td>\n",
       "      <td>expansion</td>\n",
       "      <td>-11.431698</td>\n",
       "      <td>-9.554016</td>\n",
       "      <td>1.877682</td>\n",
       "      <td>1.154675</td>\n",
       "      <td>54.0</td>\n",
       "      <td>0.0</td>\n",
       "      <td>...</td>\n",
       "      <td>0</td>\n",
       "      <td>1</td>\n",
       "      <td>0</td>\n",
       "      <td>0</td>\n",
       "      <td>1</td>\n",
       "      <td>0</td>\n",
       "      <td>0</td>\n",
       "      <td>0</td>\n",
       "      <td>0</td>\n",
       "      <td>6</td>\n",
       "    </tr>\n",
       "    <tr>\n",
       "      <th>794</th>\n",
       "      <td>Z4032625002</td>\n",
       "      <td>C[C@H](O)[C@H](C)NC(=O)C(NC(=O)OCC1=CC=CC=C1)C...</td>\n",
       "      <td></td>\n",
       "      <td>expansion</td>\n",
       "      <td>-10.888881</td>\n",
       "      <td>-8.614142</td>\n",
       "      <td>2.274739</td>\n",
       "      <td>0.970319</td>\n",
       "      <td>45.0</td>\n",
       "      <td>0.0</td>\n",
       "      <td>...</td>\n",
       "      <td>0</td>\n",
       "      <td>1</td>\n",
       "      <td>0</td>\n",
       "      <td>0</td>\n",
       "      <td>1</td>\n",
       "      <td>0</td>\n",
       "      <td>0</td>\n",
       "      <td>0</td>\n",
       "      <td>0</td>\n",
       "      <td>6</td>\n",
       "    </tr>\n",
       "    <tr>\n",
       "      <th>1375</th>\n",
       "      <td>Z4147217663</td>\n",
       "      <td>CCOC(=O)[C@@H](C)N(C)C(=O)[C@H](CC1=CC=C(O)C=C...</td>\n",
       "      <td></td>\n",
       "      <td>expansion</td>\n",
       "      <td>-10.795120</td>\n",
       "      <td>-9.083111</td>\n",
       "      <td>1.712009</td>\n",
       "      <td>0.938484</td>\n",
       "      <td>50.0</td>\n",
       "      <td>0.0</td>\n",
       "      <td>...</td>\n",
       "      <td>0</td>\n",
       "      <td>0</td>\n",
       "      <td>0</td>\n",
       "      <td>0</td>\n",
       "      <td>1</td>\n",
       "      <td>0</td>\n",
       "      <td>0</td>\n",
       "      <td>0</td>\n",
       "      <td>0</td>\n",
       "      <td>6</td>\n",
       "    </tr>\n",
       "    <tr>\n",
       "      <th>633</th>\n",
       "      <td>Z5144784941</td>\n",
       "      <td>O=C(NC(CC1=CC=CC=C1)C(=O)N[C@H](CC2=CC=CC=C2)C...</td>\n",
       "      <td></td>\n",
       "      <td>expansion</td>\n",
       "      <td>-10.300371</td>\n",
       "      <td>-6.714211</td>\n",
       "      <td>3.586160</td>\n",
       "      <td>1.000237</td>\n",
       "      <td>53.0</td>\n",
       "      <td>0.0</td>\n",
       "      <td>...</td>\n",
       "      <td>0</td>\n",
       "      <td>1</td>\n",
       "      <td>0</td>\n",
       "      <td>0</td>\n",
       "      <td>0</td>\n",
       "      <td>0</td>\n",
       "      <td>0</td>\n",
       "      <td>0</td>\n",
       "      <td>0</td>\n",
       "      <td>6</td>\n",
       "    </tr>\n",
       "    <tr>\n",
       "      <th>1412</th>\n",
       "      <td>Z4076099163</td>\n",
       "      <td>CC(C)CC(=O)N[C@@H](CC1=CC=C(O)C=C1)C(=O)NC(C)C...</td>\n",
       "      <td></td>\n",
       "      <td>expansion</td>\n",
       "      <td>-10.174137</td>\n",
       "      <td>-9.057158</td>\n",
       "      <td>1.116979</td>\n",
       "      <td>1.059362</td>\n",
       "      <td>54.0</td>\n",
       "      <td>0.0</td>\n",
       "      <td>...</td>\n",
       "      <td>0</td>\n",
       "      <td>1</td>\n",
       "      <td>0</td>\n",
       "      <td>0</td>\n",
       "      <td>1</td>\n",
       "      <td>0</td>\n",
       "      <td>0</td>\n",
       "      <td>0</td>\n",
       "      <td>0</td>\n",
       "      <td>5</td>\n",
       "    </tr>\n",
       "    <tr>\n",
       "      <th>...</th>\n",
       "      <td>...</td>\n",
       "      <td>...</td>\n",
       "      <td>...</td>\n",
       "      <td>...</td>\n",
       "      <td>...</td>\n",
       "      <td>...</td>\n",
       "      <td>...</td>\n",
       "      <td>...</td>\n",
       "      <td>...</td>\n",
       "      <td>...</td>\n",
       "      <td>...</td>\n",
       "      <td>...</td>\n",
       "      <td>...</td>\n",
       "      <td>...</td>\n",
       "      <td>...</td>\n",
       "      <td>...</td>\n",
       "      <td>...</td>\n",
       "      <td>...</td>\n",
       "      <td>...</td>\n",
       "      <td>...</td>\n",
       "      <td>...</td>\n",
       "    </tr>\n",
       "    <tr>\n",
       "      <th>517</th>\n",
       "      <td>PV-004309111368</td>\n",
       "      <td>C[C@@H](NC(=O)CC(=O)O)C(N)=O</td>\n",
       "      <td></td>\n",
       "      <td>expansion</td>\n",
       "      <td>-1.179669</td>\n",
       "      <td>-0.737794</td>\n",
       "      <td>0.441875</td>\n",
       "      <td>0.751833</td>\n",
       "      <td>20.0</td>\n",
       "      <td>0.0</td>\n",
       "      <td>...</td>\n",
       "      <td>0</td>\n",
       "      <td>0</td>\n",
       "      <td>0</td>\n",
       "      <td>0</td>\n",
       "      <td>1</td>\n",
       "      <td>0</td>\n",
       "      <td>0</td>\n",
       "      <td>0</td>\n",
       "      <td>0</td>\n",
       "      <td>1</td>\n",
       "    </tr>\n",
       "    <tr>\n",
       "      <th>1786</th>\n",
       "      <td>PV-004002543346</td>\n",
       "      <td>CC(C)CC(=O)N[C@@H](CC1=CC=C(O)C=C1)C(=O)N2[C@@...</td>\n",
       "      <td></td>\n",
       "      <td>expansion</td>\n",
       "      <td>-1.060797</td>\n",
       "      <td>0.436289</td>\n",
       "      <td>1.497086</td>\n",
       "      <td>1.141235</td>\n",
       "      <td>39.0</td>\n",
       "      <td>5.0</td>\n",
       "      <td>...</td>\n",
       "      <td>0</td>\n",
       "      <td>0</td>\n",
       "      <td>0</td>\n",
       "      <td>0</td>\n",
       "      <td>1</td>\n",
       "      <td>0</td>\n",
       "      <td>0</td>\n",
       "      <td>0</td>\n",
       "      <td>0</td>\n",
       "      <td>6</td>\n",
       "    </tr>\n",
       "    <tr>\n",
       "      <th>607</th>\n",
       "      <td>Z1767819991</td>\n",
       "      <td>O=C(C1CC2=CC=CC=C2N1C(=O)OCC3=CC=CC=C3)N4CCCC5...</td>\n",
       "      <td></td>\n",
       "      <td>expansion</td>\n",
       "      <td>-1.049347</td>\n",
       "      <td>1.613359</td>\n",
       "      <td>2.662706</td>\n",
       "      <td>1.555478</td>\n",
       "      <td>41.0</td>\n",
       "      <td>6.0</td>\n",
       "      <td>...</td>\n",
       "      <td>0</td>\n",
       "      <td>0</td>\n",
       "      <td>0</td>\n",
       "      <td>0</td>\n",
       "      <td>1</td>\n",
       "      <td>0</td>\n",
       "      <td>0</td>\n",
       "      <td>0</td>\n",
       "      <td>0</td>\n",
       "      <td>5</td>\n",
       "    </tr>\n",
       "    <tr>\n",
       "      <th>2915</th>\n",
       "      <td>Z4238192148</td>\n",
       "      <td>CCCCS[C@@H]1CCC[C@H](O)C1</td>\n",
       "      <td></td>\n",
       "      <td>expansion</td>\n",
       "      <td>-1.047392</td>\n",
       "      <td>-0.924728</td>\n",
       "      <td>0.122664</td>\n",
       "      <td>1.291434</td>\n",
       "      <td>30.0</td>\n",
       "      <td>0.0</td>\n",
       "      <td>...</td>\n",
       "      <td>0</td>\n",
       "      <td>0</td>\n",
       "      <td>0</td>\n",
       "      <td>0</td>\n",
       "      <td>0</td>\n",
       "      <td>0</td>\n",
       "      <td>1</td>\n",
       "      <td>0</td>\n",
       "      <td>0</td>\n",
       "      <td>3</td>\n",
       "    </tr>\n",
       "    <tr>\n",
       "      <th>825</th>\n",
       "      <td>Z1543186261</td>\n",
       "      <td>CC(N)C(=O)N[C@H](CC1=CC=CC=C1)C(=O)O</td>\n",
       "      <td></td>\n",
       "      <td>expansion</td>\n",
       "      <td>-1.003146</td>\n",
       "      <td>-0.331767</td>\n",
       "      <td>0.671379</td>\n",
       "      <td>1.729161</td>\n",
       "      <td>27.0</td>\n",
       "      <td>0.0</td>\n",
       "      <td>...</td>\n",
       "      <td>0</td>\n",
       "      <td>1</td>\n",
       "      <td>0</td>\n",
       "      <td>0</td>\n",
       "      <td>2</td>\n",
       "      <td>0</td>\n",
       "      <td>0</td>\n",
       "      <td>0</td>\n",
       "      <td>0</td>\n",
       "      <td>4</td>\n",
       "    </tr>\n",
       "  </tbody>\n",
       "</table>\n",
       "<p>1372 rows × 71 columns</p>\n",
       "</div>"
      ],
      "text/plain": [
       "                 name                                             smiles   \n",
       "1415      Z4145520382  CCC(C)C(=O)N[C@@H](CC1=CC=C(O)C=C1)C(=O)NC(C)C...  \\\n",
       "794       Z4032625002  C[C@H](O)[C@H](C)NC(=O)C(NC(=O)OCC1=CC=CC=C1)C...   \n",
       "1375      Z4147217663  CCOC(=O)[C@@H](C)N(C)C(=O)[C@H](CC1=CC=C(O)C=C...   \n",
       "633       Z5144784941  O=C(NC(CC1=CC=CC=C1)C(=O)N[C@H](CC2=CC=CC=C2)C...   \n",
       "1412      Z4076099163  CC(C)CC(=O)N[C@@H](CC1=CC=C(O)C=C1)C(=O)NC(C)C...   \n",
       "...               ...                                                ...   \n",
       "517   PV-004309111368                       C[C@@H](NC(=O)CC(=O)O)C(N)=O   \n",
       "1786  PV-004002543346  CC(C)CC(=O)N[C@@H](CC1=CC=C(O)C=C1)C(=O)N2[C@@...   \n",
       "607       Z1767819991  O=C(C1CC2=CC=CC=C2N1C(=O)OCC3=CC=CC=C3)N4CCCC5...   \n",
       "2915      Z4238192148                          CCCCS[C@@H]1CCC[C@H](O)C1   \n",
       "825       Z1543186261               CC(N)C(=O)N[C@H](CC1=CC=CC=C1)C(=O)O   \n",
       "\n",
       "     error       mode        ∆∆G  ∆G_bound  ∆G_unbound   comRMSD   \n",
       "1415        expansion -11.431698 -9.554016    1.877682  1.154675  \\\n",
       "794         expansion -10.888881 -8.614142    2.274739  0.970319   \n",
       "1375        expansion -10.795120 -9.083111    1.712009  0.938484   \n",
       "633         expansion -10.300371 -6.714211    3.586160  1.000237   \n",
       "1412        expansion -10.174137 -9.057158    1.116979  1.059362   \n",
       "...    ...        ...        ...       ...         ...       ...   \n",
       "517         expansion  -1.179669 -0.737794    0.441875  0.751833   \n",
       "1786        expansion  -1.060797  0.436289    1.497086  1.141235   \n",
       "607         expansion  -1.049347  1.613359    2.662706  1.555478   \n",
       "2915        expansion  -1.047392 -0.924728    0.122664  1.291434   \n",
       "825         expansion  -1.003146 -0.331767    0.671379  1.729161   \n",
       "\n",
       "      N_constrained_atoms  N_unconstrained_atoms  ...  (hbond, HIS, 161)   \n",
       "1415                 54.0                    0.0  ...                  0  \\\n",
       "794                  45.0                    0.0  ...                  0   \n",
       "1375                 50.0                    0.0  ...                  0   \n",
       "633                  53.0                    0.0  ...                  0   \n",
       "1412                 54.0                    0.0  ...                  0   \n",
       "...                   ...                    ...  ...                ...   \n",
       "517                  20.0                    0.0  ...                  0   \n",
       "1786                 39.0                    5.0  ...                  0   \n",
       "607                  41.0                    6.0  ...                  0   \n",
       "2915                 30.0                    0.0  ...                  0   \n",
       "825                  27.0                    0.0  ...                  0   \n",
       "\n",
       "     (hbond, VAL, 162) (hbond, GLY, 163) (halogenbond, GLY, 164)   \n",
       "1415                 1                 0                       0  \\\n",
       "794                  1                 0                       0   \n",
       "1375                 0                 0                       0   \n",
       "633                  1                 0                       0   \n",
       "1412                 1                 0                       0   \n",
       "...                ...               ...                     ...   \n",
       "517                  0                 0                       0   \n",
       "1786                 0                 0                       0   \n",
       "607                  0                 0                       0   \n",
       "2915                 0                 0                       0   \n",
       "825                  1                 0                       0   \n",
       "\n",
       "     (hbond, GLY, 164) (hydroph_interaction, ASN, 165)  (hbond, GLY, 166)   \n",
       "1415                 1                               0                  0  \\\n",
       "794                  1                               0                  0   \n",
       "1375                 1                               0                  0   \n",
       "633                  0                               0                  0   \n",
       "1412                 1                               0                  0   \n",
       "...                ...                             ...                ...   \n",
       "517                  1                               0                  0   \n",
       "1786                 1                               0                  0   \n",
       "607                  1                               0                  0   \n",
       "2915                 0                               0                  1   \n",
       "825                  2                               0                  0   \n",
       "\n",
       "     (hydroph_interaction, PHE, 170) (pistack, PHE, 170) N_interactions  \n",
       "1415                               0                   0              6  \n",
       "794                                0                   0              6  \n",
       "1375                               0                   0              6  \n",
       "633                                0                   0              6  \n",
       "1412                               0                   0              5  \n",
       "...                              ...                 ...            ...  \n",
       "517                                0                   0              1  \n",
       "1786                               0                   0              6  \n",
       "607                                0                   0              5  \n",
       "2915                               0                   0              3  \n",
       "825                                0                   0              4  \n",
       "\n",
       "[1372 rows x 71 columns]"
      ]
     },
     "execution_count": 38,
     "metadata": {},
     "output_type": "execute_result"
    }
   ],
   "source": [
    "valids"
   ]
  },
  {
   "cell_type": "code",
   "execution_count": null,
   "id": "ba13f82c-40d0-4563-8b34-976d843c52a5",
   "metadata": {},
   "outputs": [],
   "source": [
    "def unbleach(names: list, fluff_marker = '§'):\n",
    "    return [f'{names[0]}_{names[1]}{fluff_marker}{names[2]}',\n",
    "            f'{names[3]}_{names[4]}{fluff_marker}{names[5]}',\n",
    "           ]\n",
    "valids['hit_names'] = valids.hit_names.apply(unbleach)"
   ]
  },
  {
   "cell_type": "code",
   "execution_count": null,
   "id": "9351cf19-f24e-4f68-bfbe-0292c9838457",
   "metadata": {},
   "outputs": [],
   "source": [
    "## Names are mucked up\n",
    "import re\n",
    "import numpy as np\n",
    "from typing import Iterable\n",
    "\n",
    "#first_atoms: Dict[str, Geometry.Point3D] = {name: hit.GetConformer().GetAtomPosition(0) for name, hit in hits.items()}\n",
    "#mass_centres: Dict[str, Geometry.Point3D] = {name: np.sum(hit.GetConformer().GetPositions(), axis=0) / hit.GetNumAtoms() for name, hit in hits.items()}\n",
    "coord_summed = {name: np.sum(hit.GetConformer().GetPositions()) for name, hit in hits.items()}\n",
    "\n",
    "def get_name(mol, cutoff=0.001):\n",
    "    #coords: Geometry.Point3D = mol.GetConformer().GetAtomPosition(0)\n",
    "    csed = np.sum(mol.GetConformer().GetPositions())\n",
    "    names = []\n",
    "    for name, ref_csed in coord_summed.items():\n",
    "        if np.abs(csed - ref_csed) <= cutoff:\n",
    "            names.append(name)\n",
    "    if len(names) == 1:\n",
    "        return names[0]\n",
    "    if len(set(re.findall('(x\\d+)', ' '.join(names)))) == 1:\n",
    "        # ['x0771L1AP1', 'x0771L0AP1']\n",
    "        return names[0]\n",
    "    if cutoff > 1:\n",
    "        return 'LIG'\n",
    "    if len(names) == 0:\n",
    "        return get_name_by_first(mol, cutoff * 2)\n",
    "    else:\n",
    "        print(names)\n",
    "        return get_name_by_first(mol, cutoff / 1.5)\n",
    "    \n",
    "def get_names(mols):\n",
    "    if not isinstance(mols, Iterable):\n",
    "        return []\n",
    "    return [get_name(mol) if isinstance(mol, Chem.Mol) else 'LIG' for mol in mols]\n",
    "        \n",
    "            \n",
    "\n",
    "valids['hit_names'] = valids.hit_mols.apply(get_names)"
   ]
  },
  {
   "cell_type": "code",
   "execution_count": 40,
   "id": "5131a82e-dae8-4d6c-8e2c-11b0847b421c",
   "metadata": {},
   "outputs": [
    {
     "name": "stdout",
     "output_type": "stream",
     "text": [
      "Done\n"
     ]
    }
   ],
   "source": [
    "from michelanglo_api import MikeAPI\n",
    "from rdkit import Chem\n",
    "from typing import List\n",
    "import pandas as pd\n",
    "import json\n",
    "\n",
    "# declare variables\n",
    "hit_names = list(hits.keys())\n",
    "!mkdir -p upload\n",
    "!cp filtered_hits.sdf upload/EV-D68_hits3.sdf\n",
    "hit_filename = 'EV-D68_hits3.sdf'\n",
    "\n",
    "headers = ['name', 'hits', 'RMSD', '∆∆G', 'LE', 'N unconstrained atoms', 'N constrained atoms', 'N interactions']\n",
    "metadata: pd.DataFrame = valids.loc[~valids.merger_mol.isna()]\\\n",
    "                               .rename(columns=dict(hit_names='hits', comRMSD='RMSD',\n",
    "                                                    dist='distance',\n",
    "                                                    N_constrained_atoms='N constrained atoms',\n",
    "                                                    N_unconstrained_atoms='N unconstrained atoms',\n",
    "                                                    N_interactions='N interactions'))[headers]\n",
    "metadata_filename: str = 'EV-D68_metadata3.json'\n",
    "\n",
    "for k in ('∆∆G', 'LE', 'RMSD'):\n",
    "    metadata[k] = metadata[k].fillna(999).astype(float).round(1)\n",
    "for k in ('N unconstrained atoms',):\n",
    "    metadata[k] = metadata[k].fillna(-1).astype(int)\n",
    "metadata = metadata.copy()\n",
    "\n",
    "\n",
    "base_url = 'https://www.stats.ox.ac.uk/~ferla/mols/'  # base url path\n",
    "uuid = '63cf4578-a32d-44ca-86aa-c6c0eded48c2' # uuid of the page target\n",
    "\n",
    "combo_filename = 'EV-D68_combinations3.sdf'\n",
    "with Chem.SDWriter('upload/'+ combo_filename) as sdw:\n",
    "    combo_names = []\n",
    "    for i, row in valids.iterrows():\n",
    "        if not isinstance(row.merger_mol, Chem.Mol):\n",
    "            continue\n",
    "        row.merger_mol.SetProp('_Name', row.merger_name)\n",
    "        if row.merger_mol.GetNumAtoms() == 0:\n",
    "            continue\n",
    "        sdw.write(row.merger_mol)\n",
    "        # odd way but hey:\n",
    "        combo_names.append(row['name'])\n",
    "\n",
    "placement_filename = 'EV-D68_placements3.sdf'\n",
    "with Chem.SDWriter('upload/'+ placement_filename) as sdw:\n",
    "    placement_names = []\n",
    "    for i, row in valids.iterrows():\n",
    "        if not isinstance(row.minimized_mol, Chem.Mol):\n",
    "            continue\n",
    "        row.minimized_mol.SetProp('_Name', row['name'])\n",
    "        if row.minimized_mol.GetNumAtoms() == 0:\n",
    "            continue\n",
    "        sdw.write(row.minimized_mol)\n",
    "        placement_names.append(row['name'])\n",
    "        \n",
    "with open('upload/'+ metadata_filename, 'w') as fh:\n",
    "    json.dump(dict(\n",
    "                   headers=headers,\n",
    "                   data=metadata.values.tolist(),\n",
    "                   modelnamedex={'combination': combo_names,\n",
    "                                 'placement': placement_names,\n",
    "                                },\n",
    "                   hitnames=hit_names,\n",
    "            ), fh)\n",
    "    \n",
    "# make a page\n",
    "\n",
    "mike = MikeAPI()\n",
    "page = mike.get_page(uuid)\n",
    "\n",
    "page.loadfun = page.get_fragment_js(hit_sdf_url=base_url+hit_filename,\n",
    "                               model_sdf_urldex={'combination': base_url+combo_filename,\n",
    "                                                 'placement' : base_url+placement_filename,\n",
    "                                                },\n",
    "                               metadata_url=base_url+metadata_filename,\n",
    "                               model_colordex={'combination': 'salmon',\n",
    "                                               'placement': 'cyan'},\n",
    "                               hit_color='grey',\n",
    "                               template_color='gainsboro',\n",
    "                               name_col_idx = headers.index('name'),\n",
    "                               hit_col_idx = headers.index('hits'),\n",
    "                               target_col_idx = -1, # headers.index('target')\n",
    "                               sort_col = headers.index('N interactions'),\n",
    "                               sort_dir = 'desc',\n",
    "                               fun_name ='loadTable')\n",
    "\n",
    "# create a way to load the protein\n",
    "# laziest: \n",
    "#page.loadfun += 'setTimeout(loadTable, 1000)'\n",
    "# better:\n",
    "page.loadfun += \"\"\"\n",
    "window.loadprotein = (prot) => {prot.removeAllRepresentations(); \n",
    "                                prot.addRepresentation('cartoon');\n",
    "                                prot.addRepresentation('line');\n",
    "                                prot.autoView(); \n",
    "                                prot.setName('template');\n",
    "                                loadTable(); \n",
    "                                }\n",
    "\"\"\"\n",
    "page.loadfun = page.loadfun.replace('\"model_colordex\": {\"combination\": \"teal\", \"placement\": \"teal\"}',\n",
    "                                    '\"model_colordex\": {\"combination\": \"salmon\", \"placement\": \"turquoise\"}'\n",
    "                                   )\n",
    "page.proteins[0]['loadFx'] = 'loadprotein'\n",
    "page.title = 'EV-D68 3C protease followups (Fragmenstein decomposed)'\n",
    "page.description = f'## Predicted followups\\nCombinations in salmon and their purchasable analogue from Enamine Real in turquoise.\\n\\n Data in table is for make-on-demand analogues. Protein is constant for the sake of memory, but induced fit may have repacked the protein in specific case hence the odd case of calculated nice score and visual clashes.\\n\\nRMSD cutoff loosened to 2Å'\n",
    "page.columns_text = 6\n",
    "page.commit()\n",
    "print('Done')"
   ]
  },
  {
   "cell_type": "code",
   "execution_count": 2,
   "id": "473e8e93-5abd-4412-b17e-ad99acbf48e1",
   "metadata": {},
   "outputs": [],
   "source": [
    "# post crash\n",
    "import pandas as pd\n",
    "\n",
    "similars = pd.read_pickle('similars-fragments.pkl.gz')"
   ]
  },
  {
   "cell_type": "code",
   "execution_count": 11,
   "id": "d3c821fe-11b6-49df-b0b1-d9d242c96b0d",
   "metadata": {},
   "outputs": [
    {
     "data": {
      "text/plain": [
       "{}"
      ]
     },
     "execution_count": 11,
     "metadata": {},
     "output_type": "execute_result"
    }
   ],
   "source": [
    "similars['real_hits'].iloc[0][1]"
   ]
  },
  {
   "cell_type": "code",
   "execution_count": 15,
   "id": "48346a62-01c8-4bca-ab8d-8d1fe867c5bc",
   "metadata": {},
   "outputs": [],
   "source": [
    "## Names are mucked up\n",
    "import re\n",
    "import numpy as np\n",
    "from typing import Iterable\n",
    "\n",
    "#first_atoms: Dict[str, Geometry.Point3D] = {name: hit.GetConformer().GetAtomPosition(0) for name, hit in hits.items()}\n",
    "#mass_centres: Dict[str, Geometry.Point3D] = {name: np.sum(hit.GetConformer().GetPositions(), axis=0) / hit.GetNumAtoms() for name, hit in hits.items()}\n",
    "coord_summed = {name: np.sum(hit.GetConformer().GetPositions()) for name, hit in hits.items()}\n",
    "\n",
    "def get_name(mol, cutoff=0.001):\n",
    "    #coords: Geometry.Point3D = mol.GetConformer().GetAtomPosition(0)\n",
    "    csed = np.sum(mol.GetConformer().GetPositions())\n",
    "    names = []\n",
    "    for name, ref_csed in coord_summed.items():\n",
    "        if np.abs(csed - ref_csed) <= cutoff:\n",
    "            names.append(name)\n",
    "    if len(names) == 1:\n",
    "        return names[0]\n",
    "    if len(set(re.findall('(x\\d+)', ' '.join(names)))) == 1:\n",
    "        # ['x0771L1AP1', 'x0771L0AP1']\n",
    "        return names[0]\n",
    "    if cutoff > 1:\n",
    "        return 'LIG'\n",
    "    if len(names) == 0:\n",
    "        return get_name_by_first(mol, cutoff * 2)\n",
    "    else:\n",
    "        print(names)\n",
    "        return get_name_by_first(mol, cutoff / 1.5)\n",
    "    \n",
    "def get_names(mols):\n",
    "    if not isinstance(mols, Iterable):\n",
    "        return []\n",
    "    return [get_name(mol) if isinstance(mol, Chem.Mol) else 'LIG' for mol in mols]\n",
    "\n",
    "similars['hit_names'] = similars['real_hits'].apply(get_names)"
   ]
  },
  {
   "cell_type": "code",
   "execution_count": 22,
   "id": "5f9896bf-26c0-434d-9c51-8e2824405edc",
   "metadata": {},
   "outputs": [
    {
     "data": {
      "text/plain": [
       "hit_names\n",
       "x0771benzo-x1604base        50\n",
       "x1604hydroxyl-x0771benzo    50\n",
       "Name: count, dtype: int64"
      ]
     },
     "execution_count": 22,
     "metadata": {},
     "output_type": "execute_result"
    }
   ],
   "source": [
    "similars.loc[similars['name'].str.contains(':x') & similars['name'].str.contains('-x')].hit_names.apply('-'.join).value_counts()"
   ]
  },
  {
   "cell_type": "code",
   "execution_count": null,
   "id": "035758a4-bccd-40ae-ada7-7da888932656",
   "metadata": {},
   "outputs": [],
   "source": []
  }
 ],
 "metadata": {
  "kernelspec": {
   "display_name": "Python [conda env:root] *",
   "language": "python",
   "name": "conda-root-py"
  },
  "language_info": {
   "codemirror_mode": {
    "name": "ipython",
    "version": 3
   },
   "file_extension": ".py",
   "mimetype": "text/x-python",
   "name": "python",
   "nbconvert_exporter": "python",
   "pygments_lexer": "ipython3",
   "version": "3.10.10"
  }
 },
 "nbformat": 4,
 "nbformat_minor": 5
}
