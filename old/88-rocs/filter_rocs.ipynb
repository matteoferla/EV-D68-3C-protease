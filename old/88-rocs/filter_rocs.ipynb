{
 "cells": [
  {
   "cell_type": "code",
   "execution_count": 14,
   "id": "ba49da54-fb29-4674-921d-d506bd25d190",
   "metadata": {},
   "outputs": [],
   "source": [
    "from rdkit import Chem\n",
    "from rdkit.Chem.Draw import IPythonConsole\n",
    "\n",
    "rocs = []\n",
    "\n",
    "with Chem.SDMolSupplier('rocs_out.sdf') as sdfh:\n",
    "    rocs.extend(sdfh)\n",
    "for i in range(2, 6):\n",
    "    with Chem.SDMolSupplier(f'rocs_out{i}.sdf') as sdfh:\n",
    "        rocs.extend(sdfh)"
   ]
  },
  {
   "cell_type": "code",
   "execution_count": 15,
   "id": "752316b3-23ca-4f87-bdb7-9195313cf992",
   "metadata": {},
   "outputs": [
    {
     "data": {
      "text/plain": [
       "2500"
      ]
     },
     "execution_count": 15,
     "metadata": {},
     "output_type": "execute_result"
    }
   ],
   "source": [
    "len(rocs)"
   ]
  },
  {
   "cell_type": "code",
   "execution_count": 18,
   "id": "3c844627-ec69-46a7-8a2d-5557bb09e204",
   "metadata": {},
   "outputs": [
    {
     "name": "stdout",
     "output_type": "stream",
     "text": [
      "PyRosetta-4 2023 [Rosetta PyRosetta4.Release.python310.m1 2023.16+release.942c01d5066fd96860b7d268702b832fe906a739 2023-04-12T15:05:51] retrieved from: http://www.pyrosetta.org\n",
      "(C) Copyright Rosetta Commons Member Institutions. Created in JHU by Sergey Lyskov and PyRosetta Team.\n"
     ]
    }
   ],
   "source": [
    "from rdkit import Chem\n",
    "from rdkit.Chem import AllChem, Draw, PandasTools, BRICS\n",
    "from rdkit.Chem.Draw import IPythonConsole\n",
    "import pandas as pd\n",
    "import pandera.typing as pdt\n",
    "from typing import List, Dict\n",
    "import pyrosetta\n",
    "import pyrosetta_help as ph\n",
    "from types import ModuleType\n",
    "\n",
    "prc: ModuleType = pyrosetta.rosetta.core\n",
    "prp: ModuleType = pyrosetta.rosetta.protocols\n",
    "prn: ModuleType = pyrosetta.rosetta.numeric\n",
    "prcc: ModuleType = pyrosetta.rosetta.core.conformation\n",
    "pr_scoring: ModuleType = pyrosetta.rosetta.core.scoring\n",
    "pr_simple: ModuleType = prp.simple_moves\n",
    "pr_rsele: ModuleType = prc.select.residue_selector\n",
    "    \n",
    "# ------------------------------------------------------\n",
    "    \n",
    "import logging\n",
    "import pyrosetta_help as ph\n",
    "import pyrosetta\n",
    "\n",
    "logger = ph.configure_logger()\n",
    "logger.handlers[0].setLevel(logging.ERROR)  # logging.WARNING = 30\n",
    "extra_options = ph.make_option_string(no_optH=False,\n",
    "                                      ex1=None,\n",
    "                                      ex2=None,\n",
    "                                      #mute='all',\n",
    "                                      ignore_unrecognized_res=True,\n",
    "                                      load_PDB_components=False,\n",
    "                                      ignore_waters=True)\n",
    "pyrosetta.init(extra_options=extra_options)\n",
    "\n",
    "## ====================================================\n",
    "\n",
    "# crude filtering via PyRosetta.\n",
    "# does it affect the masked score (10Å radius of Cys).\n",
    "\n",
    "from rdkit import Geometry\n",
    "\n",
    "def mol2pose(mol: Chem.Mol) -> pyrosetta.Pose:\n",
    "    \"\"\"\n",
    "    Given an rdkit mol w/ a conformer make a PyRosetta pose w/ those coordinates\n",
    "    \"\"\"\n",
    "    params = Params.from_mol(mol, name='LIG')\n",
    "    # params.to_pose() is an ideal pose.\n",
    "    #params.add_residuetype(pose)\n",
    "    pose = params.to_pose()\n",
    "    conf = params.mol.GetConformer()\n",
    "    for atom in params.mol.GetAtoms():\n",
    "        name = atom.GetPDBResidueInfo().GetName()\n",
    "        pos: Geometry.Point3D = conf.GetAtomPosition(atom.GetIdx())\n",
    "        xyz = prn.xyzVector_double_t(pos.x, pos.y, pos.z)\n",
    "        pose.residue(1).set_xyz(name, xyz)\n",
    "    return pose\n",
    "\n",
    "def get_radius_score(pose, radius=10) -> float:\n",
    "    cys_idx = pose.pdb_info().pdb2pose(chain='A', res=147)\n",
    "    assert pose.residue(cys_idx).name3() == 'CYS'\n",
    "    neigh_sele = pr_rsele.NeighborhoodResidueSelector(pr_rsele.ResidueIndexSelector(cys_idx),\n",
    "                                                     radius,\n",
    "                                                      True\n",
    "                                                     )\n",
    "    # scorefxn = pyrosetta.get_fa_scorefxn()\n",
    "    # # clashes go away...\n",
    "    # scorefxn.set_weight(pr_scoring.ScoreType.fa_rep, 0)\n",
    "    # scorefxn(pose) # dummy call or segfault!\n",
    "    return scorefxn.get_sub_score(pose, neigh_sele.apply(pose))\n",
    "\n",
    "\n",
    "\n",
    "from rdkit_to_params import Params\n",
    "\n",
    "\n",
    "def is_good(hit, apo):\n",
    "    \"\"\"\n",
    "    \n",
    "    \"\"\"\n",
    "    try:\n",
    "        holo = apo.clone()\n",
    "        lig_pose = mol2pose(hit)\n",
    "        holo.append_pose_by_jump(lig_pose, holo.num_jump()+1)\n",
    "        return get_radius_score(holo) - get_radius_score(apo) < -1\n",
    "    except Exception as error:\n",
    "        if 'CONN1' not in str(error):\n",
    "            print(error.__class__.__name__, error)\n",
    "        return False"
   ]
  },
  {
   "cell_type": "code",
   "execution_count": 29,
   "id": "55ebd4c1-2f66-4330-8672-0624cff2e6e0",
   "metadata": {},
   "outputs": [
    {
     "name": "stdout",
     "output_type": "stream",
     "text": [
      "ScoreType.fa_rep 0.55\n"
     ]
    },
    {
     "name": "stderr",
     "output_type": "stream",
     "text": [
      "\n",
      "ERROR:: Exit from: /Volumes/scratch/w/rosetta/commits/main/source/src/core/conformation/util.cc line: 1512\n",
      "\n",
      "ERROR:: Exit from: /Volumes/scratch/w/rosetta/commits/main/source/src/core/conformation/util.cc line: 1512\n",
      "\n",
      "ERROR:: Exit from: /Volumes/scratch/w/rosetta/commits/main/source/src/core/conformation/util.cc line: 1512\n",
      "\n",
      "ERROR:: Exit from: /Volumes/scratch/w/rosetta/commits/main/source/src/core/conformation/util.cc line: 1512\n",
      "\n",
      "ERROR:: Exit from: /Volumes/scratch/w/rosetta/commits/main/source/src/core/conformation/util.cc line: 1512\n",
      "\n",
      "ERROR:: Exit from: /Volumes/scratch/w/rosetta/commits/main/source/src/core/conformation/util.cc line: 1512\n",
      "\n",
      "ERROR:: Exit from: /Volumes/scratch/w/rosetta/commits/main/source/src/core/conformation/util.cc line: 1512\n",
      "\n",
      "ERROR:: Exit from: /Volumes/scratch/w/rosetta/commits/main/source/src/core/conformation/util.cc line: 1512\n",
      "\n",
      "ERROR:: Exit from: /Volumes/scratch/w/rosetta/commits/main/source/src/core/conformation/util.cc line: 1512\n",
      "\n",
      "ERROR:: Exit from: /Volumes/scratch/w/rosetta/commits/main/source/src/core/conformation/util.cc line: 1512\n",
      "\n",
      "ERROR:: Exit from: /Volumes/scratch/w/rosetta/commits/main/source/src/core/conformation/util.cc line: 1512\n",
      "\n",
      "ERROR:: Exit from: /Volumes/scratch/w/rosetta/commits/main/source/src/core/conformation/util.cc line: 1512\n",
      "\n",
      "ERROR:: Exit from: /Volumes/scratch/w/rosetta/commits/main/source/src/core/conformation/util.cc line: 1512\n",
      "\n",
      "ERROR:: Exit from: /Volumes/scratch/w/rosetta/commits/main/source/src/core/conformation/util.cc line: 1512\n",
      "No idea what this Si SP3 is. assigning it REPLS\n",
      "\n",
      "ERROR:: Exit from: /Volumes/scratch/w/rosetta/commits/main/source/src/core/conformation/util.cc line: 1512\n",
      "\n",
      "ERROR:: Exit from: /Volumes/scratch/w/rosetta/commits/main/source/src/core/conformation/util.cc line: 1512\n",
      "\n",
      "ERROR:: Exit from: /Volumes/scratch/w/rosetta/commits/main/source/src/core/conformation/util.cc line: 1512\n",
      "\n",
      "ERROR:: Exit from: /Volumes/scratch/w/rosetta/commits/main/source/src/core/conformation/util.cc line: 1512\n",
      "\n",
      "ERROR:: Exit from: /Volumes/scratch/w/rosetta/commits/main/source/src/core/conformation/util.cc line: 1512\n",
      "\n",
      "ERROR:: Exit from: /Volumes/scratch/w/rosetta/commits/main/source/src/core/conformation/util.cc line: 1512\n",
      "\n",
      "ERROR:: Exit from: /Volumes/scratch/w/rosetta/commits/main/source/src/core/conformation/util.cc line: 1512\n",
      "\n",
      "ERROR:: Exit from: /Volumes/scratch/w/rosetta/commits/main/source/src/core/conformation/util.cc line: 1512\n",
      "\n",
      "ERROR:: Exit from: /Volumes/scratch/w/rosetta/commits/main/source/src/core/conformation/util.cc line: 1512\n",
      "\n",
      "ERROR:: Exit from: /Volumes/scratch/w/rosetta/commits/main/source/src/core/conformation/util.cc line: 1512\n",
      "\n",
      "ERROR:: Exit from: /Volumes/scratch/w/rosetta/commits/main/source/src/core/conformation/util.cc line: 1512\n"
     ]
    }
   ],
   "source": [
    "with open('../reference.pdb') as fh:\n",
    "    pdbblock = fh.read()\n",
    "apo = pyrosetta.Pose()\n",
    "prc.import_pose.pose_from_pdbstring(apo, pdbblock)\n",
    "scorefxn = pyrosetta.get_fa_scorefxn()\n",
    "# unaltered:\n",
    "print(pr_scoring.ScoreType.fa_rep, scorefxn.get_weight(pr_scoring.ScoreType.fa_rep))\n",
    "\n",
    "apo_score = scorefxn(apo)\n",
    "\n",
    "good_rocs = []\n",
    "bombed_rocs = []\n",
    "for mol in rocs:\n",
    "    mol.SetProp('_Name', mol.GetProp('id'))\n",
    "    holo = apo.clone()\n",
    "    try:\n",
    "        lig_pose = mol2pose(mol)\n",
    "        holo.append_pose_by_jump(lig_pose, holo.num_jump()+1)\n",
    "        score = scorefxn(holo)\n",
    "        mol.SetDoubleProp('Score', score - apo_score)\n",
    "        if score - apo_score < 0: # scorefxn(lig_pose) is zero... ish...\n",
    "            good_rocs.append(mol)\n",
    "    except Exception as error:\n",
    "        mol.SetProp('issue', f'{error.__class__.__name__}: {error}')\n",
    "        bombed_rocs.append(mol)"
   ]
  },
  {
   "cell_type": "code",
   "execution_count": 31,
   "id": "1daf2ca1-9d49-41a5-a904-6f12f5b701e3",
   "metadata": {},
   "outputs": [
    {
     "data": {
      "text/plain": [
       "(27, 121)"
      ]
     },
     "execution_count": 31,
     "metadata": {},
     "output_type": "execute_result"
    }
   ],
   "source": [
    "len(bombed_rocs), len(good_rocs)"
   ]
  },
  {
   "cell_type": "code",
   "execution_count": 54,
   "id": "3be65662-ecaa-4f40-9468-c0f489d53810",
   "metadata": {},
   "outputs": [],
   "source": [
    "with Chem.SDWriter('okay-rocs.sdf') as sdfh:\n",
    "    for mol in good_rocs:\n",
    "        sdfh.write(mol)"
   ]
  },
  {
   "cell_type": "code",
   "execution_count": 51,
   "id": "ba1dadd5-abfe-4f95-a517-779501fbea2e",
   "metadata": {},
   "outputs": [
    {
     "data": {
      "image/png": "[encoded data removed]",
      "text/plain": [
       "<rdkit.Chem.rdchem.Mol at 0x288918120>"
      ]
     },
     "execution_count": 51,
     "metadata": {},
     "output_type": "execute_result"
    }
   ],
   "source": [
    "mol = Chem.MolFromSmiles('c1ccnnc1N*')\n",
    "mol"
   ]
  },
  {
   "cell_type": "code",
   "execution_count": 52,
   "id": "838ff6ee-2808-46c7-922c-6d37ea950b0b",
   "metadata": {},
   "outputs": [],
   "source": [
    "mol = AllChem.AddHs(mol)"
   ]
  },
  {
   "cell_type": "code",
   "execution_count": 53,
   "id": "8523309d-1d14-42af-8dc3-ca3f806b40ca",
   "metadata": {},
   "outputs": [
    {
     "data": {
      "text/plain": [
       "'[#6]1(:[#6](:[#6](:[#7]:[#7]:[#6]:1-[#7](-[#0])-[H])-[H])-[H])-[H]'"
      ]
     },
     "execution_count": 53,
     "metadata": {},
     "output_type": "execute_result"
    }
   ],
   "source": [
    "Chem.MolFromSmarts(Chem.MolToSmarts(mol))\n",
    "Chem.MolToSmarts(mol)"
   ]
  },
  {
   "cell_type": "code",
   "execution_count": 46,
   "id": "7ec934d9-0bd9-4bad-a078-039a5c5ee918",
   "metadata": {},
   "outputs": [
    {
     "data": {
      "image/png": "[encoded data removed]",
      "text/plain": [
       "<rdkit.Chem.rdchem.Mol at 0x288b2f760>"
      ]
     },
     "execution_count": 46,
     "metadata": {},
     "output_type": "execute_result"
    }
   ],
   "source": [
    "Chem.MolFromSmiles('NC1C2CC=3C=C(Cl)C=CC3C12')"
   ]
  },
  {
   "cell_type": "code",
   "execution_count": 56,
   "id": "250b25ba-8ab7-4560-8d4c-582ec17cf1d8",
   "metadata": {},
   "outputs": [],
   "source": [
    "bromine_zahl = 35\n",
    "bromine: Chem.Atom = next(mol.GetAtomsMatchingQuery(Chem.rdqueries.AtomNumEqualsQueryAtom(bromine_zahl)))\n",
    "mod = Chem.RWMol(mol)\n",
    "mod.RemoveAtom(idx)\n",
    "Chem.MolToSmarts( mod.GetMol() )"
   ]
  },
  {
   "cell_type": "code",
   "execution_count": 58,
   "id": "2ffb3427-6731-4520-ad07-4c679da972c0",
   "metadata": {},
   "outputs": [
    {
     "ename": "NameError",
     "evalue": "name 'hits' is not defined",
     "output_type": "error",
     "traceback": [
      "\u001b[0;31m---------------------------------------------------------------------------\u001b[0m",
      "\u001b[0;31mNameError\u001b[0m                                 Traceback (most recent call last)",
      "Cell \u001b[0;32mIn[58], line 1\u001b[0m\n\u001b[0;32m----> 1\u001b[0m \u001b[43mhits\u001b[49m\n",
      "\u001b[0;31mNameError\u001b[0m: name 'hits' is not defined"
     ]
    }
   ],
   "source": [
    "hits"
   ]
  },
  {
   "cell_type": "code",
   "execution_count": null,
   "id": "deac5168-0b67-466f-b5f1-688f0459c3b1",
   "metadata": {},
   "outputs": [],
   "source": []
  }
 ],
 "metadata": {
  "kernelspec": {
   "display_name": "Python [conda env:py310]",
   "language": "python",
   "name": "conda-env-py310-py"
  },
  "language_info": {
   "codemirror_mode": {
    "name": "ipython",
    "version": 3
   },
   "file_extension": ".py",
   "mimetype": "text/x-python",
   "name": "python",
   "nbconvert_exporter": "python",
   "pygments_lexer": "ipython3",
   "version": "3.10.10"
  }
 },
 "nbformat": 4,
 "nbformat_minor": 5
}
