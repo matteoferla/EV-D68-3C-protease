{
 "cells": [
  {
   "cell_type": "code",
   "execution_count": 2,
   "id": "334d5f8d-24e1-4431-86b4-ee4d9042c4f6",
   "metadata": {},
   "outputs": [],
   "source": [
    "import os\n",
    "from pathlib import Path\n",
    "root = Path('/Users/user/Coding/EV-D68-3C-protease/')\n",
    "os.chdir(root)\n",
    "folder = Path('download/D68EV3CPROA')\n",
    "assert folder.exists()"
   ]
  },
  {
   "cell_type": "code",
   "execution_count": 3,
   "id": "18c05b42-9df0-4fa0-8d55-1ebc71cbc107",
   "metadata": {},
   "outputs": [],
   "source": [
    "from plip.structure.preparation import PDBComplex, PLInteraction\n",
    "    \n",
    "for holo in (folder / Path('aligned')).glob('*/*.pdb'):\n",
    "    plip_holo = PDBComplex()\n",
    "    plip_holo.load_pdb(str(holo))\n",
    "    plip_holo.analyze()\n",
    "    break"
   ]
  },
  {
   "cell_type": "code",
   "execution_count": 8,
   "id": "9840c47f-a14f-49ae-952c-7bc30e057309",
   "metadata": {},
   "outputs": [],
   "source": [
    "from typing import List\n",
    "    \n",
    "intxn_name: str # 'LIG:A:201 .hetid + .chain .position of plip_holo.ligands[0]\n",
    "intxn_set: PLInteraction\n",
    "for intxn_name, intxn_set in plip_holo.interaction_sets.items():\n",
    "    intxns: List = intxn_set.all_itypes\n",
    "    break"
   ]
  },
  {
   "cell_type": "code",
   "execution_count": 5,
   "id": "68359550-aebc-4c0b-8d19-c0fec3f7e15c",
   "metadata": {},
   "outputs": [
    {
     "data": {
      "text/plain": [
       "'LIG:A:201'"
      ]
     },
     "execution_count": 5,
     "metadata": {},
     "output_type": "execute_result"
    }
   ],
   "source": [
    "intxn_name"
   ]
  },
  {
   "cell_type": "code",
   "execution_count": 10,
   "id": "f5ba15d3-298f-4d40-872c-038c3c09664c",
   "metadata": {},
   "outputs": [
    {
     "data": {
      "text/plain": [
       "hydroph_interaction(bsatom=<openbabel.pybel.Atom object at 0x1177bff70>, bsatom_orig_idx=292, ligatom=<openbabel.pybel.Atom object at 0x117889810>, ligatom_orig_idx=1450, distance=3.8559312753211765, restype='VAL', resnr=34, reschain='A', restype_l='LIG', resnr_l=201, reschain_l='A')"
      ]
     },
     "execution_count": 10,
     "metadata": {},
     "output_type": "execute_result"
    }
   ],
   "source": [
    "intxns[0]"
   ]
  },
  {
   "cell_type": "markdown",
   "id": "96078966-1c00-447e-8b05-3d4dc9191282",
   "metadata": {},
   "source": [
    "## TEMP\n",
    "\n",
    "For now I will annotate the extracted hits with reference. In future I will map atomically!"
   ]
  },
  {
   "cell_type": "code",
   "execution_count": 11,
   "id": "b3e0ffa1-b641-49fc-8e7a-acc7a4983225",
   "metadata": {},
   "outputs": [
    {
     "data": {
      "application/vnd.jupyter.widget-view+json": {
       "model_id": "7517240c1c0f4908b047cd0c8123d3ba",
       "version_major": 2,
       "version_minor": 0
      },
      "text/plain": []
     },
     "metadata": {},
     "output_type": "display_data"
    }
   ],
   "source": [
    "\"\"\"\n",
    "https://github.com/matteoferla/PLIP-PyRosetta-hotspots-test/blob/main/plipspots_docking/plipspots/serial.py\n",
    "\n",
    "This is a class I use to _apply_ PLIP to a pd.Series of molecules.\n",
    "It is not built for the project, but works.\n",
    "Note I have not dumped the methods that are not needed for the project.\n",
    "\"\"\"\n",
    "\n",
    "import os\n",
    "from pathlib import Path\n",
    "from rdkit import Chem\n",
    "from rdkit.Chem import AllChem\n",
    "from rdkit.Chem import Draw\n",
    "from rdkit.Chem import PandasTools\n",
    "\n",
    "from functools import singledispatchmethod\n",
    "from typing import Tuple, Dict, List, Union\n",
    "from collections import Counter, defaultdict\n",
    "from plip.structure.preparation import PDBComplex, PLInteraction\n",
    "from openbabel.pybel import Atom, Residue\n",
    "from openbabel.pybel import ob\n",
    "from fragmenstein.victor import MinimalPDBParser\n",
    "import warnings\n",
    "\n",
    "\n",
    "class SerialPLIPper:\n",
    "    \"\"\"\n",
    "    Calling the instance will return a ``Dict[Tuple[str, str, int], int]``,\n",
    "    where the key is interaction type, residue 3-letter name, residue index\n",
    "    and the value is the count of interactions.\n",
    "    Basically, applying Plip to a pd.Series of Chem.Mol.\n",
    "\n",
    "    Unplacking it is kind of wierd, the best way I reckon is a brutal for-loop:\n",
    "\n",
    "    .. code-block:: python\n",
    "\n",
    "        import pandas as pd\n",
    "        import pandera.typing as pdt\n",
    "\n",
    "        intxndexes: pdt.Series[Dict[Tuple[str, str, int], int]] = hits.ROMol.apply(SerialPLIPper(pdb_filename))\n",
    "        # columns will still be a tuple...:\n",
    "        intxn_df = pd.DataFrame(intxndexes.to_list()).fillna(0).astype(int)\n",
    "        hits['N_interactions'] = intxn_df.sum(axis='columns')\n",
    "        for c in sorted(intxn_df.columns, key=lambda kv: kv[2]):\n",
    "            # columns will be a colon-separated string:\n",
    "            hits[':'.join(map(str, c))] = intxn_df[c]\n",
    "    \"\"\"\n",
    "\n",
    "    def __init__(self, pdb_block: str, resn='LIG', chain='B'):\n",
    "        assert 'ATOM' in pdb_block, f'No ATOM entry in block provided: {pdb_block}'\n",
    "        self.pdb_block = pdb_block\n",
    "        self.resn = resn\n",
    "        self.chain = chain\n",
    "\n",
    "    @classmethod\n",
    "    def from_filename(cls, pdb_filename: str, *args, **kwargs):\n",
    "        \"\"\"\n",
    "        The main constructor is from PDB block, this is from PDB file\n",
    "        \"\"\"\n",
    "        with open(pdb_filename, 'r') as f:\n",
    "            pdb_block = f.read()\n",
    "        return cls(pdb_block, *args, **kwargs)\n",
    "\n",
    "    def __call__(self, mol) -> Dict[Tuple[str, str, int], int]:\n",
    "        if mol is None or not isinstance(mol, Chem.Mol) or mol.GetNumAtoms() == 0:\n",
    "            return {}\n",
    "        holo: str = self.plonk(mol)\n",
    "        interaction_set: PLInteraction = self.get_interaction_set(holo)\n",
    "        return self.get_interaction_counts(interaction_set)\n",
    "\n",
    "    def assign_pdb(self, mol: Chem.Mol):\n",
    "        \"\"\"\n",
    "        Fix the PDB info for the molecule, in place\n",
    "        \"\"\"\n",
    "        counts = defaultdict(int)\n",
    "        atom: Chem.Atom\n",
    "        for atom in mol.GetAtoms():\n",
    "            element: str = atom.GetSymbol()\n",
    "            counts[element] += 1\n",
    "            info = Chem.AtomPDBResidueInfo(atomName=f'{element: >2}{counts[element]: <2}',\n",
    "                                           residueName=self.resn,\n",
    "                                           residueNumber=1, chainId=self.chain)\n",
    "            atom.SetPDBResidueInfo(info)\n",
    "\n",
    "    def plonk(self, mol):\n",
    "        \"\"\"\n",
    "        Temporarily here. Do not copy.\n",
    "        There likely is a way to do this in OBabel\n",
    "        This is using Fragmenstein ``MinimalPDBParser``.\n",
    "\n",
    "        :param mol:\n",
    "        :return:\n",
    "        \"\"\"\n",
    "        pdbdata = MinimalPDBParser(self.pdb_block, remove_other_hetatms=True, ligname=self.resn)\n",
    "        self.assign_pdb(mol)\n",
    "        moldata = MinimalPDBParser(Chem.MolToPDBBlock(mol))\n",
    "        pdbdata.append(moldata)\n",
    "        return str(pdbdata)\n",
    "\n",
    "    @singledispatchmethod\n",
    "    def get_interaction_set(self) -> PLInteraction:\n",
    "        \"\"\"\n",
    "        Overloaded method: block or mol return the iternaction set\n",
    "        :return:\n",
    "        \"\"\"\n",
    "        raise NotImplementedError\n",
    "\n",
    "    @get_interaction_set.register\n",
    "    def _(self, block: str) -> PLInteraction:\n",
    "        holo = PDBComplex()\n",
    "        holo.load_pdb(block, as_string=True)\n",
    "        holo.analyze()\n",
    "        return holo.interaction_sets[':'.join([self.resn, self.chain, str(1)])]\n",
    "\n",
    "    @get_interaction_set.register\n",
    "    def _(self, mol: Chem.Mol) -> PLInteraction:\n",
    "        if mol.GetNumAtoms() == 0:\n",
    "            raise ValueError('Molecule has no atoms')\n",
    "        holo = PDBComplex()\n",
    "        holo.load_pdb(self.plonk(mol), as_string=True)\n",
    "        holo.analyze()\n",
    "        return holo.interaction_sets[':'.join([self.resn, self.chain, str(1)])]\n",
    "\n",
    "    def get_atomname(self, atom: Union[Atom, ob.OBAtom]) -> str:\n",
    "        \"\"\"\n",
    "        Given an atom, return its name.\n",
    "        \"\"\"\n",
    "        if isinstance(atom, Atom):\n",
    "            res: ob.OBResidue = atom.residue.OBResidue\n",
    "            obatom = atom.OBAtom\n",
    "        elif isinstance(atom, ob.OBAtom):\n",
    "            obatom: ob.OBAtom = atom\n",
    "            res: ob.OBResidue = obatom.GetResidue()\n",
    "        else:\n",
    "            raise TypeError\n",
    "        return res.GetAtomID(obatom)\n",
    "\n",
    "    def get_atom_by_atomname(self, residue: Union[ob.OBResidue, Residue], atomname: str) -> ob.OBAtom:\n",
    "        \"\"\"\n",
    "        Get an atom by its name in a residue.\n",
    "        \"\"\"\n",
    "        if isinstance(residue, Residue):\n",
    "            residue = residue.OBResidue\n",
    "        obatom: ob.OBAtom\n",
    "        for obatom in ob.OBResidueAtomIter(residue):\n",
    "            if residue.GetAtomID(obatom).strip() == atomname:\n",
    "                return obatom\n",
    "        else:\n",
    "            raise ValueError(f'No atom with name {atomname} in residue {residue.GetName()}')\n",
    "\n",
    "    def get_interaction_counts(self, interaction_set: PLInteraction) -> Dict[Tuple[str, str, int], int]:\n",
    "        \"\"\"\n",
    "        Count the number of interactions of each type for each residue\n",
    "        \"\"\"\n",
    "        intxns: List = interaction_set.all_itypes\n",
    "        intxn_dex = defaultdict(int)\n",
    "        for intxn in intxns:\n",
    "            key = (intxn.__class__.__name__, intxn.restype, intxn.resnr)\n",
    "            intxn_dex[key] += 1\n",
    "        return dict(sorted(intxn_dex.items(), key=lambda kv: kv[0][2]))"
   ]
  },
  {
   "cell_type": "code",
   "execution_count": 13,
   "id": "74933d14-9a82-49da-8e4f-d448d189eb9b",
   "metadata": {},
   "outputs": [],
   "source": [
    "## Import hits\n",
    "\n",
    "from rdkit import Chem\n",
    "\n",
    "with Chem.SDMolSupplier('hits.filtered.sdf') as sds:\n",
    "    hits = list(sds)\n",
    "    \n",
    "hit_names = [hit.GetProp('_Name') for hit in hits]\n",
    "hit_smileses = [Chem.MolToSmiles(hit) for hit in hits]\n",
    "hitdex = dict(zip(hit_names, hits))"
   ]
  },
  {
   "cell_type": "code",
   "execution_count": 50,
   "id": "a1780997-4d81-43d1-a83f-e67c33d33d7c",
   "metadata": {},
   "outputs": [],
   "source": [
    "import pandas as pd\n",
    "import pandera.typing as pdt\n",
    "\n",
    "hit_table = pd.DataFrame({'mol': hitdex})\n",
    "\n",
    "with open('reference.pdb') as fh:\n",
    "    pdbblock = fh.read()\n",
    "\n",
    "#intxndexes: pdt.Series[Dict[Tuple[str, str, int], int]] = hit_table.mol.apply(SerialPLIPper(pdbblock))\n",
    "# columns will still be a tuple...:\n",
    "intxn_df = pd.DataFrame(intxndexes.to_list()).fillna(0).astype(int)\n",
    "intxn_df.index = hit_table.index\n",
    "hit_table['N_interactions'] = intxn_df.sum(axis='columns')\n",
    "for c in sorted(intxn_df.columns, key=lambda kv: kv[2]):\n",
    "    # columns will be a colon-separated string:\n",
    "    hit_table[':'.join(map(str, c))] = intxn_df[c]"
   ]
  },
  {
   "cell_type": "code",
   "execution_count": 52,
   "id": "58ca1bad-4d51-49d3-8f47-a75bc0f988a8",
   "metadata": {},
   "outputs": [],
   "source": [
    "del hit_table['mol']\n",
    "hit_table.to_csv('hit-intxns.csv')"
   ]
  },
  {
   "cell_type": "code",
   "execution_count": 53,
   "id": "e6287170-aee7-497a-9879-4b712da44379",
   "metadata": {},
   "outputs": [
    {
     "data": {
      "text/plain": [
       "<function rdkit.Chem.rdMolAlign.GetBestRMS>"
      ]
     },
     "execution_count": 53,
     "metadata": {},
     "output_type": "execute_result"
    }
   ],
   "source": [
    "# Bond order is obtained via OBMol.PerceiveBondOrders()"
   ]
  },
  {
   "cell_type": "code",
   "execution_count": 56,
   "id": "57acb927-d53f-4cf4-9ac4-76f811f8a69c",
   "metadata": {},
   "outputs": [
    {
     "data": {
      "text/plain": [
       "N_interactions                 1\n",
       "hbond:LYS:22                   0\n",
       "hbond:GLU:24                   0\n",
       "hbond:HIS:40                   0\n",
       "hydroph_interaction:HIS:40     0\n",
       "pistack:HIS:40                 0\n",
       "hbond:ASN:69                   0\n",
       "hbond:GLU:71                   0\n",
       "saltbridge:GLU:71              0\n",
       "hydroph_interaction:LYS:108    0\n",
       "saltbridge:LYS:108             0\n",
       "hydroph_interaction:LEU:127    0\n",
       "hbond:GLY:128                  0\n",
       "hbond:THR:130                  0\n",
       "hydroph_interaction:THR:130    0\n",
       "hbond:THR:142                  1\n",
       "hydroph_interaction:ALA:144    0\n",
       "hbond:ALA:144                  0\n",
       "hbond:GLY:145                  0\n",
       "halogenbond:CYS:147            0\n",
       "hbond:CYS:147                  0\n",
       "hbond:HIS:161                  0\n",
       "hbond:VAL:162                  0\n",
       "hbond:GLY:164                  0\n",
       "hbond:ASN:165                  0\n",
       "hbond:GLY:166                  0\n",
       "Name: x1594_0A§1, dtype: int64"
      ]
     },
     "execution_count": 56,
     "metadata": {},
     "output_type": "execute_result"
    }
   ],
   "source": [
    "hit_table.loc['x1594_0A§1']"
   ]
  },
  {
   "cell_type": "code",
   "execution_count": null,
   "id": "96240b1a-a761-47d8-b575-ae5d44e0732d",
   "metadata": {},
   "outputs": [],
   "source": [
    "HIS161 THR142"
   ]
  },
  {
   "cell_type": "code",
   "execution_count": 71,
   "id": "a55487d8-0ab4-4cfa-8763-631c4d5c021a",
   "metadata": {},
   "outputs": [
    {
     "data": {
      "image/png": "[encoded data removed]",
      "text/plain": [
       "<rdkit.Chem.rdchem.Mol at 0x282f1c430>"
      ]
     },
     "execution_count": 71,
     "metadata": {},
     "output_type": "execute_result"
    }
   ],
   "source": [
    "Chem.MolFromSmarts('CC(=O)CCC(=O)[N,C]3CC[N,C](a2aa(Ca1a[aH1][s,n,o;H0][s,n,o;H0]1)aa2)CC3')"
   ]
  },
  {
   "cell_type": "code",
   "execution_count": null,
   "id": "c78b6d14-e24f-41d0-b346-0a8e1c01e7aa",
   "metadata": {},
   "outputs": [],
   "source": []
  }
 ],
 "metadata": {
  "kernelspec": {
   "display_name": "Python [conda env:py310]",
   "language": "python",
   "name": "conda-env-py310-py"
  },
  "language_info": {
   "codemirror_mode": {
    "name": "ipython",
    "version": 3
   },
   "file_extension": ".py",
   "mimetype": "text/x-python",
   "name": "python",
   "nbconvert_exporter": "python",
   "pygments_lexer": "ipython3",
   "version": "3.10.10"
  }
 },
 "nbformat": 4,
 "nbformat_minor": 5
}
