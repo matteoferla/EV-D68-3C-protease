{
 "cells": [
  {
   "cell_type": "code",
   "execution_count": 1,
   "metadata": {
    "ExecuteTime": {
     "end_time": "2023-06-07T16:38:14.493829Z",
     "start_time": "2023-06-07T16:38:14.488410Z"
    },
    "collapsed": false,
    "jupyter": {
     "outputs_hidden": false
    }
   },
   "outputs": [],
   "source": [
    "import os\n",
    "from pathlib import Path\n",
    "root = Path('/Users/user/Coding/EV-D68-3C-protease/')\n",
    "os.chdir(root)"
   ]
  },
  {
   "cell_type": "code",
   "execution_count": 2,
   "metadata": {
    "ExecuteTime": {
     "end_time": "2023-06-07T17:28:24.442090Z",
     "start_time": "2023-06-07T17:28:24.436125Z"
    },
    "tags": []
   },
   "outputs": [],
   "source": [
    "import pandas as pd\n",
    "import requests\n",
    "from typing import List, Union\n",
    "from rdkit import Chem\n",
    "from rdkit.Chem import AllChem\n",
    "\n",
    "options = []\n",
    "\n",
    "class RowGetter:\n",
    "    \"\"\"\n",
    "    Given a pandas table with a column w/ a molecule,\n",
    "    find the _first_ match of a given molecule.\n",
    "\n",
    "    This is not inchi based, which may be silly\n",
    "    Furthermore, what if a molecules is from different libraries?\n",
    "\n",
    "    .. codeblock::python\n",
    "        library_collection = pd.read_csv('../XChem-targets/combined_libraries.csv', index_col=0)\n",
    "        PandasTools.AddMoleculeColumnToFrame(library_collection, 'SMILES', 'molecule', True)\n",
    "        RowGetter(library_collection, 'molecule').get_matching_hits(mols)\n",
    "    \"\"\"\n",
    "    def __init__(self, df: pd.DataFrame, mol_col: str):\n",
    "        self.df = df\n",
    "        self.mol_col = mol_col\n",
    "        self.df['disordered'] = self.df[self.mol_col].apply(self.disorder)\n",
    "\n",
    "    def disorder(self, mol: Chem.Mol) -> Chem.Mol:\n",
    "        \"\"\"\n",
    "        As in, lacks bond order\n",
    "        \"\"\"\n",
    "        disorded = Chem.Mol(mol)\n",
    "        for bond in disorded.GetBonds():\n",
    "            bond.SetBondType(Chem.BondType.SINGLE)\n",
    "        return disorded\n",
    "\n",
    "\n",
    "    def __call__(self, hit: Chem.Mol) -> Union[None, pd.Series]:\n",
    "        hit = AllChem.RemoveAllHs(hit)\n",
    "        m = (self.df[self.mol_col].apply(lambda m: hit.GetNumHeavyAtoms() == m.GetNumHeavyAtoms())) & (self.df[self.mol_col] >= hit)\n",
    "        if sum(m) == 0:\n",
    "            m = (self.df[self.mol_col].apply(lambda m: hit.GetNumHeavyAtoms() == m.GetNumHeavyAtoms())) & (self.df.disordered >= hit)\n",
    "        if sum(m) == 0:\n",
    "            return None\n",
    "        elif sum(m) == 1:\n",
    "            return self.df.loc[m].reset_index().iloc[0]\n",
    "        else:\n",
    "            matches = self.df[m].reset_index()\n",
    "            return pd.Series(dict(Id='Ambigous:' + '|'.join(set(matches.Id.to_list())),\n",
    "                        SMILES=matches.iloc[0].SMILES,\n",
    "                        molecule=matches.iloc[0].molecule,\n",
    "                        library='Ambigous:' + '|'.join(set(matches.library.to_list())),\n",
    "                        Name=matches.iloc[0].Name,\n",
    "                        ))\n",
    "\n",
    "    def get_matching_hits(self, hits: List[Chem.Mol]) -> pd.DataFrame:\n",
    "        rows = []\n",
    "        for hit in hits:\n",
    "            row = self(hit)\n",
    "            if row is None:\n",
    "                rows.append(pd.Series({'3D_molecule': hit, 'in_library': False, 'query': hit, 'library': 'Unknown'}))\n",
    "            else:\n",
    "                row['query'] = hit\n",
    "                row['3D_molecule'] = hit\n",
    "                row['in_library'] = True\n",
    "                rows.append(row)\n",
    "        return pd.DataFrame(rows)\n",
    "\n",
    "    @classmethod\n",
    "    def smiles_to_iupac(cls, smiles: str, raise_error:bool=True) -> str:\n",
    "        \"\"\"\n",
    "        Given a SMILES, get the IUPAC name from NIH Cactus server\n",
    "        \"\"\"\n",
    "        rep = \"iupac_name\"\n",
    "        CACTUS = \"https://cactus.nci.nih.gov/chemical/structure/{0}/{1}\"\n",
    "        url = CACTUS.format(smiles, rep)\n",
    "        response = requests.get(url)\n",
    "        if response.ok:\n",
    "            return response.text\n",
    "        elif raise_error:\n",
    "            response.raise_for_status()\n",
    "        else:\n",
    "            return ''"
   ]
  },
  {
   "cell_type": "code",
   "execution_count": 3,
   "metadata": {
    "ExecuteTime": {
     "end_time": "2023-06-07T17:28:25.164726Z",
     "start_time": "2023-06-07T17:28:25.162305Z"
    },
    "collapsed": false,
    "jupyter": {
     "outputs_hidden": false
    }
   },
   "outputs": [],
   "source": [
    "with Chem.SDMolSupplier('hits.sdf') as sds:\n",
    "    hits = list(sds)"
   ]
  },
  {
   "cell_type": "code",
   "execution_count": 4,
   "metadata": {
    "ExecuteTime": {
     "end_time": "2023-06-07T17:28:28.179020Z",
     "start_time": "2023-06-07T17:28:25.554123Z"
    },
    "collapsed": false,
    "jupyter": {
     "outputs_hidden": false
    }
   },
   "outputs": [],
   "source": [
    "from rdkit.Chem import PandasTools\n",
    "\n",
    "library_collection = pd.read_csv('02_hit-prep/combined_libraries.csv', index_col=0)\n",
    "PandasTools.AddMoleculeColumnToFrame(library_collection, 'SMILES', 'molecule', True)\n",
    "library_collection['_lib_rank'] = library_collection.library.map(dict(DSiPoised=0, FragLite=1, Euopen=2, PepLite=3, CovHetFrags=4, SpotXplorer=5, York3D=6, Leed3D=7, Cambridge3D=8))\n",
    "library_collection.sort_values(by='_lib_rank', inplace=True)\n",
    "library_collection['SMILES'] = library_collection.SMILES.apply(lambda smiles: sorted(smiles.split('.'), key=len)[-1])"
   ]
  },
  {
   "cell_type": "code",
   "execution_count": null,
   "metadata": {},
   "outputs": [],
   "source": [
    "matches: pd.DataFrame = RowGetter(library_collection, 'molecule').get_matching_hits(hits).reset_index(drop=True)\n",
    "matches['query'] = hits"
   ]
  },
  {
   "cell_type": "code",
   "execution_count": 127,
   "metadata": {
    "ExecuteTime": {
     "end_time": "2023-06-07T17:28:28.184197Z",
     "start_time": "2023-06-07T17:28:28.180242Z"
    },
    "collapsed": false,
    "jupyter": {
     "outputs_hidden": false
    }
   },
   "outputs": [
    {
     "data": {
      "text/plain": [
       "library\n",
       "DSiPoised                    51\n",
       "Unknown                      20\n",
       "Ambigous:Leed3D|DSiPoised    12\n",
       "SpotXplorer                   8\n",
       "Euopen                        4\n",
       "CovHetFrags                   4\n",
       "York3D                        3\n",
       "PepLite                       1\n",
       "FragLite                      1\n",
       "Name: count, dtype: int64"
      ]
     },
     "execution_count": 127,
     "metadata": {},
     "output_type": "execute_result"
    }
   ],
   "source": [
    "matches.library.value_counts()"
   ]
  },
  {
   "cell_type": "code",
   "execution_count": null,
   "metadata": {
    "collapsed": false,
    "jupyter": {
     "outputs_hidden": false
    }
   },
   "outputs": [],
   "source": [
    "## JUNK"
   ]
  },
  {
   "cell_type": "code",
   "execution_count": null,
   "metadata": {
    "ExecuteTime": {
     "end_time": "2023-06-07T17:00:15.916581Z",
     "start_time": "2023-06-07T17:00:15.884519Z"
    },
    "collapsed": false,
    "jupyter": {
     "outputs_hidden": false
    }
   },
   "outputs": [],
   "source": [
    "# missing bond order\n",
    "\n",
    "def fix(row):\n",
    "    if not row.in_library:\n",
    "        return None\n",
    "    mol = AllChem.AssignBondOrdersFromTemplate(Chem.MolFromSmiles(row.SMILES), row['3D_molecule'])\n",
    "    name = str(row['Name']) if isinstance(row['Name'], str) and '<!DOCTYPE' not in str(row['Name']) else 'unknown'\n",
    "    mol.SetProp('name', name)\n",
    "    for key in ('Id','SMILES', 'library'):\n",
    "        mol.SetProp(key, row[key])\n",
    "    return mol\n",
    "\n",
    "mols = matches.apply(fix, axis=1).to_list()"
   ]
  },
  {
   "cell_type": "code",
   "execution_count": 70,
   "metadata": {
    "ExecuteTime": {
     "end_time": "2023-06-07T17:00:56.542455Z",
     "start_time": "2023-06-07T17:00:56.537347Z"
    },
    "collapsed": false,
    "jupyter": {
     "outputs_hidden": false
    }
   },
   "outputs": [
    {
     "data": {
      "image/png": "[encoded data removed]",
      "text/plain": [
       "<rdkit.Chem.rdchem.Mol at 0x14a3de340>"
      ]
     },
     "execution_count": 70,
     "metadata": {},
     "output_type": "execute_result"
    }
   ],
   "source": [
    "options[0][1].molecule[4]"
   ]
  },
  {
   "cell_type": "code",
   "execution_count": 38,
   "metadata": {
    "ExecuteTime": {
     "end_time": "2023-06-07T16:50:11.267289Z",
     "start_time": "2023-06-07T16:50:11.260829Z"
    },
    "collapsed": false,
    "jupyter": {
     "outputs_hidden": false
    }
   },
   "outputs": [
    {
     "data": {
      "image/png": "[encoded data removed]",
      "text/html": [
       "<table><tr><td colspan=\"2\" style=\"text-align: center;\"><image src=\"data:image/png;base64,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\"></td></tr>\n",
       "<tr><th style=\"text-align: right\">XChem_code</th><td style=\"text-align: left\">D68EV3CPROA-x1532</td></tr>\n",
       "<tr><th style=\"text-align: right\">Occupancy</th><td style=\"text-align: left\">[0.82, 0.82, 0.82, 0.82, 0.82, 0.82]</td></tr>\n",
       "<tr><th style=\"text-align: right\">TempFactor</th><td style=\"text-align: left\">[32.43, 33.34, 31.86, 33.32, 32.87, 33.44]</td></tr>\n",
       "<tr><th style=\"text-align: right\">RealCrystalName</th><td style=\"text-align: left\">D68EV3CPROA-x1532</td></tr>\n",
       "<tr><th style=\"text-align: right\">smiles</th><td style=\"text-align: left\">NC=1C=CNN1</td></tr>\n",
       "<tr><th style=\"text-align: right\">new_smiles</th><td style=\"text-align: left\">NC=1C=CNN1</td></tr>\n",
       "<tr><th style=\"text-align: right\">alternate_name</th><td style=\"text-align: left\">Z241119328</td></tr>\n",
       "<tr><th style=\"text-align: right\">site_name</th><td style=\"text-align: left\">2</td></tr>\n",
       "<tr><th style=\"text-align: right\">pdb_entry</th><td style=\"text-align: left\">nan</td></tr>\n",
       "<tr><th style=\"text-align: right\">mol</th><td style=\"text-align: left\">&lt;rdkit.Chem.rdchem.Mol object at 0x13a26d380&gt;</td></tr>\n",
       "<tr><td colspan=\"2\" style=\"text-align: center\">Property list truncated.<br />Increase IPythonConsole.ipython_maxProperties (or set it to -1) to see more properties.</td></tr></table>"
      ],
      "text/plain": [
       "<rdkit.Chem.rdchem.Mol at 0x14e8c9f50>"
      ]
     },
     "execution_count": 38,
     "metadata": {},
     "output_type": "execute_result"
    }
   ],
   "source": [
    "matches.iloc[5]['3D_molecule']"
   ]
  },
  {
   "cell_type": "code",
   "execution_count": 25,
   "metadata": {
    "ExecuteTime": {
     "end_time": "2023-06-07T16:45:55.244186Z",
     "start_time": "2023-06-07T16:45:55.163426Z"
    },
    "collapsed": false,
    "jupyter": {
     "outputs_hidden": false
    }
   },
   "outputs": [],
   "source": [
    "import clipboard\n",
    "\n",
    "clipboard.copy(' '.join(set(library_collection.library.to_list())))"
   ]
  },
  {
   "cell_type": "code",
   "execution_count": 7,
   "metadata": {},
   "outputs": [
    {
     "data": {
      "image/png": "[encoded data removed]",
      "text/plain": [
       "<rdkit.Chem.rdchem.Mol at 0x1669bd620>"
      ]
     },
     "execution_count": 7,
     "metadata": {},
     "output_type": "execute_result"
    }
   ],
   "source": [
    "Chem.MolFromSmiles('C~N~C(=O)')"
   ]
  },
  {
   "cell_type": "code",
   "execution_count": 11,
   "metadata": {},
   "outputs": [
    {
     "data": {
      "image/png": "[encoded data removed]",
      "text/plain": [
       "<rdkit.Chem.rdchem.Mol at 0x166627300>"
      ]
     },
     "execution_count": 11,
     "metadata": {},
     "output_type": "execute_result"
    }
   ],
   "source": [
    "Chem.MolFromSmarts('C:N:C(=O)')"
   ]
  },
  {
   "cell_type": "code",
   "execution_count": 16,
   "metadata": {},
   "outputs": [
    {
     "name": "stderr",
     "output_type": "stream",
     "text": [
      "ReadProperties: value line ignored\n",
      "ReadProperties: buffer = 'V    1 c'\n",
      "ReadProperties: value line ignored\n",
      "ReadProperties: buffer = 'V    2 n'\n",
      "ReadProperties: value line ignored\n",
      "ReadProperties: buffer = 'V    3 c'\n",
      "ReadProperties: value line ignored\n",
      "ReadProperties: buffer = 'V    4 O'\n"
     ]
    },
    {
     "data": {
      "text/plain": [
       "508    <rdkit.Chem.rdchem.Mol object at 0x165c786d0>\n",
       "824    <rdkit.Chem.rdchem.Mol object at 0x165c91d90>\n",
       "816    <rdkit.Chem.rdchem.Mol object at 0x165c91690>\n",
       "669    <rdkit.Chem.rdchem.Mol object at 0x165c814d0>\n",
       "145    <rdkit.Chem.rdchem.Mol object at 0x165c54660>\n",
       "15     <rdkit.Chem.rdchem.Mol object at 0x165c45380>\n",
       "329    <rdkit.Chem.rdchem.Mol object at 0x165c62880>\n",
       "289    <rdkit.Chem.rdchem.Mol object at 0x165c60580>\n",
       "366    <rdkit.Chem.rdchem.Mol object at 0x165c68970>\n",
       "209    <rdkit.Chem.rdchem.Mol object at 0x165c57e60>\n",
       "6      <rdkit.Chem.rdchem.Mol object at 0x165f26260>\n",
       "5      <rdkit.Chem.rdchem.Mol object at 0x165f26180>\n",
       "27     <rdkit.Chem.rdchem.Mol object at 0x165f274c0>\n",
       "28     <rdkit.Chem.rdchem.Mol object at 0x165f275a0>\n",
       "29     <rdkit.Chem.rdchem.Mol object at 0x165f27680>\n",
       "591    <rdkit.Chem.rdchem.Mol object at 0x165ccf7d0>\n",
       "705    <rdkit.Chem.rdchem.Mol object at 0x165cd5cb0>\n",
       "658    <rdkit.Chem.rdchem.Mol object at 0x165cd3300>\n",
       "664    <rdkit.Chem.rdchem.Mol object at 0x165cd3840>\n",
       "491    <rdkit.Chem.rdchem.Mol object at 0x165cc5fc0>\n",
       "539    <rdkit.Chem.rdchem.Mol object at 0x165ccca50>\n",
       "708    <rdkit.Chem.rdchem.Mol object at 0x165cd5f50>\n",
       "710    <rdkit.Chem.rdchem.Mol object at 0x165cd6110>\n",
       "890    <rdkit.Chem.rdchem.Mol object at 0x165f00040>\n",
       "903    <rdkit.Chem.rdchem.Mol object at 0x165f00ba0>\n",
       "959    <rdkit.Chem.rdchem.Mol object at 0x165f03ca0>\n",
       "960    <rdkit.Chem.rdchem.Mol object at 0x165f03d80>\n",
       "966    <rdkit.Chem.rdchem.Mol object at 0x165f04350>\n",
       "921    <rdkit.Chem.rdchem.Mol object at 0x165f01b60>\n",
       "712    <rdkit.Chem.rdchem.Mol object at 0x165cd62d0>\n",
       "718    <rdkit.Chem.rdchem.Mol object at 0x165cd6810>\n",
       "811    <rdkit.Chem.rdchem.Mol object at 0x165cdba00>\n",
       "805    <rdkit.Chem.rdchem.Mol object at 0x165cdb4c0>\n",
       "791    <rdkit.Chem.rdchem.Mol object at 0x165cda880>\n",
       "793    <rdkit.Chem.rdchem.Mol object at 0x165cdaa40>\n",
       "806    <rdkit.Chem.rdchem.Mol object at 0x165cdb5a0>\n",
       "141    <rdkit.Chem.rdchem.Mol object at 0x165caaab0>\n",
       "172    <rdkit.Chem.rdchem.Mol object at 0x165cac660>\n",
       "16     <rdkit.Chem.rdchem.Mol object at 0x165c9bc30>\n",
       "22     <rdkit.Chem.rdchem.Mol object at 0x165ca0200>\n",
       "64     <rdkit.Chem.rdchem.Mol object at 0x165ca26c0>\n",
       "77     <rdkit.Chem.rdchem.Mol object at 0x165ca3220>\n",
       "342    <rdkit.Chem.rdchem.Mol object at 0x165cb9c40>\n",
       "424    <rdkit.Chem.rdchem.Mol object at 0x165cbe490>\n",
       "406    <rdkit.Chem.rdchem.Mol object at 0x165cbd4d0>\n",
       "261    <rdkit.Chem.rdchem.Mol object at 0x165cb14d0>\n",
       "271    <rdkit.Chem.rdchem.Mol object at 0x165cb1d90>\n",
       "249    <rdkit.Chem.rdchem.Mol object at 0x165cb0a50>\n",
       "236    <rdkit.Chem.rdchem.Mol object at 0x165cafe60>\n",
       "287    <rdkit.Chem.rdchem.Mol object at 0x165cb2b90>\n",
       "291    <rdkit.Chem.rdchem.Mol object at 0x165cb2f10>\n",
       "152    <rdkit.Chem.rdchem.Mol object at 0x165f28cf0>\n",
       "181    <rdkit.Chem.rdchem.Mol object at 0x165f2a650>\n",
       "221    <rdkit.Chem.rdchem.Mol object at 0x165f309e0>\n",
       "Name: molecule, dtype: object"
      ]
     },
     "execution_count": 16,
     "metadata": {},
     "output_type": "execute_result"
    }
   ],
   "source": [
    "library_collection.loc[library_collection.molecule >= Chem.MolFromSmarts('cnc(=O)')].molecule"
   ]
  },
  {
   "cell_type": "code",
   "execution_count": 1,
   "metadata": {},
   "outputs": [
    {
     "ename": "NameError",
     "evalue": "name 'hits' is not defined",
     "output_type": "error",
     "traceback": [
      "\u001b[0;31m---------------------------------------------------------------------------\u001b[0m",
      "\u001b[0;31mNameError\u001b[0m                                 Traceback (most recent call last)",
      "Cell \u001b[0;32mIn[1], line 1\u001b[0m\n\u001b[0;32m----> 1\u001b[0m \u001b[43mhits\u001b[49m\n",
      "\u001b[0;31mNameError\u001b[0m: name 'hits' is not defined"
     ]
    }
   ],
   "source": [
    "hits"
   ]
  },
  {
   "cell_type": "code",
   "execution_count": null,
   "metadata": {},
   "outputs": [],
   "source": [
    "good = ['x0147_0A_1',\n",
    " 'x0771_1A_1',\n",
    " 'x0789_0A_1',\n",
    " 'x0980_0B_1',\n",
    " 'x1083_0A_1',\n",
    " 'x1247_0A_1',\n",
    " 'x1305_0B_1',\n",
    " 'x1498_1B_1',\n",
    " 'x1594_0A_1',\n",
    " 'x1604_0A_1']"
   ]
  },
  {
   "cell_type": "code",
   "execution_count": null,
   "metadata": {},
   "outputs": [],
   "source": []
  }
 ],
 "metadata": {
  "kernelspec": {
   "display_name": "Python [conda env:py310]",
   "language": "python",
   "name": "conda-env-py310-py"
  },
  "language_info": {
   "codemirror_mode": {
    "name": "ipython",
    "version": 3
   },
   "file_extension": ".py",
   "mimetype": "text/x-python",
   "name": "python",
   "nbconvert_exporter": "python",
   "pygments_lexer": "ipython3",
   "version": "3.10.10"
  }
 },
 "nbformat": 4,
 "nbformat_minor": 4
}
