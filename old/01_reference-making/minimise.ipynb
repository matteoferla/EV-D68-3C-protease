{
 "cells": [
  {
   "cell_type": "code",
   "execution_count": 18,
   "outputs": [],
   "source": [
    "import os\n",
    "from pathlib import Path\n",
    "\n",
    "os.chdir(Path('/Users/user/Coding/EV-D68-3C-protease'))"
   ],
   "metadata": {
    "collapsed": false,
    "ExecuteTime": {
     "start_time": "2023-05-30T15:10:39.560859Z",
     "end_time": "2023-05-30T15:10:39.564628Z"
    }
   }
  },
  {
   "cell_type": "code",
   "execution_count": 19,
   "metadata": {
    "collapsed": true,
    "ExecuteTime": {
     "start_time": "2023-05-30T15:10:41.060849Z",
     "end_time": "2023-05-30T15:10:41.064235Z"
    }
   },
   "outputs": [],
   "source": [
    "from pathlib import Path\n",
    "\n",
    "folder = Path('workshop/D68EV3CPROA')\n",
    "target = folder / Path('aligned/D68EV3CPROA-x0102_0B/D68EV3CPROA-x0102_0B_bound.pdb')\n",
    "assert target.exists()"
   ]
  },
  {
   "cell_type": "code",
   "execution_count": 5,
   "outputs": [],
   "source": [
    "import pyrosetta\n",
    "import pyrosetta_help as ph\n",
    "from types import ModuleType\n",
    "from IPython.display import display, HTML\n",
    "\n",
    "prc: ModuleType = pyrosetta.rosetta.core\n",
    "prp: ModuleType = pyrosetta.rosetta.protocols\n",
    "prcc: ModuleType = pyrosetta.rosetta.core.conformation\n",
    "pr_scoring: ModuleType = pyrosetta.rosetta.core.scoring\n",
    "\n",
    "logger = ph.configure_logger()\n",
    "pyrosetta.distributed.maybe_init(extra_options=ph.make_option_string(no_optH=False,\n",
    "                                                ex1=None,\n",
    "                                                ex2=None,\n",
    "                                                #mute='all',\n",
    "                                                ignore_unrecognized_res=True,\n",
    "                                                load_PDB_components=False,\n",
    "                                                ignore_waters=True)\n",
    "                               )"
   ],
   "metadata": {
    "collapsed": false,
    "ExecuteTime": {
     "start_time": "2023-05-30T15:06:06.741021Z",
     "end_time": "2023-05-30T15:06:06.744511Z"
    }
   }
  },
  {
   "cell_type": "code",
   "execution_count": 8,
   "outputs": [],
   "source": [
    "pyrosetta.rosetta.basic.options.set_boolean_option('run:ignore_zero_occupancy', False)\n",
    "pyrosetta.rosetta.basic.options.set_boolean_option('in:auto_setup_metals', True)\n",
    "pose: pyrosetta.Pose = pyrosetta.pose_from_file(str(target.absolute()))"
   ],
   "metadata": {
    "collapsed": false,
    "ExecuteTime": {
     "start_time": "2023-05-30T15:06:38.433054Z",
     "end_time": "2023-05-30T15:06:39.669924Z"
    }
   }
  },
  {
   "cell_type": "code",
   "execution_count": 14,
   "outputs": [
    {
     "name": "stdout",
     "output_type": "stream",
     "text": [
      "chains map_unsigned_long_char{1: A, 2: B}\n",
      "sequence MGPGFDFAQAIMKKNTVIARTEKGEFTMLGVYDRVAVIPTHASVGEIIYINDVETRVLDACALRDLTDTNLEITIVKLDRNQKFRDIRHFLPRCEDDYNDAVLSVHTSKFPNMYIPVGQVTNYGFLNLGGTPTHRILMYNFPTRAGQCGGVVTTTGKVIGIHVGGNGAQGFAAMLLHSYFTDGPGFDFAQAIMKKNTVIARTEKGEFTMLGVYDRVAVIPTHASVGEIIYINDVETRVLDACALRDLTDTNLEITIVKLDRNQKFRDIRHFLPRCEDDYNDAVLSVHTSKFPNMYIPVGQVTNYGFLNLGGTPTHRILMYNFPTRAGQCGGVVTTTGKVIGIHVGGNGAQGFAAMLLHSYFT\n",
      "Constraints present []\n"
     ]
    }
   ],
   "source": [
    "from collections import Counter\n",
    "\n",
    "con_tally: dict = Counter([type(con).__name__ for con in pose.constraint_set().get_all_constraints()]).most_common()\n",
    "\n",
    "print('chains', prc.pose.conf2pdb_chain(pose))\n",
    "print('sequence', pose.sequence())\n",
    "print('Constraints present', con_tally)"
   ],
   "metadata": {
    "collapsed": false,
    "ExecuteTime": {
     "start_time": "2023-05-30T15:08:35.609246Z",
     "end_time": "2023-05-30T15:08:35.613209Z"
    }
   }
  },
  {
   "cell_type": "code",
   "execution_count": 17,
   "outputs": [],
   "source": [
    "pose: pyrosetta.Pose = pose.split_by_chain(1)"
   ],
   "metadata": {
    "collapsed": false,
    "ExecuteTime": {
     "start_time": "2023-05-30T15:09:44.780207Z",
     "end_time": "2023-05-30T15:09:44.783345Z"
    }
   }
  },
  {
   "cell_type": "code",
   "execution_count": 20,
   "outputs": [
    {
     "data": {
      "text/plain": "True"
     },
     "execution_count": 20,
     "metadata": {},
     "output_type": "execute_result"
    }
   ],
   "source": [
    "scorefxn: pr_scoring.ScoreFunction = pyrosetta.get_fa_scorefxn()\n",
    "scorefxn.set_weight(pr_scoring.ScoreType.coordinate_constraint, 5)\n",
    "scorefxn.set_weight(pr_scoring.ScoreType.angle_constraint, 5)\n",
    "scorefxn.set_weight(pr_scoring.ScoreType.atom_pair_constraint, 5)\n",
    "pyrosetta.rosetta.basic.options.set_boolean_option('relax:constrain_relax_to_start_coords', True)\n",
    "pyrosetta.rosetta.protocols.relax.FastRelax.register_options()\n",
    "relax = pyrosetta.rosetta.protocols.relax.FastRelax(scorefxn, 15)\n",
    "relax.constrain_relax_to_start_coords(True)\n",
    "relax.apply(pose)\n",
    "pose.dump_pdb('reference.pdb')"
   ],
   "metadata": {
    "collapsed": false,
    "ExecuteTime": {
     "start_time": "2023-05-30T15:10:53.521135Z",
     "end_time": "2023-05-30T15:30:24.405135Z"
    }
   }
  },
  {
   "cell_type": "code",
   "execution_count": 52,
   "outputs": [
    {
     "name": "stdout",
     "output_type": "stream",
     "text": [
      "1.0505934285799323\n"
     ]
    },
    {
     "data": {
      "text/plain": "True"
     },
     "execution_count": 52,
     "metadata": {},
     "output_type": "execute_result"
    }
   ],
   "source": [
    "original: pyrosetta.Pose = pyrosetta.pose_from_file(str(target.absolute())).split_by_chain(1)\n",
    "prp.toolbox.CA_superimpose(original, pose)\n",
    "print(prc.simple_metrics.metrics.RMSDMetric(original).calculate(pose))\n",
    "pose.dump_pdb('reference.pdb')"
   ],
   "metadata": {
    "collapsed": false,
    "ExecuteTime": {
     "start_time": "2023-05-30T16:12:38.002241Z",
     "end_time": "2023-05-30T16:12:38.855127Z"
    }
   }
  }
 ],
 "metadata": {
  "kernelspec": {
   "name": "conda-env-py310-py",
   "language": "python",
   "display_name": "Python [conda env:py310]"
  },
  "language_info": {
   "codemirror_mode": {
    "name": "ipython",
    "version": 2
   },
   "file_extension": ".py",
   "mimetype": "text/x-python",
   "name": "python",
   "nbconvert_exporter": "python",
   "pygments_lexer": "ipython2",
   "version": "2.7.6"
  }
 },
 "nbformat": 4,
 "nbformat_minor": 0
}
