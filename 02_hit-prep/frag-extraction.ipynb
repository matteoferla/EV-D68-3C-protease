{
 "cells": [
  {
   "cell_type": "markdown",
   "id": "0944798d-b052-452e-ad0f-0d1b9d27296c",
   "metadata": {},
   "source": [
    "> Code run locally due to server at 3.11 which is not supported by PyMOL\n",
    "\n"
   ]
  },
  {
   "cell_type": "code",
   "execution_count": 14,
   "outputs": [],
   "source": [
    "import os\n",
    "from pathlib import Path\n",
    "root = Path('/Users/user/Coding/EV-D68-3C-protease/')\n",
    "os.chdir(root)"
   ],
   "metadata": {
    "collapsed": false,
    "ExecuteTime": {
     "start_time": "2023-05-31T11:37:27.284695Z",
     "end_time": "2023-05-31T11:37:27.305365Z"
    }
   }
  },
  {
   "cell_type": "code",
   "execution_count": 15,
   "outputs": [
    {
     "data": {
      "text/plain": "crystal_name                                D68EV3CPROA-x0102_0B\nRealCrystalName                                D68EV3CPROA-x0102\nsmiles                                            Cc1ccsc1C(=O)O\nnew_smiles                                        Cc1ccsc1C(=O)O\nalternate_name                                        Z104474228\nsite_name                                                      5\npdb_entry                                                    NaN\nmol                <rdkit.Chem.rdchem.Mol object at 0x163d2c200>\nsingle_smiles                                     Cc1ccsc1C(=O)O\nName: 0, dtype: object"
     },
     "execution_count": 15,
     "metadata": {},
     "output_type": "execute_result"
    }
   ],
   "source": [
    "from rdkit import Chem\n",
    "from rdkit.Chem import PandasTools\n",
    "from rdkit.Chem.MolStandardize.rdMolStandardize import LargestFragmentChooser\n",
    "import pandas as pd\n",
    "import ipywidgets as wd\n",
    "\n",
    "\n",
    "metadata: pd.DataFrame = pd.read_csv('metadata-from-Fragalysis.csv',\n",
    "                                     index_col=0)\n",
    "\n",
    "\n",
    "\n",
    "\n",
    "PandasTools.AddMoleculeColumnToFrame(metadata, smilesCol='new_smiles', molCol='mol')\n",
    "out = wd.Output()\n",
    "with out:  # suppress output the crappy way\n",
    "    metadata['single_smiles'] = metadata.mol.apply(LargestFragmentChooser(preferOrganic=True).choose).apply(Chem.MolToSmiles)\n",
    "\n",
    "metadata.iloc[0]"
   ],
   "metadata": {
    "collapsed": false,
    "ExecuteTime": {
     "start_time": "2023-05-31T11:37:28.017463Z",
     "end_time": "2023-05-31T11:37:28.049342Z"
    }
   }
  },
  {
   "cell_type": "code",
   "execution_count": 16,
   "id": "d61ebad3-890b-4991-8a06-522def5c874d",
   "metadata": {
    "ExecuteTime": {
     "start_time": "2023-05-31T11:37:30.077082Z",
     "end_time": "2023-05-31T11:37:30.084375Z"
    }
   },
   "outputs": [
    {
     "data": {
      "text/plain": "RealCrystalName                                D68EV3CPROA-x0102\nsmiles                                            Cc1ccsc1C(=O)O\nnew_smiles                                        Cc1ccsc1C(=O)O\nalternate_name                                        Z104474228\nsite_name                                                      5\npdb_entry                                                    NaN\nmol                <rdkit.Chem.rdchem.Mol object at 0x163d2c200>\nsingle_smiles                                     Cc1ccsc1C(=O)O\nName: D68EV3CPROA-x0102_0B, dtype: object"
     },
     "execution_count": 16,
     "metadata": {},
     "output_type": "execute_result"
    }
   ],
   "source": [
    "metadata.set_index('crystal_name').loc['D68EV3CPROA-x0102_0B']"
   ]
  },
  {
   "cell_type": "code",
   "execution_count": 17,
   "outputs": [
    {
     "name": "stdout",
     "output_type": "stream",
     "text": [
      "done\n"
     ]
    }
   ],
   "source": [
    "# NB. This is the Fragalysis download data\n",
    "# this is for an asymmetric dimer but biological monomer\n",
    "\n",
    "import pymol2\n",
    "import chempy # from pymol installation\n",
    "from pathlib import Path\n",
    "from typing import List, Set, Dict, Tuple\n",
    "import json\n",
    "\n",
    "# ASSUMPTIONS: the PDBs have CONECT records. If not, use connect_mode = 1\n",
    "# Fragalysis data is fine.\n",
    "connect_mode = 0 # https://pymolwiki.org/index.php/Connect_mode\n",
    "\n",
    "# data folder from Fragalysis download\n",
    "folder = Path('workshop/D68EV3CPROA')\n",
    "assert folder.exists()\n",
    "fluff_marker = '§'  # name + fluff + index, say MPRO-x0102_0B§1\n",
    "reference_chain = 'A'\n",
    "skip_chains = []  # this is not the target protein, but a partner\n",
    "lig_resn = 'LIG'\n",
    "\n",
    "pdb_blocks: Dict[str, str] = {}\n",
    "details: Dict[str, dict] = {}\n",
    "for holo in (folder / Path('aligned')).glob('*/*.pdb'):\n",
    "    #print(holo)\n",
    "    with pymol2.PyMOL() as pymol:\n",
    "        pymol.cmd.set('connect_mode',connect_mode)\n",
    "        pymol.cmd.load('reference.pdb', 'ref')\n",
    "        pymol_name = 'holo'\n",
    "        pymol.cmd.load(str(holo.absolute()), pymol_name)\n",
    "        # get info\n",
    "        xstal_name: str = holo.name.rstrip('.pdb').rstrip('_bound').strip()\n",
    "        xstal_info: pd.Series = metadata.set_index('crystal_name').loc[xstal_name]\n",
    "        # ## Determine what is unique ligand residue\n",
    "        # get atoms of ligand\n",
    "        lig_atoms: List[chempy.Atom] = pymol.cmd.get_model(f'%{pymol_name} and resn {lig_resn}').atom\n",
    "        # get set of tuple of resi chain segi alt\n",
    "        selectors: Set[tuple] = {(atom.resi, atom.chain, atom.segi, atom.alt) for atom in lig_atoms}\n",
    "        # iterate for all unique\n",
    "        i = 0\n",
    "        for resi, chain, segi, alt in selectors:\n",
    "            sele = f'%{pymol_name} and resn {lig_resn} and resi {resi}'\n",
    "            if chain:\n",
    "                sele+= f' and chain {chain}'\n",
    "            if segi:\n",
    "                sele+= f' and segi {segi}'\n",
    "            if alt:\n",
    "                sele+= f' and alt {alt}'\n",
    "            # figure out if it's in the wrong chain (asymmetric dimer)\n",
    "            n_neigh = pymol.cmd.select('neighs', f'%{pymol_name} and polymer.protein and (byres {sele} around 3)')\n",
    "            if not n_neigh:\n",
    "                continue\n",
    "            polymer_chains = pymol.cmd.get_chains('neighs')\n",
    "            for polymer_chain in polymer_chains:\n",
    "                if polymer_chain in skip_chains:\n",
    "                    continue\n",
    "                i += 1\n",
    "                neoname = f'{xstal_name}{fluff_marker}{i}'\n",
    "                pymol.cmd.align(f'%{pymol_name} and polymer.protein and chain {polymer_chain}',\n",
    "                                 f'%ref and polymer.protein and chain {reference_chain}')\n",
    "                pymol.cmd.create('copied', sele)\n",
    "                pymol.cmd.alter('%copied', 'alt=\"\"')\n",
    "                pymol.cmd.alter('%copied', 'segi=\"\"')\n",
    "                pymol.cmd.alter('%copied', 'chain=\"X\"')\n",
    "                pymol.cmd.alter('%copied', 'resi=\"1\"')\n",
    "                pymol.cmd.sort()\n",
    "                pdb_blocks[neoname] = pymol.cmd.get_pdbstr('%copied')\n",
    "                pymol.cmd.delete('copied')\n",
    "                details[neoname] = {**xstal_info.to_dict(),\n",
    "                                    **dict(base_name=xstal_name,\n",
    "                                        lig_resn=lig_resn,\n",
    "                                         lig_resi=resi,\n",
    "                                         lig_chain=chain,\n",
    "                                         lig_segi=segi,\n",
    "                                         lig_alt=alt,\n",
    "                                         polymer_chain=polymer_chain,)\n",
    "                                    }\n",
    "            #pymol.cmd.create('modded', sele)\n",
    "            #print(i, sele, n_neigh)\n",
    "\n",
    "print('done')"
   ],
   "metadata": {
    "collapsed": false,
    "ExecuteTime": {
     "start_time": "2023-05-31T11:37:37.091538Z",
     "end_time": "2023-05-31T11:37:42.611198Z"
    }
   }
  },
  {
   "cell_type": "code",
   "execution_count": 1,
   "outputs": [
    {
     "ename": "NameError",
     "evalue": "name 'pdb_blocks' is not defined",
     "output_type": "error",
     "traceback": [
      "\u001B[0;31m---------------------------------------------------------------------------\u001B[0m",
      "\u001B[0;31mNameError\u001B[0m                                 Traceback (most recent call last)",
      "Cell \u001B[0;32mIn[1], line 10\u001B[0m\n\u001B[1;32m      8\u001B[0m mols \u001B[38;5;241m=\u001B[39m []\n\u001B[1;32m      9\u001B[0m baddies \u001B[38;5;241m=\u001B[39m []\n\u001B[0;32m---> 10\u001B[0m \u001B[38;5;28;01mfor\u001B[39;00m name, block \u001B[38;5;129;01min\u001B[39;00m \u001B[43mpdb_blocks\u001B[49m\u001B[38;5;241m.\u001B[39mitems():\n\u001B[1;32m     11\u001B[0m     detail: \u001B[38;5;28mdict\u001B[39m \u001B[38;5;241m=\u001B[39m details[name]\n\u001B[1;32m     12\u001B[0m     mol \u001B[38;5;241m=\u001B[39m Chem\u001B[38;5;241m.\u001B[39mMolFromPDBBlock(block, proximityBonding\u001B[38;5;241m=\u001B[39m\u001B[38;5;124m'\u001B[39m\u001B[38;5;124mCONECT\u001B[39m\u001B[38;5;124m'\u001B[39m \u001B[38;5;129;01mnot\u001B[39;00m \u001B[38;5;129;01min\u001B[39;00m block)\n",
      "\u001B[0;31mNameError\u001B[0m: name 'pdb_blocks' is not defined"
     ]
    }
   ],
   "source": [
    "import json\n",
    "import pickle\n",
    "from rdkit import Chem\n",
    "from rdkit.Chem import AllChem, Draw\n",
    "\n",
    "smiles_col_name = 'single_smiles'\n",
    "\n",
    "mols = []\n",
    "baddies = []\n",
    "for name, block in pdb_blocks.items():\n",
    "    detail: dict = details[name]\n",
    "    mol = Chem.MolFromPDBBlock(block, proximityBonding='CONECT' not in block)\n",
    "    if mol is None:\n",
    "        print(f'Issue with sanitisation, trying without for {name}')\n",
    "        mol = Chem.MolFromPDBBlock(block, proximityBonding='CONECT' not in block, sanitize=False)\n",
    "    assert mol, f'{name} failed to load'\n",
    "    assert mol.GetNumAtoms() > 0 and mol.GetNumBonds() > 0, f'{name} failed to load'\n",
    "    ref = Chem.MolFromSmiles(detail[smiles_col_name])\n",
    "    try:\n",
    "        mol = AllChem.AssignBondOrdersFromTemplate(ref, mol)\n",
    "    except Exception as e:\n",
    "        print(f'Issue with bond orders for {name} - {e.__class__.__name__}{e}')\n",
    "        baddies.append(dict(name=name, block=block, mol=mol, ref=ref, detail=detail, exception=e))\n",
    "        continue\n",
    "    mol.SetProp('XChem_code', name.split('_')[0])\n",
    "    mol.SetProp('Occupancy', json.dumps([a.GetPDBResidueInfo().GetOccupancy() for a in mol.GetAtoms()]) )\n",
    "    mol.SetProp('TempFactor', json.dumps([a.GetPDBResidueInfo().GetTempFactor() for a in mol.GetAtoms()]) )\n",
    "    mol.SetProp('_Name', name)\n",
    "    for k, v in detail.items():\n",
    "        if isinstance(v, dict):\n",
    "            v = json.dumps(v)\n",
    "        mol.SetProp(k, str(v))\n",
    "    for atom in mol.GetAtoms():\n",
    "        name = atom.GetPDBResidueInfo().GetName()\n",
    "        atom.SetProp('molFileAlias', name)\n",
    "    mols.append(mol)\n",
    "\n",
    "assert mols, 'No mols!'\n",
    "\n",
    "Draw.MolsToGridImage(mols)"
   ],
   "metadata": {
    "collapsed": false,
    "ExecuteTime": {
     "start_time": "2023-05-31T11:51:58.162275Z",
     "end_time": "2023-05-31T11:51:58.698511Z"
    }
   }
  },
  {
   "cell_type": "code",
   "execution_count": 36,
   "outputs": [
    {
     "data": {
      "text/plain": "[{'name': 'D68EV3CPROA-x1064_0B§1',\n  'block': 'CRYST1   42.744   62.500  147.471  90.00  90.00  90.00 P 21 21 21    1\\nHETATM    1  N   LIG X   1      -2.943   4.236 -24.581  0.60 40.50           N  \\nHETATM    2  C   LIG X   1      -0.337   3.794 -25.267  0.60 39.08           C  \\nHETATM    3  O   LIG X   1      -1.498   6.099 -25.214  0.60 44.55           O  \\nHETATM    4  C1  LIG X   1       0.175   3.013 -26.292  0.60 37.78           C  \\nHETATM    5  O1  LIG X   1      -2.242   4.453 -26.911  0.60 42.75           O  \\nHETATM    6  C2  LIG X   1       1.246   2.175 -26.034  0.60 37.25           C  \\nHETATM    7  O2  LIG X   1      -0.344   4.560 -23.042  0.60 37.51           O  \\nHETATM    8  C3  LIG X   1       1.814   2.132 -24.778  0.60 36.67           C  \\nHETATM    9  C4  LIG X   1       1.323   2.927 -23.755  0.60 35.55           C  \\nHETATM   10  C5  LIG X   1       0.242   3.764 -23.991  0.60 38.41           C  \\nHETATM   11  C6  LIG X   1       0.426   5.381 -22.372  0.60 36.35           C  \\nHETATM   12  F   LIG X   1      -0.097   6.600 -22.353  0.60 40.30           F  \\nHETATM   13  F1  LIG X   1       0.191   4.635 -21.327  0.60 37.28           F  \\nHETATM   14  S   LIG X   1      -1.799   4.744 -25.576  0.60 46.25           S  \\nCONECT    1   14\\nCONECT    2    4   10   14\\nCONECT    3   14\\nCONECT    4    2    6\\nCONECT    5   14\\nCONECT    6    4    8\\nCONECT    7   10   11   13\\nCONECT    8    6    9\\nCONECT    9    8   10\\nCONECT   10    2    9    7\\nCONECT   11    7   12   13\\nCONECT   12   11\\nCONECT   13   11    7\\nCONECT   14    1    2    3    5\\nEND\\n',\n  'mol': <rdkit.Chem.rdchem.Mol at 0x1656c9460>,\n  'detail': {'RealCrystalName': 'D68EV3CPROA-x1064',\n   'smiles': 'NS(=O)(=O)c1ccccc1OC(F)F',\n   'new_smiles': 'NS(=O)(=O)c1ccccc1OC(F)F',\n   'alternate_name': 'Z385450668',\n   'site_name': 3,\n   'pdb_entry': nan,\n   'mol': <rdkit.Chem.rdchem.Mol at 0x163d2d8c0>,\n   'single_smiles': 'NS(=O)(=O)c1ccccc1OC(F)F',\n   'base_name': 'D68EV3CPROA-x1064_0B',\n   'lig_resn': 'LIG',\n   'lig_resi': '301',\n   'lig_chain': 'B',\n   'lig_segi': '',\n   'lig_alt': '',\n   'polymer_chain': 'A'},\n  'exception': rdkit.Chem.rdchem.AtomValenceException('Explicit valence for atom # 6 O, 3, is greater than permitted')},\n {'name': 'D68EV3CPROA-x1064_0B§2',\n  'block': 'CRYST1   42.744   62.500  147.471  90.00  90.00  90.00 P 21 21 21    1\\nHETATM    1  N   LIG X   1      -8.365   0.642 -13.881  0.60 40.50           N  \\nHETATM    2  C   LIG X   1     -10.621  -0.899 -13.877  0.60 39.08           C  \\nHETATM    3  O   LIG X   1      -9.893   0.690 -11.977  0.60 44.55           O  \\nHETATM    4  C1  LIG X   1     -10.735  -2.277 -13.969  0.60 37.78           C  \\nHETATM    5  O1  LIG X   1      -8.503  -1.313 -12.422  0.60 42.75           O  \\nHETATM    6  C2  LIG X   1     -11.688  -2.822 -14.812  0.60 37.25           C  \\nHETATM    7  O2  LIG X   1     -11.278   1.285 -14.455  0.60 37.51           O  \\nHETATM    8  C3  LIG X   1     -12.530  -2.005 -15.536  0.60 36.67           C  \\nHETATM    9  C4  LIG X   1     -12.436  -0.627 -15.432  0.60 35.55           C  \\nHETATM   10  C5  LIG X   1     -11.480  -0.062 -14.601  0.60 38.41           C  \\nHETATM   11  C6  LIG X   1     -12.309   2.027 -14.136  0.60 36.35           C  \\nHETATM   12  F   LIG X   1     -12.009   2.834 -13.126  0.60 40.30           F  \\nHETATM   13  F1  LIG X   1     -12.219   2.541 -15.333  0.60 37.28           F  \\nHETATM   14  S   LIG X   1      -9.299  -0.222 -12.911  0.60 46.25           S  \\nCONECT    1   14\\nCONECT    2    4   10   14\\nCONECT    3   14\\nCONECT    4    2    6\\nCONECT    5   14\\nCONECT    6    4    8\\nCONECT    7   10   11   13\\nCONECT    8    6    9\\nCONECT    9    8   10\\nCONECT   10    2    9    7\\nCONECT   11    7   12   13\\nCONECT   12   11\\nCONECT   13   11    7\\nCONECT   14    1    2    3    5\\nEND\\n',\n  'mol': <rdkit.Chem.rdchem.Mol at 0x165f9d3f0>,\n  'detail': {'RealCrystalName': 'D68EV3CPROA-x1064',\n   'smiles': 'NS(=O)(=O)c1ccccc1OC(F)F',\n   'new_smiles': 'NS(=O)(=O)c1ccccc1OC(F)F',\n   'alternate_name': 'Z385450668',\n   'site_name': 3,\n   'pdb_entry': nan,\n   'mol': <rdkit.Chem.rdchem.Mol at 0x163d2d8c0>,\n   'single_smiles': 'NS(=O)(=O)c1ccccc1OC(F)F',\n   'base_name': 'D68EV3CPROA-x1064_0B',\n   'lig_resn': 'LIG',\n   'lig_resi': '301',\n   'lig_chain': 'B',\n   'lig_segi': '',\n   'lig_alt': '',\n   'polymer_chain': 'B'},\n  'exception': rdkit.Chem.rdchem.AtomValenceException('Explicit valence for atom # 6 O, 3, is greater than permitted')},\n {'name': 'D68EV3CPROA-x1064_1B§1',\n  'block': 'CRYST1   42.744   62.500  147.471  90.00  90.00  90.00 P 21 21 21    1\\nHETATM    1  N   LIG X   1      -2.943   4.236 -24.581  0.60 40.50           N  \\nHETATM    2  C   LIG X   1      -0.337   3.794 -25.267  0.60 39.08           C  \\nHETATM    3  O   LIG X   1      -1.498   6.099 -25.214  0.60 44.55           O  \\nHETATM    4  C1  LIG X   1       0.175   3.013 -26.292  0.60 37.78           C  \\nHETATM    5  O1  LIG X   1      -2.242   4.453 -26.911  0.60 42.75           O  \\nHETATM    6  C2  LIG X   1       1.246   2.175 -26.034  0.60 37.25           C  \\nHETATM    7  O2  LIG X   1      -0.344   4.560 -23.042  0.60 37.51           O  \\nHETATM    8  C3  LIG X   1       1.814   2.132 -24.778  0.60 36.67           C  \\nHETATM    9  C4  LIG X   1       1.323   2.927 -23.755  0.60 35.55           C  \\nHETATM   10  C5  LIG X   1       0.242   3.764 -23.991  0.60 38.41           C  \\nHETATM   11  C6  LIG X   1       0.426   5.381 -22.372  0.60 36.35           C  \\nHETATM   12  F   LIG X   1      -0.097   6.600 -22.353  0.60 40.30           F  \\nHETATM   13  F1  LIG X   1       0.191   4.635 -21.327  0.60 37.28           F  \\nHETATM   14  S   LIG X   1      -1.799   4.744 -25.576  0.60 46.25           S  \\nCONECT    1   14\\nCONECT    2    4   10   14\\nCONECT    3   14\\nCONECT    4    2    6\\nCONECT    5   14\\nCONECT    6    4    8\\nCONECT    7   10   11   13\\nCONECT    8    6    9\\nCONECT    9    8   10\\nCONECT   10    2    9    7\\nCONECT   11    7   12   13\\nCONECT   12   11\\nCONECT   13   11    7\\nCONECT   14    1    2    3    5\\nEND\\n',\n  'mol': <rdkit.Chem.rdchem.Mol at 0x1656c93f0>,\n  'detail': {'RealCrystalName': 'D68EV3CPROA-x1064',\n   'smiles': 'NS(=O)(=O)c1ccccc1OC(F)F',\n   'new_smiles': 'NS(=O)(=O)c1ccccc1OC(F)F',\n   'alternate_name': 'Z385450668',\n   'site_name': 2,\n   'pdb_entry': nan,\n   'mol': <rdkit.Chem.rdchem.Mol at 0x163d2d930>,\n   'single_smiles': 'NS(=O)(=O)c1ccccc1OC(F)F',\n   'base_name': 'D68EV3CPROA-x1064_1B',\n   'lig_resn': 'LIG',\n   'lig_resi': '301',\n   'lig_chain': 'B',\n   'lig_segi': '',\n   'lig_alt': '',\n   'polymer_chain': 'A'},\n  'exception': rdkit.Chem.rdchem.AtomValenceException('Explicit valence for atom # 6 O, 3, is greater than permitted')},\n {'name': 'D68EV3CPROA-x1064_1B§2',\n  'block': 'CRYST1   42.744   62.500  147.471  90.00  90.00  90.00 P 21 21 21    1\\nHETATM    1  N   LIG X   1      -8.365   0.642 -13.881  0.60 40.50           N  \\nHETATM    2  C   LIG X   1     -10.621  -0.899 -13.877  0.60 39.08           C  \\nHETATM    3  O   LIG X   1      -9.893   0.690 -11.977  0.60 44.55           O  \\nHETATM    4  C1  LIG X   1     -10.735  -2.277 -13.969  0.60 37.78           C  \\nHETATM    5  O1  LIG X   1      -8.503  -1.313 -12.422  0.60 42.75           O  \\nHETATM    6  C2  LIG X   1     -11.688  -2.822 -14.812  0.60 37.25           C  \\nHETATM    7  O2  LIG X   1     -11.278   1.285 -14.455  0.60 37.51           O  \\nHETATM    8  C3  LIG X   1     -12.530  -2.005 -15.536  0.60 36.67           C  \\nHETATM    9  C4  LIG X   1     -12.436  -0.627 -15.432  0.60 35.55           C  \\nHETATM   10  C5  LIG X   1     -11.480  -0.062 -14.601  0.60 38.41           C  \\nHETATM   11  C6  LIG X   1     -12.309   2.027 -14.136  0.60 36.35           C  \\nHETATM   12  F   LIG X   1     -12.009   2.834 -13.126  0.60 40.30           F  \\nHETATM   13  F1  LIG X   1     -12.219   2.541 -15.333  0.60 37.28           F  \\nHETATM   14  S   LIG X   1      -9.299  -0.222 -12.911  0.60 46.25           S  \\nCONECT    1   14\\nCONECT    2    4   10   14\\nCONECT    3   14\\nCONECT    4    2    6\\nCONECT    5   14\\nCONECT    6    4    8\\nCONECT    7   10   11   13\\nCONECT    8    6    9\\nCONECT    9    8   10\\nCONECT   10    2    9    7\\nCONECT   11    7   12   13\\nCONECT   12   11\\nCONECT   13   11    7\\nCONECT   14    1    2    3    5\\nEND\\n',\n  'mol': <rdkit.Chem.rdchem.Mol at 0x165f9dc40>,\n  'detail': {'RealCrystalName': 'D68EV3CPROA-x1064',\n   'smiles': 'NS(=O)(=O)c1ccccc1OC(F)F',\n   'new_smiles': 'NS(=O)(=O)c1ccccc1OC(F)F',\n   'alternate_name': 'Z385450668',\n   'site_name': 2,\n   'pdb_entry': nan,\n   'mol': <rdkit.Chem.rdchem.Mol at 0x163d2d930>,\n   'single_smiles': 'NS(=O)(=O)c1ccccc1OC(F)F',\n   'base_name': 'D68EV3CPROA-x1064_1B',\n   'lig_resn': 'LIG',\n   'lig_resi': '301',\n   'lig_chain': 'B',\n   'lig_segi': '',\n   'lig_alt': '',\n   'polymer_chain': 'B'},\n  'exception': rdkit.Chem.rdchem.AtomValenceException('Explicit valence for atom # 6 O, 3, is greater than permitted')}]"
     },
     "execution_count": 36,
     "metadata": {},
     "output_type": "execute_result"
    }
   ],
   "source": [
    "baddies"
   ],
   "metadata": {
    "collapsed": false,
    "ExecuteTime": {
     "start_time": "2023-05-31T11:52:03.318214Z",
     "end_time": "2023-05-31T11:52:03.325870Z"
    }
   }
  },
  {
   "cell_type": "code",
   "execution_count": null,
   "outputs": [],
   "source": [
    "# error corrections based on failure of below...\n",
    "from rdkit.Chem.Draw import IPythonConsole\n",
    "IPythonConsole.drawOptions.addAtomIndices = True\n",
    "\n",
    "\n",
    "# 6 & 12 should not be bondd\n",
    "name = 'D68EV3CPROA-x1064_0B§1'\n",
    "block = pdb_blocks[name]"
   ],
   "metadata": {
    "collapsed": false
   }
  }
 ],
 "metadata": {
  "kernelspec": {
   "display_name": "Python [conda env:py310]",
   "language": "python",
   "name": "conda-env-py310-py"
  },
  "language_info": {
   "codemirror_mode": {
    "name": "ipython",
    "version": 3
   },
   "file_extension": ".py",
   "mimetype": "text/x-python",
   "name": "python",
   "nbconvert_exporter": "python",
   "pygments_lexer": "ipython3",
   "version": "3.10.10"
  }
 },
 "nbformat": 4,
 "nbformat_minor": 5
}
