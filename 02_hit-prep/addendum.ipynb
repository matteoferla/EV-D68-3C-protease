{
 "cells": [
  {
   "cell_type": "markdown",
   "source": [
    "there's a lot of non-bio relevant hits, so let's filter them out"
   ],
   "metadata": {
    "collapsed": false
   }
  },
  {
   "cell_type": "code",
   "execution_count": 3,
   "outputs": [],
   "source": [
    "import os\n",
    "from pathlib import Path\n",
    "root = Path('/Users/user/Coding/EV-D68-3C-protease/')\n",
    "os.chdir(root)"
   ],
   "metadata": {
    "collapsed": false,
    "ExecuteTime": {
     "start_time": "2023-05-31T12:45:25.316750Z",
     "end_time": "2023-05-31T12:45:25.323553Z"
    }
   }
  },
  {
   "cell_type": "code",
   "execution_count": 14,
   "outputs": [
    {
     "name": "stdout",
     "output_type": "stream",
     "text": [
      " ExecutiveLoad-Detail: Detected mmCIF\n"
     ]
    }
   ],
   "source": [
    "from rdkit import Chem\n",
    "import pymol2\n",
    "\n",
    "neighbors = []\n",
    "hits = []\n",
    "with Chem.SDMolSupplier('hits.sdf') as suppl:\n",
    "    with pymol2.PyMOL() as pymol:\n",
    "        pymol.cmd.load('reference.pdb', 'ref')\n",
    "        pymol.cmd.fetch('2B0F')\n",
    "        pymol.cmd.align('2B0F', 'ref')\n",
    "        pymol.cmd.delete('ref')\n",
    "        pymol.cmd.remove('%2B0F and not chain B')\n",
    "        pymol.cmd.remove('solvent')\n",
    "        for mol in suppl:\n",
    "            hits.append(mol)\n",
    "            pymol.cmd.read_molstr(Chem.MolToMolBlock(mol), 'mol')\n",
    "            n_neighbors = pymol.cmd.count_atoms('%2B0F within 4 of mol')\n",
    "            pymol.cmd.delete('mol')\n",
    "            if n_neighbors > 0:\n",
    "                neighbors.append(mol)"
   ],
   "metadata": {
    "collapsed": false,
    "ExecuteTime": {
     "start_time": "2023-05-31T12:53:29.585486Z",
     "end_time": "2023-05-31T12:53:29.725472Z"
    }
   }
  },
  {
   "cell_type": "code",
   "execution_count": 15,
   "outputs": [
    {
     "data": {
      "text/plain": "(19, 104)"
     },
     "execution_count": 15,
     "metadata": {},
     "output_type": "execute_result"
    }
   ],
   "source": [
    "len(neighbors), len(hits)"
   ],
   "metadata": {
    "collapsed": false,
    "ExecuteTime": {
     "start_time": "2023-05-31T12:53:30.908794Z",
     "end_time": "2023-05-31T12:53:30.918433Z"
    }
   }
  },
  {
   "cell_type": "code",
   "execution_count": 16,
   "outputs": [],
   "source": [
    "# Save\n",
    "\n",
    "with Chem.SDWriter('filtered_hits.sdf') as sdf:\n",
    "    for mol in neighbors:\n",
    "        if mol is None:\n",
    "            continue\n",
    "        sdf.write(mol)"
   ],
   "metadata": {
    "collapsed": false,
    "ExecuteTime": {
     "start_time": "2023-05-31T12:53:33.169291Z",
     "end_time": "2023-05-31T12:53:33.173662Z"
    }
   }
  },
  {
   "cell_type": "code",
   "execution_count": 23,
   "outputs": [],
   "source": [
    "from rdkit.Chem import Draw\n",
    "\n",
    "with open('filtered_hits.png', 'wb') as fh:\n",
    "    fh.write(Draw.MolsToGridImage(neighbors).data)"
   ],
   "metadata": {
    "collapsed": false,
    "ExecuteTime": {
     "start_time": "2023-05-31T12:55:23.716322Z",
     "end_time": "2023-05-31T12:55:23.763283Z"
    }
   }
  },
  {
   "cell_type": "code",
   "execution_count": null,
   "outputs": [],
   "source": [],
   "metadata": {
    "collapsed": false
   }
  }
 ],
 "metadata": {
  "kernelspec": {
   "name": "conda-env-py310-py",
   "language": "python",
   "display_name": "Python [conda env:py310]"
  },
  "language_info": {
   "codemirror_mode": {
    "name": "ipython",
    "version": 2
   },
   "file_extension": ".py",
   "mimetype": "text/x-python",
   "name": "python",
   "nbconvert_exporter": "python",
   "pygments_lexer": "ipython2",
   "version": "2.7.6"
  }
 },
 "nbformat": 4,
 "nbformat_minor": 0
}
