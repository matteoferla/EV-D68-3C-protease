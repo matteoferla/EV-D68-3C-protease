{
 "cells": [
  {
   "cell_type": "markdown",
   "id": "743af180-95e3-467f-b74d-e8de6077a4a5",
   "metadata": {},
   "source": [
    "## Global"
   ]
  },
  {
   "cell_type": "code",
   "execution_count": 261,
   "id": "9cd72d06-6646-47fd-8e16-ea5dce0d20af",
   "metadata": {},
   "outputs": [],
   "source": [
    "asap_project_id = 'ASAP-EVD68-3CLPRO'\n",
    "xchem_project_id = 'D68EV3CPROA'\n",
    "\n",
    "labels = {'SMILES': 'SMILES',\n",
    "         'XChem code': f'fragment_XChem-code',\n",
    "         'method': 'fragment_method-name',\n",
    "         'notes': 'fragment_notes',\n",
    "         'keywords': 'fragment_method-keywords',\n",
    "         'date': f'fragment_method-date',\n",
    "         'institution': f'fragment_submitter_institution',\n",
    "         'name': f'fragment_submitter_name',\n",
    "         'email': f'fragment_submitter_email',\n",
    "         'ref XChem': f'fragment_reference_XChem',\n",
    "         'ref vcid': f'fragment_reference_vcid',\n",
    "         'ref SMILES': f'fragment_reference_SMILES'\n",
    "         }"
   ]
  },
  {
   "cell_type": "markdown",
   "id": "75506668-ac0e-446d-af3b-e5381983df19",
   "metadata": {},
   "source": [
    "## Deal with XChem to ASAP conversion\n",
    "\n",
    "Xref XChem to ASAP to make `xchem2asap.json`"
   ]
  },
  {
   "cell_type": "code",
   "execution_count": 92,
   "id": "59636298-200d-4bf3-87e3-1227ca9c3b2e",
   "metadata": {},
   "outputs": [],
   "source": [
    "metadata = pd.read_csv('D68EV3CPROA_metadata.csv')\n",
    "metadata['RealCrystalName'] = metadata.RealCrystalName.str.replace('D68EV3CPROA-', '')\n",
    "xchem2smiles: pdt.Series[str]  = metadata.drop_duplicates('RealCrystalName').set_index('RealCrystalName').new_smiles.str.replace('Cl.','')\n",
    "xchem2mol: pdt.Series[Chem.Mol] = xchem2smiles.apply(Chem.MolFromSmiles)\n",
    "xchem2fp: pdt.Series[DataStructs] = xchem2mol.apply(functools.partial(AllChem.GetMorganFingerprintAsBitVect, radius=3))\n",
    "originals: List[str] = metadata.loc[~metadata.alternate_name.str.contains('ASAP')].RealCrystalName.to_list()"
   ]
  },
  {
   "cell_type": "code",
   "execution_count": 250,
   "id": "966e1e92-4872-48f4-8f6b-edd7c3b662fc",
   "metadata": {},
   "outputs": [],
   "source": [
    "import pandas as pd\n",
    "import pandera.typing as pdt\n",
    "import functools\n",
    "from rdkit import Chem\n",
    "from rdkit.Chem import AllChem, PandasTools, DataStructs\n",
    "from typing import List\n",
    "\n",
    "\n",
    "asapt: pd.DataFrame =  pd.concat([pd.read_csv('submission-ASAP-DESIGN-996.csv'),\n",
    "                                  pd.read_csv('submission-ASAP-DESIGN-987.csv'),\n",
    "                                  pd.read_csv('submission-ASAP-DESIGN-990.csv')])\n",
    "\n",
    "asap2smiles: pdt.Series[str] = asapt.drop_duplicates('SMILES').set_index('vc_id_postera').original_query\n",
    "asap2mol: pdt.Series[Chem.Mol] = asap2smiles.apply(Chem.MolFromSmiles)\n",
    "asap2fp: pdt.Series[DataStructs] = asap2mol.apply(functools.partial(AllChem.GetMorganFingerprintAsBitVect, radius=3))"
   ]
  },
  {
   "cell_type": "code",
   "execution_count": 251,
   "id": "ae4e18f7-0a36-4f45-b48d-d8b5654869e4",
   "metadata": {},
   "outputs": [],
   "source": [
    "xchem2asap = {}\n",
    "missing = []\n",
    "\n",
    "for xchem_code, xchem_fp in xchem2fp.items():\n",
    "    if xchem_code not in originals:\n",
    "        continue\n",
    "    for asap_code, asap_fp in asap2fp.items():\n",
    "        if xchem_fp == asap_fp:\n",
    "            xchem2asap[xchem_code] = asap_code\n",
    "            break\n",
    "    else:\n",
    "        missing.append(xchem_code)"
   ]
  },
  {
   "cell_type": "code",
   "execution_count": 252,
   "id": "b425fad5-ff33-40ec-8027-c9760a71fdb3",
   "metadata": {},
   "outputs": [
    {
     "name": "stdout",
     "output_type": "stream",
     "text": [
      "All good now\n"
     ]
    }
   ],
   "source": [
    "if missing:\n",
    "    pd.DataFrame({labels['XChem code']: missing,\n",
    "                  labels['method']: 'XChem initial screen',\n",
    "                  labels['notes']: 'unidentified library',\n",
    "                  'SMILES': [xchem2smiles[code] for code in missing]})\\\n",
    "      .to_csv('missing_codes.csv', index=False)\n",
    "    print('Please upload')\n",
    "else:\n",
    "    print('All good now')"
   ]
  },
  {
   "cell_type": "code",
   "execution_count": 253,
   "id": "8dfa2069-4f05-4539-8f3e-ee2595943548",
   "metadata": {},
   "outputs": [
    {
     "name": "stdout",
     "output_type": "stream",
     "text": [
      "COCCN(C)S(=O)(=O)NCc1ccc2c(c1)OCO2\n"
     ]
    },
    {
     "data": {
      "image/png": "[encoded data removed]",
      "text/plain": [
       "<rdkit.Chem.rdchem.Mol at 0x16c9a6110>"
      ]
     },
     "execution_count": 253,
     "metadata": {},
     "output_type": "execute_result"
    }
   ],
   "source": [
    "print( xchem2smiles['x2021'] )\n",
    "xchem2mol['x2021'] "
   ]
  },
  {
   "cell_type": "code",
   "execution_count": 254,
   "id": "05347871-ad52-4dfa-b7d0-92a6d4d60581",
   "metadata": {},
   "outputs": [],
   "source": [
    "xchem2asap['x2099'] = 'ASAP-VC-5892'\n",
    "xchem2asap['x1919'] = 'ASAP-VC-6113'\n",
    "xchem2asap['x2149'] = 'ASAP-VC-7470'\n",
    "xchem2asap['x2021'] = 'ASAP-VC-6077'\n",
    "xchem2asap[''] = ''\n",
    "xchem2asap[''] = ''"
   ]
  },
  {
   "cell_type": "code",
   "execution_count": 255,
   "id": "076b8f57-cc5f-4865-a3bc-8f8d25afc719",
   "metadata": {},
   "outputs": [],
   "source": [
    "import json\n",
    "\n",
    "with open('xchem2asap.json', 'w') as fh:\n",
    "    json.dump(xchem2asap, fh)"
   ]
  },
  {
   "cell_type": "markdown",
   "id": "30d844ae-6a1c-4c2a-8af8-6b9e88650c50",
   "metadata": {},
   "source": [
    "## Conflict test\n",
    "I think this did not delete previous vcid"
   ]
  },
  {
   "cell_type": "code",
   "execution_count": 256,
   "id": "6e43aa1b-2576-4402-b170-7fbd8eea2185",
   "metadata": {},
   "outputs": [],
   "source": [
    "import pandas as pd\n",
    "\n",
    "libraries = pd.read_csv('combined-XChem-libraries.csv', index_col=0)\n",
    "reduced  =  libraries.drop_duplicates(['SMILES', 'library']) \\\n",
    "                     .groupby('SMILES').agg({'library': ','.join, \n",
    "                                             'Id':set }) \\\n",
    "                     .reset_index()\n",
    "reduced['Id'] = reduced['Id'].apply(','.join)\n",
    "# reduced['designer_institution'] = 'XChem'\n",
    "# reduced['design_rationale'] = 'XChem initial soak'\n",
    "# reduced['design_submission_source_link'] = 'https://www.diamond.ac.uk/industry/Techniques-Available/Integrated-Structural-Biology/Fragment-Screening---XChem/Fragment-Libraries.html'\n",
    "# reduced['designer_name'] = 'XChem team'\n",
    "# reduced['design_notes'] = 'Fragment libraries: '+reduced.design_notes\n",
    "reduced['FP'] = reduced.SMILES.apply(Chem.MolFromSmiles).apply(functools.partial(AllChem.GetMorganFingerprintAsBitVect, radius=3))"
   ]
  },
  {
   "cell_type": "code",
   "execution_count": 257,
   "id": "45ff2881-6870-4d4f-b6d6-f8e417c79fd5",
   "metadata": {},
   "outputs": [],
   "source": [
    "xchem2libary = {}\n",
    "\n",
    "originals = list(set(originals))\n",
    "for code in originals:\n",
    "    matched = reduced.loc[xchem2fp[code] == reduced.FP]\n",
    "    if len(matched):\n",
    "        xchem2libary[code] = matched.library.iloc[0]\n",
    "    else:\n",
    "        xchem2libary[code] = 'unknown'\n",
    "        \n",
    "pd.DataFrame({labels['XChem code']: originals,\n",
    "              labels['method']: 'XChem initial screen',\n",
    "              labels['notes']: [xchem2libary[code] for code in originals],\n",
    "              labels['keywords']: 'screen',\n",
    "              labels['institution']: 'DLS XChem',\n",
    "              labels['date']: '01-01-2001',\n",
    "              'SMILES': [xchem2smiles[code] for code in originals]})\\\n",
    "      .to_csv('xstal.csv', index=False)"
   ]
  },
  {
   "cell_type": "markdown",
   "id": "6134378f-385a-4ba5-b072-c163d2d3366a",
   "metadata": {},
   "source": [
    "## Fix Csets"
   ]
  },
  {
   "cell_type": "code",
   "execution_count": 266,
   "id": "aa4a8f11-583e-4b6c-a0b4-440a0bb841d7",
   "metadata": {},
   "outputs": [],
   "source": [
    "import requests\n",
    "import pandas as pd\n",
    "import operator\n",
    "import os\n",
    "from pathlib import Path\n",
    "\n",
    "available = [datapath.name for datapath in Path('media_compounds_sets').glob('*.sdf')]\n",
    "\n",
    "cset_metadata = pd.DataFrame( requests.get('https://fragalysis.diamond.ac.uk/api/compound-sets/').json()['results'] )\n",
    "targets = pd.DataFrame( requests.get('https://fragalysis.diamond.ac.uk/api/targets/').json()['results'] )\n",
    "id2name = targets.set_index('id').title.to_dict()\n",
    "cset_metadata['target_name'] = cset_metadata.target.map(id2name)\n",
    "cset_metadata['sdf_name'] = cset_metadata.submitted_sdf.fillna('').apply(os.path.split).apply(operator.itemgetter(-1))\n",
    "cset_metadata['locally_available'] = cset_metadata['sdf_name'].isin(available)"
   ]
  },
  {
   "cell_type": "code",
   "execution_count": 267,
   "id": "df67433a-226a-486f-a784-074fe9675067",
   "metadata": {},
   "outputs": [
    {
     "name": "stdout",
     "output_type": "stream",
     "text": [
      "These are unavailable\n"
     ]
    },
    {
     "data": {
      "text/plain": [
       "['StephWills-fragnetv1',\n",
       " 'LucyVost-STRIFE-fragmentelaboration',\n",
       " 'PDB-StolenfromPDB']"
      ]
     },
     "execution_count": 267,
     "metadata": {},
     "output_type": "execute_result"
    }
   ],
   "source": [
    "print('These are unavailable')\n",
    "cset_metadata.loc[(cset_metadata.target_name == 'D68EV3CPROA') & ~cset_metadata.locally_available].unique_name.to_list()"
   ]
  },
  {
   "cell_type": "code",
   "execution_count": 270,
   "id": "fcc5414f-b046-41a4-baf6-f70fd8a6ee6d",
   "metadata": {},
   "outputs": [
    {
     "name": "stdout",
     "output_type": "stream",
     "text": [
      "\n",
      "\n",
      "****************\n",
      "P2. Design wave 1. Fragalysis upload by Steph Wills (\"StephWills-fragnetv2_named\")\n",
      "ASAP-VC-13694 ASAP-VC-13641 ASAP-VC-13680 ASAP-VC-13694 ASAP-VC-13641 ASAP-VC-13605 ASAP-VC-13641 ASAP-VC-13686 ASAP-VC-13636 ASAP-VC-13641 ASAP-VC-13604 ASAP-VC-13636 ASAP-VC-13641 ASAP-VC-13645 ASAP-VC-13641 ASAP-VC-13694 ASAP-VC-13644 ASAP-VC-13636 ASAP-VC-13645 ASAP-VC-13641 ASAP-VC-13641 ASAP-VC-13636 ASAP-VC-13644 ASAP-VC-13694\n",
      "\n",
      "\n",
      "****************\n",
      "P2. Design wave 1. Fragalysis upload by Steph Wills (\"StephWills-fragnetv3_corrected\")\n",
      "ASAP-VC-13694 ASAP-VC-13641 ASAP-VC-13686 ASAP-VC-13641 ASAP-VC-13605 ASAP-VC-13641 ASAP-VC-13641 ASAP-VC-13686 ASAP-VC-13641 ASAP-VC-13645 ASAP-VC-13636 ASAP-VC-13641 ASAP-VC-13641 ASAP-VC-13694 ASAP-VC-13641 ASAP-VC-13636 ASAP-VC-13645 ASAP-VC-13641 ASAP-VC-13641 ASAP-VC-13605\n",
      "x2135\n",
      "\n",
      "\n",
      "****************\n",
      "P2. Design wave 1. Fragalysis upload by Matteo Ferla (\"MatteoFerla-ROCS&PyRosetta-filtering\")\n",
      "ASAP-VC-13605 ASAP-VC-13629 ASAP-VC-13686 ASAP-VC-13593 ASAP-VC-13645 ASAP-VC-13674\n"
     ]
    },
    {
     "name": "stderr",
     "output_type": "stream",
     "text": [
      "/var/folders/70/28pvwk5s63q9xd4mwxj039hm0000gp/T/ipykernel_98294/3164870932.py:56: SettingWithCopyWarning: \n",
      "A value is trying to be set on a copy of a slice from a DataFrame.\n",
      "Try using .loc[row_indexer,col_indexer] = value instead\n",
      "\n",
      "See the caveats in the documentation: https://pandas.pydata.org/pandas-docs/stable/user_guide/indexing.html#returning-a-view-versus-a-copy\n",
      "  munged.loc[matched, labels['XChem code']] = xchem_code\n",
      "[18:25:34] ERROR: Counts line too short: '' on line3225\n",
      "[18:25:34] ERROR: moving to the beginning of the next molecule\n",
      "/var/folders/70/28pvwk5s63q9xd4mwxj039hm0000gp/T/ipykernel_98294/3164870932.py:56: SettingWithCopyWarning: \n",
      "A value is trying to be set on a copy of a slice from a DataFrame.\n",
      "Try using .loc[row_indexer,col_indexer] = value instead\n",
      "\n",
      "See the caveats in the documentation: https://pandas.pydata.org/pandas-docs/stable/user_guide/indexing.html#returning-a-view-versus-a-copy\n",
      "  munged.loc[matched, labels['XChem code']] = xchem_code\n"
     ]
    },
    {
     "name": "stdout",
     "output_type": "stream",
     "text": [
      "\n",
      "\n",
      "****************\n",
      "P2. Design wave 1. Fragalysis upload by Lucy Vost (\"LucyVost-STRIFE\")\n",
      "ASAP-VC-13605\n",
      "x2135\n",
      "x2148\n",
      "x2149\n",
      "\n",
      "\n",
      "****************\n",
      "P2. Design wave 1. Fragalysis upload by Matteo Ferla (\"MatteoFerla-Manual-Submission\")\n",
      "ASAP-VC-13644 ASAP-VC-13686 ASAP-VC-13680 ASAP-VC-13664 ASAP-VC-13645 ASAP-VC-13680 ASAP-VC-13645 ASAP-VC-13664 ASAP-VC-13664 ASAP-VC-13641 ASAP-VC-13641 ASAP-VC-13686 ASAP-VC-13644 ASAP-VC-13641 ASAP-VC-13645 ASAP-VC-13641 ASAP-VC-13686 ASAP-VC-13596 ASAP-VC-13645 ASAP-VC-13664 ASAP-VC-13680\n",
      "\n",
      "\n",
      "****************\n",
      "P2. Design wave 1. Fragalysis upload by Matteo Ferla (\"MatteoFerla-ArthorianQuest-sulfonamide\")\n",
      "ASAP-VC-13680 ASAP-VC-13664 ASAP-VC-13645\n",
      "\n",
      "\n",
      "****************\n",
      "P2. Design wave 1. Fragalysis upload by Matteo Ferla (\"MatteoFerla-Fragmenstein-Tris\")\n",
      "ASAP-VC-6113 ASAP-VC-13604 ASAP-VC-6113 ASAP-VC-13629 ASAP-VC-13589 ASAP-VC-13593 ASAP-VC-13589 ASAP-VC-13694 ASAP-VC-5892 ASAP-VC-13645 ASAP-VC-13589 ASAP-VC-13651 ASAP-VC-13641 ASAP-VC-13646 ASAP-VC-13627 ASAP-VC-13604 ASAP-VC-13611 ASAP-VC-13694 ASAP-VC-6113 ASAP-VC-13643 ASAP-VC-13611 ASAP-VC-13664 ASAP-VC-13627 ASAP-VC-13686 ASAP-VC-6113 ASAP-VC-13651 ASAP-VC-6113 ASAP-VC-13680 ASAP-VC-7470 ASAP-VC-13686 ASAP-VC-5892 ASAP-VC-13686 ASAP-VC-13611 ASAP-VC-13641 ASAP-VC-6077 ASAP-VC-13651 ASAP-VC-13627 ASAP-VC-13645 ASAP-VC-5892 ASAP-VC-13636 ASAP-VC-13598 ASAP-VC-13694 ASAP-VC-6113 ASAP-VC-13641 ASAP-VC-6113 ASAP-VC-13636 ASAP-VC-13589 ASAP-VC-13686 ASAP-VC-13627 ASAP-VC-13636 ASAP-VC-13589 ASAP-VC-13604 ASAP-VC-13641 ASAP-VC-13664 ASAP-VC-13611 ASAP-VC-13636 ASAP-VC-13589 ASAP-VC-13629 ASAP-VC-7470 ASAP-VC-13604 ASAP-VC-13589 ASAP-VC-13643 ASAP-VC-13589 ASAP-VC-13645 ASAP-VC-5892 ASAP-VC-13641 ASAP-VC-13627 ASAP-VC-13680 ASAP-VC-13627 ASAP-VC-13694 ASAP-VC-13589 ASAP-VC-13636 ASAP-VC-13589 ASAP-VC-13605 ASAP-VC-13657 ASAP-VC-13645 ASAP-VC-13641 ASAP-VC-13645 ASAP-VC-13598 ASAP-VC-13664 ASAP-VC-13598 ASAP-VC-13636 ASAP-VC-6113 ASAP-VC-13645 ASAP-VC-7470 ASAP-VC-13645\n",
      "\n",
      "\n",
      "****************\n",
      "P2. Design wave 1. Fragalysis upload by Matteo Ferla (\"MatteoFerla-Fragmenstein-Tris_P1-ridge\")\n",
      "ASAP-VC-6113 ASAP-VC-13636 ASAP-VC-6113 ASAP-VC-13604 ASAP-VC-6077 ASAP-VC-13604 ASAP-VC-6113 ASAP-VC-13694 ASAP-VC-13589 ASAP-VC-13604 ASAP-VC-6077 ASAP-VC-13664 ASAP-VC-5892 ASAP-VC-13694 ASAP-VC-5892 ASAP-VC-13645 ASAP-VC-13641 ASAP-VC-13645 ASAP-VC-6113 ASAP-VC-13651 ASAP-VC-7470 ASAP-VC-13686 ASAP-VC-13641 ASAP-VC-13686 ASAP-VC-13611 ASAP-VC-13641 ASAP-VC-13627 ASAP-VC-13604 ASAP-VC-7470 ASAP-VC-13645 ASAP-VC-6113 ASAP-VC-13641 ASAP-VC-13611 ASAP-VC-13664\n",
      "\n",
      "\n",
      "****************\n",
      "P2. Design wave 1. Fragalysis upload by Steph Wills (\"StephWills-fragNetMergingIt3\")\n",
      "ASAP-VC-13645 ASAP-VC-13686 ASAP-VC-13645 ASAP-VC-13593 ASAP-VC-13657 ASAP-VC-6077 ASAP-VC-13686 ASAP-VC-13604 ASAP-VC-13589 ASAP-VC-13593 ASAP-VC-13645 ASAP-VC-13604 ASAP-VC-13645 ASAP-VC-13664 ASAP-VC-13645 ASAP-VC-13636 ASAP-VC-13593 ASAP-VC-13686 ASAP-VC-13680 ASAP-VC-13686 ASAP-VC-13645 ASAP-VC-13680 ASAP-VC-13605 ASAP-VC-13604 ASAP-VC-13686 ASAP-VC-13680 ASAP-VC-13680 ASAP-VC-6113 ASAP-VC-13644 ASAP-VC-6077 ASAP-VC-13644 ASAP-VC-6113 ASAP-VC-13686 ASAP-VC-13636 ASAP-VC-13686 ASAP-VC-13664 ASAP-VC-13589 ASAP-VC-13604 ASAP-VC-13644 ASAP-VC-13645 ASAP-VC-13593 ASAP-VC-13657 ASAP-VC-13644 ASAP-VC-13686 ASAP-VC-13680 ASAP-VC-6077 ASAP-VC-13589 ASAP-VC-13636 ASAP-VC-13686 ASAP-VC-13645\n",
      "MatteoFerla-OEROCSatS2 EMPTY\n",
      "\n",
      "\n",
      "****************\n",
      "P2. Design wave 1. Fragalysis upload by Lucy Vost (\"LucyVost-STRIFE-fragmentelaborationnewfrags\")\n",
      "ASAP-VC-13611\n"
     ]
    }
   ],
   "source": [
    "output_path = Path('output')\n",
    "output_path.mkdir(exist_ok=True)\n",
    "\n",
    "def desufficify(xchem_codes: str):\n",
    "    return xchem_codes.split('_')[0]\n",
    "\n",
    "def convert_codes_to_asap(xchem_codes: str):\n",
    "    return ' '.join([xchem2asap[desufficify(xchem_code)] for xchem_code in xchem_codes.split(',')])\n",
    "\n",
    "def convert_codes_to_smiles(xchem_codes: str):\n",
    "    return '.'.join([xchem2smiles[desufficify(xchem_code)] for xchem_code in xchem_codes.split(',')])\n",
    "\n",
    "fixer_uppers = cset_metadata.loc[(cset_metadata.target_name == xchem_project_id) & cset_metadata.locally_available]\n",
    "\n",
    "csets = {}\n",
    "for i, row in fixer_uppers.iterrows():\n",
    "    cset = PandasTools.LoadSDF((Path('media_compounds_sets') / row.sdf_name).as_posix(), smilesName='SMILES', embedProps=True)\n",
    "    header = cset.iloc[0]\n",
    "    cset = cset.iloc[1:].copy()\n",
    "    if len(cset) == 0:\n",
    "        print(row.unique_name, 'EMPTY')\n",
    "        continue\n",
    "    if 'STRIFE' in row.unique_name:\n",
    "        keywords = 'STRIFE,de-novo,AI,analog-by-catalog'\n",
    "    elif 'fragnet' in row.unique_name.lower():\n",
    "        keywords = 'fragnet,catalog-enumeration,linker,substructure-based'\n",
    "    elif 'ROCS' in row.unique_name:\n",
    "        keywords = 'ROCS,shape&color,catalog-enumeration'\n",
    "    elif 'Manual' in row.unique_name:\n",
    "        keywords = 'by-eye'\n",
    "    elif 'Arthor' in row.unique_name:\n",
    "        keywords = 'Arthor,catalog-enumeration,linker'\n",
    "    elif 'Fragmenstein' in row.unique_name:\n",
    "        keywords = 'Fragmenstein,de-novo,merger,analog-by-catalog,linker'\n",
    "    else:\n",
    "        raise ValueError(row.unique_name)\n",
    "    cset[labels['keywords']] = keywords\n",
    "    cset[labels['method']] = header.method\n",
    "    cset[labels['name']] = header.submitter_name\n",
    "    cset[labels['email']] = header.submitter_email\n",
    "    cset[labels['institution']] = header.submitter_institution\n",
    "    cset[labels['date']] = header.generation_date\n",
    "    cset[labels['ref XChem']] = cset.ref_mols\n",
    "    cset[labels['ref vcid']] = cset.ref_mols.apply(convert_codes_to_asap)\n",
    "    cset[labels['ref SMILES']] = cset.ref_mols.apply(convert_codes_to_smiles)\n",
    "    cset[labels['notes']] = row.unique_name\n",
    "    \n",
    "    \n",
    "    munged = cset[[col for col in cset.columns if col in labels.values()]]\n",
    "    \n",
    "    cset['fp'] = cset.ROMol.apply(functools.partial(AllChem.GetMorganFingerprintAsBitVect, radius=3))\n",
    "    for xchem_code, xchem_fp in xchem2fp.items():\n",
    "            matched = cset['fp'] == xchem_fp\n",
    "            if matched.any():\n",
    "                print(xchem_code)\n",
    "                munged.loc[matched, labels['XChem code']] = xchem_code\n",
    "    \n",
    "    csets[row.unique_name] = cset.copy()\n",
    "                \n",
    "    print('\\n\\n****************')\n",
    "    print(f'P2. Design wave 1. Fragalysis upload by {header.submitter_name} (\"{row.unique_name}\")')\n",
    "    print(' '.join(set(munged[labels['ref vcid']].to_list())))\n",
    "\n",
    "    munged.fillna('').to_csv(output_path / (row.unique_name + '.csv'), index=False)"
   ]
  },
  {
   "cell_type": "markdown",
   "id": "6dea635f-332e-49db-9698-32e5ddab3c44",
   "metadata": {},
   "source": [
    "## Fix Beth's sheet"
   ]
  },
  {
   "cell_type": "code",
   "execution_count": 76,
   "id": "b5b6b576-3390-4571-8a3a-b880a4bb374c",
   "metadata": {},
   "outputs": [
    {
     "name": "stdout",
     "output_type": "stream",
     "text": [
      "BrC1=CON=C1\n"
     ]
    },
    {
     "data": {
      "text/plain": [
       "'Brc1cnoc1'"
      ]
     },
     "execution_count": 76,
     "metadata": {},
     "output_type": "execute_result"
    }
   ],
   "source": [
    "print( xchem2smiles['x1427'] )\n",
    "Chem.MolToSmiles(xchem2mol['x1427'])"
   ]
  },
  {
   "cell_type": "code",
   "execution_count": 32,
   "id": "e069b114-06b0-43b1-a706-6db413fc9add",
   "metadata": {},
   "outputs": [
    {
     "data": {
      "text/plain": [
       "<rdkit.DataStructs.cDataStructs.ExplicitBitVect at 0x1468a0820>"
      ]
     },
     "execution_count": 32,
     "metadata": {},
     "output_type": "execute_result"
    }
   ],
   "source": [
    "functools.partial(AllChem.GetMorganFingerprintAsBitVect, radius=3)( xchem2mol[0])"
   ]
  },
  {
   "cell_type": "code",
   "execution_count": 23,
   "id": "638a13dc-9d3f-474c-80bc-7aad7e7c1b8a",
   "metadata": {},
   "outputs": [
    {
     "data": {
      "image/png": "[encoded data removed]",
      "text/plain": [
       "<rdkit.Chem.rdchem.Mol at 0x140cdf530>"
      ]
     },
     "execution_count": 23,
     "metadata": {},
     "output_type": "execute_result"
    }
   ],
   "source": [
    "xchem2mol[0]"
   ]
  },
  {
   "cell_type": "code",
   "execution_count": 26,
   "id": "ba61b0ae-1837-4d23-ad9d-7d7380c09a02",
   "metadata": {},
   "outputs": [
    {
     "name": "stdout",
     "output_type": "stream",
     "text": [
      "Help on built-in function GetMorganFingerprintAsBitVect in module rdkit.Chem.rdMolDescriptors:\n",
      "\n",
      "GetMorganFingerprintAsBitVect(...)\n",
      "    GetMorganFingerprintAsBitVect( (Mol)mol, (int)radius [, (int)nBits=2048 [, (AtomPairsParameters)invariants=[] [, (AtomPairsParameters)fromAtoms=[] [, (bool)useChirality=False [, (bool)useBondTypes=True [, (bool)useFeatures=False [, (AtomPairsParameters)bitInfo=None [, (bool)includeRedundantEnvironments=False]]]]]]]]) -> ExplicitBitVect :\n",
      "        Returns a Morgan fingerprint for a molecule as a bit vector\n",
      "    \n",
      "        C++ signature :\n",
      "            ExplicitBitVect* GetMorganFingerprintAsBitVect(RDKit::ROMol,unsigned int [,unsigned int=2048 [,boost::python::api::object=[] [,boost::python::api::object=[] [,bool=False [,bool=True [,bool=False [,boost::python::api::object=None [,bool=False]]]]]]]])\n",
      "\n"
     ]
    }
   ],
   "source": [
    "help(AllChem.GetMorganFingerprintAsBitVect)"
   ]
  },
  {
   "cell_type": "code",
   "execution_count": 12,
   "id": "7380397f-d428-460f-9f91-7534591dfd0b",
   "metadata": {},
   "outputs": [],
   "source": []
  },
  {
   "cell_type": "code",
   "execution_count": null,
   "id": "41ac17ba-b8fd-4c90-bd16-ec68b1a31be8",
   "metadata": {},
   "outputs": [],
   "source": []
  }
 ],
 "metadata": {
  "kernelspec": {
   "display_name": "Python [conda env:py310]",
   "language": "python",
   "name": "conda-env-py310-py"
  },
  "language_info": {
   "codemirror_mode": {
    "name": "ipython",
    "version": 3
   },
   "file_extension": ".py",
   "mimetype": "text/x-python",
   "name": "python",
   "nbconvert_exporter": "python",
   "pygments_lexer": "ipython3",
   "version": "3.10.10"
  }
 },
 "nbformat": 4,
 "nbformat_minor": 5
}
