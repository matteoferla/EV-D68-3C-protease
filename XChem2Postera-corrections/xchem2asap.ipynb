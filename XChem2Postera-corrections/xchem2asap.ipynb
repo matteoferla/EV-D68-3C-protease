{
 "cells": [
  {
   "cell_type": "markdown",
   "id": "743af180-95e3-467f-b74d-e8de6077a4a5",
   "metadata": {},
   "source": [
    "## Global\n"
   ]
  },
  {
   "cell_type": "code",
   "execution_count": 288,
   "id": "9cd72d06-6646-47fd-8e16-ea5dce0d20af",
   "metadata": {},
   "outputs": [],
   "source": [
    "asap_project_id = 'ASAP-EVD68-3CLPRO'\n",
    "xchem_project_id = 'D68EV3CPROA'\n",
    "\n",
    "# column names as will be used for upload\n",
    "\n",
    "labels = {'SMILES': 'SMILES',\n",
    "         'XChem code': f'fragment_XChem-code',\n",
    "         'method': 'fragment_method-name',\n",
    "         'notes': 'fragment_notes',\n",
    "         'keywords': 'fragment_method-keywords',\n",
    "         'date': f'fragment_method-date',\n",
    "         'institution': f'fragment_submitter_institution',\n",
    "         'name': f'fragment_submitter_name',\n",
    "         'email': f'fragment_submitter_email',\n",
    "         'ref XChem': f'fragment_reference_XChem',\n",
    "         'ref vcid': f'fragment_reference_vcid',\n",
    "         'ref SMILES': f'fragment_reference_SMILES',\n",
    "         }"
   ]
  },
  {
   "cell_type": "markdown",
   "id": "75506668-ac0e-446d-af3b-e5381983df19",
   "metadata": {},
   "source": [
    "## Deal with XChem to ASAP conversion\n",
    "\n",
    "Xref XChem to ASAP to make `xchem2asap.json`\n",
    "Requires the upload of the hits or Screening library"
   ]
  },
  {
   "cell_type": "code",
   "execution_count": 92,
   "id": "59636298-200d-4bf3-87e3-1227ca9c3b2e",
   "metadata": {},
   "outputs": [],
   "source": [
    "metadata = pd.read_csv('D68EV3CPROA_metadata.csv')\n",
    "metadata['RealCrystalName'] = metadata.RealCrystalName.str.replace('D68EV3CPROA-', '')\n",
    "xchem2smiles: pdt.Series[str]  = metadata.drop_duplicates('RealCrystalName').set_index('RealCrystalName').new_smiles.str.replace('Cl.','')\n",
    "xchem2mol: pdt.Series[Chem.Mol] = xchem2smiles.apply(Chem.MolFromSmiles)\n",
    "xchem2fp: pdt.Series[DataStructs] = xchem2mol.apply(functools.partial(AllChem.GetMorganFingerprintAsBitVect, radius=3))\n",
    "originals: List[str] = metadata.loc[~metadata.alternate_name.str.contains('ASAP')].RealCrystalName.to_list()"
   ]
  },
  {
   "cell_type": "code",
   "execution_count": 250,
   "id": "966e1e92-4872-48f4-8f6b-edd7c3b662fc",
   "metadata": {},
   "outputs": [],
   "source": [
    "import pandas as pd\n",
    "import pandera.typing as pdt\n",
    "import functools\n",
    "from rdkit import Chem\n",
    "from rdkit.Chem import AllChem, PandasTools, DataStructs\n",
    "from typing import List\n",
    "\n",
    "\n",
    "asapt: pd.DataFrame =  pd.concat([pd.read_csv('submission-ASAP-DESIGN-996.csv'),\n",
    "                                  pd.read_csv('submission-ASAP-DESIGN-987.csv'),\n",
    "                                  pd.read_csv('submission-ASAP-DESIGN-990.csv')])\n",
    "\n",
    "asap2smiles: pdt.Series[str] = asapt.drop_duplicates('SMILES').set_index('vc_id_postera').original_query\n",
    "asap2mol: pdt.Series[Chem.Mol] = asap2smiles.apply(Chem.MolFromSmiles)\n",
    "asap2fp: pdt.Series[DataStructs] = asap2mol.apply(functools.partial(AllChem.GetMorganFingerprintAsBitVect, radius=3))"
   ]
  },
  {
   "cell_type": "code",
   "execution_count": 251,
   "id": "ae4e18f7-0a36-4f45-b48d-d8b5654869e4",
   "metadata": {},
   "outputs": [],
   "source": [
    "xchem2asap = {}\n",
    "missing = []\n",
    "\n",
    "for xchem_code, xchem_fp in xchem2fp.items():\n",
    "    if xchem_code not in originals:\n",
    "        continue\n",
    "    for asap_code, asap_fp in asap2fp.items():\n",
    "        if xchem_fp == asap_fp:\n",
    "            xchem2asap[xchem_code] = asap_code\n",
    "            break\n",
    "    else:\n",
    "        missing.append(xchem_code)"
   ]
  },
  {
   "cell_type": "code",
   "execution_count": null,
   "id": "b425fad5-ff33-40ec-8027-c9760a71fdb3",
   "metadata": {
    "ExecuteTime": {
     "end_time": "2023-10-27T11:30:14.173566Z",
     "start_time": "2023-10-27T11:30:14.168600Z"
    }
   },
   "outputs": [],
   "source": [
    "if missing:\n",
    "    pd.DataFrame({labels['XChem code']: missing,\n",
    "                  labels['method']: 'XChem initial screen',\n",
    "                  labels['notes']: 'unidentified library',\n",
    "                  'SMILES': [xchem2smiles[code] for code in missing]})\\\n",
    "      .to_csv('missing_codes.csv', index=False)\n",
    "    print('Please upload')\n",
    "else:\n",
    "    print('All good now')"
   ]
  },
  {
   "cell_type": "code",
   "execution_count": 253,
   "id": "8dfa2069-4f05-4539-8f3e-ee2595943548",
   "metadata": {},
   "outputs": [
    {
     "name": "stdout",
     "output_type": "stream",
     "text": [
      "COCCN(C)S(=O)(=O)NCc1ccc2c(c1)OCO2\n"
     ]
    },
    {
     "data": {
      "image/png": "[encoded data removed]",
      "text/plain": [
       "<rdkit.Chem.rdchem.Mol at 0x16c9a6110>"
      ]
     },
     "execution_count": 253,
     "metadata": {},
     "output_type": "execute_result"
    }
   ],
   "source": [
    "print( xchem2smiles['x2021'] )\n",
    "xchem2mol['x2021'] "
   ]
  },
  {
   "cell_type": "code",
   "execution_count": 254,
   "id": "05347871-ad52-4dfa-b7d0-92a6d4d60581",
   "metadata": {},
   "outputs": [],
   "source": [
    "xchem2asap['x2099'] = 'ASAP-VC-5892'\n",
    "xchem2asap['x1919'] = 'ASAP-VC-6113'\n",
    "xchem2asap['x2149'] = 'ASAP-VC-7470'\n",
    "xchem2asap['x2021'] = 'ASAP-VC-6077'\n",
    "xchem2asap[''] = ''\n",
    "xchem2asap[''] = ''"
   ]
  },
  {
   "cell_type": "code",
   "execution_count": 255,
   "id": "076b8f57-cc5f-4865-a3bc-8f8d25afc719",
   "metadata": {},
   "outputs": [],
   "source": [
    "import json\n",
    "\n",
    "with open('xchem2asap.json', 'w') as fh:\n",
    "    json.dump(xchem2asap, fh)"
   ]
  },
  {
   "cell_type": "markdown",
   "id": "30d844ae-6a1c-4c2a-8af8-6b9e88650c50",
   "metadata": {},
   "source": [
    "## Conflict test\n",
    "I think this did not delete previous vcid"
   ]
  },
  {
   "cell_type": "code",
   "execution_count": 256,
   "id": "6e43aa1b-2576-4402-b170-7fbd8eea2185",
   "metadata": {},
   "outputs": [],
   "source": [
    "import pandas as pd\n",
    "\n",
    "libraries = pd.read_csv('combined-XChem-libraries.csv', index_col=0)\n",
    "reduced  =  libraries.drop_duplicates(['SMILES', 'library']) \\\n",
    "                     .groupby('SMILES').agg({'library': ','.join, \n",
    "                                             'Id':set }) \\\n",
    "                     .reset_index()\n",
    "reduced['Id'] = reduced['Id'].apply(','.join)\n",
    "# reduced['designer_institution'] = 'XChem'\n",
    "# reduced['design_rationale'] = 'XChem initial soak'\n",
    "# reduced['design_submission_source_link'] = 'https://www.diamond.ac.uk/industry/Techniques-Available/Integrated-Structural-Biology/Fragment-Screening---XChem/Fragment-Libraries.html'\n",
    "# reduced['designer_name'] = 'XChem team'\n",
    "# reduced['design_notes'] = 'Fragment libraries: '+reduced.design_notes\n",
    "reduced['FP'] = reduced.SMILES.apply(Chem.MolFromSmiles).apply(functools.partial(AllChem.GetMorganFingerprintAsBitVect, radius=3))"
   ]
  },
  {
   "cell_type": "code",
   "execution_count": 257,
   "id": "45ff2881-6870-4d4f-b6d6-f8e417c79fd5",
   "metadata": {},
   "outputs": [],
   "source": [
    "xchem2libary = {}\n",
    "\n",
    "originals = list(set(originals))\n",
    "for code in originals:\n",
    "    matched = reduced.loc[xchem2fp[code] == reduced.FP]\n",
    "    if len(matched):\n",
    "        xchem2libary[code] = matched.library.iloc[0]\n",
    "    else:\n",
    "        xchem2libary[code] = 'unknown'\n",
    "        \n",
    "pd.DataFrame({labels['XChem code']: originals,\n",
    "              labels['method']: 'XChem initial screen',\n",
    "              labels['notes']: [xchem2libary[code] for code in originals],\n",
    "              labels['keywords']: 'screen',\n",
    "              labels['institution']: 'DLS XChem',\n",
    "              labels['date']: '01-01-2001',\n",
    "              'SMILES': [xchem2smiles[code] for code in originals]})\\\n",
    "      .to_csv('xstal.csv', index=False)"
   ]
  },
  {
   "cell_type": "markdown",
   "id": "6134378f-385a-4ba5-b072-c163d2d3366a",
   "metadata": {},
   "source": [
    "## Fix Csets\n",
    "\n",
    "A compound set is a right hand side upload in fragalysis.\n",
    "I.e. submitted virtual compounds"
   ]
  },
  {
   "cell_type": "code",
   "execution_count": null,
   "id": "aa4a8f11-583e-4b6c-a0b4-440a0bb841d7",
   "metadata": {},
   "outputs": [],
   "source": [
    "import requests\n",
    "import pandas as pd\n",
    "import operator\n",
    "import os\n",
    "from pathlib import Path\n",
    "\n",
    "available = [datapath.name for datapath in Path('media_compounds_sets').glob('*.sdf')]\n",
    "\n",
    "cset_metadata = pd.DataFrame( requests.get('https://fragalysis.diamond.ac.uk/api/compound-sets/').json()['results'] )\n",
    "targets = pd.DataFrame( requests.get('https://fragalysis.diamond.ac.uk/api/targets/').json()['results'] )\n",
    "id2name = targets.set_index('id').title.to_dict()\n",
    "cset_metadata['target_name'] = cset_metadata.target.map(id2name)\n",
    "cset_metadata['sdf_name'] = cset_metadata.submitted_sdf.fillna('').apply(os.path.split).apply(operator.itemgetter(-1))\n",
    "cset_metadata['locally_available'] = cset_metadata['sdf_name'].isin(available)"
   ]
  },
  {
   "cell_type": "code",
   "execution_count": 290,
   "id": "df67433a-226a-486f-a784-074fe9675067",
   "metadata": {},
   "outputs": [
    {
     "name": "stdout",
     "output_type": "stream",
     "text": [
      "These are unavailable\n"
     ]
    },
    {
     "data": {
      "text/plain": [
       "['StephWills-fragnetv1',\n",
       " 'LucyVost-STRIFE-fragmentelaboration',\n",
       " 'PDB-StolenfromPDB']"
      ]
     },
     "execution_count": 290,
     "metadata": {},
     "output_type": "execute_result"
    }
   ],
   "source": [
    "print('These are unavailable')\n",
    "cset_metadata.loc[(cset_metadata.target_name == 'D68EV3CPROA') & ~cset_metadata.locally_available].unique_name.to_list()"
   ]
  },
  {
   "cell_type": "code",
   "execution_count": null,
   "id": "fcc5414f-b046-41a4-baf6-f70fd8a6ee6d",
   "metadata": {},
   "outputs": [],
   "source": [
    "output_path = Path('output')\n",
    "output_path.mkdir(exist_ok=True)\n",
    "\n",
    "def desufficify(xchem_codes: str):\n",
    "    return xchem_codes.split('_')[0]\n",
    "\n",
    "def convert_codes_to_asap(xchem_codes: str):\n",
    "    return ' '.join([xchem2asap[desufficify(xchem_code)] for xchem_code in xchem_codes.split(',')])\n",
    "\n",
    "def convert_codes_to_smiles(xchem_codes: str):\n",
    "    return '.'.join([xchem2smiles[desufficify(xchem_code)] for xchem_code in xchem_codes.split(',')])\n",
    "\n",
    "fixer_uppers = cset_metadata.loc[(cset_metadata.target_name == xchem_project_id) & cset_metadata.locally_available]\n",
    "\n",
    "csets = {}\n",
    "for i, row in fixer_uppers.iterrows():\n",
    "    cset = PandasTools.LoadSDF((Path('media_compounds_sets') / row.sdf_name).as_posix(), smilesName='SMILES', embedProps=True)\n",
    "    header = cset.iloc[0]\n",
    "    cset = cset.iloc[1:].copy()\n",
    "    if len(cset) == 0:\n",
    "        print(row.unique_name, 'EMPTY')\n",
    "        continue\n",
    "    if 'STRIFE' in row.unique_name:\n",
    "        keywords = 'STRIFE,de-novo,AI,analog-by-catalog'\n",
    "    elif 'fragnet' in row.unique_name.lower():\n",
    "        keywords = 'fragnet,catalog-enumeration,linker,substructure-based'\n",
    "    elif 'ROCS' in row.unique_name:\n",
    "        keywords = 'ROCS,shape&color,catalog-enumeration'\n",
    "    elif 'Manual' in row.unique_name:\n",
    "        keywords = 'by-eye'\n",
    "    elif 'Arthor' in row.unique_name:\n",
    "        keywords = 'Arthor,catalog-enumeration,linker'\n",
    "    elif 'Fragmenstein' in row.unique_name:\n",
    "        keywords = 'Fragmenstein,de-novo,merger,analog-by-catalog,linker'\n",
    "    else:\n",
    "        raise ValueError(row.unique_name)\n",
    "    cset[labels['keywords']] = keywords\n",
    "    cset[labels['method']] = header.method\n",
    "    cset[labels['name']] = header.submitter_name\n",
    "    cset[labels['email']] = header.submitter_email\n",
    "    cset[labels['institution']] = header.submitter_institution\n",
    "    cset[labels['date']] = header.generation_date\n",
    "    cset[labels['ref XChem']] = cset.ref_mols\n",
    "    cset[labels['ref vcid']] = cset.ref_mols.apply(convert_codes_to_asap)\n",
    "    cset[labels['ref SMILES']] = cset.ref_mols.apply(convert_codes_to_smiles)\n",
    "    cset[labels['notes']] = row.unique_name\n",
    "    \n",
    "    \n",
    "    munged = cset[[col for col in cset.columns if col in labels.values()]]\n",
    "    \n",
    "    cset['fp'] = cset.ROMol.apply(functools.partial(AllChem.GetMorganFingerprintAsBitVect, radius=3))\n",
    "    for xchem_code, xchem_fp in xchem2fp.items():\n",
    "            matched = cset['fp'] == xchem_fp\n",
    "            if matched.any():\n",
    "                print(xchem_code)\n",
    "                munged.loc[matched, labels['XChem code']] = xchem_code\n",
    "    \n",
    "    csets[row.unique_name] = cset.copy()\n",
    "                \n",
    "    print('\\n\\n****************')\n",
    "    print(f'P2. Design wave 1. Fragalysis upload by {header.submitter_name} (\"{row.unique_name}\")')\n",
    "    print(' '.join(set(munged[labels['ref vcid']].to_list())))\n",
    "\n",
    "    munged.fillna('').to_csv(output_path / (row.unique_name + '.csv'), index=False)"
   ]
  },
  {
   "cell_type": "markdown",
   "id": "6dea635f-332e-49db-9698-32e5ddab3c44",
   "metadata": {},
   "source": [
    "## Fix Beth's sheet"
   ]
  },
  {
   "cell_type": "code",
   "execution_count": 384,
   "id": "7380397f-d428-460f-9f91-7534591dfd0b",
   "metadata": {},
   "outputs": [],
   "source": [
    "import pandas as pd\n",
    "\n",
    "quote = pd.read_csv('PosteraPreUploadWithSubstitutionsElaboratedQuote_1753205_subs.csv')\n",
    "quote = quote.loc[~quote.SMILES.isna()].copy()\n",
    "quote['mol'] = quote.SMILES.apply(Chem.MolFromSmiles)\n",
    "quote['fp'] = quote.mol.apply(functools.partial(AllChem.GetMorganFingerprintAsBitVect, radius=3))"
   ]
  },
  {
   "cell_type": "code",
   "execution_count": 385,
   "id": "41ac17ba-b8fd-4c90-bd16-ec68b1a31be8",
   "metadata": {},
   "outputs": [],
   "source": [
    "matched = []\n",
    "for i, row in quote.iterrows():\n",
    "    for cset_name, cset in csets.items():\n",
    "        mask = cset.fp == row.fp\n",
    "        if not any(mask):\n",
    "            continue\n",
    "        matched.append( cset.loc[mask].iloc[0] )\n",
    "        break\n",
    "    else:\n",
    "        print(row)\n",
    "        matched.append( pd.Series() )\n",
    "        \n",
    "matched = pd.DataFrame( matched ).reset_index()\n",
    "matched[[c for c in matched.columns if c in labels.values()]].to_csv('to_order.csv', index=False)"
   ]
  },
  {
   "cell_type": "code",
   "execution_count": 386,
   "id": "75430bce-24cc-493c-b2af-acc71e55510b",
   "metadata": {},
   "outputs": [
    {
     "data": {
      "text/plain": [
       "(126, 126)"
      ]
     },
     "execution_count": 386,
     "metadata": {},
     "output_type": "execute_result"
    }
   ],
   "source": [
    "len(matched), len(quote)"
   ]
  },
  {
   "cell_type": "code",
   "execution_count": 387,
   "id": "2938d2bd-dc74-45d1-a5f6-bfcc4803d365",
   "metadata": {},
   "outputs": [],
   "source": [
    "replaced = matched.loc[(~quote.reset_index().Substitution.isna()).to_list()].copy()\n",
    "labels['order info'] = 'fragment_order_info'\n",
    "replaced[labels['order info']] = 'replaced'\n",
    "replaced[[c for c in replaced.columns if c in labels.values()]].to_csv('replaced.csv', index=False)"
   ]
  },
  {
   "cell_type": "markdown",
   "id": "80a0453e-7f2f-494e-9298-8cb18cf57f91",
   "metadata": {},
   "source": [
    "## Manual Ops\n",
    "The above was uploaded and dowlanded as ASAP-DESIGN-1006"
   ]
  },
  {
   "cell_type": "code",
   "execution_count": 388,
   "id": "81f3bcce-d772-42ca-8b76-f72cf8a06568",
   "metadata": {},
   "outputs": [],
   "source": [
    "#matched.loc[(~quote.reset_index().Substitution.isna()).to_list(), 'fragment_order_info'] = 'replaced'\n",
    "#matched.loc[(~quote.reset_index().Substitution.isna()).to_list(), 'fragment_order_info'] "
   ]
  },
  {
   "cell_type": "code",
   "execution_count": 389,
   "id": "e0ac55b9-c086-49fb-a523-5a28f92ecff8",
   "metadata": {},
   "outputs": [],
   "source": [
    "# original_query is not the original, nor is SMILES uppercase is.\n",
    "replaced_smiles2vcids = pd.read_csv('submission-ASAP-DESIGN-1006.csv').set_index('SMILES').vc_id_postera.to_dict()"
   ]
  },
  {
   "cell_type": "code",
   "execution_count": 390,
   "id": "25f53a24-f469-48b0-8aa3-7f2ca483d1a7",
   "metadata": {},
   "outputs": [],
   "source": [
    "matched['VCID'] = matched.SMILES.map(replaced_smiles2vcids)"
   ]
  },
  {
   "cell_type": "code",
   "execution_count": 446,
   "id": "657ea9d8-5028-45df-a80c-cd5d6e524c6b",
   "metadata": {},
   "outputs": [],
   "source": [
    "munged = pd.concat([quote, matched.drop(columns=['SMILES'])], axis=1)\n",
    "mask = ~munged.Substitution.isna()\n",
    "munged.loc[mask, labels['keywords']] = 'analog-by-catalog'\n",
    "munged.loc[mask, labels['method']] = 'Enamine order substition of ' + munged.loc[mask, labels['method']]\n",
    "munged.loc[mask, labels['ref vcid']] = munged.loc[mask, 'VCID']\n",
    "munged.loc[mask, labels['ref SMILES']] = munged.loc[mask, 'SMILES']\n",
    "munged.loc[mask, labels['ref XChem']] = ''\n",
    "munged.loc[mask, 'SMILES'] = munged.loc[mask,' Substitution SMILES'].apply(lambda s: s.split('>>')[-1])\n",
    "munged.loc[mask, 'Catalog ID'] = munged[mask]['Substitution']\n",
    "for k in ('Collection','Price, USD','Lead time'):\n",
    "    munged.loc[mask, k] = munged.loc[mask, f'{k}.1']\n",
    "    \n",
    "munged.loc[munged[labels['institution']] == 'Nowhere',labels['institution']] = 'University of Oxford'\n",
    "munged['SMILES'] = munged.SMILES.str.strip()\n",
    "\n",
    "wanted_cols = ['SMILES', 'Catalog ID', 'Purity, %', 'Amount, mg', 'Stock Available',\n",
    "       'Collection', 'Price, USD', 'Lead time'] + [c for c in munged.columns if c in labels.values() and c not in ('SMILES',)]\n",
    "assert munged.SMILES.apply(Chem.MolFromSmiles).astype(bool).all(), 'Invalid SMILES!'\n",
    "munged[wanted_cols].to_csv('to_order.csv', index=False)"
   ]
  },
  {
   "cell_type": "code",
   "execution_count": 464,
   "id": "6f4f68cf-9e00-4067-84fc-01ba3537c987",
   "metadata": {},
   "outputs": [
    {
     "name": "stderr",
     "output_type": "stream",
     "text": [
      "[09:20:40] SMILES Parse Error: syntax error while parsing: Solvent\n",
      "[09:20:40] SMILES Parse Error: Failed parsing SMILES 'Solvent' for input: 'Solvent'\n",
      "[09:20:40] SMILES Parse Error: syntax error while parsing: -\n",
      "[09:20:40] SMILES Parse Error: Failed parsing SMILES '-' for input: '-'\n",
      "[09:20:40] SMILES Parse Error: syntax error while parsing: -\n",
      "[09:20:40] SMILES Parse Error: Failed parsing SMILES '-' for input: '-'\n",
      "[09:20:40] SMILES Parse Error: syntax error while parsing: -\n",
      "[09:20:40] SMILES Parse Error: Failed parsing SMILES '-' for input: '-'\n",
      "[09:20:40] SMILES Parse Error: syntax error while parsing: -\n",
      "[09:20:40] SMILES Parse Error: Failed parsing SMILES '-' for input: '-'\n",
      "[09:20:40] SMILES Parse Error: syntax error while parsing: Replace\n",
      "[09:20:40] SMILES Parse Error: Failed parsing SMILES 'Replace' for input: 'Replace'\n"
     ]
    }
   ],
   "source": [
    "import contextlib\n",
    "\n",
    "# xchem2mol: pdt.Series[Chem.Mol] = xchem2smiles\n",
    "# xchem2fp: pdt.Series[DataStructs] = xchem2mol.apply(functools.partial(AllChem.GetMorganFingerprintAsBitVect, radius=3))\n",
    "def to_fp(smiles):\n",
    "    with contextlib.suppress(Exception):\n",
    "        mol = Chem.MolFromSmiles(smiles)\n",
    "        return AllChem.GetMorganFingerprintAsBitVect(mol, radius=3)\n",
    "    return None\n",
    "        \n",
    "\n",
    "soaked = pd.read_csv('EVD68_3C-Protease_SBC_Analysis - Compound Tracker.csv')\n",
    "soaked['FP'] = soaked['Modelled SMILES'].apply(to_fp)"
   ]
  },
  {
   "cell_type": "code",
   "execution_count": 489,
   "id": "a1857971-37df-4382-ad49-29877154b2eb",
   "metadata": {},
   "outputs": [],
   "source": [
    "matched = []\n",
    "\n",
    "def match(fp, blank=['No match']) -> pd.Series:\n",
    "    if fp is None:\n",
    "        return pd.Series({'fragment_notes': 'Invalid SMILES'})\n",
    "    for i, frag in reduced.iterrows():\n",
    "        if frag.FP == fp:\n",
    "            frag['fragment_notes'] = frag.library\n",
    "            blank.append('Unknown library')\n",
    "            return frag\n",
    "    for cset_name, cset in csets.items():\n",
    "        mask = cset.fp == fp\n",
    "        if any(mask):\n",
    "            return cset.loc[mask].iloc[0]\n",
    "    return pd.Series({'fragment_notes': blank[-1]})\n",
    "    \n",
    "    \n",
    "\n",
    "matched: pd.DataFrame = soaked.FP.apply(match)\n",
    "\n",
    "#pd.DataFrame( .to_list() ).reset_index()\n",
    "#matched[[c for c in matched.columns if c in labels.values()]].to_csv('to_order.csv', index=False)\n"
   ]
  },
  {
   "cell_type": "code",
   "execution_count": 542,
   "id": "8db1aba5-46e0-4092-927e-58003fcdd298",
   "metadata": {},
   "outputs": [],
   "source": [
    "def fix(row):\n",
    "    if row.name < 305:\n",
    "        return row\n",
    "    elif row.name > 360:\n",
    "        return row\n",
    "    elif row.fragment_notes == 'No match':\n",
    "        row['fragment_notes'] = 'Other P2'\n",
    "        return row\n",
    "    else:\n",
    "        return row\n",
    "\n",
    "matched = matched.apply(fix, axis=1)"
   ]
  },
  {
   "cell_type": "code",
   "execution_count": 543,
   "id": "4bf23b62-f08d-453f-b5d6-98f523afd14f",
   "metadata": {},
   "outputs": [
    {
     "data": {
      "application/vnd.plotly.v1+json": {
       "config": {
        "plotlyServerURL": "https://plot.ly"
       },
       "data": [
        {
         "domain": {
          "x": [
           0,
           1
          ],
          "y": [
           0,
           1
          ]
         },
         "hovertemplate": "fragment_notes=%{label}<extra></extra>",
         "labels": [
          "Invalid SMILES",
          "Invalid SMILES",
          "Invalid SMILES",
          "Invalid SMILES",
          "Invalid SMILES",
          "Invalid SMILES",
          "Invalid SMILES",
          "No match",
          "No match",
          "No match",
          "No match",
          "No match",
          "No match",
          "No match",
          "No match",
          "No match",
          "No match",
          "No match",
          "No match",
          "No match",
          "No match",
          "No match",
          "No match",
          "No match",
          "No match",
          "No match",
          "No match",
          "No match",
          "No match",
          "No match",
          "No match",
          "No match",
          "No match",
          "No match",
          "No match",
          "No match",
          "No match",
          "No match",
          "No match",
          "No match",
          "No match",
          "No match",
          "No match",
          "No match",
          "No match",
          "No match",
          "No match",
          "No match",
          "No match",
          "No match",
          "No match",
          "No match",
          "No match",
          "No match",
          "No match",
          "No match",
          "No match",
          "No match",
          "No match",
          "No match",
          "No match",
          "No match",
          "No match",
          "No match",
          "No match",
          "No match",
          "No match",
          "No match",
          "No match",
          "No match",
          "No match",
          "No match",
          "No match",
          "No match",
          "No match",
          "No match",
          "No match",
          "No match",
          "No match",
          "No match",
          "No match",
          "No match",
          "No match",
          "No match",
          "No match",
          "No match",
          "No match",
          "No match",
          "No match",
          "No match",
          "No match",
          "No match",
          "No match",
          "No match",
          "No match",
          "No match",
          "No match",
          "No match",
          "No match",
          "No match",
          "No match",
          "No match",
          "No match",
          "No match",
          "No match",
          "No match",
          "No match",
          "No match",
          "No match",
          "No match",
          "No match",
          "No match",
          "No match",
          "No match",
          "No match",
          "No match",
          "No match",
          "No match",
          "No match",
          "No match",
          "No match",
          "No match",
          "No match",
          "No match",
          "No match",
          "No match",
          "No match",
          "No match",
          "No match",
          "No match",
          "No match",
          "No match",
          "No match",
          "No match",
          "No match",
          "No match",
          "No match",
          "No match",
          "No match",
          "No match",
          "No match",
          "No match",
          "No match",
          "No match",
          "No match",
          "No match",
          "No match",
          "No match",
          "No match",
          "No match",
          "No match",
          "No match",
          "No match",
          "No match",
          "No match",
          "No match",
          "No match",
          "No match",
          "No match",
          "No match",
          "No match",
          "Invalid SMILES",
          "No match",
          "No match",
          "No match",
          "No match",
          "No match",
          "No match",
          "No match",
          "No match",
          "No match",
          "No match",
          "No match",
          "No match",
          "No match",
          "No match",
          "No match",
          "No match",
          "No match",
          "No match",
          "No match",
          "No match",
          "No match",
          "No match",
          "No match",
          "No match",
          "No match",
          "No match",
          "No match",
          "No match",
          "No match",
          "No match",
          "No match",
          "No match",
          "No match",
          "No match",
          "No match",
          "No match",
          "No match",
          "No match",
          "No match",
          "No match",
          "No match",
          "No match",
          "No match",
          "No match",
          "No match",
          "No match",
          "No match",
          "No match",
          "No match",
          "No match",
          "No match",
          "No match",
          "No match",
          "No match",
          "No match",
          "No match",
          "No match",
          "No match",
          "No match",
          "No match",
          "No match",
          "No match",
          "No match",
          "No match",
          "No match",
          "No match",
          "No match",
          "No match",
          "No match",
          "No match",
          "No match",
          "No match",
          "No match",
          "No match",
          "No match",
          "No match",
          "No match",
          "No match",
          "No match",
          "No match",
          "No match",
          "No match",
          "No match",
          "No match",
          "No match",
          "No match",
          "No match",
          "No match",
          "No match",
          "No match",
          "No match",
          "No match",
          "No match",
          "No match",
          "No match",
          "No match",
          "No match",
          "No match",
          "No match",
          "No match",
          "No match",
          "No match",
          "No match",
          "No match",
          "No match",
          "No match",
          "No match",
          "No match",
          "No match",
          "No match",
          "No match",
          "No match",
          "No match",
          "No match",
          "No match",
          "No match",
          "No match",
          "No match",
          "No match",
          "No match",
          "No match",
          "No match",
          "No match",
          "No match",
          "No match",
          "No match",
          "No match",
          "No match",
          "No match",
          "No match",
          "No match",
          "No match",
          "No match",
          "No match",
          "No match",
          "No match",
          "No match",
          "No match",
          "No match",
          "No match",
          "No match",
          "No match",
          "MatteoFerla-ROCS&PyRosetta-filtering",
          "Other P2",
          "MatteoFerla-ROCS&PyRosetta-filtering",
          "Other P2",
          "Other P2",
          "MatteoFerla-Manual-Submission",
          "Other P2",
          "Other P2",
          "MatteoFerla-Manual-Submission",
          "MatteoFerla-Manual-Submission",
          "Other P2",
          "MatteoFerla-Manual-Submission",
          "Other P2",
          "Other P2",
          "MatteoFerla-ROCS&PyRosetta-filtering",
          "MatteoFerla-ROCS&PyRosetta-filtering",
          "Other P2",
          "Other P2",
          "Other P2",
          "Other P2",
          "Other P2",
          "Other P2",
          "MatteoFerla-Manual-Submission",
          "Other P2",
          "Other P2",
          "Other P2",
          "Other P2",
          "Other P2",
          "Other P2",
          "Other P2",
          "MatteoFerla-Manual-Submission",
          "Other P2",
          "Other P2",
          "Other P2",
          "Other P2",
          "Other P2",
          "Other P2",
          "Other P2",
          "MatteoFerla-Manual-Submission",
          "Other P2",
          "MatteoFerla-Manual-Submission",
          "Other P2",
          "MatteoFerla-Manual-Submission",
          "Other P2",
          "Other P2",
          "MatteoFerla-Manual-Submission",
          "MatteoFerla-Manual-Submission",
          "Other P2",
          "Other P2",
          "Other P2",
          "Other P2",
          "Other P2",
          "Other P2",
          "MatteoFerla-Manual-Submission",
          "MatteoFerla-Manual-Submission",
          "Other P2",
          "Other P2",
          "No match",
          "No match",
          "No match",
          "No match",
          "No match",
          "No match",
          "No match",
          "No match",
          "No match",
          "No match",
          "No match",
          "No match",
          "No match",
          "No match",
          "No match",
          "No match",
          "No match",
          "No match",
          "No match",
          "No match",
          "No match",
          "No match",
          "No match",
          "No match",
          "No match",
          "No match",
          "No match",
          "No match",
          "No match",
          "No match",
          "No match",
          "No match",
          "No match",
          "No match",
          "No match",
          "No match",
          "No match",
          "No match",
          "No match",
          "No match",
          "No match",
          "No match",
          "No match",
          "No match",
          "Invalid SMILES",
          "No match",
          "No match",
          "No match",
          "No match",
          "No match",
          "No match",
          "No match",
          "No match",
          "No match",
          "No match",
          "No match",
          "No match",
          "No match",
          "No match",
          "No match",
          "No match",
          "No match",
          "No match",
          "No match",
          "No match",
          "No match",
          "No match",
          "No match",
          "No match",
          "No match",
          "No match",
          "No match",
          "No match",
          "No match",
          "No match",
          "No match",
          "No match",
          "No match",
          "No match",
          "No match",
          "No match",
          "No match",
          "No match",
          "No match",
          "No match",
          "No match",
          "No match",
          "No match",
          "Invalid SMILES",
          "Invalid SMILES",
          "No match",
          "No match",
          "No match",
          "No match",
          "No match",
          "No match",
          "No match",
          "No match",
          "No match",
          "No match",
          "No match",
          "No match",
          "No match",
          "No match",
          "No match",
          "No match",
          "No match",
          "No match",
          "No match",
          "No match",
          "No match",
          "No match",
          "No match",
          "No match",
          "No match",
          "No match",
          "No match",
          "No match",
          "No match",
          "No match",
          "No match",
          "No match",
          "No match",
          "No match",
          "No match",
          "No match",
          "No match",
          "No match",
          "No match",
          "No match",
          "No match",
          "No match",
          "No match",
          "No match",
          "No match",
          "No match",
          "No match",
          "No match",
          "No match",
          "No match",
          "No match",
          "No match",
          "No match",
          "No match",
          "No match",
          "No match",
          "No match",
          "No match",
          "No match",
          "No match",
          "No match",
          "No match",
          "No match",
          "No match",
          "No match",
          "No match",
          "No match",
          "No match",
          "No match",
          "No match",
          "No match",
          "No match",
          "No match",
          "No match",
          "No match",
          "No match",
          "No match",
          "No match",
          "No match",
          "No match",
          "No match",
          "No match",
          "No match",
          "No match",
          "No match",
          "No match",
          "No match",
          "No match",
          "No match",
          "No match",
          "No match",
          "No match",
          "No match",
          "No match",
          "No match",
          "No match",
          "No match",
          "No match",
          "No match",
          "No match",
          "No match",
          "No match",
          "No match",
          "No match",
          "No match",
          "No match",
          "No match",
          "No match",
          "No match",
          "No match",
          "No match",
          "No match",
          "No match",
          "No match",
          "No match",
          "No match",
          "No match",
          "No match",
          "No match",
          "No match",
          "No match",
          "No match",
          "No match",
          "No match",
          "No match",
          "No match",
          "No match",
          "No match",
          "No match",
          "No match",
          "No match",
          "No match",
          "No match",
          "No match",
          "No match",
          "No match",
          "No match",
          "No match",
          "No match",
          "No match",
          "No match",
          "No match",
          "No match",
          "No match",
          "No match",
          "Invalid SMILES",
          "Invalid SMILES",
          "Invalid SMILES",
          "Invalid SMILES",
          "Invalid SMILES",
          "Invalid SMILES",
          "Invalid SMILES",
          "Invalid SMILES",
          "Invalid SMILES",
          "Invalid SMILES",
          "Invalid SMILES",
          "Invalid SMILES",
          "Invalid SMILES",
          "Invalid SMILES",
          "Invalid SMILES",
          "No match",
          "No match",
          "No match",
          "No match",
          "No match",
          "No match",
          "Invalid SMILES",
          "Invalid SMILES",
          "Invalid SMILES",
          "Invalid SMILES",
          "Invalid SMILES",
          "Invalid SMILES",
          "Invalid SMILES",
          "Invalid SMILES",
          "Invalid SMILES",
          "Invalid SMILES",
          "Invalid SMILES",
          "Invalid SMILES",
          "Invalid SMILES",
          "Invalid SMILES",
          "Invalid SMILES",
          "Invalid SMILES",
          "Invalid SMILES",
          "Invalid SMILES",
          "Invalid SMILES",
          "Invalid SMILES",
          "Invalid SMILES",
          "Invalid SMILES",
          "Invalid SMILES",
          "Invalid SMILES",
          "Invalid SMILES",
          "Invalid SMILES",
          "Invalid SMILES",
          "Invalid SMILES",
          "Invalid SMILES",
          "Invalid SMILES",
          "Invalid SMILES",
          "Invalid SMILES",
          "Invalid SMILES",
          "Invalid SMILES",
          "Invalid SMILES",
          "Invalid SMILES",
          "Invalid SMILES",
          "Invalid SMILES",
          "Invalid SMILES",
          "Invalid SMILES",
          "Invalid SMILES",
          "Invalid SMILES",
          "Invalid SMILES",
          "Invalid SMILES",
          "Invalid SMILES",
          "Invalid SMILES",
          "Invalid SMILES",
          "Invalid SMILES",
          "Invalid SMILES",
          "Invalid SMILES",
          "Invalid SMILES",
          "Invalid SMILES",
          "Invalid SMILES",
          "Invalid SMILES",
          "Invalid SMILES",
          "Invalid SMILES",
          "Invalid SMILES",
          "Invalid SMILES",
          "Invalid SMILES",
          "Invalid SMILES",
          "Invalid SMILES",
          "Invalid SMILES",
          "Invalid SMILES",
          "Invalid SMILES",
          "Invalid SMILES",
          "Invalid SMILES",
          "Invalid SMILES",
          "Invalid SMILES",
          "Invalid SMILES",
          "Invalid SMILES",
          "Invalid SMILES",
          "Invalid SMILES",
          "Invalid SMILES",
          "Invalid SMILES",
          "Invalid SMILES",
          "Invalid SMILES",
          "Invalid SMILES",
          "Invalid SMILES",
          "Invalid SMILES",
          "Invalid SMILES",
          "Invalid SMILES",
          "Invalid SMILES",
          "Invalid SMILES",
          "Invalid SMILES",
          "Invalid SMILES",
          "Invalid SMILES",
          "Invalid SMILES",
          "Invalid SMILES",
          "Invalid SMILES",
          "Invalid SMILES",
          "Invalid SMILES",
          "Invalid SMILES",
          "Invalid SMILES",
          "Invalid SMILES",
          "Invalid SMILES",
          "Invalid SMILES",
          "Invalid SMILES",
          "Invalid SMILES",
          "Invalid SMILES",
          "Invalid SMILES",
          "Invalid SMILES",
          "Invalid SMILES",
          "Invalid SMILES",
          "Invalid SMILES",
          "Invalid SMILES",
          "Invalid SMILES",
          "Invalid SMILES",
          "Invalid SMILES",
          "Invalid SMILES",
          "Invalid SMILES",
          "Invalid SMILES",
          "Invalid SMILES",
          "Invalid SMILES",
          "Invalid SMILES",
          "Invalid SMILES",
          "Invalid SMILES",
          "Invalid SMILES",
          "Invalid SMILES",
          "Invalid SMILES",
          "Invalid SMILES",
          "Invalid SMILES",
          "Invalid SMILES",
          "Invalid SMILES",
          "Invalid SMILES",
          "Invalid SMILES",
          "Invalid SMILES",
          "Invalid SMILES",
          "Invalid SMILES",
          "Invalid SMILES",
          "Invalid SMILES",
          "Invalid SMILES",
          "Invalid SMILES",
          "Invalid SMILES",
          "Invalid SMILES",
          "Invalid SMILES",
          "Invalid SMILES",
          "Invalid SMILES",
          "Invalid SMILES",
          "Invalid SMILES",
          "Invalid SMILES",
          "Invalid SMILES",
          "Invalid SMILES",
          "Invalid SMILES",
          "Invalid SMILES",
          "Invalid SMILES",
          "Invalid SMILES",
          "Invalid SMILES",
          "Invalid SMILES",
          "Invalid SMILES",
          "Invalid SMILES",
          "Invalid SMILES",
          "Invalid SMILES",
          "Invalid SMILES",
          "Invalid SMILES",
          "Invalid SMILES",
          "CovHetFrags",
          "CovHetFrags",
          "No match",
          "No match",
          "No match",
          "No match",
          "No match",
          "No match",
          "No match",
          "No match",
          "No match",
          "No match",
          "CovHetFrags",
          "CovHetFrags",
          "No match",
          "No match",
          "No match",
          "No match",
          "No match",
          "No match",
          "No match",
          "No match",
          "No match",
          "No match",
          "No match",
          "No match",
          "No match",
          "No match",
          "No match",
          "No match",
          "No match",
          "No match",
          "No match",
          "No match",
          "No match",
          "No match",
          "No match",
          "No match",
          "No match",
          "No match",
          "No match",
          "No match",
          "No match",
          "No match",
          "No match",
          "No match",
          "PepLite",
          "No match",
          "No match",
          "No match",
          "No match",
          "No match",
          "York3D",
          "York3D",
          "York3D",
          "York3D",
          "York3D",
          "York3D",
          "York3D",
          "York3D",
          "York3D",
          "York3D",
          "York3D",
          "York3D",
          "York3D",
          "York3D",
          "York3D",
          "York3D",
          "York3D",
          "York3D",
          "York3D",
          "York3D",
          "York3D",
          "York3D",
          "York3D",
          "York3D",
          "York3D",
          "York3D",
          "York3D",
          "York3D",
          "York3D",
          "York3D",
          "York3D",
          "York3D",
          "York3D",
          "York3D",
          "York3D",
          "York3D",
          "York3D",
          "York3D",
          "York3D",
          "York3D",
          "York3D",
          "York3D",
          "York3D",
          "York3D",
          "York3D",
          "York3D",
          "York3D",
          "York3D",
          "York3D",
          "York3D",
          "York3D",
          "York3D",
          "York3D",
          "York3D",
          "York3D",
          "York3D",
          "York3D",
          "York3D",
          "York3D",
          "York3D",
          "York3D",
          "York3D",
          "York3D",
          "York3D",
          "York3D",
          "York3D",
          "York3D",
          "York3D",
          "York3D",
          "York3D",
          "York3D",
          "York3D",
          "York3D",
          "York3D",
          "York3D",
          "York3D",
          "York3D",
          "York3D",
          "York3D",
          "York3D",
          "York3D",
          "York3D",
          "York3D",
          "York3D",
          "York3D",
          "York3D",
          "York3D",
          "York3D",
          "York3D",
          "York3D",
          "York3D",
          "York3D",
          "York3D",
          "York3D",
          "York3D",
          "York3D",
          "York3D",
          "York3D",
          "York3D",
          "York3D",
          "York3D",
          "York3D",
          "York3D",
          "York3D",
          "York3D",
          "York3D",
          "DSiPoised",
          "DSiPoised",
          "DSiPoised",
          "DSiPoised",
          "DSiPoised",
          "DSiPoised",
          "DSiPoised",
          "DSiPoised",
          "DSiPoised",
          "DSiPoised",
          "DSiPoised",
          "DSiPoised",
          "DSiPoised",
          "SpotXplorer",
          "DSiPoised",
          "DSiPoised",
          "CovHetFrags",
          "CovHetFrags",
          "SpotXplorer",
          "DSiPoised",
          "DSiPoised",
          "DSiPoised",
          "DSiPoised",
          "DSiPoised",
          "DSiPoised",
          "CovHetFrags",
          "No match",
          "SpotXplorer",
          "DSiPoised",
          "No match",
          "CovHetFrags",
          "DSiPoised",
          "CovHetFrags",
          "CovHetFrags",
          "CovHetFrags",
          "No match",
          "SpotXplorer",
          "DSiPoised",
          "DSiPoised",
          "DSiPoised",
          "Leed3D",
          "CovHetFrags",
          "Leed3D",
          "DSiPoised",
          "CovHetFrags",
          "CovHetFrags",
          "DSiPoised",
          "CovHetFrags",
          "DSiPoised",
          "DSiPoised",
          "DSiPoised",
          "SpotXplorer",
          "DSiPoised",
          "DSiPoised",
          "DSiPoised",
          "CovHetFrags",
          "CovHetFrags",
          "DSiPoised",
          "DSiPoised",
          "DSiPoised",
          "DSiPoised",
          "DSiPoised",
          "DSiPoised",
          "DSiPoised",
          "DSiPoised",
          "CovHetFrags",
          "DSiPoised",
          "DSiPoised",
          "DSiPoised",
          "CovHetFrags",
          "CovHetFrags",
          "CovHetFrags",
          "DSiPoised",
          "DSiPoised",
          "DSiPoised",
          "DSiPoised",
          "DSiPoised",
          "DSiPoised",
          "DSiPoised",
          "Leed3D,SpotXplorer",
          "CovHetFrags",
          "DSiPoised",
          "DSiPoised",
          "Leed3D",
          "DSiPoised",
          "DSiPoised",
          "Leed3D",
          "CovHetFrags",
          "CovHetFrags",
          "SpotXplorer",
          "DSiPoised",
          "CovHetFrags",
          "No match",
          "CovHetFrags",
          "Leed3D",
          "DSiPoised",
          "CovHetFrags",
          "SpotXplorer",
          "Euopen",
          "CovHetFrags",
          "Leed3D",
          "DSiPoised",
          "CovHetFrags",
          "SpotXplorer",
          "DSiPoised",
          "SpotXplorer",
          "DSiPoised",
          "CovHetFrags",
          "Leed3D",
          "CovHetFrags",
          "CovHetFrags",
          "CovHetFrags",
          "DSiPoised",
          "Leed3D",
          "SpotXplorer",
          "Leed3D",
          "CovHetFrags",
          "Leed3D",
          "DSiPoised",
          "Leed3D",
          "Leed3D",
          "SpotXplorer",
          "Leed3D",
          "No match",
          "No match",
          "Leed3D",
          "SpotXplorer",
          "SpotXplorer",
          "SpotXplorer",
          "DSiPoised",
          "No match",
          "No match",
          "SpotXplorer",
          "Leed3D",
          "SpotXplorer",
          "CovHetFrags",
          "DSiPoised",
          "CovHetFrags",
          "DSiPoised",
          "CovHetFrags",
          "Leed3D",
          "DSiPoised,Leed3D",
          "DSiPoised",
          "CovHetFrags",
          "DSiPoised",
          "DSiPoised",
          "DSiPoised",
          "Leed3D",
          "DSiPoised",
          "CovHetFrags",
          "CovHetFrags",
          "Leed3D",
          "DSiPoised",
          "DSiPoised,Leed3D",
          "DSiPoised",
          "CovHetFrags",
          "Leed3D",
          "DSiPoised",
          "DSiPoised",
          "Leed3D",
          "DSiPoised",
          "DSiPoised",
          "DSiPoised",
          "DSiPoised",
          "DSiPoised",
          "CovHetFrags",
          "DSiPoised",
          "DSiPoised",
          "DSiPoised",
          "DSiPoised",
          "Leed3D",
          "CovHetFrags",
          "DSiPoised",
          "DSiPoised",
          "CovHetFrags",
          "CovHetFrags",
          "Leed3D",
          "DSiPoised",
          "DSiPoised",
          "DSiPoised",
          "No match",
          "No match",
          "No match",
          "No match",
          "DSiPoised",
          "DSiPoised",
          "DSiPoised",
          "DSiPoised",
          "CovHetFrags",
          "DSiPoised",
          "CovHetFrags",
          "Euopen",
          "SpotXplorer",
          "CovHetFrags",
          "CovHetFrags",
          "Leed3D",
          "CovHetFrags",
          "Leed3D",
          "CovHetFrags",
          "Leed3D",
          "CovHetFrags",
          "DSiPoised",
          "CovHetFrags",
          "Leed3D",
          "Leed3D",
          "Leed3D",
          "Leed3D",
          "SpotXplorer",
          "CovHetFrags",
          "SpotXplorer",
          "SpotXplorer",
          "CovHetFrags",
          "Leed3D",
          "Leed3D",
          "CovHetFrags",
          "CovHetFrags",
          "DSiPoised",
          "DSiPoised",
          "No match",
          "CovHetFrags",
          "CovHetFrags",
          "DSiPoised",
          "No match",
          "No match",
          "No match",
          "No match",
          "No match",
          "DSiPoised",
          "Leed3D",
          "Leed3D",
          "Leed3D",
          "DSiPoised",
          "DSiPoised",
          "No match",
          "No match",
          "DSiPoised",
          "SpotXplorer",
          "DSiPoised",
          "No match",
          "No match",
          "CovHetFrags",
          "No match",
          "Leed3D",
          "CovHetFrags",
          "No match",
          "No match",
          "Leed3D",
          "No match",
          "DSiPoised",
          "No match",
          "Euopen",
          "DSiPoised",
          "DSiPoised",
          "DSiPoised",
          "No match",
          "DSiPoised",
          "DSiPoised",
          "DSiPoised,Leed3D",
          "DSiPoised",
          "DSiPoised",
          "DSiPoised",
          "DSiPoised",
          "DSiPoised",
          "DSiPoised",
          "No match",
          "DSiPoised",
          "DSiPoised",
          "DSiPoised",
          "DSiPoised",
          "DSiPoised",
          "DSiPoised",
          "No match",
          "DSiPoised",
          "DSiPoised",
          "DSiPoised",
          "DSiPoised",
          "DSiPoised",
          "DSiPoised",
          "DSiPoised",
          "No match",
          "DSiPoised",
          "DSiPoised",
          "DSiPoised",
          "DSiPoised",
          "DSiPoised",
          "DSiPoised",
          "DSiPoised",
          "DSiPoised",
          "No match",
          "DSiPoised",
          "Leed3D",
          "No match",
          "Leed3D",
          "DSiPoised",
          "DSiPoised",
          "DSiPoised",
          "No match",
          "DSiPoised",
          "DSiPoised",
          "No match",
          "DSiPoised",
          "DSiPoised",
          "DSiPoised",
          "No match",
          "No match",
          "No match",
          "No match",
          "No match",
          "No match",
          "DSiPoised",
          "No match",
          "DSiPoised",
          "CovHetFrags",
          "DSiPoised",
          "No match",
          "DSiPoised",
          "DSiPoised",
          "No match",
          "No match",
          "DSiPoised",
          "No match",
          "No match",
          "DSiPoised",
          "DSiPoised",
          "No match",
          "DSiPoised",
          "DSiPoised",
          "Leed3D",
          "DSiPoised",
          "Leed3D",
          "SpotXplorer",
          "SpotXplorer",
          "DSiPoised",
          "SpotXplorer",
          "DSiPoised",
          "DSiPoised",
          "DSiPoised",
          "DSiPoised,Leed3D",
          "DSiPoised",
          "DSiPoised",
          "DSiPoised",
          "Euopen",
          "No match",
          "No match",
          "DSiPoised",
          "Euopen",
          "DSiPoised",
          "DSiPoised",
          "DSiPoised,Leed3D",
          "Leed3D",
          "Euopen",
          "DSiPoised",
          "DSiPoised",
          "DSiPoised",
          "DSiPoised",
          "DSiPoised",
          "DSiPoised,Leed3D",
          "DSiPoised",
          "Leed3D",
          "DSiPoised",
          "DSiPoised",
          "CovHetFrags",
          "DSiPoised",
          "No match",
          "No match",
          "DSiPoised",
          "DSiPoised",
          "DSiPoised",
          "DSiPoised",
          "SpotXplorer",
          "DSiPoised",
          "DSiPoised",
          "DSiPoised",
          "DSiPoised",
          "No match",
          "DSiPoised",
          "DSiPoised",
          "DSiPoised",
          "DSiPoised",
          "DSiPoised",
          "No match",
          "DSiPoised",
          "No match",
          "No match",
          "No match",
          "No match",
          "No match",
          "Leed3D",
          "No match",
          "No match",
          "No match",
          "No match",
          "No match",
          "No match",
          "No match",
          "No match",
          "DSiPoised",
          "DSiPoised",
          "No match",
          "DSiPoised",
          "DSiPoised",
          "DSiPoised",
          "DSiPoised",
          "DSiPoised",
          "CovHetFrags",
          "No match",
          "DSiPoised",
          "DSiPoised",
          "DSiPoised",
          "DSiPoised",
          "DSiPoised",
          "SpotXplorer",
          "DSiPoised",
          "DSiPoised",
          "DSiPoised",
          "DSiPoised",
          "No match",
          "Euopen",
          "No match",
          "DSiPoised",
          "No match",
          "DSiPoised",
          "DSiPoised",
          "DSiPoised",
          "DSiPoised",
          "DSiPoised",
          "DSiPoised",
          "DSiPoised",
          "No match",
          "No match",
          "CovHetFrags",
          "No match",
          "No match",
          "No match",
          "DSiPoised",
          "Euopen",
          "DSiPoised",
          "DSiPoised",
          "No match",
          "DSiPoised",
          "DSiPoised",
          "DSiPoised",
          "DSiPoised",
          "DSiPoised",
          "DSiPoised",
          "DSiPoised",
          "DSiPoised",
          "DSiPoised",
          "DSiPoised",
          "DSiPoised",
          "DSiPoised",
          "Leed3D",
          "DSiPoised",
          "DSiPoised",
          "Leed3D",
          "No match",
          "SpotXplorer",
          "DSiPoised,Leed3D",
          "DSiPoised",
          "DSiPoised",
          "Leed3D",
          "DSiPoised",
          "DSiPoised",
          "DSiPoised",
          "Leed3D",
          "DSiPoised",
          "DSiPoised",
          "DSiPoised",
          "DSiPoised",
          "DSiPoised",
          "SpotXplorer",
          "SpotXplorer",
          "DSiPoised",
          "Leed3D",
          "DSiPoised",
          "Leed3D",
          "DSiPoised",
          "DSiPoised",
          "DSiPoised",
          "DSiPoised",
          "DSiPoised",
          "DSiPoised",
          "DSiPoised",
          "DSiPoised",
          "DSiPoised",
          "DSiPoised",
          "DSiPoised",
          "No match",
          "DSiPoised,Leed3D",
          "DSiPoised",
          "DSiPoised",
          "DSiPoised",
          "DSiPoised",
          "DSiPoised",
          "DSiPoised",
          "DSiPoised",
          "DSiPoised",
          "DSiPoised",
          "SpotXplorer",
          "SpotXplorer",
          "Leed3D",
          "DSiPoised",
          "Leed3D",
          "SpotXplorer",
          "Leed3D",
          "No match",
          "DSiPoised",
          "No match",
          "DSiPoised",
          "DSiPoised",
          "SpotXplorer",
          "DSiPoised",
          "No match",
          "CovHetFrags",
          "DSiPoised",
          "DSiPoised",
          "SpotXplorer",
          "DSiPoised",
          "DSiPoised",
          "DSiPoised",
          "DSiPoised",
          "DSiPoised",
          "DSiPoised",
          "DSiPoised",
          "DSiPoised",
          "DSiPoised",
          "DSiPoised",
          "DSiPoised",
          "DSiPoised",
          "No match",
          "DSiPoised",
          "DSiPoised",
          "SpotXplorer",
          "SpotXplorer",
          "DSiPoised",
          "DSiPoised",
          "Leed3D",
          "CovHetFrags",
          "Leed3D",
          "Leed3D",
          "Leed3D",
          "DSiPoised",
          "SpotXplorer",
          "No match",
          "Leed3D",
          "DSiPoised,Leed3D",
          "DSiPoised",
          "DSiPoised",
          "DSiPoised",
          "DSiPoised",
          "DSiPoised",
          "DSiPoised",
          "DSiPoised",
          "DSiPoised",
          "DSiPoised",
          "DSiPoised",
          "DSiPoised",
          "DSiPoised",
          "Leed3D",
          "DSiPoised",
          "DSiPoised",
          "No match",
          "No match",
          "SpotXplorer",
          "DSiPoised",
          "SpotXplorer",
          "DSiPoised",
          "DSiPoised",
          "DSiPoised",
          "Leed3D",
          "No match",
          "Leed3D",
          "No match",
          "DSiPoised",
          "DSiPoised",
          "DSiPoised",
          "No match",
          "DSiPoised",
          "DSiPoised",
          "DSiPoised",
          "CovHetFrags",
          "CovHetFrags",
          "DSiPoised",
          "DSiPoised",
          "DSiPoised",
          "SpotXplorer",
          "DSiPoised",
          "DSiPoised",
          "DSiPoised",
          "DSiPoised",
          "DSiPoised",
          "SpotXplorer",
          "DSiPoised",
          "DSiPoised",
          "No match",
          "SpotXplorer",
          "DSiPoised",
          "DSiPoised",
          "DSiPoised",
          "CovHetFrags",
          "DSiPoised",
          "DSiPoised",
          "DSiPoised",
          "DSiPoised",
          "DSiPoised",
          "No match",
          "DSiPoised,Leed3D",
          "DSiPoised",
          "DSiPoised",
          "DSiPoised",
          "DSiPoised",
          "DSiPoised",
          "DSiPoised",
          "DSiPoised",
          "DSiPoised",
          "No match",
          "DSiPoised",
          "SpotXplorer",
          "DSiPoised",
          "DSiPoised",
          "DSiPoised",
          "DSiPoised",
          "DSiPoised",
          "No match",
          "No match",
          "DSiPoised",
          "SpotXplorer",
          "DSiPoised",
          "DSiPoised",
          "No match",
          "DSiPoised",
          "DSiPoised",
          "DSiPoised",
          "DSiPoised",
          "DSiPoised",
          "SpotXplorer",
          "DSiPoised",
          "DSiPoised",
          "DSiPoised",
          "DSiPoised",
          "DSiPoised",
          "DSiPoised",
          "DSiPoised",
          "DSiPoised",
          "DSiPoised",
          "DSiPoised",
          "SpotXplorer",
          "DSiPoised",
          "DSiPoised",
          "DSiPoised",
          "DSiPoised",
          "DSiPoised",
          "DSiPoised",
          "DSiPoised",
          "DSiPoised",
          "SpotXplorer",
          "DSiPoised",
          "DSiPoised",
          "SpotXplorer",
          "Euopen",
          "DSiPoised",
          "Leed3D",
          "DSiPoised",
          "DSiPoised",
          "SpotXplorer",
          "DSiPoised",
          "DSiPoised",
          "No match",
          "No match",
          "SpotXplorer",
          "CovHetFrags",
          "No match",
          "SpotXplorer",
          "CovHetFrags",
          "DSiPoised",
          "DSiPoised",
          "No match",
          "No match",
          "No match",
          "No match",
          "No match",
          "DSiPoised",
          "DSiPoised",
          "DSiPoised",
          "No match",
          "No match",
          "DSiPoised",
          "CovHetFrags",
          "DSiPoised",
          "DSiPoised",
          "No match",
          "DSiPoised",
          "DSiPoised",
          "DSiPoised",
          "DSiPoised",
          "DSiPoised",
          "No match",
          "No match",
          "DSiPoised",
          "DSiPoised",
          "Leed3D",
          "DSiPoised",
          "DSiPoised",
          "DSiPoised",
          "Leed3D",
          "DSiPoised",
          "No match",
          "DSiPoised",
          "DSiPoised",
          "DSiPoised",
          "DSiPoised",
          "DSiPoised",
          "DSiPoised",
          "DSiPoised",
          "DSiPoised",
          "DSiPoised",
          "SpotXplorer",
          "SpotXplorer",
          "SpotXplorer",
          "SpotXplorer",
          "SpotXplorer",
          "SpotXplorer",
          "DSiPoised",
          "DSiPoised",
          "DSiPoised",
          "DSiPoised",
          "DSiPoised",
          "No match",
          "DSiPoised",
          "DSiPoised",
          "DSiPoised",
          "CovHetFrags",
          "DSiPoised",
          "DSiPoised",
          "DSiPoised",
          "DSiPoised",
          "Leed3D",
          "DSiPoised",
          "SpotXplorer",
          "CovHetFrags",
          "DSiPoised",
          "DSiPoised",
          "DSiPoised",
          "DSiPoised",
          "DSiPoised",
          "DSiPoised",
          "DSiPoised",
          "DSiPoised",
          "DSiPoised",
          "SpotXplorer",
          "DSiPoised",
          "DSiPoised",
          "DSiPoised",
          "DSiPoised",
          "DSiPoised",
          "DSiPoised",
          "DSiPoised",
          "DSiPoised",
          "DSiPoised",
          "SpotXplorer",
          "No match",
          "CovHetFrags",
          "CovHetFrags",
          "CovHetFrags",
          "DSiPoised",
          "DSiPoised",
          "DSiPoised",
          "DSiPoised",
          "DSiPoised",
          "DSiPoised",
          "DSiPoised",
          "DSiPoised",
          "SpotXplorer",
          "No match",
          "DSiPoised",
          "DSiPoised",
          "No match",
          "DSiPoised",
          "Euopen",
          "DSiPoised",
          "DSiPoised",
          "DSiPoised",
          "DSiPoised",
          "Leed3D",
          "DSiPoised",
          "DSiPoised,Leed3D",
          "DSiPoised",
          "DSiPoised",
          "DSiPoised",
          "DSiPoised",
          "DSiPoised",
          "DSiPoised",
          "DSiPoised",
          "CovHetFrags",
          "DSiPoised",
          "DSiPoised",
          "DSiPoised",
          "DSiPoised",
          "SpotXplorer",
          "Euopen",
          "DSiPoised",
          "DSiPoised",
          "Leed3D",
          "DSiPoised",
          "DSiPoised",
          "DSiPoised",
          "CovHetFrags",
          "DSiPoised",
          "DSiPoised",
          "DSiPoised",
          "DSiPoised",
          "DSiPoised",
          "DSiPoised",
          "SpotXplorer",
          "DSiPoised",
          "DSiPoised",
          "No match",
          "No match",
          "No match",
          "No match",
          "No match",
          "No match",
          "No match",
          "No match",
          "No match",
          "No match",
          "No match",
          "No match",
          "No match",
          "No match",
          "No match",
          "No match",
          "No match",
          "No match",
          "No match",
          "No match",
          "No match",
          "No match",
          "No match",
          "No match",
          "No match",
          "No match",
          "No match",
          "No match",
          "No match",
          "No match",
          "No match",
          "No match",
          "No match",
          "No match",
          "No match",
          "No match",
          "No match",
          "No match",
          "No match",
          "No match",
          "No match",
          "No match",
          "No match",
          "No match",
          "No match",
          "No match",
          "DSiPoised",
          "DSiPoised",
          "DSiPoised",
          "Leed3D",
          "DSiPoised",
          "DSiPoised",
          "DSiPoised",
          "SpotXplorer",
          "DSiPoised",
          "SpotXplorer",
          "DSiPoised",
          "DSiPoised",
          "DSiPoised",
          "DSiPoised",
          "DSiPoised",
          "DSiPoised",
          "DSiPoised",
          "DSiPoised",
          "DSiPoised",
          "DSiPoised",
          "DSiPoised",
          "SpotXplorer",
          "DSiPoised",
          "DSiPoised",
          "DSiPoised",
          "DSiPoised",
          "DSiPoised",
          "DSiPoised",
          "DSiPoised",
          "DSiPoised",
          "DSiPoised",
          "DSiPoised",
          "DSiPoised",
          "DSiPoised",
          "DSiPoised",
          "DSiPoised",
          "DSiPoised",
          "DSiPoised",
          "Leed3D",
          "DSiPoised",
          "DSiPoised",
          "DSiPoised",
          "Leed3D",
          "SpotXplorer",
          "DSiPoised",
          "DSiPoised",
          "DSiPoised",
          "DSiPoised",
          "SpotXplorer",
          "SpotXplorer",
          "SpotXplorer",
          "DSiPoised",
          "No match",
          "No match",
          "DSiPoised",
          "SpotXplorer",
          "DSiPoised",
          "DSiPoised",
          "DSiPoised",
          "SpotXplorer",
          "DSiPoised",
          "DSiPoised",
          "SpotXplorer",
          "DSiPoised",
          "DSiPoised",
          "SpotXplorer",
          "No match",
          "DSiPoised",
          "DSiPoised",
          "No match",
          "No match",
          "SpotXplorer",
          "DSiPoised",
          "SpotXplorer",
          "DSiPoised",
          "DSiPoised",
          "Leed3D",
          "DSiPoised",
          "DSiPoised",
          "DSiPoised",
          "DSiPoised",
          "DSiPoised",
          "No match",
          "DSiPoised",
          "DSiPoised",
          "CovHetFrags",
          "DSiPoised",
          "DSiPoised",
          "SpotXplorer",
          "DSiPoised",
          "No match",
          "No match",
          "CovHetFrags",
          "No match",
          "SpotXplorer",
          "CovHetFrags",
          "No match",
          "DSiPoised",
          "DSiPoised",
          "DSiPoised",
          "DSiPoised",
          "DSiPoised",
          "SpotXplorer",
          "DSiPoised",
          "DSiPoised",
          "DSiPoised",
          "DSiPoised",
          "DSiPoised",
          "DSiPoised",
          "DSiPoised",
          "SpotXplorer",
          "DSiPoised",
          "SpotXplorer",
          "DSiPoised,Euopen",
          "No match",
          "No match",
          "DSiPoised",
          "DSiPoised",
          "SpotXplorer",
          "DSiPoised",
          "DSiPoised",
          "DSiPoised",
          "DSiPoised",
          "DSiPoised",
          "SpotXplorer",
          "No match",
          "SpotXplorer",
          "CovHetFrags",
          "CovHetFrags",
          "CovHetFrags",
          "CovHetFrags",
          "SpotXplorer",
          "No match",
          "DSiPoised",
          "DSiPoised",
          "DSiPoised",
          "DSiPoised",
          "DSiPoised",
          "DSiPoised",
          "DSiPoised",
          "SpotXplorer",
          "DSiPoised",
          "DSiPoised",
          "DSiPoised",
          "Leed3D",
          "SpotXplorer",
          "DSiPoised",
          "DSiPoised",
          "DSiPoised",
          "DSiPoised",
          "DSiPoised",
          "DSiPoised",
          "DSiPoised",
          "DSiPoised",
          "DSiPoised",
          "DSiPoised",
          "Leed3D",
          "DSiPoised",
          "DSiPoised",
          "DSiPoised",
          "DSiPoised",
          "DSiPoised",
          "DSiPoised",
          "DSiPoised,Leed3D",
          "DSiPoised",
          "DSiPoised,Leed3D",
          "DSiPoised",
          "DSiPoised",
          "DSiPoised",
          "DSiPoised",
          "DSiPoised",
          "Leed3D",
          "DSiPoised",
          "SpotXplorer",
          "DSiPoised",
          "DSiPoised",
          "DSiPoised",
          "CovHetFrags",
          "DSiPoised",
          "DSiPoised",
          "DSiPoised",
          "DSiPoised",
          "No match",
          "DSiPoised",
          "CovHetFrags",
          "DSiPoised",
          "DSiPoised",
          "DSiPoised",
          "Leed3D",
          "DSiPoised",
          "DSiPoised",
          "DSiPoised",
          "DSiPoised",
          "Leed3D",
          "DSiPoised",
          "DSiPoised",
          "DSiPoised",
          "DSiPoised",
          "DSiPoised",
          "DSiPoised",
          "SpotXplorer",
          "DSiPoised",
          "DSiPoised",
          "DSiPoised",
          "DSiPoised",
          "DSiPoised",
          "DSiPoised",
          "DSiPoised,Leed3D",
          "SpotXplorer",
          "DSiPoised",
          "SpotXplorer",
          "SpotXplorer",
          "DSiPoised",
          "DSiPoised",
          "DSiPoised",
          "DSiPoised,Leed3D",
          "DSiPoised",
          "DSiPoised",
          "DSiPoised",
          "DSiPoised",
          "DSiPoised",
          "SpotXplorer",
          "DSiPoised",
          "No match",
          "No match",
          "DSiPoised",
          "DSiPoised",
          "Leed3D",
          "DSiPoised",
          "DSiPoised",
          "No match",
          "No match",
          "No match",
          "No match",
          "DSiPoised",
          "DSiPoised",
          "DSiPoised",
          "No match",
          "DSiPoised",
          "SpotXplorer",
          "DSiPoised",
          "DSiPoised",
          "Leed3D",
          "Leed3D",
          "DSiPoised",
          "DSiPoised",
          "Leed3D",
          "DSiPoised",
          "DSiPoised",
          "DSiPoised",
          "DSiPoised",
          "DSiPoised",
          "DSiPoised",
          "DSiPoised",
          "DSiPoised",
          "DSiPoised",
          "Leed3D",
          "DSiPoised",
          "DSiPoised",
          "DSiPoised",
          "DSiPoised",
          "Invalid SMILES"
         ],
         "legendgroup": "",
         "name": "",
         "showlegend": true,
         "type": "pie"
        }
       ],
       "layout": {
        "autosize": true,
        "legend": {
         "tracegroupgap": 0
        },
        "margin": {
         "t": 60
        },
        "template": {
         "data": {
          "bar": [
           {
            "error_x": {
             "color": "#2a3f5f"
            },
            "error_y": {
             "color": "#2a3f5f"
            },
            "marker": {
             "line": {
              "color": "#E5ECF6",
              "width": 0.5
             },
             "pattern": {
              "fillmode": "overlay",
              "size": 10,
              "solidity": 0.2
             }
            },
            "type": "bar"
           }
          ],
          "barpolar": [
           {
            "marker": {
             "line": {
              "color": "#E5ECF6",
              "width": 0.5
             },
             "pattern": {
              "fillmode": "overlay",
              "size": 10,
              "solidity": 0.2
             }
            },
            "type": "barpolar"
           }
          ],
          "carpet": [
           {
            "aaxis": {
             "endlinecolor": "#2a3f5f",
             "gridcolor": "white",
             "linecolor": "white",
             "minorgridcolor": "white",
             "startlinecolor": "#2a3f5f"
            },
            "baxis": {
             "endlinecolor": "#2a3f5f",
             "gridcolor": "white",
             "linecolor": "white",
             "minorgridcolor": "white",
             "startlinecolor": "#2a3f5f"
            },
            "type": "carpet"
           }
          ],
          "choropleth": [
           {
            "colorbar": {
             "outlinewidth": 0,
             "ticks": ""
            },
            "type": "choropleth"
           }
          ],
          "contour": [
           {
            "colorbar": {
             "outlinewidth": 0,
             "ticks": ""
            },
            "colorscale": [
             [
              0,
              "#0d0887"
             ],
             [
              0.1111111111111111,
              "#46039f"
             ],
             [
              0.2222222222222222,
              "#7201a8"
             ],
             [
              0.3333333333333333,
              "#9c179e"
             ],
             [
              0.4444444444444444,
              "#bd3786"
             ],
             [
              0.5555555555555556,
              "#d8576b"
             ],
             [
              0.6666666666666666,
              "#ed7953"
             ],
             [
              0.7777777777777778,
              "#fb9f3a"
             ],
             [
              0.8888888888888888,
              "#fdca26"
             ],
             [
              1,
              "#f0f921"
             ]
            ],
            "type": "contour"
           }
          ],
          "contourcarpet": [
           {
            "colorbar": {
             "outlinewidth": 0,
             "ticks": ""
            },
            "type": "contourcarpet"
           }
          ],
          "heatmap": [
           {
            "colorbar": {
             "outlinewidth": 0,
             "ticks": ""
            },
            "colorscale": [
             [
              0,
              "#0d0887"
             ],
             [
              0.1111111111111111,
              "#46039f"
             ],
             [
              0.2222222222222222,
              "#7201a8"
             ],
             [
              0.3333333333333333,
              "#9c179e"
             ],
             [
              0.4444444444444444,
              "#bd3786"
             ],
             [
              0.5555555555555556,
              "#d8576b"
             ],
             [
              0.6666666666666666,
              "#ed7953"
             ],
             [
              0.7777777777777778,
              "#fb9f3a"
             ],
             [
              0.8888888888888888,
              "#fdca26"
             ],
             [
              1,
              "#f0f921"
             ]
            ],
            "type": "heatmap"
           }
          ],
          "heatmapgl": [
           {
            "colorbar": {
             "outlinewidth": 0,
             "ticks": ""
            },
            "colorscale": [
             [
              0,
              "#0d0887"
             ],
             [
              0.1111111111111111,
              "#46039f"
             ],
             [
              0.2222222222222222,
              "#7201a8"
             ],
             [
              0.3333333333333333,
              "#9c179e"
             ],
             [
              0.4444444444444444,
              "#bd3786"
             ],
             [
              0.5555555555555556,
              "#d8576b"
             ],
             [
              0.6666666666666666,
              "#ed7953"
             ],
             [
              0.7777777777777778,
              "#fb9f3a"
             ],
             [
              0.8888888888888888,
              "#fdca26"
             ],
             [
              1,
              "#f0f921"
             ]
            ],
            "type": "heatmapgl"
           }
          ],
          "histogram": [
           {
            "marker": {
             "pattern": {
              "fillmode": "overlay",
              "size": 10,
              "solidity": 0.2
             }
            },
            "type": "histogram"
           }
          ],
          "histogram2d": [
           {
            "colorbar": {
             "outlinewidth": 0,
             "ticks": ""
            },
            "colorscale": [
             [
              0,
              "#0d0887"
             ],
             [
              0.1111111111111111,
              "#46039f"
             ],
             [
              0.2222222222222222,
              "#7201a8"
             ],
             [
              0.3333333333333333,
              "#9c179e"
             ],
             [
              0.4444444444444444,
              "#bd3786"
             ],
             [
              0.5555555555555556,
              "#d8576b"
             ],
             [
              0.6666666666666666,
              "#ed7953"
             ],
             [
              0.7777777777777778,
              "#fb9f3a"
             ],
             [
              0.8888888888888888,
              "#fdca26"
             ],
             [
              1,
              "#f0f921"
             ]
            ],
            "type": "histogram2d"
           }
          ],
          "histogram2dcontour": [
           {
            "colorbar": {
             "outlinewidth": 0,
             "ticks": ""
            },
            "colorscale": [
             [
              0,
              "#0d0887"
             ],
             [
              0.1111111111111111,
              "#46039f"
             ],
             [
              0.2222222222222222,
              "#7201a8"
             ],
             [
              0.3333333333333333,
              "#9c179e"
             ],
             [
              0.4444444444444444,
              "#bd3786"
             ],
             [
              0.5555555555555556,
              "#d8576b"
             ],
             [
              0.6666666666666666,
              "#ed7953"
             ],
             [
              0.7777777777777778,
              "#fb9f3a"
             ],
             [
              0.8888888888888888,
              "#fdca26"
             ],
             [
              1,
              "#f0f921"
             ]
            ],
            "type": "histogram2dcontour"
           }
          ],
          "mesh3d": [
           {
            "colorbar": {
             "outlinewidth": 0,
             "ticks": ""
            },
            "type": "mesh3d"
           }
          ],
          "parcoords": [
           {
            "line": {
             "colorbar": {
              "outlinewidth": 0,
              "ticks": ""
             }
            },
            "type": "parcoords"
           }
          ],
          "pie": [
           {
            "automargin": true,
            "type": "pie"
           }
          ],
          "scatter": [
           {
            "fillpattern": {
             "fillmode": "overlay",
             "size": 10,
             "solidity": 0.2
            },
            "type": "scatter"
           }
          ],
          "scatter3d": [
           {
            "line": {
             "colorbar": {
              "outlinewidth": 0,
              "ticks": ""
             }
            },
            "marker": {
             "colorbar": {
              "outlinewidth": 0,
              "ticks": ""
             }
            },
            "type": "scatter3d"
           }
          ],
          "scattercarpet": [
           {
            "marker": {
             "colorbar": {
              "outlinewidth": 0,
              "ticks": ""
             }
            },
            "type": "scattercarpet"
           }
          ],
          "scattergeo": [
           {
            "marker": {
             "colorbar": {
              "outlinewidth": 0,
              "ticks": ""
             }
            },
            "type": "scattergeo"
           }
          ],
          "scattergl": [
           {
            "marker": {
             "colorbar": {
              "outlinewidth": 0,
              "ticks": ""
             }
            },
            "type": "scattergl"
           }
          ],
          "scattermapbox": [
           {
            "marker": {
             "colorbar": {
              "outlinewidth": 0,
              "ticks": ""
             }
            },
            "type": "scattermapbox"
           }
          ],
          "scatterpolar": [
           {
            "marker": {
             "colorbar": {
              "outlinewidth": 0,
              "ticks": ""
             }
            },
            "type": "scatterpolar"
           }
          ],
          "scatterpolargl": [
           {
            "marker": {
             "colorbar": {
              "outlinewidth": 0,
              "ticks": ""
             }
            },
            "type": "scatterpolargl"
           }
          ],
          "scatterternary": [
           {
            "marker": {
             "colorbar": {
              "outlinewidth": 0,
              "ticks": ""
             }
            },
            "type": "scatterternary"
           }
          ],
          "surface": [
           {
            "colorbar": {
             "outlinewidth": 0,
             "ticks": ""
            },
            "colorscale": [
             [
              0,
              "#0d0887"
             ],
             [
              0.1111111111111111,
              "#46039f"
             ],
             [
              0.2222222222222222,
              "#7201a8"
             ],
             [
              0.3333333333333333,
              "#9c179e"
             ],
             [
              0.4444444444444444,
              "#bd3786"
             ],
             [
              0.5555555555555556,
              "#d8576b"
             ],
             [
              0.6666666666666666,
              "#ed7953"
             ],
             [
              0.7777777777777778,
              "#fb9f3a"
             ],
             [
              0.8888888888888888,
              "#fdca26"
             ],
             [
              1,
              "#f0f921"
             ]
            ],
            "type": "surface"
           }
          ],
          "table": [
           {
            "cells": {
             "fill": {
              "color": "#EBF0F8"
             },
             "line": {
              "color": "white"
             }
            },
            "header": {
             "fill": {
              "color": "#C8D4E3"
             },
             "line": {
              "color": "white"
             }
            },
            "type": "table"
           }
          ]
         },
         "layout": {
          "annotationdefaults": {
           "arrowcolor": "#2a3f5f",
           "arrowhead": 0,
           "arrowwidth": 1
          },
          "autotypenumbers": "strict",
          "coloraxis": {
           "colorbar": {
            "outlinewidth": 0,
            "ticks": ""
           }
          },
          "colorscale": {
           "diverging": [
            [
             0,
             "#8e0152"
            ],
            [
             0.1,
             "#c51b7d"
            ],
            [
             0.2,
             "#de77ae"
            ],
            [
             0.3,
             "#f1b6da"
            ],
            [
             0.4,
             "#fde0ef"
            ],
            [
             0.5,
             "#f7f7f7"
            ],
            [
             0.6,
             "#e6f5d0"
            ],
            [
             0.7,
             "#b8e186"
            ],
            [
             0.8,
             "#7fbc41"
            ],
            [
             0.9,
             "#4d9221"
            ],
            [
             1,
             "#276419"
            ]
           ],
           "sequential": [
            [
             0,
             "#0d0887"
            ],
            [
             0.1111111111111111,
             "#46039f"
            ],
            [
             0.2222222222222222,
             "#7201a8"
            ],
            [
             0.3333333333333333,
             "#9c179e"
            ],
            [
             0.4444444444444444,
             "#bd3786"
            ],
            [
             0.5555555555555556,
             "#d8576b"
            ],
            [
             0.6666666666666666,
             "#ed7953"
            ],
            [
             0.7777777777777778,
             "#fb9f3a"
            ],
            [
             0.8888888888888888,
             "#fdca26"
            ],
            [
             1,
             "#f0f921"
            ]
           ],
           "sequentialminus": [
            [
             0,
             "#0d0887"
            ],
            [
             0.1111111111111111,
             "#46039f"
            ],
            [
             0.2222222222222222,
             "#7201a8"
            ],
            [
             0.3333333333333333,
             "#9c179e"
            ],
            [
             0.4444444444444444,
             "#bd3786"
            ],
            [
             0.5555555555555556,
             "#d8576b"
            ],
            [
             0.6666666666666666,
             "#ed7953"
            ],
            [
             0.7777777777777778,
             "#fb9f3a"
            ],
            [
             0.8888888888888888,
             "#fdca26"
            ],
            [
             1,
             "#f0f921"
            ]
           ]
          },
          "colorway": [
           "#636efa",
           "#EF553B",
           "#00cc96",
           "#ab63fa",
           "#FFA15A",
           "#19d3f3",
           "#FF6692",
           "#B6E880",
           "#FF97FF",
           "#FECB52"
          ],
          "font": {
           "color": "#2a3f5f"
          },
          "geo": {
           "bgcolor": "white",
           "lakecolor": "white",
           "landcolor": "#E5ECF6",
           "showlakes": true,
           "showland": true,
           "subunitcolor": "white"
          },
          "hoverlabel": {
           "align": "left"
          },
          "hovermode": "closest",
          "mapbox": {
           "style": "light"
          },
          "paper_bgcolor": "white",
          "plot_bgcolor": "#E5ECF6",
          "polar": {
           "angularaxis": {
            "gridcolor": "white",
            "linecolor": "white",
            "ticks": ""
           },
           "bgcolor": "#E5ECF6",
           "radialaxis": {
            "gridcolor": "white",
            "linecolor": "white",
            "ticks": ""
           }
          },
          "scene": {
           "xaxis": {
            "backgroundcolor": "#E5ECF6",
            "gridcolor": "white",
            "gridwidth": 2,
            "linecolor": "white",
            "showbackground": true,
            "ticks": "",
            "zerolinecolor": "white"
           },
           "yaxis": {
            "backgroundcolor": "#E5ECF6",
            "gridcolor": "white",
            "gridwidth": 2,
            "linecolor": "white",
            "showbackground": true,
            "ticks": "",
            "zerolinecolor": "white"
           },
           "zaxis": {
            "backgroundcolor": "#E5ECF6",
            "gridcolor": "white",
            "gridwidth": 2,
            "linecolor": "white",
            "showbackground": true,
            "ticks": "",
            "zerolinecolor": "white"
           }
          },
          "shapedefaults": {
           "line": {
            "color": "#2a3f5f"
           }
          },
          "ternary": {
           "aaxis": {
            "gridcolor": "white",
            "linecolor": "white",
            "ticks": ""
           },
           "baxis": {
            "gridcolor": "white",
            "linecolor": "white",
            "ticks": ""
           },
           "bgcolor": "#E5ECF6",
           "caxis": {
            "gridcolor": "white",
            "linecolor": "white",
            "ticks": ""
           }
          },
          "title": {
           "x": 0.05
          },
          "xaxis": {
           "automargin": true,
           "gridcolor": "white",
           "linecolor": "white",
           "ticks": "",
           "title": {
            "standoff": 15
           },
           "zerolinecolor": "white",
           "zerolinewidth": 2
          },
          "yaxis": {
           "automargin": true,
           "gridcolor": "white",
           "linecolor": "white",
           "ticks": "",
           "title": {
            "standoff": 15
           },
           "zerolinecolor": "white",
           "zerolinewidth": 2
          }
         }
        }
       }
      },
      "image/png": "[encoded data removed]",
      "text/html": [
       "<div>                            <div id=\"5f6cdff0-8f1d-4e2e-bece-6255274ebde1\" class=\"plotly-graph-div\" style=\"height:525px; width:100%;\"></div>            <script type=\"text/javascript\">                require([\"plotly\"], function(Plotly) {                    window.PLOTLYENV=window.PLOTLYENV || {};                                    if (document.getElementById(\"5f6cdff0-8f1d-4e2e-bece-6255274ebde1\")) {                    Plotly.newPlot(                        \"5f6cdff0-8f1d-4e2e-bece-6255274ebde1\",                        [{\"domain\":{\"x\":[0.0,1.0],\"y\":[0.0,1.0]},\"hovertemplate\":\"fragment_notes=%{label}<extra></extra>\",\"labels\":[\"Invalid SMILES\",\"Invalid SMILES\",\"Invalid SMILES\",\"Invalid SMILES\",\"Invalid SMILES\",\"Invalid SMILES\",\"Invalid SMILES\",\"No match\",\"No match\",\"No match\",\"No match\",\"No match\",\"No match\",\"No match\",\"No match\",\"No match\",\"No match\",\"No match\",\"No match\",\"No match\",\"No match\",\"No match\",\"No match\",\"No match\",\"No match\",\"No match\",\"No match\",\"No match\",\"No match\",\"No match\",\"No match\",\"No match\",\"No match\",\"No match\",\"No match\",\"No match\",\"No match\",\"No match\",\"No match\",\"No match\",\"No match\",\"No match\",\"No match\",\"No match\",\"No match\",\"No match\",\"No match\",\"No match\",\"No match\",\"No match\",\"No match\",\"No match\",\"No match\",\"No match\",\"No match\",\"No match\",\"No match\",\"No match\",\"No match\",\"No match\",\"No match\",\"No match\",\"No match\",\"No match\",\"No match\",\"No match\",\"No match\",\"No match\",\"No match\",\"No match\",\"No match\",\"No match\",\"No match\",\"No match\",\"No match\",\"No match\",\"No match\",\"No match\",\"No match\",\"No match\",\"No match\",\"No match\",\"No match\",\"No match\",\"No match\",\"No match\",\"No match\",\"No match\",\"No match\",\"No match\",\"No match\",\"No match\",\"No match\",\"No match\",\"No match\",\"No match\",\"No match\",\"No match\",\"No match\",\"No match\",\"No match\",\"No match\",\"No match\",\"No match\",\"No match\",\"No match\",\"No match\",\"No match\",\"No match\",\"No match\",\"No match\",\"No match\",\"No match\",\"No match\",\"No match\",\"No match\",\"No match\",\"No match\",\"No match\",\"No match\",\"No match\",\"No match\",\"No match\",\"No match\",\"No match\",\"No match\",\"No match\",\"No match\",\"No match\",\"No match\",\"No match\",\"No match\",\"No match\",\"No match\",\"No match\",\"No match\",\"No match\",\"No match\",\"No match\",\"No match\",\"No match\",\"No match\",\"No match\",\"No match\",\"No match\",\"No match\",\"No match\",\"No match\",\"No match\",\"No match\",\"No match\",\"No match\",\"No match\",\"No match\",\"No match\",\"No match\",\"No match\",\"No match\",\"No match\",\"No match\",\"No match\",\"Invalid SMILES\",\"No match\",\"No match\",\"No match\",\"No match\",\"No match\",\"No match\",\"No match\",\"No match\",\"No match\",\"No match\",\"No match\",\"No match\",\"No match\",\"No match\",\"No match\",\"No match\",\"No match\",\"No match\",\"No match\",\"No match\",\"No match\",\"No match\",\"No match\",\"No match\",\"No match\",\"No match\",\"No match\",\"No match\",\"No match\",\"No match\",\"No match\",\"No match\",\"No match\",\"No match\",\"No match\",\"No match\",\"No match\",\"No match\",\"No match\",\"No match\",\"No match\",\"No match\",\"No match\",\"No match\",\"No match\",\"No match\",\"No match\",\"No match\",\"No match\",\"No match\",\"No match\",\"No match\",\"No match\",\"No match\",\"No match\",\"No match\",\"No match\",\"No match\",\"No match\",\"No match\",\"No match\",\"No match\",\"No match\",\"No match\",\"No match\",\"No match\",\"No match\",\"No match\",\"No match\",\"No match\",\"No match\",\"No match\",\"No match\",\"No match\",\"No match\",\"No match\",\"No match\",\"No match\",\"No match\",\"No match\",\"No match\",\"No match\",\"No match\",\"No match\",\"No match\",\"No match\",\"No match\",\"No match\",\"No match\",\"No match\",\"No match\",\"No match\",\"No match\",\"No match\",\"No match\",\"No match\",\"No match\",\"No match\",\"No match\",\"No match\",\"No match\",\"No match\",\"No match\",\"No match\",\"No match\",\"No match\",\"No match\",\"No match\",\"No match\",\"No match\",\"No match\",\"No match\",\"No match\",\"No match\",\"No match\",\"No match\",\"No match\",\"No match\",\"No match\",\"No match\",\"No match\",\"No match\",\"No match\",\"No match\",\"No match\",\"No match\",\"No match\",\"No match\",\"No match\",\"No match\",\"No match\",\"No match\",\"No match\",\"No match\",\"No match\",\"No match\",\"No match\",\"No match\",\"No match\",\"No match\",\"No match\",\"No match\",\"MatteoFerla-ROCS&PyRosetta-filtering\",\"Other P2\",\"MatteoFerla-ROCS&PyRosetta-filtering\",\"Other P2\",\"Other P2\",\"MatteoFerla-Manual-Submission\",\"Other P2\",\"Other P2\",\"MatteoFerla-Manual-Submission\",\"MatteoFerla-Manual-Submission\",\"Other P2\",\"MatteoFerla-Manual-Submission\",\"Other P2\",\"Other P2\",\"MatteoFerla-ROCS&PyRosetta-filtering\",\"MatteoFerla-ROCS&PyRosetta-filtering\",\"Other P2\",\"Other P2\",\"Other P2\",\"Other P2\",\"Other P2\",\"Other P2\",\"MatteoFerla-Manual-Submission\",\"Other P2\",\"Other P2\",\"Other P2\",\"Other P2\",\"Other P2\",\"Other P2\",\"Other P2\",\"MatteoFerla-Manual-Submission\",\"Other P2\",\"Other P2\",\"Other P2\",\"Other P2\",\"Other P2\",\"Other P2\",\"Other P2\",\"MatteoFerla-Manual-Submission\",\"Other P2\",\"MatteoFerla-Manual-Submission\",\"Other P2\",\"MatteoFerla-Manual-Submission\",\"Other P2\",\"Other P2\",\"MatteoFerla-Manual-Submission\",\"MatteoFerla-Manual-Submission\",\"Other P2\",\"Other P2\",\"Other P2\",\"Other P2\",\"Other P2\",\"Other P2\",\"MatteoFerla-Manual-Submission\",\"MatteoFerla-Manual-Submission\",\"Other P2\",\"Other P2\",\"No match\",\"No match\",\"No match\",\"No match\",\"No match\",\"No match\",\"No match\",\"No match\",\"No match\",\"No match\",\"No match\",\"No match\",\"No match\",\"No match\",\"No match\",\"No match\",\"No match\",\"No match\",\"No match\",\"No match\",\"No match\",\"No match\",\"No match\",\"No match\",\"No match\",\"No match\",\"No match\",\"No match\",\"No match\",\"No match\",\"No match\",\"No match\",\"No match\",\"No match\",\"No match\",\"No match\",\"No match\",\"No match\",\"No match\",\"No match\",\"No match\",\"No match\",\"No match\",\"No match\",\"Invalid SMILES\",\"No match\",\"No match\",\"No match\",\"No match\",\"No match\",\"No match\",\"No match\",\"No match\",\"No match\",\"No match\",\"No match\",\"No match\",\"No match\",\"No match\",\"No match\",\"No match\",\"No match\",\"No match\",\"No match\",\"No match\",\"No match\",\"No match\",\"No match\",\"No match\",\"No match\",\"No match\",\"No match\",\"No match\",\"No match\",\"No match\",\"No match\",\"No match\",\"No match\",\"No match\",\"No match\",\"No match\",\"No match\",\"No match\",\"No match\",\"No match\",\"No match\",\"No match\",\"No match\",\"Invalid SMILES\",\"Invalid SMILES\",\"No match\",\"No match\",\"No match\",\"No match\",\"No match\",\"No match\",\"No match\",\"No match\",\"No match\",\"No match\",\"No match\",\"No match\",\"No match\",\"No match\",\"No match\",\"No match\",\"No match\",\"No match\",\"No match\",\"No match\",\"No match\",\"No match\",\"No match\",\"No match\",\"No match\",\"No match\",\"No match\",\"No match\",\"No match\",\"No match\",\"No match\",\"No match\",\"No match\",\"No match\",\"No match\",\"No match\",\"No match\",\"No match\",\"No match\",\"No match\",\"No match\",\"No match\",\"No match\",\"No match\",\"No match\",\"No match\",\"No match\",\"No match\",\"No match\",\"No match\",\"No match\",\"No match\",\"No match\",\"No match\",\"No match\",\"No match\",\"No match\",\"No match\",\"No match\",\"No match\",\"No match\",\"No match\",\"No match\",\"No match\",\"No match\",\"No match\",\"No match\",\"No match\",\"No match\",\"No match\",\"No match\",\"No match\",\"No match\",\"No match\",\"No match\",\"No match\",\"No match\",\"No match\",\"No match\",\"No match\",\"No match\",\"No match\",\"No match\",\"No match\",\"No match\",\"No match\",\"No match\",\"No match\",\"No match\",\"No match\",\"No match\",\"No match\",\"No match\",\"No match\",\"No match\",\"No match\",\"No match\",\"No match\",\"No match\",\"No match\",\"No match\",\"No match\",\"No match\",\"No match\",\"No match\",\"No match\",\"No match\",\"No match\",\"No match\",\"No match\",\"No match\",\"No match\",\"No match\",\"No match\",\"No match\",\"No match\",\"No match\",\"No match\",\"No match\",\"No match\",\"No match\",\"No match\",\"No match\",\"No match\",\"No match\",\"No match\",\"No match\",\"No match\",\"No match\",\"No match\",\"No match\",\"No match\",\"No match\",\"No match\",\"No match\",\"No match\",\"No match\",\"No match\",\"No match\",\"No match\",\"No match\",\"No match\",\"No match\",\"No match\",\"No match\",\"Invalid SMILES\",\"Invalid SMILES\",\"Invalid SMILES\",\"Invalid SMILES\",\"Invalid SMILES\",\"Invalid SMILES\",\"Invalid SMILES\",\"Invalid SMILES\",\"Invalid SMILES\",\"Invalid SMILES\",\"Invalid SMILES\",\"Invalid SMILES\",\"Invalid SMILES\",\"Invalid SMILES\",\"Invalid SMILES\",\"No match\",\"No match\",\"No match\",\"No match\",\"No match\",\"No match\",\"Invalid SMILES\",\"Invalid SMILES\",\"Invalid SMILES\",\"Invalid SMILES\",\"Invalid SMILES\",\"Invalid SMILES\",\"Invalid SMILES\",\"Invalid SMILES\",\"Invalid SMILES\",\"Invalid SMILES\",\"Invalid SMILES\",\"Invalid SMILES\",\"Invalid SMILES\",\"Invalid SMILES\",\"Invalid SMILES\",\"Invalid SMILES\",\"Invalid SMILES\",\"Invalid SMILES\",\"Invalid SMILES\",\"Invalid SMILES\",\"Invalid SMILES\",\"Invalid SMILES\",\"Invalid SMILES\",\"Invalid SMILES\",\"Invalid SMILES\",\"Invalid SMILES\",\"Invalid SMILES\",\"Invalid SMILES\",\"Invalid SMILES\",\"Invalid SMILES\",\"Invalid SMILES\",\"Invalid SMILES\",\"Invalid SMILES\",\"Invalid SMILES\",\"Invalid SMILES\",\"Invalid SMILES\",\"Invalid SMILES\",\"Invalid SMILES\",\"Invalid SMILES\",\"Invalid SMILES\",\"Invalid SMILES\",\"Invalid SMILES\",\"Invalid SMILES\",\"Invalid SMILES\",\"Invalid SMILES\",\"Invalid SMILES\",\"Invalid SMILES\",\"Invalid SMILES\",\"Invalid SMILES\",\"Invalid SMILES\",\"Invalid SMILES\",\"Invalid SMILES\",\"Invalid SMILES\",\"Invalid SMILES\",\"Invalid SMILES\",\"Invalid SMILES\",\"Invalid SMILES\",\"Invalid SMILES\",\"Invalid SMILES\",\"Invalid SMILES\",\"Invalid SMILES\",\"Invalid SMILES\",\"Invalid SMILES\",\"Invalid SMILES\",\"Invalid SMILES\",\"Invalid SMILES\",\"Invalid SMILES\",\"Invalid SMILES\",\"Invalid SMILES\",\"Invalid SMILES\",\"Invalid SMILES\",\"Invalid SMILES\",\"Invalid SMILES\",\"Invalid SMILES\",\"Invalid SMILES\",\"Invalid SMILES\",\"Invalid SMILES\",\"Invalid SMILES\",\"Invalid SMILES\",\"Invalid SMILES\",\"Invalid SMILES\",\"Invalid SMILES\",\"Invalid SMILES\",\"Invalid SMILES\",\"Invalid SMILES\",\"Invalid SMILES\",\"Invalid SMILES\",\"Invalid SMILES\",\"Invalid SMILES\",\"Invalid SMILES\",\"Invalid SMILES\",\"Invalid SMILES\",\"Invalid SMILES\",\"Invalid SMILES\",\"Invalid SMILES\",\"Invalid SMILES\",\"Invalid SMILES\",\"Invalid SMILES\",\"Invalid SMILES\",\"Invalid SMILES\",\"Invalid SMILES\",\"Invalid SMILES\",\"Invalid SMILES\",\"Invalid SMILES\",\"Invalid SMILES\",\"Invalid SMILES\",\"Invalid SMILES\",\"Invalid SMILES\",\"Invalid SMILES\",\"Invalid SMILES\",\"Invalid SMILES\",\"Invalid SMILES\",\"Invalid SMILES\",\"Invalid SMILES\",\"Invalid SMILES\",\"Invalid SMILES\",\"Invalid SMILES\",\"Invalid SMILES\",\"Invalid SMILES\",\"Invalid SMILES\",\"Invalid SMILES\",\"Invalid SMILES\",\"Invalid SMILES\",\"Invalid SMILES\",\"Invalid SMILES\",\"Invalid SMILES\",\"Invalid SMILES\",\"Invalid SMILES\",\"Invalid SMILES\",\"Invalid SMILES\",\"Invalid SMILES\",\"Invalid SMILES\",\"Invalid SMILES\",\"Invalid SMILES\",\"Invalid SMILES\",\"Invalid SMILES\",\"Invalid SMILES\",\"Invalid SMILES\",\"Invalid SMILES\",\"Invalid SMILES\",\"Invalid SMILES\",\"Invalid SMILES\",\"Invalid SMILES\",\"Invalid SMILES\",\"Invalid SMILES\",\"Invalid SMILES\",\"Invalid SMILES\",\"Invalid SMILES\",\"Invalid SMILES\",\"Invalid SMILES\",\"Invalid SMILES\",\"Invalid SMILES\",\"Invalid SMILES\",\"Invalid SMILES\",\"Invalid SMILES\",\"CovHetFrags\",\"CovHetFrags\",\"No match\",\"No match\",\"No match\",\"No match\",\"No match\",\"No match\",\"No match\",\"No match\",\"No match\",\"No match\",\"CovHetFrags\",\"CovHetFrags\",\"No match\",\"No match\",\"No match\",\"No match\",\"No match\",\"No match\",\"No match\",\"No match\",\"No match\",\"No match\",\"No match\",\"No match\",\"No match\",\"No match\",\"No match\",\"No match\",\"No match\",\"No match\",\"No match\",\"No match\",\"No match\",\"No match\",\"No match\",\"No match\",\"No match\",\"No match\",\"No match\",\"No match\",\"No match\",\"No match\",\"No match\",\"No match\",\"PepLite\",\"No match\",\"No match\",\"No match\",\"No match\",\"No match\",\"York3D\",\"York3D\",\"York3D\",\"York3D\",\"York3D\",\"York3D\",\"York3D\",\"York3D\",\"York3D\",\"York3D\",\"York3D\",\"York3D\",\"York3D\",\"York3D\",\"York3D\",\"York3D\",\"York3D\",\"York3D\",\"York3D\",\"York3D\",\"York3D\",\"York3D\",\"York3D\",\"York3D\",\"York3D\",\"York3D\",\"York3D\",\"York3D\",\"York3D\",\"York3D\",\"York3D\",\"York3D\",\"York3D\",\"York3D\",\"York3D\",\"York3D\",\"York3D\",\"York3D\",\"York3D\",\"York3D\",\"York3D\",\"York3D\",\"York3D\",\"York3D\",\"York3D\",\"York3D\",\"York3D\",\"York3D\",\"York3D\",\"York3D\",\"York3D\",\"York3D\",\"York3D\",\"York3D\",\"York3D\",\"York3D\",\"York3D\",\"York3D\",\"York3D\",\"York3D\",\"York3D\",\"York3D\",\"York3D\",\"York3D\",\"York3D\",\"York3D\",\"York3D\",\"York3D\",\"York3D\",\"York3D\",\"York3D\",\"York3D\",\"York3D\",\"York3D\",\"York3D\",\"York3D\",\"York3D\",\"York3D\",\"York3D\",\"York3D\",\"York3D\",\"York3D\",\"York3D\",\"York3D\",\"York3D\",\"York3D\",\"York3D\",\"York3D\",\"York3D\",\"York3D\",\"York3D\",\"York3D\",\"York3D\",\"York3D\",\"York3D\",\"York3D\",\"York3D\",\"York3D\",\"York3D\",\"York3D\",\"York3D\",\"York3D\",\"York3D\",\"York3D\",\"York3D\",\"York3D\",\"DSiPoised\",\"DSiPoised\",\"DSiPoised\",\"DSiPoised\",\"DSiPoised\",\"DSiPoised\",\"DSiPoised\",\"DSiPoised\",\"DSiPoised\",\"DSiPoised\",\"DSiPoised\",\"DSiPoised\",\"DSiPoised\",\"SpotXplorer\",\"DSiPoised\",\"DSiPoised\",\"CovHetFrags\",\"CovHetFrags\",\"SpotXplorer\",\"DSiPoised\",\"DSiPoised\",\"DSiPoised\",\"DSiPoised\",\"DSiPoised\",\"DSiPoised\",\"CovHetFrags\",\"No match\",\"SpotXplorer\",\"DSiPoised\",\"No match\",\"CovHetFrags\",\"DSiPoised\",\"CovHetFrags\",\"CovHetFrags\",\"CovHetFrags\",\"No match\",\"SpotXplorer\",\"DSiPoised\",\"DSiPoised\",\"DSiPoised\",\"Leed3D\",\"CovHetFrags\",\"Leed3D\",\"DSiPoised\",\"CovHetFrags\",\"CovHetFrags\",\"DSiPoised\",\"CovHetFrags\",\"DSiPoised\",\"DSiPoised\",\"DSiPoised\",\"SpotXplorer\",\"DSiPoised\",\"DSiPoised\",\"DSiPoised\",\"CovHetFrags\",\"CovHetFrags\",\"DSiPoised\",\"DSiPoised\",\"DSiPoised\",\"DSiPoised\",\"DSiPoised\",\"DSiPoised\",\"DSiPoised\",\"DSiPoised\",\"CovHetFrags\",\"DSiPoised\",\"DSiPoised\",\"DSiPoised\",\"CovHetFrags\",\"CovHetFrags\",\"CovHetFrags\",\"DSiPoised\",\"DSiPoised\",\"DSiPoised\",\"DSiPoised\",\"DSiPoised\",\"DSiPoised\",\"DSiPoised\",\"Leed3D,SpotXplorer\",\"CovHetFrags\",\"DSiPoised\",\"DSiPoised\",\"Leed3D\",\"DSiPoised\",\"DSiPoised\",\"Leed3D\",\"CovHetFrags\",\"CovHetFrags\",\"SpotXplorer\",\"DSiPoised\",\"CovHetFrags\",\"No match\",\"CovHetFrags\",\"Leed3D\",\"DSiPoised\",\"CovHetFrags\",\"SpotXplorer\",\"Euopen\",\"CovHetFrags\",\"Leed3D\",\"DSiPoised\",\"CovHetFrags\",\"SpotXplorer\",\"DSiPoised\",\"SpotXplorer\",\"DSiPoised\",\"CovHetFrags\",\"Leed3D\",\"CovHetFrags\",\"CovHetFrags\",\"CovHetFrags\",\"DSiPoised\",\"Leed3D\",\"SpotXplorer\",\"Leed3D\",\"CovHetFrags\",\"Leed3D\",\"DSiPoised\",\"Leed3D\",\"Leed3D\",\"SpotXplorer\",\"Leed3D\",\"No match\",\"No match\",\"Leed3D\",\"SpotXplorer\",\"SpotXplorer\",\"SpotXplorer\",\"DSiPoised\",\"No match\",\"No match\",\"SpotXplorer\",\"Leed3D\",\"SpotXplorer\",\"CovHetFrags\",\"DSiPoised\",\"CovHetFrags\",\"DSiPoised\",\"CovHetFrags\",\"Leed3D\",\"DSiPoised,Leed3D\",\"DSiPoised\",\"CovHetFrags\",\"DSiPoised\",\"DSiPoised\",\"DSiPoised\",\"Leed3D\",\"DSiPoised\",\"CovHetFrags\",\"CovHetFrags\",\"Leed3D\",\"DSiPoised\",\"DSiPoised,Leed3D\",\"DSiPoised\",\"CovHetFrags\",\"Leed3D\",\"DSiPoised\",\"DSiPoised\",\"Leed3D\",\"DSiPoised\",\"DSiPoised\",\"DSiPoised\",\"DSiPoised\",\"DSiPoised\",\"CovHetFrags\",\"DSiPoised\",\"DSiPoised\",\"DSiPoised\",\"DSiPoised\",\"Leed3D\",\"CovHetFrags\",\"DSiPoised\",\"DSiPoised\",\"CovHetFrags\",\"CovHetFrags\",\"Leed3D\",\"DSiPoised\",\"DSiPoised\",\"DSiPoised\",\"No match\",\"No match\",\"No match\",\"No match\",\"DSiPoised\",\"DSiPoised\",\"DSiPoised\",\"DSiPoised\",\"CovHetFrags\",\"DSiPoised\",\"CovHetFrags\",\"Euopen\",\"SpotXplorer\",\"CovHetFrags\",\"CovHetFrags\",\"Leed3D\",\"CovHetFrags\",\"Leed3D\",\"CovHetFrags\",\"Leed3D\",\"CovHetFrags\",\"DSiPoised\",\"CovHetFrags\",\"Leed3D\",\"Leed3D\",\"Leed3D\",\"Leed3D\",\"SpotXplorer\",\"CovHetFrags\",\"SpotXplorer\",\"SpotXplorer\",\"CovHetFrags\",\"Leed3D\",\"Leed3D\",\"CovHetFrags\",\"CovHetFrags\",\"DSiPoised\",\"DSiPoised\",\"No match\",\"CovHetFrags\",\"CovHetFrags\",\"DSiPoised\",\"No match\",\"No match\",\"No match\",\"No match\",\"No match\",\"DSiPoised\",\"Leed3D\",\"Leed3D\",\"Leed3D\",\"DSiPoised\",\"DSiPoised\",\"No match\",\"No match\",\"DSiPoised\",\"SpotXplorer\",\"DSiPoised\",\"No match\",\"No match\",\"CovHetFrags\",\"No match\",\"Leed3D\",\"CovHetFrags\",\"No match\",\"No match\",\"Leed3D\",\"No match\",\"DSiPoised\",\"No match\",\"Euopen\",\"DSiPoised\",\"DSiPoised\",\"DSiPoised\",\"No match\",\"DSiPoised\",\"DSiPoised\",\"DSiPoised,Leed3D\",\"DSiPoised\",\"DSiPoised\",\"DSiPoised\",\"DSiPoised\",\"DSiPoised\",\"DSiPoised\",\"No match\",\"DSiPoised\",\"DSiPoised\",\"DSiPoised\",\"DSiPoised\",\"DSiPoised\",\"DSiPoised\",\"No match\",\"DSiPoised\",\"DSiPoised\",\"DSiPoised\",\"DSiPoised\",\"DSiPoised\",\"DSiPoised\",\"DSiPoised\",\"No match\",\"DSiPoised\",\"DSiPoised\",\"DSiPoised\",\"DSiPoised\",\"DSiPoised\",\"DSiPoised\",\"DSiPoised\",\"DSiPoised\",\"No match\",\"DSiPoised\",\"Leed3D\",\"No match\",\"Leed3D\",\"DSiPoised\",\"DSiPoised\",\"DSiPoised\",\"No match\",\"DSiPoised\",\"DSiPoised\",\"No match\",\"DSiPoised\",\"DSiPoised\",\"DSiPoised\",\"No match\",\"No match\",\"No match\",\"No match\",\"No match\",\"No match\",\"DSiPoised\",\"No match\",\"DSiPoised\",\"CovHetFrags\",\"DSiPoised\",\"No match\",\"DSiPoised\",\"DSiPoised\",\"No match\",\"No match\",\"DSiPoised\",\"No match\",\"No match\",\"DSiPoised\",\"DSiPoised\",\"No match\",\"DSiPoised\",\"DSiPoised\",\"Leed3D\",\"DSiPoised\",\"Leed3D\",\"SpotXplorer\",\"SpotXplorer\",\"DSiPoised\",\"SpotXplorer\",\"DSiPoised\",\"DSiPoised\",\"DSiPoised\",\"DSiPoised,Leed3D\",\"DSiPoised\",\"DSiPoised\",\"DSiPoised\",\"Euopen\",\"No match\",\"No match\",\"DSiPoised\",\"Euopen\",\"DSiPoised\",\"DSiPoised\",\"DSiPoised,Leed3D\",\"Leed3D\",\"Euopen\",\"DSiPoised\",\"DSiPoised\",\"DSiPoised\",\"DSiPoised\",\"DSiPoised\",\"DSiPoised,Leed3D\",\"DSiPoised\",\"Leed3D\",\"DSiPoised\",\"DSiPoised\",\"CovHetFrags\",\"DSiPoised\",\"No match\",\"No match\",\"DSiPoised\",\"DSiPoised\",\"DSiPoised\",\"DSiPoised\",\"SpotXplorer\",\"DSiPoised\",\"DSiPoised\",\"DSiPoised\",\"DSiPoised\",\"No match\",\"DSiPoised\",\"DSiPoised\",\"DSiPoised\",\"DSiPoised\",\"DSiPoised\",\"No match\",\"DSiPoised\",\"No match\",\"No match\",\"No match\",\"No match\",\"No match\",\"Leed3D\",\"No match\",\"No match\",\"No match\",\"No match\",\"No match\",\"No match\",\"No match\",\"No match\",\"DSiPoised\",\"DSiPoised\",\"No match\",\"DSiPoised\",\"DSiPoised\",\"DSiPoised\",\"DSiPoised\",\"DSiPoised\",\"CovHetFrags\",\"No match\",\"DSiPoised\",\"DSiPoised\",\"DSiPoised\",\"DSiPoised\",\"DSiPoised\",\"SpotXplorer\",\"DSiPoised\",\"DSiPoised\",\"DSiPoised\",\"DSiPoised\",\"No match\",\"Euopen\",\"No match\",\"DSiPoised\",\"No match\",\"DSiPoised\",\"DSiPoised\",\"DSiPoised\",\"DSiPoised\",\"DSiPoised\",\"DSiPoised\",\"DSiPoised\",\"No match\",\"No match\",\"CovHetFrags\",\"No match\",\"No match\",\"No match\",\"DSiPoised\",\"Euopen\",\"DSiPoised\",\"DSiPoised\",\"No match\",\"DSiPoised\",\"DSiPoised\",\"DSiPoised\",\"DSiPoised\",\"DSiPoised\",\"DSiPoised\",\"DSiPoised\",\"DSiPoised\",\"DSiPoised\",\"DSiPoised\",\"DSiPoised\",\"DSiPoised\",\"Leed3D\",\"DSiPoised\",\"DSiPoised\",\"Leed3D\",\"No match\",\"SpotXplorer\",\"DSiPoised,Leed3D\",\"DSiPoised\",\"DSiPoised\",\"Leed3D\",\"DSiPoised\",\"DSiPoised\",\"DSiPoised\",\"Leed3D\",\"DSiPoised\",\"DSiPoised\",\"DSiPoised\",\"DSiPoised\",\"DSiPoised\",\"SpotXplorer\",\"SpotXplorer\",\"DSiPoised\",\"Leed3D\",\"DSiPoised\",\"Leed3D\",\"DSiPoised\",\"DSiPoised\",\"DSiPoised\",\"DSiPoised\",\"DSiPoised\",\"DSiPoised\",\"DSiPoised\",\"DSiPoised\",\"DSiPoised\",\"DSiPoised\",\"DSiPoised\",\"No match\",\"DSiPoised,Leed3D\",\"DSiPoised\",\"DSiPoised\",\"DSiPoised\",\"DSiPoised\",\"DSiPoised\",\"DSiPoised\",\"DSiPoised\",\"DSiPoised\",\"DSiPoised\",\"SpotXplorer\",\"SpotXplorer\",\"Leed3D\",\"DSiPoised\",\"Leed3D\",\"SpotXplorer\",\"Leed3D\",\"No match\",\"DSiPoised\",\"No match\",\"DSiPoised\",\"DSiPoised\",\"SpotXplorer\",\"DSiPoised\",\"No match\",\"CovHetFrags\",\"DSiPoised\",\"DSiPoised\",\"SpotXplorer\",\"DSiPoised\",\"DSiPoised\",\"DSiPoised\",\"DSiPoised\",\"DSiPoised\",\"DSiPoised\",\"DSiPoised\",\"DSiPoised\",\"DSiPoised\",\"DSiPoised\",\"DSiPoised\",\"DSiPoised\",\"No match\",\"DSiPoised\",\"DSiPoised\",\"SpotXplorer\",\"SpotXplorer\",\"DSiPoised\",\"DSiPoised\",\"Leed3D\",\"CovHetFrags\",\"Leed3D\",\"Leed3D\",\"Leed3D\",\"DSiPoised\",\"SpotXplorer\",\"No match\",\"Leed3D\",\"DSiPoised,Leed3D\",\"DSiPoised\",\"DSiPoised\",\"DSiPoised\",\"DSiPoised\",\"DSiPoised\",\"DSiPoised\",\"DSiPoised\",\"DSiPoised\",\"DSiPoised\",\"DSiPoised\",\"DSiPoised\",\"DSiPoised\",\"Leed3D\",\"DSiPoised\",\"DSiPoised\",\"No match\",\"No match\",\"SpotXplorer\",\"DSiPoised\",\"SpotXplorer\",\"DSiPoised\",\"DSiPoised\",\"DSiPoised\",\"Leed3D\",\"No match\",\"Leed3D\",\"No match\",\"DSiPoised\",\"DSiPoised\",\"DSiPoised\",\"No match\",\"DSiPoised\",\"DSiPoised\",\"DSiPoised\",\"CovHetFrags\",\"CovHetFrags\",\"DSiPoised\",\"DSiPoised\",\"DSiPoised\",\"SpotXplorer\",\"DSiPoised\",\"DSiPoised\",\"DSiPoised\",\"DSiPoised\",\"DSiPoised\",\"SpotXplorer\",\"DSiPoised\",\"DSiPoised\",\"No match\",\"SpotXplorer\",\"DSiPoised\",\"DSiPoised\",\"DSiPoised\",\"CovHetFrags\",\"DSiPoised\",\"DSiPoised\",\"DSiPoised\",\"DSiPoised\",\"DSiPoised\",\"No match\",\"DSiPoised,Leed3D\",\"DSiPoised\",\"DSiPoised\",\"DSiPoised\",\"DSiPoised\",\"DSiPoised\",\"DSiPoised\",\"DSiPoised\",\"DSiPoised\",\"No match\",\"DSiPoised\",\"SpotXplorer\",\"DSiPoised\",\"DSiPoised\",\"DSiPoised\",\"DSiPoised\",\"DSiPoised\",\"No match\",\"No match\",\"DSiPoised\",\"SpotXplorer\",\"DSiPoised\",\"DSiPoised\",\"No match\",\"DSiPoised\",\"DSiPoised\",\"DSiPoised\",\"DSiPoised\",\"DSiPoised\",\"SpotXplorer\",\"DSiPoised\",\"DSiPoised\",\"DSiPoised\",\"DSiPoised\",\"DSiPoised\",\"DSiPoised\",\"DSiPoised\",\"DSiPoised\",\"DSiPoised\",\"DSiPoised\",\"SpotXplorer\",\"DSiPoised\",\"DSiPoised\",\"DSiPoised\",\"DSiPoised\",\"DSiPoised\",\"DSiPoised\",\"DSiPoised\",\"DSiPoised\",\"SpotXplorer\",\"DSiPoised\",\"DSiPoised\",\"SpotXplorer\",\"Euopen\",\"DSiPoised\",\"Leed3D\",\"DSiPoised\",\"DSiPoised\",\"SpotXplorer\",\"DSiPoised\",\"DSiPoised\",\"No match\",\"No match\",\"SpotXplorer\",\"CovHetFrags\",\"No match\",\"SpotXplorer\",\"CovHetFrags\",\"DSiPoised\",\"DSiPoised\",\"No match\",\"No match\",\"No match\",\"No match\",\"No match\",\"DSiPoised\",\"DSiPoised\",\"DSiPoised\",\"No match\",\"No match\",\"DSiPoised\",\"CovHetFrags\",\"DSiPoised\",\"DSiPoised\",\"No match\",\"DSiPoised\",\"DSiPoised\",\"DSiPoised\",\"DSiPoised\",\"DSiPoised\",\"No match\",\"No match\",\"DSiPoised\",\"DSiPoised\",\"Leed3D\",\"DSiPoised\",\"DSiPoised\",\"DSiPoised\",\"Leed3D\",\"DSiPoised\",\"No match\",\"DSiPoised\",\"DSiPoised\",\"DSiPoised\",\"DSiPoised\",\"DSiPoised\",\"DSiPoised\",\"DSiPoised\",\"DSiPoised\",\"DSiPoised\",\"SpotXplorer\",\"SpotXplorer\",\"SpotXplorer\",\"SpotXplorer\",\"SpotXplorer\",\"SpotXplorer\",\"DSiPoised\",\"DSiPoised\",\"DSiPoised\",\"DSiPoised\",\"DSiPoised\",\"No match\",\"DSiPoised\",\"DSiPoised\",\"DSiPoised\",\"CovHetFrags\",\"DSiPoised\",\"DSiPoised\",\"DSiPoised\",\"DSiPoised\",\"Leed3D\",\"DSiPoised\",\"SpotXplorer\",\"CovHetFrags\",\"DSiPoised\",\"DSiPoised\",\"DSiPoised\",\"DSiPoised\",\"DSiPoised\",\"DSiPoised\",\"DSiPoised\",\"DSiPoised\",\"DSiPoised\",\"SpotXplorer\",\"DSiPoised\",\"DSiPoised\",\"DSiPoised\",\"DSiPoised\",\"DSiPoised\",\"DSiPoised\",\"DSiPoised\",\"DSiPoised\",\"DSiPoised\",\"SpotXplorer\",\"No match\",\"CovHetFrags\",\"CovHetFrags\",\"CovHetFrags\",\"DSiPoised\",\"DSiPoised\",\"DSiPoised\",\"DSiPoised\",\"DSiPoised\",\"DSiPoised\",\"DSiPoised\",\"DSiPoised\",\"SpotXplorer\",\"No match\",\"DSiPoised\",\"DSiPoised\",\"No match\",\"DSiPoised\",\"Euopen\",\"DSiPoised\",\"DSiPoised\",\"DSiPoised\",\"DSiPoised\",\"Leed3D\",\"DSiPoised\",\"DSiPoised,Leed3D\",\"DSiPoised\",\"DSiPoised\",\"DSiPoised\",\"DSiPoised\",\"DSiPoised\",\"DSiPoised\",\"DSiPoised\",\"CovHetFrags\",\"DSiPoised\",\"DSiPoised\",\"DSiPoised\",\"DSiPoised\",\"SpotXplorer\",\"Euopen\",\"DSiPoised\",\"DSiPoised\",\"Leed3D\",\"DSiPoised\",\"DSiPoised\",\"DSiPoised\",\"CovHetFrags\",\"DSiPoised\",\"DSiPoised\",\"DSiPoised\",\"DSiPoised\",\"DSiPoised\",\"DSiPoised\",\"SpotXplorer\",\"DSiPoised\",\"DSiPoised\",\"No match\",\"No match\",\"No match\",\"No match\",\"No match\",\"No match\",\"No match\",\"No match\",\"No match\",\"No match\",\"No match\",\"No match\",\"No match\",\"No match\",\"No match\",\"No match\",\"No match\",\"No match\",\"No match\",\"No match\",\"No match\",\"No match\",\"No match\",\"No match\",\"No match\",\"No match\",\"No match\",\"No match\",\"No match\",\"No match\",\"No match\",\"No match\",\"No match\",\"No match\",\"No match\",\"No match\",\"No match\",\"No match\",\"No match\",\"No match\",\"No match\",\"No match\",\"No match\",\"No match\",\"No match\",\"No match\",\"DSiPoised\",\"DSiPoised\",\"DSiPoised\",\"Leed3D\",\"DSiPoised\",\"DSiPoised\",\"DSiPoised\",\"SpotXplorer\",\"DSiPoised\",\"SpotXplorer\",\"DSiPoised\",\"DSiPoised\",\"DSiPoised\",\"DSiPoised\",\"DSiPoised\",\"DSiPoised\",\"DSiPoised\",\"DSiPoised\",\"DSiPoised\",\"DSiPoised\",\"DSiPoised\",\"SpotXplorer\",\"DSiPoised\",\"DSiPoised\",\"DSiPoised\",\"DSiPoised\",\"DSiPoised\",\"DSiPoised\",\"DSiPoised\",\"DSiPoised\",\"DSiPoised\",\"DSiPoised\",\"DSiPoised\",\"DSiPoised\",\"DSiPoised\",\"DSiPoised\",\"DSiPoised\",\"DSiPoised\",\"Leed3D\",\"DSiPoised\",\"DSiPoised\",\"DSiPoised\",\"Leed3D\",\"SpotXplorer\",\"DSiPoised\",\"DSiPoised\",\"DSiPoised\",\"DSiPoised\",\"SpotXplorer\",\"SpotXplorer\",\"SpotXplorer\",\"DSiPoised\",\"No match\",\"No match\",\"DSiPoised\",\"SpotXplorer\",\"DSiPoised\",\"DSiPoised\",\"DSiPoised\",\"SpotXplorer\",\"DSiPoised\",\"DSiPoised\",\"SpotXplorer\",\"DSiPoised\",\"DSiPoised\",\"SpotXplorer\",\"No match\",\"DSiPoised\",\"DSiPoised\",\"No match\",\"No match\",\"SpotXplorer\",\"DSiPoised\",\"SpotXplorer\",\"DSiPoised\",\"DSiPoised\",\"Leed3D\",\"DSiPoised\",\"DSiPoised\",\"DSiPoised\",\"DSiPoised\",\"DSiPoised\",\"No match\",\"DSiPoised\",\"DSiPoised\",\"CovHetFrags\",\"DSiPoised\",\"DSiPoised\",\"SpotXplorer\",\"DSiPoised\",\"No match\",\"No match\",\"CovHetFrags\",\"No match\",\"SpotXplorer\",\"CovHetFrags\",\"No match\",\"DSiPoised\",\"DSiPoised\",\"DSiPoised\",\"DSiPoised\",\"DSiPoised\",\"SpotXplorer\",\"DSiPoised\",\"DSiPoised\",\"DSiPoised\",\"DSiPoised\",\"DSiPoised\",\"DSiPoised\",\"DSiPoised\",\"SpotXplorer\",\"DSiPoised\",\"SpotXplorer\",\"DSiPoised,Euopen\",\"No match\",\"No match\",\"DSiPoised\",\"DSiPoised\",\"SpotXplorer\",\"DSiPoised\",\"DSiPoised\",\"DSiPoised\",\"DSiPoised\",\"DSiPoised\",\"SpotXplorer\",\"No match\",\"SpotXplorer\",\"CovHetFrags\",\"CovHetFrags\",\"CovHetFrags\",\"CovHetFrags\",\"SpotXplorer\",\"No match\",\"DSiPoised\",\"DSiPoised\",\"DSiPoised\",\"DSiPoised\",\"DSiPoised\",\"DSiPoised\",\"DSiPoised\",\"SpotXplorer\",\"DSiPoised\",\"DSiPoised\",\"DSiPoised\",\"Leed3D\",\"SpotXplorer\",\"DSiPoised\",\"DSiPoised\",\"DSiPoised\",\"DSiPoised\",\"DSiPoised\",\"DSiPoised\",\"DSiPoised\",\"DSiPoised\",\"DSiPoised\",\"DSiPoised\",\"Leed3D\",\"DSiPoised\",\"DSiPoised\",\"DSiPoised\",\"DSiPoised\",\"DSiPoised\",\"DSiPoised\",\"DSiPoised,Leed3D\",\"DSiPoised\",\"DSiPoised,Leed3D\",\"DSiPoised\",\"DSiPoised\",\"DSiPoised\",\"DSiPoised\",\"DSiPoised\",\"Leed3D\",\"DSiPoised\",\"SpotXplorer\",\"DSiPoised\",\"DSiPoised\",\"DSiPoised\",\"CovHetFrags\",\"DSiPoised\",\"DSiPoised\",\"DSiPoised\",\"DSiPoised\",\"No match\",\"DSiPoised\",\"CovHetFrags\",\"DSiPoised\",\"DSiPoised\",\"DSiPoised\",\"Leed3D\",\"DSiPoised\",\"DSiPoised\",\"DSiPoised\",\"DSiPoised\",\"Leed3D\",\"DSiPoised\",\"DSiPoised\",\"DSiPoised\",\"DSiPoised\",\"DSiPoised\",\"DSiPoised\",\"SpotXplorer\",\"DSiPoised\",\"DSiPoised\",\"DSiPoised\",\"DSiPoised\",\"DSiPoised\",\"DSiPoised\",\"DSiPoised,Leed3D\",\"SpotXplorer\",\"DSiPoised\",\"SpotXplorer\",\"SpotXplorer\",\"DSiPoised\",\"DSiPoised\",\"DSiPoised\",\"DSiPoised,Leed3D\",\"DSiPoised\",\"DSiPoised\",\"DSiPoised\",\"DSiPoised\",\"DSiPoised\",\"SpotXplorer\",\"DSiPoised\",\"No match\",\"No match\",\"DSiPoised\",\"DSiPoised\",\"Leed3D\",\"DSiPoised\",\"DSiPoised\",\"No match\",\"No match\",\"No match\",\"No match\",\"DSiPoised\",\"DSiPoised\",\"DSiPoised\",\"No match\",\"DSiPoised\",\"SpotXplorer\",\"DSiPoised\",\"DSiPoised\",\"Leed3D\",\"Leed3D\",\"DSiPoised\",\"DSiPoised\",\"Leed3D\",\"DSiPoised\",\"DSiPoised\",\"DSiPoised\",\"DSiPoised\",\"DSiPoised\",\"DSiPoised\",\"DSiPoised\",\"DSiPoised\",\"DSiPoised\",\"Leed3D\",\"DSiPoised\",\"DSiPoised\",\"DSiPoised\",\"DSiPoised\",\"Invalid SMILES\"],\"legendgroup\":\"\",\"name\":\"\",\"showlegend\":true,\"type\":\"pie\"}],                        {\"template\":{\"data\":{\"histogram2dcontour\":[{\"type\":\"histogram2dcontour\",\"colorbar\":{\"outlinewidth\":0,\"ticks\":\"\"},\"colorscale\":[[0.0,\"#0d0887\"],[0.1111111111111111,\"#46039f\"],[0.2222222222222222,\"#7201a8\"],[0.3333333333333333,\"#9c179e\"],[0.4444444444444444,\"#bd3786\"],[0.5555555555555556,\"#d8576b\"],[0.6666666666666666,\"#ed7953\"],[0.7777777777777778,\"#fb9f3a\"],[0.8888888888888888,\"#fdca26\"],[1.0,\"#f0f921\"]]}],\"choropleth\":[{\"type\":\"choropleth\",\"colorbar\":{\"outlinewidth\":0,\"ticks\":\"\"}}],\"histogram2d\":[{\"type\":\"histogram2d\",\"colorbar\":{\"outlinewidth\":0,\"ticks\":\"\"},\"colorscale\":[[0.0,\"#0d0887\"],[0.1111111111111111,\"#46039f\"],[0.2222222222222222,\"#7201a8\"],[0.3333333333333333,\"#9c179e\"],[0.4444444444444444,\"#bd3786\"],[0.5555555555555556,\"#d8576b\"],[0.6666666666666666,\"#ed7953\"],[0.7777777777777778,\"#fb9f3a\"],[0.8888888888888888,\"#fdca26\"],[1.0,\"#f0f921\"]]}],\"heatmap\":[{\"type\":\"heatmap\",\"colorbar\":{\"outlinewidth\":0,\"ticks\":\"\"},\"colorscale\":[[0.0,\"#0d0887\"],[0.1111111111111111,\"#46039f\"],[0.2222222222222222,\"#7201a8\"],[0.3333333333333333,\"#9c179e\"],[0.4444444444444444,\"#bd3786\"],[0.5555555555555556,\"#d8576b\"],[0.6666666666666666,\"#ed7953\"],[0.7777777777777778,\"#fb9f3a\"],[0.8888888888888888,\"#fdca26\"],[1.0,\"#f0f921\"]]}],\"heatmapgl\":[{\"type\":\"heatmapgl\",\"colorbar\":{\"outlinewidth\":0,\"ticks\":\"\"},\"colorscale\":[[0.0,\"#0d0887\"],[0.1111111111111111,\"#46039f\"],[0.2222222222222222,\"#7201a8\"],[0.3333333333333333,\"#9c179e\"],[0.4444444444444444,\"#bd3786\"],[0.5555555555555556,\"#d8576b\"],[0.6666666666666666,\"#ed7953\"],[0.7777777777777778,\"#fb9f3a\"],[0.8888888888888888,\"#fdca26\"],[1.0,\"#f0f921\"]]}],\"contourcarpet\":[{\"type\":\"contourcarpet\",\"colorbar\":{\"outlinewidth\":0,\"ticks\":\"\"}}],\"contour\":[{\"type\":\"contour\",\"colorbar\":{\"outlinewidth\":0,\"ticks\":\"\"},\"colorscale\":[[0.0,\"#0d0887\"],[0.1111111111111111,\"#46039f\"],[0.2222222222222222,\"#7201a8\"],[0.3333333333333333,\"#9c179e\"],[0.4444444444444444,\"#bd3786\"],[0.5555555555555556,\"#d8576b\"],[0.6666666666666666,\"#ed7953\"],[0.7777777777777778,\"#fb9f3a\"],[0.8888888888888888,\"#fdca26\"],[1.0,\"#f0f921\"]]}],\"surface\":[{\"type\":\"surface\",\"colorbar\":{\"outlinewidth\":0,\"ticks\":\"\"},\"colorscale\":[[0.0,\"#0d0887\"],[0.1111111111111111,\"#46039f\"],[0.2222222222222222,\"#7201a8\"],[0.3333333333333333,\"#9c179e\"],[0.4444444444444444,\"#bd3786\"],[0.5555555555555556,\"#d8576b\"],[0.6666666666666666,\"#ed7953\"],[0.7777777777777778,\"#fb9f3a\"],[0.8888888888888888,\"#fdca26\"],[1.0,\"#f0f921\"]]}],\"mesh3d\":[{\"type\":\"mesh3d\",\"colorbar\":{\"outlinewidth\":0,\"ticks\":\"\"}}],\"scatter\":[{\"fillpattern\":{\"fillmode\":\"overlay\",\"size\":10,\"solidity\":0.2},\"type\":\"scatter\"}],\"parcoords\":[{\"type\":\"parcoords\",\"line\":{\"colorbar\":{\"outlinewidth\":0,\"ticks\":\"\"}}}],\"scatterpolargl\":[{\"type\":\"scatterpolargl\",\"marker\":{\"colorbar\":{\"outlinewidth\":0,\"ticks\":\"\"}}}],\"bar\":[{\"error_x\":{\"color\":\"#2a3f5f\"},\"error_y\":{\"color\":\"#2a3f5f\"},\"marker\":{\"line\":{\"color\":\"#E5ECF6\",\"width\":0.5},\"pattern\":{\"fillmode\":\"overlay\",\"size\":10,\"solidity\":0.2}},\"type\":\"bar\"}],\"scattergeo\":[{\"type\":\"scattergeo\",\"marker\":{\"colorbar\":{\"outlinewidth\":0,\"ticks\":\"\"}}}],\"scatterpolar\":[{\"type\":\"scatterpolar\",\"marker\":{\"colorbar\":{\"outlinewidth\":0,\"ticks\":\"\"}}}],\"histogram\":[{\"marker\":{\"pattern\":{\"fillmode\":\"overlay\",\"size\":10,\"solidity\":0.2}},\"type\":\"histogram\"}],\"scattergl\":[{\"type\":\"scattergl\",\"marker\":{\"colorbar\":{\"outlinewidth\":0,\"ticks\":\"\"}}}],\"scatter3d\":[{\"type\":\"scatter3d\",\"line\":{\"colorbar\":{\"outlinewidth\":0,\"ticks\":\"\"}},\"marker\":{\"colorbar\":{\"outlinewidth\":0,\"ticks\":\"\"}}}],\"scattermapbox\":[{\"type\":\"scattermapbox\",\"marker\":{\"colorbar\":{\"outlinewidth\":0,\"ticks\":\"\"}}}],\"scatterternary\":[{\"type\":\"scatterternary\",\"marker\":{\"colorbar\":{\"outlinewidth\":0,\"ticks\":\"\"}}}],\"scattercarpet\":[{\"type\":\"scattercarpet\",\"marker\":{\"colorbar\":{\"outlinewidth\":0,\"ticks\":\"\"}}}],\"carpet\":[{\"aaxis\":{\"endlinecolor\":\"#2a3f5f\",\"gridcolor\":\"white\",\"linecolor\":\"white\",\"minorgridcolor\":\"white\",\"startlinecolor\":\"#2a3f5f\"},\"baxis\":{\"endlinecolor\":\"#2a3f5f\",\"gridcolor\":\"white\",\"linecolor\":\"white\",\"minorgridcolor\":\"white\",\"startlinecolor\":\"#2a3f5f\"},\"type\":\"carpet\"}],\"table\":[{\"cells\":{\"fill\":{\"color\":\"#EBF0F8\"},\"line\":{\"color\":\"white\"}},\"header\":{\"fill\":{\"color\":\"#C8D4E3\"},\"line\":{\"color\":\"white\"}},\"type\":\"table\"}],\"barpolar\":[{\"marker\":{\"line\":{\"color\":\"#E5ECF6\",\"width\":0.5},\"pattern\":{\"fillmode\":\"overlay\",\"size\":10,\"solidity\":0.2}},\"type\":\"barpolar\"}],\"pie\":[{\"automargin\":true,\"type\":\"pie\"}]},\"layout\":{\"autotypenumbers\":\"strict\",\"colorway\":[\"#636efa\",\"#EF553B\",\"#00cc96\",\"#ab63fa\",\"#FFA15A\",\"#19d3f3\",\"#FF6692\",\"#B6E880\",\"#FF97FF\",\"#FECB52\"],\"font\":{\"color\":\"#2a3f5f\"},\"hovermode\":\"closest\",\"hoverlabel\":{\"align\":\"left\"},\"paper_bgcolor\":\"white\",\"plot_bgcolor\":\"#E5ECF6\",\"polar\":{\"bgcolor\":\"#E5ECF6\",\"angularaxis\":{\"gridcolor\":\"white\",\"linecolor\":\"white\",\"ticks\":\"\"},\"radialaxis\":{\"gridcolor\":\"white\",\"linecolor\":\"white\",\"ticks\":\"\"}},\"ternary\":{\"bgcolor\":\"#E5ECF6\",\"aaxis\":{\"gridcolor\":\"white\",\"linecolor\":\"white\",\"ticks\":\"\"},\"baxis\":{\"gridcolor\":\"white\",\"linecolor\":\"white\",\"ticks\":\"\"},\"caxis\":{\"gridcolor\":\"white\",\"linecolor\":\"white\",\"ticks\":\"\"}},\"coloraxis\":{\"colorbar\":{\"outlinewidth\":0,\"ticks\":\"\"}},\"colorscale\":{\"sequential\":[[0.0,\"#0d0887\"],[0.1111111111111111,\"#46039f\"],[0.2222222222222222,\"#7201a8\"],[0.3333333333333333,\"#9c179e\"],[0.4444444444444444,\"#bd3786\"],[0.5555555555555556,\"#d8576b\"],[0.6666666666666666,\"#ed7953\"],[0.7777777777777778,\"#fb9f3a\"],[0.8888888888888888,\"#fdca26\"],[1.0,\"#f0f921\"]],\"sequentialminus\":[[0.0,\"#0d0887\"],[0.1111111111111111,\"#46039f\"],[0.2222222222222222,\"#7201a8\"],[0.3333333333333333,\"#9c179e\"],[0.4444444444444444,\"#bd3786\"],[0.5555555555555556,\"#d8576b\"],[0.6666666666666666,\"#ed7953\"],[0.7777777777777778,\"#fb9f3a\"],[0.8888888888888888,\"#fdca26\"],[1.0,\"#f0f921\"]],\"diverging\":[[0,\"#8e0152\"],[0.1,\"#c51b7d\"],[0.2,\"#de77ae\"],[0.3,\"#f1b6da\"],[0.4,\"#fde0ef\"],[0.5,\"#f7f7f7\"],[0.6,\"#e6f5d0\"],[0.7,\"#b8e186\"],[0.8,\"#7fbc41\"],[0.9,\"#4d9221\"],[1,\"#276419\"]]},\"xaxis\":{\"gridcolor\":\"white\",\"linecolor\":\"white\",\"ticks\":\"\",\"title\":{\"standoff\":15},\"zerolinecolor\":\"white\",\"automargin\":true,\"zerolinewidth\":2},\"yaxis\":{\"gridcolor\":\"white\",\"linecolor\":\"white\",\"ticks\":\"\",\"title\":{\"standoff\":15},\"zerolinecolor\":\"white\",\"automargin\":true,\"zerolinewidth\":2},\"scene\":{\"xaxis\":{\"backgroundcolor\":\"#E5ECF6\",\"gridcolor\":\"white\",\"linecolor\":\"white\",\"showbackground\":true,\"ticks\":\"\",\"zerolinecolor\":\"white\",\"gridwidth\":2},\"yaxis\":{\"backgroundcolor\":\"#E5ECF6\",\"gridcolor\":\"white\",\"linecolor\":\"white\",\"showbackground\":true,\"ticks\":\"\",\"zerolinecolor\":\"white\",\"gridwidth\":2},\"zaxis\":{\"backgroundcolor\":\"#E5ECF6\",\"gridcolor\":\"white\",\"linecolor\":\"white\",\"showbackground\":true,\"ticks\":\"\",\"zerolinecolor\":\"white\",\"gridwidth\":2}},\"shapedefaults\":{\"line\":{\"color\":\"#2a3f5f\"}},\"annotationdefaults\":{\"arrowcolor\":\"#2a3f5f\",\"arrowhead\":0,\"arrowwidth\":1},\"geo\":{\"bgcolor\":\"white\",\"landcolor\":\"#E5ECF6\",\"subunitcolor\":\"white\",\"showland\":true,\"showlakes\":true,\"lakecolor\":\"white\"},\"title\":{\"x\":0.05},\"mapbox\":{\"style\":\"light\"}}},\"legend\":{\"tracegroupgap\":0},\"margin\":{\"t\":60}},                        {\"responsive\": true}                    ).then(function(){\n",
       "                            \n",
       "var gd = document.getElementById('5f6cdff0-8f1d-4e2e-bece-6255274ebde1');\n",
       "var x = new MutationObserver(function (mutations, observer) {{\n",
       "        var display = window.getComputedStyle(gd).display;\n",
       "        if (!display || display === 'none') {{\n",
       "            console.log([gd, 'removed!']);\n",
       "            Plotly.purge(gd);\n",
       "            observer.disconnect();\n",
       "        }}\n",
       "}});\n",
       "\n",
       "// Listen for the removal of the full notebook cells\n",
       "var notebookContainer = gd.closest('#notebook-container');\n",
       "if (notebookContainer) {{\n",
       "    x.observe(notebookContainer, {childList: true});\n",
       "}}\n",
       "\n",
       "// Listen for the clearing of the current output cell\n",
       "var outputEl = gd.closest('.output');\n",
       "if (outputEl) {{\n",
       "    x.observe(outputEl, {childList: true});\n",
       "}}\n",
       "\n",
       "                        })                };                });            </script>        </div>"
      ]
     },
     "metadata": {},
     "output_type": "display_data"
    }
   ],
   "source": [
    "import plotly.express as px\n",
    "\n",
    "px.pie( matched, 'fragment_notes')"
   ]
  },
  {
   "cell_type": "code",
   "execution_count": 544,
   "id": "62f98a89-ef2d-4fec-a8c5-34f0af690740",
   "metadata": {},
   "outputs": [],
   "source": [
    "# M\n",
    "matched['status'] = soaked['Compound status'].to_list() \n",
    "matched['modelled_SMILES'] = soaked['Modelled SMILES'].to_list() "
   ]
  },
  {
   "cell_type": "code",
   "execution_count": 545,
   "id": "d6b9e7b7-9de0-443b-b092-edd84301dc66",
   "metadata": {},
   "outputs": [],
   "source": [
    "matched.loc[matched.SMILES.isna(), 'SMILES'] = matched.loc[matched.SMILES.isna(), 'modelled_SMILES']"
   ]
  },
  {
   "cell_type": "code",
   "execution_count": 546,
   "id": "513ce9d3-6b8c-4105-9fc5-5c4636bd68f7",
   "metadata": {},
   "outputs": [
    {
     "data": {
      "text/html": [
       "<div>\n",
       "<style scoped>\n",
       "    .dataframe tbody tr th:only-of-type {\n",
       "        vertical-align: middle;\n",
       "    }\n",
       "\n",
       "    .dataframe tbody tr th {\n",
       "        vertical-align: top;\n",
       "    }\n",
       "\n",
       "    .dataframe thead th {\n",
       "        text-align: right;\n",
       "    }\n",
       "</style>\n",
       "<table border=\"1\" class=\"dataframe\">\n",
       "  <thead>\n",
       "    <tr style=\"text-align: right;\">\n",
       "      <th></th>\n",
       "      <th>SMILES</th>\n",
       "      <th>fragment_notes</th>\n",
       "      <th>status</th>\n",
       "    </tr>\n",
       "  </thead>\n",
       "  <tbody>\n",
       "    <tr>\n",
       "      <th>0</th>\n",
       "      <td>Solvent entries for 3 time points</td>\n",
       "      <td>Invalid SMILES</td>\n",
       "      <td>Analysis in progress</td>\n",
       "    </tr>\n",
       "    <tr>\n",
       "      <th>1</th>\n",
       "      <td>NaN</td>\n",
       "      <td>Invalid SMILES</td>\n",
       "      <td>Analysis in progress</td>\n",
       "    </tr>\n",
       "    <tr>\n",
       "      <th>2</th>\n",
       "      <td>-</td>\n",
       "      <td>Invalid SMILES</td>\n",
       "      <td>Analysis in progress</td>\n",
       "    </tr>\n",
       "    <tr>\n",
       "      <th>3</th>\n",
       "      <td>-</td>\n",
       "      <td>Invalid SMILES</td>\n",
       "      <td>Analysis in progress</td>\n",
       "    </tr>\n",
       "    <tr>\n",
       "      <th>4</th>\n",
       "      <td>-</td>\n",
       "      <td>Invalid SMILES</td>\n",
       "      <td>Analysis in progress</td>\n",
       "    </tr>\n",
       "    <tr>\n",
       "      <th>...</th>\n",
       "      <td>...</td>\n",
       "      <td>...</td>\n",
       "      <td>...</td>\n",
       "    </tr>\n",
       "    <tr>\n",
       "      <th>2049</th>\n",
       "      <td>CCn1cc(CCO)cn1</td>\n",
       "      <td>DSiPoised</td>\n",
       "      <td>Analysis in progress</td>\n",
       "    </tr>\n",
       "    <tr>\n",
       "      <th>2050</th>\n",
       "      <td>CC1CNCCN1CCO</td>\n",
       "      <td>DSiPoised</td>\n",
       "      <td>Analysis in progress</td>\n",
       "    </tr>\n",
       "    <tr>\n",
       "      <th>2051</th>\n",
       "      <td>CNc1nccnc1C#N</td>\n",
       "      <td>DSiPoised</td>\n",
       "      <td>Analysis in progress</td>\n",
       "    </tr>\n",
       "    <tr>\n",
       "      <th>2052</th>\n",
       "      <td>Cc1cc(C)c(NC(=O)CO)c(C)c1</td>\n",
       "      <td>DSiPoised</td>\n",
       "      <td>Analysis in progress</td>\n",
       "    </tr>\n",
       "    <tr>\n",
       "      <th>2053</th>\n",
       "      <td>NaN</td>\n",
       "      <td>Invalid SMILES</td>\n",
       "      <td>Analysis in progress</td>\n",
       "    </tr>\n",
       "  </tbody>\n",
       "</table>\n",
       "<p>2054 rows × 3 columns</p>\n",
       "</div>"
      ],
      "text/plain": [
       "                                 SMILES  fragment_notes                status\n",
       "0     Solvent entries for 3 time points  Invalid SMILES  Analysis in progress\n",
       "1                                   NaN  Invalid SMILES  Analysis in progress\n",
       "2                                     -  Invalid SMILES  Analysis in progress\n",
       "3                                     -  Invalid SMILES  Analysis in progress\n",
       "4                                     -  Invalid SMILES  Analysis in progress\n",
       "...                                 ...             ...                   ...\n",
       "2049                     CCn1cc(CCO)cn1       DSiPoised  Analysis in progress\n",
       "2050                       CC1CNCCN1CCO       DSiPoised  Analysis in progress\n",
       "2051                      CNc1nccnc1C#N       DSiPoised  Analysis in progress\n",
       "2052          Cc1cc(C)c(NC(=O)CO)c(C)c1       DSiPoised  Analysis in progress\n",
       "2053                                NaN  Invalid SMILES  Analysis in progress\n",
       "\n",
       "[2054 rows x 3 columns]"
      ]
     },
     "execution_count": 546,
     "metadata": {},
     "output_type": "execute_result"
    }
   ],
   "source": [
    "matched[['SMILES', 'fragment_notes', 'status']]"
   ]
  },
  {
   "cell_type": "code",
   "execution_count": 561,
   "id": "5e647824-df94-4107-beb0-f026eaff1d30",
   "metadata": {},
   "outputs": [
    {
     "data": {
      "application/vnd.plotly.v1+json": {
       "config": {
        "plotlyServerURL": "https://plot.ly"
       },
       "data": [
        {
         "alignmentgroup": "True",
         "hovertemplate": "variable=0<br>fragment_notes=%{x}<br>value=%{y}<extra></extra>",
         "legendgroup": "0",
         "marker": {
          "color": "#636efa",
          "pattern": {
           "shape": ""
          }
         },
         "name": "0",
         "offsetgroup": "0",
         "orientation": "v",
         "showlegend": true,
         "textposition": "auto",
         "type": "bar",
         "x": [
          "CovHetFrags",
          "DSiPoised",
          "DSiPoised,Euopen",
          "DSiPoised,Leed3D",
          "Euopen",
          "Invalid SMILES",
          "Leed3D",
          "Leed3D,SpotXplorer",
          "MatteoFerla-Manual-Submission",
          "MatteoFerla-ROCS&PyRosetta-filtering",
          "Postera",
          "Other P2",
          "PepLite",
          "SpotXplorer",
          "York3D"
         ],
         "xaxis": "x",
         "y": [
          0.07142857142857142,
          0.10516252390057361,
          0,
          0,
          0,
          0,
          0.13333333333333333,
          0,
          0.18181818181818182,
          0.3333333333333333,
          0.02886002886002886,
          0,
          0,
          0.265625,
          0.08888888888888889
         ],
         "yaxis": "y"
        }
       ],
       "layout": {
        "autosize": true,
        "barmode": "relative",
        "legend": {
         "title": {
          "text": "variable"
         },
         "tracegroupgap": 0
        },
        "template": {
         "data": {
          "bar": [
           {
            "error_x": {
             "color": "#2a3f5f"
            },
            "error_y": {
             "color": "#2a3f5f"
            },
            "marker": {
             "line": {
              "color": "#E5ECF6",
              "width": 0.5
             },
             "pattern": {
              "fillmode": "overlay",
              "size": 10,
              "solidity": 0.2
             }
            },
            "type": "bar"
           }
          ],
          "barpolar": [
           {
            "marker": {
             "line": {
              "color": "#E5ECF6",
              "width": 0.5
             },
             "pattern": {
              "fillmode": "overlay",
              "size": 10,
              "solidity": 0.2
             }
            },
            "type": "barpolar"
           }
          ],
          "carpet": [
           {
            "aaxis": {
             "endlinecolor": "#2a3f5f",
             "gridcolor": "white",
             "linecolor": "white",
             "minorgridcolor": "white",
             "startlinecolor": "#2a3f5f"
            },
            "baxis": {
             "endlinecolor": "#2a3f5f",
             "gridcolor": "white",
             "linecolor": "white",
             "minorgridcolor": "white",
             "startlinecolor": "#2a3f5f"
            },
            "type": "carpet"
           }
          ],
          "choropleth": [
           {
            "colorbar": {
             "outlinewidth": 0,
             "ticks": ""
            },
            "type": "choropleth"
           }
          ],
          "contour": [
           {
            "colorbar": {
             "outlinewidth": 0,
             "ticks": ""
            },
            "colorscale": [
             [
              0,
              "#0d0887"
             ],
             [
              0.1111111111111111,
              "#46039f"
             ],
             [
              0.2222222222222222,
              "#7201a8"
             ],
             [
              0.3333333333333333,
              "#9c179e"
             ],
             [
              0.4444444444444444,
              "#bd3786"
             ],
             [
              0.5555555555555556,
              "#d8576b"
             ],
             [
              0.6666666666666666,
              "#ed7953"
             ],
             [
              0.7777777777777778,
              "#fb9f3a"
             ],
             [
              0.8888888888888888,
              "#fdca26"
             ],
             [
              1,
              "#f0f921"
             ]
            ],
            "type": "contour"
           }
          ],
          "contourcarpet": [
           {
            "colorbar": {
             "outlinewidth": 0,
             "ticks": ""
            },
            "type": "contourcarpet"
           }
          ],
          "heatmap": [
           {
            "colorbar": {
             "outlinewidth": 0,
             "ticks": ""
            },
            "colorscale": [
             [
              0,
              "#0d0887"
             ],
             [
              0.1111111111111111,
              "#46039f"
             ],
             [
              0.2222222222222222,
              "#7201a8"
             ],
             [
              0.3333333333333333,
              "#9c179e"
             ],
             [
              0.4444444444444444,
              "#bd3786"
             ],
             [
              0.5555555555555556,
              "#d8576b"
             ],
             [
              0.6666666666666666,
              "#ed7953"
             ],
             [
              0.7777777777777778,
              "#fb9f3a"
             ],
             [
              0.8888888888888888,
              "#fdca26"
             ],
             [
              1,
              "#f0f921"
             ]
            ],
            "type": "heatmap"
           }
          ],
          "heatmapgl": [
           {
            "colorbar": {
             "outlinewidth": 0,
             "ticks": ""
            },
            "colorscale": [
             [
              0,
              "#0d0887"
             ],
             [
              0.1111111111111111,
              "#46039f"
             ],
             [
              0.2222222222222222,
              "#7201a8"
             ],
             [
              0.3333333333333333,
              "#9c179e"
             ],
             [
              0.4444444444444444,
              "#bd3786"
             ],
             [
              0.5555555555555556,
              "#d8576b"
             ],
             [
              0.6666666666666666,
              "#ed7953"
             ],
             [
              0.7777777777777778,
              "#fb9f3a"
             ],
             [
              0.8888888888888888,
              "#fdca26"
             ],
             [
              1,
              "#f0f921"
             ]
            ],
            "type": "heatmapgl"
           }
          ],
          "histogram": [
           {
            "marker": {
             "pattern": {
              "fillmode": "overlay",
              "size": 10,
              "solidity": 0.2
             }
            },
            "type": "histogram"
           }
          ],
          "histogram2d": [
           {
            "colorbar": {
             "outlinewidth": 0,
             "ticks": ""
            },
            "colorscale": [
             [
              0,
              "#0d0887"
             ],
             [
              0.1111111111111111,
              "#46039f"
             ],
             [
              0.2222222222222222,
              "#7201a8"
             ],
             [
              0.3333333333333333,
              "#9c179e"
             ],
             [
              0.4444444444444444,
              "#bd3786"
             ],
             [
              0.5555555555555556,
              "#d8576b"
             ],
             [
              0.6666666666666666,
              "#ed7953"
             ],
             [
              0.7777777777777778,
              "#fb9f3a"
             ],
             [
              0.8888888888888888,
              "#fdca26"
             ],
             [
              1,
              "#f0f921"
             ]
            ],
            "type": "histogram2d"
           }
          ],
          "histogram2dcontour": [
           {
            "colorbar": {
             "outlinewidth": 0,
             "ticks": ""
            },
            "colorscale": [
             [
              0,
              "#0d0887"
             ],
             [
              0.1111111111111111,
              "#46039f"
             ],
             [
              0.2222222222222222,
              "#7201a8"
             ],
             [
              0.3333333333333333,
              "#9c179e"
             ],
             [
              0.4444444444444444,
              "#bd3786"
             ],
             [
              0.5555555555555556,
              "#d8576b"
             ],
             [
              0.6666666666666666,
              "#ed7953"
             ],
             [
              0.7777777777777778,
              "#fb9f3a"
             ],
             [
              0.8888888888888888,
              "#fdca26"
             ],
             [
              1,
              "#f0f921"
             ]
            ],
            "type": "histogram2dcontour"
           }
          ],
          "mesh3d": [
           {
            "colorbar": {
             "outlinewidth": 0,
             "ticks": ""
            },
            "type": "mesh3d"
           }
          ],
          "parcoords": [
           {
            "line": {
             "colorbar": {
              "outlinewidth": 0,
              "ticks": ""
             }
            },
            "type": "parcoords"
           }
          ],
          "pie": [
           {
            "automargin": true,
            "type": "pie"
           }
          ],
          "scatter": [
           {
            "fillpattern": {
             "fillmode": "overlay",
             "size": 10,
             "solidity": 0.2
            },
            "type": "scatter"
           }
          ],
          "scatter3d": [
           {
            "line": {
             "colorbar": {
              "outlinewidth": 0,
              "ticks": ""
             }
            },
            "marker": {
             "colorbar": {
              "outlinewidth": 0,
              "ticks": ""
             }
            },
            "type": "scatter3d"
           }
          ],
          "scattercarpet": [
           {
            "marker": {
             "colorbar": {
              "outlinewidth": 0,
              "ticks": ""
             }
            },
            "type": "scattercarpet"
           }
          ],
          "scattergeo": [
           {
            "marker": {
             "colorbar": {
              "outlinewidth": 0,
              "ticks": ""
             }
            },
            "type": "scattergeo"
           }
          ],
          "scattergl": [
           {
            "marker": {
             "colorbar": {
              "outlinewidth": 0,
              "ticks": ""
             }
            },
            "type": "scattergl"
           }
          ],
          "scattermapbox": [
           {
            "marker": {
             "colorbar": {
              "outlinewidth": 0,
              "ticks": ""
             }
            },
            "type": "scattermapbox"
           }
          ],
          "scatterpolar": [
           {
            "marker": {
             "colorbar": {
              "outlinewidth": 0,
              "ticks": ""
             }
            },
            "type": "scatterpolar"
           }
          ],
          "scatterpolargl": [
           {
            "marker": {
             "colorbar": {
              "outlinewidth": 0,
              "ticks": ""
             }
            },
            "type": "scatterpolargl"
           }
          ],
          "scatterternary": [
           {
            "marker": {
             "colorbar": {
              "outlinewidth": 0,
              "ticks": ""
             }
            },
            "type": "scatterternary"
           }
          ],
          "surface": [
           {
            "colorbar": {
             "outlinewidth": 0,
             "ticks": ""
            },
            "colorscale": [
             [
              0,
              "#0d0887"
             ],
             [
              0.1111111111111111,
              "#46039f"
             ],
             [
              0.2222222222222222,
              "#7201a8"
             ],
             [
              0.3333333333333333,
              "#9c179e"
             ],
             [
              0.4444444444444444,
              "#bd3786"
             ],
             [
              0.5555555555555556,
              "#d8576b"
             ],
             [
              0.6666666666666666,
              "#ed7953"
             ],
             [
              0.7777777777777778,
              "#fb9f3a"
             ],
             [
              0.8888888888888888,
              "#fdca26"
             ],
             [
              1,
              "#f0f921"
             ]
            ],
            "type": "surface"
           }
          ],
          "table": [
           {
            "cells": {
             "fill": {
              "color": "#EBF0F8"
             },
             "line": {
              "color": "white"
             }
            },
            "header": {
             "fill": {
              "color": "#C8D4E3"
             },
             "line": {
              "color": "white"
             }
            },
            "type": "table"
           }
          ]
         },
         "layout": {
          "annotationdefaults": {
           "arrowcolor": "#2a3f5f",
           "arrowhead": 0,
           "arrowwidth": 1
          },
          "autotypenumbers": "strict",
          "coloraxis": {
           "colorbar": {
            "outlinewidth": 0,
            "ticks": ""
           }
          },
          "colorscale": {
           "diverging": [
            [
             0,
             "#8e0152"
            ],
            [
             0.1,
             "#c51b7d"
            ],
            [
             0.2,
             "#de77ae"
            ],
            [
             0.3,
             "#f1b6da"
            ],
            [
             0.4,
             "#fde0ef"
            ],
            [
             0.5,
             "#f7f7f7"
            ],
            [
             0.6,
             "#e6f5d0"
            ],
            [
             0.7,
             "#b8e186"
            ],
            [
             0.8,
             "#7fbc41"
            ],
            [
             0.9,
             "#4d9221"
            ],
            [
             1,
             "#276419"
            ]
           ],
           "sequential": [
            [
             0,
             "#0d0887"
            ],
            [
             0.1111111111111111,
             "#46039f"
            ],
            [
             0.2222222222222222,
             "#7201a8"
            ],
            [
             0.3333333333333333,
             "#9c179e"
            ],
            [
             0.4444444444444444,
             "#bd3786"
            ],
            [
             0.5555555555555556,
             "#d8576b"
            ],
            [
             0.6666666666666666,
             "#ed7953"
            ],
            [
             0.7777777777777778,
             "#fb9f3a"
            ],
            [
             0.8888888888888888,
             "#fdca26"
            ],
            [
             1,
             "#f0f921"
            ]
           ],
           "sequentialminus": [
            [
             0,
             "#0d0887"
            ],
            [
             0.1111111111111111,
             "#46039f"
            ],
            [
             0.2222222222222222,
             "#7201a8"
            ],
            [
             0.3333333333333333,
             "#9c179e"
            ],
            [
             0.4444444444444444,
             "#bd3786"
            ],
            [
             0.5555555555555556,
             "#d8576b"
            ],
            [
             0.6666666666666666,
             "#ed7953"
            ],
            [
             0.7777777777777778,
             "#fb9f3a"
            ],
            [
             0.8888888888888888,
             "#fdca26"
            ],
            [
             1,
             "#f0f921"
            ]
           ]
          },
          "colorway": [
           "#636efa",
           "#EF553B",
           "#00cc96",
           "#ab63fa",
           "#FFA15A",
           "#19d3f3",
           "#FF6692",
           "#B6E880",
           "#FF97FF",
           "#FECB52"
          ],
          "font": {
           "color": "#2a3f5f"
          },
          "geo": {
           "bgcolor": "white",
           "lakecolor": "white",
           "landcolor": "#E5ECF6",
           "showlakes": true,
           "showland": true,
           "subunitcolor": "white"
          },
          "hoverlabel": {
           "align": "left"
          },
          "hovermode": "closest",
          "mapbox": {
           "style": "light"
          },
          "paper_bgcolor": "white",
          "plot_bgcolor": "#E5ECF6",
          "polar": {
           "angularaxis": {
            "gridcolor": "white",
            "linecolor": "white",
            "ticks": ""
           },
           "bgcolor": "#E5ECF6",
           "radialaxis": {
            "gridcolor": "white",
            "linecolor": "white",
            "ticks": ""
           }
          },
          "scene": {
           "xaxis": {
            "backgroundcolor": "#E5ECF6",
            "gridcolor": "white",
            "gridwidth": 2,
            "linecolor": "white",
            "showbackground": true,
            "ticks": "",
            "zerolinecolor": "white"
           },
           "yaxis": {
            "backgroundcolor": "#E5ECF6",
            "gridcolor": "white",
            "gridwidth": 2,
            "linecolor": "white",
            "showbackground": true,
            "ticks": "",
            "zerolinecolor": "white"
           },
           "zaxis": {
            "backgroundcolor": "#E5ECF6",
            "gridcolor": "white",
            "gridwidth": 2,
            "linecolor": "white",
            "showbackground": true,
            "ticks": "",
            "zerolinecolor": "white"
           }
          },
          "shapedefaults": {
           "line": {
            "color": "#2a3f5f"
           }
          },
          "ternary": {
           "aaxis": {
            "gridcolor": "white",
            "linecolor": "white",
            "ticks": ""
           },
           "baxis": {
            "gridcolor": "white",
            "linecolor": "white",
            "ticks": ""
           },
           "bgcolor": "#E5ECF6",
           "caxis": {
            "gridcolor": "white",
            "linecolor": "white",
            "ticks": ""
           }
          },
          "title": {
           "x": 0.05
          },
          "xaxis": {
           "automargin": true,
           "gridcolor": "white",
           "linecolor": "white",
           "ticks": "",
           "title": {
            "standoff": 15
           },
           "zerolinecolor": "white",
           "zerolinewidth": 2
          },
          "yaxis": {
           "automargin": true,
           "gridcolor": "white",
           "linecolor": "white",
           "ticks": "",
           "title": {
            "standoff": 15
           },
           "zerolinecolor": "white",
           "zerolinewidth": 2
          }
         }
        },
        "title": {
         "text": "Ratio of N hits over N soaked for D68"
        },
        "xaxis": {
         "anchor": "y",
         "autorange": true,
         "domain": [
          0,
          1
         ],
         "range": [
          -0.5,
          14.5
         ],
         "title": {
          "text": "category"
         },
         "type": "category"
        },
        "yaxis": {
         "anchor": "x",
         "autorange": true,
         "domain": [
          0,
          1
         ],
         "range": [
          0,
          0.3508771929824561
         ],
         "title": {
          "text": "hit rate"
         },
         "type": "linear"
        }
       }
      },
      "image/png": "[encoded data removed]",
      "text/html": [
       "<div>                            <div id=\"c57413a8-595f-4eee-b526-d7bb7e0e9fd7\" class=\"plotly-graph-div\" style=\"height:525px; width:100%;\"></div>            <script type=\"text/javascript\">                require([\"plotly\"], function(Plotly) {                    window.PLOTLYENV=window.PLOTLYENV || {};                                    if (document.getElementById(\"c57413a8-595f-4eee-b526-d7bb7e0e9fd7\")) {                    Plotly.newPlot(                        \"c57413a8-595f-4eee-b526-d7bb7e0e9fd7\",                        [{\"alignmentgroup\":\"True\",\"hovertemplate\":\"variable=0<br>fragment_notes=%{x}<br>value=%{y}<extra></extra>\",\"legendgroup\":\"0\",\"marker\":{\"color\":\"#636efa\",\"pattern\":{\"shape\":\"\"}},\"name\":\"0\",\"offsetgroup\":\"0\",\"orientation\":\"v\",\"showlegend\":true,\"textposition\":\"auto\",\"x\":[\"CovHetFrags\",\"DSiPoised\",\"DSiPoised,Euopen\",\"DSiPoised,Leed3D\",\"Euopen\",\"Invalid SMILES\",\"Leed3D\",\"Leed3D,SpotXplorer\",\"MatteoFerla-Manual-Submission\",\"MatteoFerla-ROCS&PyRosetta-filtering\",\"Postera\",\"Other P2\",\"PepLite\",\"SpotXplorer\",\"York3D\"],\"xaxis\":\"x\",\"y\":[0.07142857142857142,0.10516252390057361,0.0,0.0,0.0,0.0,0.13333333333333333,0.0,0.18181818181818182,0.3333333333333333,0.02886002886002886,0.0,0.0,0.265625,0.08888888888888889],\"yaxis\":\"y\",\"type\":\"bar\"}],                        {\"template\":{\"data\":{\"histogram2dcontour\":[{\"type\":\"histogram2dcontour\",\"colorbar\":{\"outlinewidth\":0,\"ticks\":\"\"},\"colorscale\":[[0.0,\"#0d0887\"],[0.1111111111111111,\"#46039f\"],[0.2222222222222222,\"#7201a8\"],[0.3333333333333333,\"#9c179e\"],[0.4444444444444444,\"#bd3786\"],[0.5555555555555556,\"#d8576b\"],[0.6666666666666666,\"#ed7953\"],[0.7777777777777778,\"#fb9f3a\"],[0.8888888888888888,\"#fdca26\"],[1.0,\"#f0f921\"]]}],\"choropleth\":[{\"type\":\"choropleth\",\"colorbar\":{\"outlinewidth\":0,\"ticks\":\"\"}}],\"histogram2d\":[{\"type\":\"histogram2d\",\"colorbar\":{\"outlinewidth\":0,\"ticks\":\"\"},\"colorscale\":[[0.0,\"#0d0887\"],[0.1111111111111111,\"#46039f\"],[0.2222222222222222,\"#7201a8\"],[0.3333333333333333,\"#9c179e\"],[0.4444444444444444,\"#bd3786\"],[0.5555555555555556,\"#d8576b\"],[0.6666666666666666,\"#ed7953\"],[0.7777777777777778,\"#fb9f3a\"],[0.8888888888888888,\"#fdca26\"],[1.0,\"#f0f921\"]]}],\"heatmap\":[{\"type\":\"heatmap\",\"colorbar\":{\"outlinewidth\":0,\"ticks\":\"\"},\"colorscale\":[[0.0,\"#0d0887\"],[0.1111111111111111,\"#46039f\"],[0.2222222222222222,\"#7201a8\"],[0.3333333333333333,\"#9c179e\"],[0.4444444444444444,\"#bd3786\"],[0.5555555555555556,\"#d8576b\"],[0.6666666666666666,\"#ed7953\"],[0.7777777777777778,\"#fb9f3a\"],[0.8888888888888888,\"#fdca26\"],[1.0,\"#f0f921\"]]}],\"heatmapgl\":[{\"type\":\"heatmapgl\",\"colorbar\":{\"outlinewidth\":0,\"ticks\":\"\"},\"colorscale\":[[0.0,\"#0d0887\"],[0.1111111111111111,\"#46039f\"],[0.2222222222222222,\"#7201a8\"],[0.3333333333333333,\"#9c179e\"],[0.4444444444444444,\"#bd3786\"],[0.5555555555555556,\"#d8576b\"],[0.6666666666666666,\"#ed7953\"],[0.7777777777777778,\"#fb9f3a\"],[0.8888888888888888,\"#fdca26\"],[1.0,\"#f0f921\"]]}],\"contourcarpet\":[{\"type\":\"contourcarpet\",\"colorbar\":{\"outlinewidth\":0,\"ticks\":\"\"}}],\"contour\":[{\"type\":\"contour\",\"colorbar\":{\"outlinewidth\":0,\"ticks\":\"\"},\"colorscale\":[[0.0,\"#0d0887\"],[0.1111111111111111,\"#46039f\"],[0.2222222222222222,\"#7201a8\"],[0.3333333333333333,\"#9c179e\"],[0.4444444444444444,\"#bd3786\"],[0.5555555555555556,\"#d8576b\"],[0.6666666666666666,\"#ed7953\"],[0.7777777777777778,\"#fb9f3a\"],[0.8888888888888888,\"#fdca26\"],[1.0,\"#f0f921\"]]}],\"surface\":[{\"type\":\"surface\",\"colorbar\":{\"outlinewidth\":0,\"ticks\":\"\"},\"colorscale\":[[0.0,\"#0d0887\"],[0.1111111111111111,\"#46039f\"],[0.2222222222222222,\"#7201a8\"],[0.3333333333333333,\"#9c179e\"],[0.4444444444444444,\"#bd3786\"],[0.5555555555555556,\"#d8576b\"],[0.6666666666666666,\"#ed7953\"],[0.7777777777777778,\"#fb9f3a\"],[0.8888888888888888,\"#fdca26\"],[1.0,\"#f0f921\"]]}],\"mesh3d\":[{\"type\":\"mesh3d\",\"colorbar\":{\"outlinewidth\":0,\"ticks\":\"\"}}],\"scatter\":[{\"fillpattern\":{\"fillmode\":\"overlay\",\"size\":10,\"solidity\":0.2},\"type\":\"scatter\"}],\"parcoords\":[{\"type\":\"parcoords\",\"line\":{\"colorbar\":{\"outlinewidth\":0,\"ticks\":\"\"}}}],\"scatterpolargl\":[{\"type\":\"scatterpolargl\",\"marker\":{\"colorbar\":{\"outlinewidth\":0,\"ticks\":\"\"}}}],\"bar\":[{\"error_x\":{\"color\":\"#2a3f5f\"},\"error_y\":{\"color\":\"#2a3f5f\"},\"marker\":{\"line\":{\"color\":\"#E5ECF6\",\"width\":0.5},\"pattern\":{\"fillmode\":\"overlay\",\"size\":10,\"solidity\":0.2}},\"type\":\"bar\"}],\"scattergeo\":[{\"type\":\"scattergeo\",\"marker\":{\"colorbar\":{\"outlinewidth\":0,\"ticks\":\"\"}}}],\"scatterpolar\":[{\"type\":\"scatterpolar\",\"marker\":{\"colorbar\":{\"outlinewidth\":0,\"ticks\":\"\"}}}],\"histogram\":[{\"marker\":{\"pattern\":{\"fillmode\":\"overlay\",\"size\":10,\"solidity\":0.2}},\"type\":\"histogram\"}],\"scattergl\":[{\"type\":\"scattergl\",\"marker\":{\"colorbar\":{\"outlinewidth\":0,\"ticks\":\"\"}}}],\"scatter3d\":[{\"type\":\"scatter3d\",\"line\":{\"colorbar\":{\"outlinewidth\":0,\"ticks\":\"\"}},\"marker\":{\"colorbar\":{\"outlinewidth\":0,\"ticks\":\"\"}}}],\"scattermapbox\":[{\"type\":\"scattermapbox\",\"marker\":{\"colorbar\":{\"outlinewidth\":0,\"ticks\":\"\"}}}],\"scatterternary\":[{\"type\":\"scatterternary\",\"marker\":{\"colorbar\":{\"outlinewidth\":0,\"ticks\":\"\"}}}],\"scattercarpet\":[{\"type\":\"scattercarpet\",\"marker\":{\"colorbar\":{\"outlinewidth\":0,\"ticks\":\"\"}}}],\"carpet\":[{\"aaxis\":{\"endlinecolor\":\"#2a3f5f\",\"gridcolor\":\"white\",\"linecolor\":\"white\",\"minorgridcolor\":\"white\",\"startlinecolor\":\"#2a3f5f\"},\"baxis\":{\"endlinecolor\":\"#2a3f5f\",\"gridcolor\":\"white\",\"linecolor\":\"white\",\"minorgridcolor\":\"white\",\"startlinecolor\":\"#2a3f5f\"},\"type\":\"carpet\"}],\"table\":[{\"cells\":{\"fill\":{\"color\":\"#EBF0F8\"},\"line\":{\"color\":\"white\"}},\"header\":{\"fill\":{\"color\":\"#C8D4E3\"},\"line\":{\"color\":\"white\"}},\"type\":\"table\"}],\"barpolar\":[{\"marker\":{\"line\":{\"color\":\"#E5ECF6\",\"width\":0.5},\"pattern\":{\"fillmode\":\"overlay\",\"size\":10,\"solidity\":0.2}},\"type\":\"barpolar\"}],\"pie\":[{\"automargin\":true,\"type\":\"pie\"}]},\"layout\":{\"autotypenumbers\":\"strict\",\"colorway\":[\"#636efa\",\"#EF553B\",\"#00cc96\",\"#ab63fa\",\"#FFA15A\",\"#19d3f3\",\"#FF6692\",\"#B6E880\",\"#FF97FF\",\"#FECB52\"],\"font\":{\"color\":\"#2a3f5f\"},\"hovermode\":\"closest\",\"hoverlabel\":{\"align\":\"left\"},\"paper_bgcolor\":\"white\",\"plot_bgcolor\":\"#E5ECF6\",\"polar\":{\"bgcolor\":\"#E5ECF6\",\"angularaxis\":{\"gridcolor\":\"white\",\"linecolor\":\"white\",\"ticks\":\"\"},\"radialaxis\":{\"gridcolor\":\"white\",\"linecolor\":\"white\",\"ticks\":\"\"}},\"ternary\":{\"bgcolor\":\"#E5ECF6\",\"aaxis\":{\"gridcolor\":\"white\",\"linecolor\":\"white\",\"ticks\":\"\"},\"baxis\":{\"gridcolor\":\"white\",\"linecolor\":\"white\",\"ticks\":\"\"},\"caxis\":{\"gridcolor\":\"white\",\"linecolor\":\"white\",\"ticks\":\"\"}},\"coloraxis\":{\"colorbar\":{\"outlinewidth\":0,\"ticks\":\"\"}},\"colorscale\":{\"sequential\":[[0.0,\"#0d0887\"],[0.1111111111111111,\"#46039f\"],[0.2222222222222222,\"#7201a8\"],[0.3333333333333333,\"#9c179e\"],[0.4444444444444444,\"#bd3786\"],[0.5555555555555556,\"#d8576b\"],[0.6666666666666666,\"#ed7953\"],[0.7777777777777778,\"#fb9f3a\"],[0.8888888888888888,\"#fdca26\"],[1.0,\"#f0f921\"]],\"sequentialminus\":[[0.0,\"#0d0887\"],[0.1111111111111111,\"#46039f\"],[0.2222222222222222,\"#7201a8\"],[0.3333333333333333,\"#9c179e\"],[0.4444444444444444,\"#bd3786\"],[0.5555555555555556,\"#d8576b\"],[0.6666666666666666,\"#ed7953\"],[0.7777777777777778,\"#fb9f3a\"],[0.8888888888888888,\"#fdca26\"],[1.0,\"#f0f921\"]],\"diverging\":[[0,\"#8e0152\"],[0.1,\"#c51b7d\"],[0.2,\"#de77ae\"],[0.3,\"#f1b6da\"],[0.4,\"#fde0ef\"],[0.5,\"#f7f7f7\"],[0.6,\"#e6f5d0\"],[0.7,\"#b8e186\"],[0.8,\"#7fbc41\"],[0.9,\"#4d9221\"],[1,\"#276419\"]]},\"xaxis\":{\"gridcolor\":\"white\",\"linecolor\":\"white\",\"ticks\":\"\",\"title\":{\"standoff\":15},\"zerolinecolor\":\"white\",\"automargin\":true,\"zerolinewidth\":2},\"yaxis\":{\"gridcolor\":\"white\",\"linecolor\":\"white\",\"ticks\":\"\",\"title\":{\"standoff\":15},\"zerolinecolor\":\"white\",\"automargin\":true,\"zerolinewidth\":2},\"scene\":{\"xaxis\":{\"backgroundcolor\":\"#E5ECF6\",\"gridcolor\":\"white\",\"linecolor\":\"white\",\"showbackground\":true,\"ticks\":\"\",\"zerolinecolor\":\"white\",\"gridwidth\":2},\"yaxis\":{\"backgroundcolor\":\"#E5ECF6\",\"gridcolor\":\"white\",\"linecolor\":\"white\",\"showbackground\":true,\"ticks\":\"\",\"zerolinecolor\":\"white\",\"gridwidth\":2},\"zaxis\":{\"backgroundcolor\":\"#E5ECF6\",\"gridcolor\":\"white\",\"linecolor\":\"white\",\"showbackground\":true,\"ticks\":\"\",\"zerolinecolor\":\"white\",\"gridwidth\":2}},\"shapedefaults\":{\"line\":{\"color\":\"#2a3f5f\"}},\"annotationdefaults\":{\"arrowcolor\":\"#2a3f5f\",\"arrowhead\":0,\"arrowwidth\":1},\"geo\":{\"bgcolor\":\"white\",\"landcolor\":\"#E5ECF6\",\"subunitcolor\":\"white\",\"showland\":true,\"showlakes\":true,\"lakecolor\":\"white\"},\"title\":{\"x\":0.05},\"mapbox\":{\"style\":\"light\"}}},\"xaxis\":{\"anchor\":\"y\",\"domain\":[0.0,1.0],\"title\":{\"text\":\"category\"}},\"yaxis\":{\"anchor\":\"x\",\"domain\":[0.0,1.0],\"title\":{\"text\":\"hit rate\"}},\"legend\":{\"title\":{\"text\":\"variable\"},\"tracegroupgap\":0},\"title\":{\"text\":\"Ratio of N hits over N soaked for D68\"},\"barmode\":\"relative\"},                        {\"responsive\": true}                    ).then(function(){\n",
       "                            \n",
       "var gd = document.getElementById('c57413a8-595f-4eee-b526-d7bb7e0e9fd7');\n",
       "var x = new MutationObserver(function (mutations, observer) {{\n",
       "        var display = window.getComputedStyle(gd).display;\n",
       "        if (!display || display === 'none') {{\n",
       "            console.log([gd, 'removed!']);\n",
       "            Plotly.purge(gd);\n",
       "            observer.disconnect();\n",
       "        }}\n",
       "}});\n",
       "\n",
       "// Listen for the removal of the full notebook cells\n",
       "var notebookContainer = gd.closest('#notebook-container');\n",
       "if (notebookContainer) {{\n",
       "    x.observe(notebookContainer, {childList: true});\n",
       "}}\n",
       "\n",
       "// Listen for the clearing of the current output cell\n",
       "var outputEl = gd.closest('.output');\n",
       "if (outputEl) {{\n",
       "    x.observe(outputEl, {childList: true});\n",
       "}}\n",
       "\n",
       "                        })                };                });            </script>        </div>"
      ]
     },
     "metadata": {},
     "output_type": "display_data"
    }
   ],
   "source": [
    "#matched[['SMILES', 'fragment_notes', 'status']]\n",
    "\n",
    "pivotted = pd.DataFrame.pivot_table(matched,\n",
    "                                    columns='fragment_notes',\n",
    "                                    values='SMILES',\n",
    "                                    index='status', aggfunc=len)\\\n",
    "                       .fillna(0).astype(int)\\\n",
    "                       .rename(columns={'No match': 'Postera'})\n",
    "\n",
    "#pivotted.loc['Completed - structure released']\n",
    "\n",
    "fig = px.bar(pivotted.loc['Completed - structure released'] / pivotted.loc['Analysis in progress'],\n",
    "      title='Ratio of N hits over N soaked for D68')\n",
    "fig.update_layout(yaxis=dict(title='hit rate'), xaxis=dict(title='category'))\n",
    "fig"
   ]
  },
  {
   "cell_type": "code",
   "execution_count": 563,
   "id": "c0a36cdf-596a-489f-9551-433ea6f0bbe9",
   "metadata": {},
   "outputs": [
    {
     "data": {
      "application/vnd.plotly.v1+json": {
       "config": {
        "plotlyServerURL": "https://plot.ly"
       },
       "data": [
        {
         "alignmentgroup": "True",
         "hovertemplate": "status=Completed - structure released<br>fragment_notes=%{x}<br>value=%{y}<extra></extra>",
         "legendgroup": "Completed - structure released",
         "marker": {
          "color": "#636efa",
          "pattern": {
           "shape": ""
          }
         },
         "name": "Completed - structure released",
         "offsetgroup": "Completed - structure released",
         "orientation": "v",
         "showlegend": true,
         "textposition": "auto",
         "type": "bar",
         "x": [
          "CovHetFrags",
          "DSiPoised",
          "DSiPoised,Euopen",
          "DSiPoised,Leed3D",
          "Euopen",
          "Invalid SMILES",
          "Leed3D",
          "Leed3D,SpotXplorer",
          "MatteoFerla-Manual-Submission",
          "MatteoFerla-ROCS&PyRosetta-filtering",
          "Postera",
          "Other P2",
          "PepLite",
          "SpotXplorer",
          "York3D"
         ],
         "xaxis": "x",
         "y": [
          5,
          55,
          0,
          0,
          0,
          0,
          8,
          0,
          2,
          1,
          20,
          0,
          0,
          17,
          8
         ],
         "yaxis": "y"
        },
        {
         "alignmentgroup": "True",
         "hovertemplate": "status=Analysis in progress<br>fragment_notes=%{x}<br>value=%{y}<extra></extra>",
         "legendgroup": "Analysis in progress",
         "marker": {
          "color": "#EF553B",
          "pattern": {
           "shape": ""
          }
         },
         "name": "Analysis in progress",
         "offsetgroup": "Analysis in progress",
         "orientation": "v",
         "showlegend": true,
         "textposition": "auto",
         "type": "bar",
         "x": [
          "CovHetFrags",
          "DSiPoised",
          "DSiPoised,Euopen",
          "DSiPoised,Leed3D",
          "Euopen",
          "Invalid SMILES",
          "Leed3D",
          "Leed3D,SpotXplorer",
          "MatteoFerla-Manual-Submission",
          "MatteoFerla-ROCS&PyRosetta-filtering",
          "Postera",
          "Other P2",
          "PepLite",
          "SpotXplorer",
          "York3D"
         ],
         "xaxis": "x",
         "y": [
          70,
          523,
          1,
          14,
          11,
          8,
          60,
          1,
          11,
          3,
          693,
          39,
          1,
          64,
          90
         ],
         "yaxis": "y"
        }
       ],
       "layout": {
        "autosize": true,
        "barmode": "group",
        "dragmode": "zoom",
        "legend": {
         "title": {
          "text": "status"
         },
         "tracegroupgap": 0
        },
        "template": {
         "data": {
          "bar": [
           {
            "error_x": {
             "color": "#2a3f5f"
            },
            "error_y": {
             "color": "#2a3f5f"
            },
            "marker": {
             "line": {
              "color": "#E5ECF6",
              "width": 0.5
             },
             "pattern": {
              "fillmode": "overlay",
              "size": 10,
              "solidity": 0.2
             }
            },
            "type": "bar"
           }
          ],
          "barpolar": [
           {
            "marker": {
             "line": {
              "color": "#E5ECF6",
              "width": 0.5
             },
             "pattern": {
              "fillmode": "overlay",
              "size": 10,
              "solidity": 0.2
             }
            },
            "type": "barpolar"
           }
          ],
          "carpet": [
           {
            "aaxis": {
             "endlinecolor": "#2a3f5f",
             "gridcolor": "white",
             "linecolor": "white",
             "minorgridcolor": "white",
             "startlinecolor": "#2a3f5f"
            },
            "baxis": {
             "endlinecolor": "#2a3f5f",
             "gridcolor": "white",
             "linecolor": "white",
             "minorgridcolor": "white",
             "startlinecolor": "#2a3f5f"
            },
            "type": "carpet"
           }
          ],
          "choropleth": [
           {
            "colorbar": {
             "outlinewidth": 0,
             "ticks": ""
            },
            "type": "choropleth"
           }
          ],
          "contour": [
           {
            "colorbar": {
             "outlinewidth": 0,
             "ticks": ""
            },
            "colorscale": [
             [
              0,
              "#0d0887"
             ],
             [
              0.1111111111111111,
              "#46039f"
             ],
             [
              0.2222222222222222,
              "#7201a8"
             ],
             [
              0.3333333333333333,
              "#9c179e"
             ],
             [
              0.4444444444444444,
              "#bd3786"
             ],
             [
              0.5555555555555556,
              "#d8576b"
             ],
             [
              0.6666666666666666,
              "#ed7953"
             ],
             [
              0.7777777777777778,
              "#fb9f3a"
             ],
             [
              0.8888888888888888,
              "#fdca26"
             ],
             [
              1,
              "#f0f921"
             ]
            ],
            "type": "contour"
           }
          ],
          "contourcarpet": [
           {
            "colorbar": {
             "outlinewidth": 0,
             "ticks": ""
            },
            "type": "contourcarpet"
           }
          ],
          "heatmap": [
           {
            "colorbar": {
             "outlinewidth": 0,
             "ticks": ""
            },
            "colorscale": [
             [
              0,
              "#0d0887"
             ],
             [
              0.1111111111111111,
              "#46039f"
             ],
             [
              0.2222222222222222,
              "#7201a8"
             ],
             [
              0.3333333333333333,
              "#9c179e"
             ],
             [
              0.4444444444444444,
              "#bd3786"
             ],
             [
              0.5555555555555556,
              "#d8576b"
             ],
             [
              0.6666666666666666,
              "#ed7953"
             ],
             [
              0.7777777777777778,
              "#fb9f3a"
             ],
             [
              0.8888888888888888,
              "#fdca26"
             ],
             [
              1,
              "#f0f921"
             ]
            ],
            "type": "heatmap"
           }
          ],
          "heatmapgl": [
           {
            "colorbar": {
             "outlinewidth": 0,
             "ticks": ""
            },
            "colorscale": [
             [
              0,
              "#0d0887"
             ],
             [
              0.1111111111111111,
              "#46039f"
             ],
             [
              0.2222222222222222,
              "#7201a8"
             ],
             [
              0.3333333333333333,
              "#9c179e"
             ],
             [
              0.4444444444444444,
              "#bd3786"
             ],
             [
              0.5555555555555556,
              "#d8576b"
             ],
             [
              0.6666666666666666,
              "#ed7953"
             ],
             [
              0.7777777777777778,
              "#fb9f3a"
             ],
             [
              0.8888888888888888,
              "#fdca26"
             ],
             [
              1,
              "#f0f921"
             ]
            ],
            "type": "heatmapgl"
           }
          ],
          "histogram": [
           {
            "marker": {
             "pattern": {
              "fillmode": "overlay",
              "size": 10,
              "solidity": 0.2
             }
            },
            "type": "histogram"
           }
          ],
          "histogram2d": [
           {
            "colorbar": {
             "outlinewidth": 0,
             "ticks": ""
            },
            "colorscale": [
             [
              0,
              "#0d0887"
             ],
             [
              0.1111111111111111,
              "#46039f"
             ],
             [
              0.2222222222222222,
              "#7201a8"
             ],
             [
              0.3333333333333333,
              "#9c179e"
             ],
             [
              0.4444444444444444,
              "#bd3786"
             ],
             [
              0.5555555555555556,
              "#d8576b"
             ],
             [
              0.6666666666666666,
              "#ed7953"
             ],
             [
              0.7777777777777778,
              "#fb9f3a"
             ],
             [
              0.8888888888888888,
              "#fdca26"
             ],
             [
              1,
              "#f0f921"
             ]
            ],
            "type": "histogram2d"
           }
          ],
          "histogram2dcontour": [
           {
            "colorbar": {
             "outlinewidth": 0,
             "ticks": ""
            },
            "colorscale": [
             [
              0,
              "#0d0887"
             ],
             [
              0.1111111111111111,
              "#46039f"
             ],
             [
              0.2222222222222222,
              "#7201a8"
             ],
             [
              0.3333333333333333,
              "#9c179e"
             ],
             [
              0.4444444444444444,
              "#bd3786"
             ],
             [
              0.5555555555555556,
              "#d8576b"
             ],
             [
              0.6666666666666666,
              "#ed7953"
             ],
             [
              0.7777777777777778,
              "#fb9f3a"
             ],
             [
              0.8888888888888888,
              "#fdca26"
             ],
             [
              1,
              "#f0f921"
             ]
            ],
            "type": "histogram2dcontour"
           }
          ],
          "mesh3d": [
           {
            "colorbar": {
             "outlinewidth": 0,
             "ticks": ""
            },
            "type": "mesh3d"
           }
          ],
          "parcoords": [
           {
            "line": {
             "colorbar": {
              "outlinewidth": 0,
              "ticks": ""
             }
            },
            "type": "parcoords"
           }
          ],
          "pie": [
           {
            "automargin": true,
            "type": "pie"
           }
          ],
          "scatter": [
           {
            "fillpattern": {
             "fillmode": "overlay",
             "size": 10,
             "solidity": 0.2
            },
            "type": "scatter"
           }
          ],
          "scatter3d": [
           {
            "line": {
             "colorbar": {
              "outlinewidth": 0,
              "ticks": ""
             }
            },
            "marker": {
             "colorbar": {
              "outlinewidth": 0,
              "ticks": ""
             }
            },
            "type": "scatter3d"
           }
          ],
          "scattercarpet": [
           {
            "marker": {
             "colorbar": {
              "outlinewidth": 0,
              "ticks": ""
             }
            },
            "type": "scattercarpet"
           }
          ],
          "scattergeo": [
           {
            "marker": {
             "colorbar": {
              "outlinewidth": 0,
              "ticks": ""
             }
            },
            "type": "scattergeo"
           }
          ],
          "scattergl": [
           {
            "marker": {
             "colorbar": {
              "outlinewidth": 0,
              "ticks": ""
             }
            },
            "type": "scattergl"
           }
          ],
          "scattermapbox": [
           {
            "marker": {
             "colorbar": {
              "outlinewidth": 0,
              "ticks": ""
             }
            },
            "type": "scattermapbox"
           }
          ],
          "scatterpolar": [
           {
            "marker": {
             "colorbar": {
              "outlinewidth": 0,
              "ticks": ""
             }
            },
            "type": "scatterpolar"
           }
          ],
          "scatterpolargl": [
           {
            "marker": {
             "colorbar": {
              "outlinewidth": 0,
              "ticks": ""
             }
            },
            "type": "scatterpolargl"
           }
          ],
          "scatterternary": [
           {
            "marker": {
             "colorbar": {
              "outlinewidth": 0,
              "ticks": ""
             }
            },
            "type": "scatterternary"
           }
          ],
          "surface": [
           {
            "colorbar": {
             "outlinewidth": 0,
             "ticks": ""
            },
            "colorscale": [
             [
              0,
              "#0d0887"
             ],
             [
              0.1111111111111111,
              "#46039f"
             ],
             [
              0.2222222222222222,
              "#7201a8"
             ],
             [
              0.3333333333333333,
              "#9c179e"
             ],
             [
              0.4444444444444444,
              "#bd3786"
             ],
             [
              0.5555555555555556,
              "#d8576b"
             ],
             [
              0.6666666666666666,
              "#ed7953"
             ],
             [
              0.7777777777777778,
              "#fb9f3a"
             ],
             [
              0.8888888888888888,
              "#fdca26"
             ],
             [
              1,
              "#f0f921"
             ]
            ],
            "type": "surface"
           }
          ],
          "table": [
           {
            "cells": {
             "fill": {
              "color": "#EBF0F8"
             },
             "line": {
              "color": "white"
             }
            },
            "header": {
             "fill": {
              "color": "#C8D4E3"
             },
             "line": {
              "color": "white"
             }
            },
            "type": "table"
           }
          ]
         },
         "layout": {
          "annotationdefaults": {
           "arrowcolor": "#2a3f5f",
           "arrowhead": 0,
           "arrowwidth": 1
          },
          "autotypenumbers": "strict",
          "coloraxis": {
           "colorbar": {
            "outlinewidth": 0,
            "ticks": ""
           }
          },
          "colorscale": {
           "diverging": [
            [
             0,
             "#8e0152"
            ],
            [
             0.1,
             "#c51b7d"
            ],
            [
             0.2,
             "#de77ae"
            ],
            [
             0.3,
             "#f1b6da"
            ],
            [
             0.4,
             "#fde0ef"
            ],
            [
             0.5,
             "#f7f7f7"
            ],
            [
             0.6,
             "#e6f5d0"
            ],
            [
             0.7,
             "#b8e186"
            ],
            [
             0.8,
             "#7fbc41"
            ],
            [
             0.9,
             "#4d9221"
            ],
            [
             1,
             "#276419"
            ]
           ],
           "sequential": [
            [
             0,
             "#0d0887"
            ],
            [
             0.1111111111111111,
             "#46039f"
            ],
            [
             0.2222222222222222,
             "#7201a8"
            ],
            [
             0.3333333333333333,
             "#9c179e"
            ],
            [
             0.4444444444444444,
             "#bd3786"
            ],
            [
             0.5555555555555556,
             "#d8576b"
            ],
            [
             0.6666666666666666,
             "#ed7953"
            ],
            [
             0.7777777777777778,
             "#fb9f3a"
            ],
            [
             0.8888888888888888,
             "#fdca26"
            ],
            [
             1,
             "#f0f921"
            ]
           ],
           "sequentialminus": [
            [
             0,
             "#0d0887"
            ],
            [
             0.1111111111111111,
             "#46039f"
            ],
            [
             0.2222222222222222,
             "#7201a8"
            ],
            [
             0.3333333333333333,
             "#9c179e"
            ],
            [
             0.4444444444444444,
             "#bd3786"
            ],
            [
             0.5555555555555556,
             "#d8576b"
            ],
            [
             0.6666666666666666,
             "#ed7953"
            ],
            [
             0.7777777777777778,
             "#fb9f3a"
            ],
            [
             0.8888888888888888,
             "#fdca26"
            ],
            [
             1,
             "#f0f921"
            ]
           ]
          },
          "colorway": [
           "#636efa",
           "#EF553B",
           "#00cc96",
           "#ab63fa",
           "#FFA15A",
           "#19d3f3",
           "#FF6692",
           "#B6E880",
           "#FF97FF",
           "#FECB52"
          ],
          "font": {
           "color": "#2a3f5f"
          },
          "geo": {
           "bgcolor": "white",
           "lakecolor": "white",
           "landcolor": "#E5ECF6",
           "showlakes": true,
           "showland": true,
           "subunitcolor": "white"
          },
          "hoverlabel": {
           "align": "left"
          },
          "hovermode": "closest",
          "mapbox": {
           "style": "light"
          },
          "paper_bgcolor": "white",
          "plot_bgcolor": "#E5ECF6",
          "polar": {
           "angularaxis": {
            "gridcolor": "white",
            "linecolor": "white",
            "ticks": ""
           },
           "bgcolor": "#E5ECF6",
           "radialaxis": {
            "gridcolor": "white",
            "linecolor": "white",
            "ticks": ""
           }
          },
          "scene": {
           "xaxis": {
            "backgroundcolor": "#E5ECF6",
            "gridcolor": "white",
            "gridwidth": 2,
            "linecolor": "white",
            "showbackground": true,
            "ticks": "",
            "zerolinecolor": "white"
           },
           "yaxis": {
            "backgroundcolor": "#E5ECF6",
            "gridcolor": "white",
            "gridwidth": 2,
            "linecolor": "white",
            "showbackground": true,
            "ticks": "",
            "zerolinecolor": "white"
           },
           "zaxis": {
            "backgroundcolor": "#E5ECF6",
            "gridcolor": "white",
            "gridwidth": 2,
            "linecolor": "white",
            "showbackground": true,
            "ticks": "",
            "zerolinecolor": "white"
           }
          },
          "shapedefaults": {
           "line": {
            "color": "#2a3f5f"
           }
          },
          "ternary": {
           "aaxis": {
            "gridcolor": "white",
            "linecolor": "white",
            "ticks": ""
           },
           "baxis": {
            "gridcolor": "white",
            "linecolor": "white",
            "ticks": ""
           },
           "bgcolor": "#E5ECF6",
           "caxis": {
            "gridcolor": "white",
            "linecolor": "white",
            "ticks": ""
           }
          },
          "title": {
           "x": 0.05
          },
          "xaxis": {
           "automargin": true,
           "gridcolor": "white",
           "linecolor": "white",
           "ticks": "",
           "title": {
            "standoff": 15
           },
           "zerolinecolor": "white",
           "zerolinewidth": 2
          },
          "yaxis": {
           "automargin": true,
           "gridcolor": "white",
           "linecolor": "white",
           "ticks": "",
           "title": {
            "standoff": 15
           },
           "zerolinecolor": "white",
           "zerolinewidth": 2
          }
         }
        },
        "title": {
         "text": "Compound soaking outcome for D68 3C"
        },
        "xaxis": {
         "anchor": "y",
         "autorange": false,
         "domain": [
          0,
          1
         ],
         "range": [
          6.616893796992483,
          9.910126879699249
         ],
         "title": {
          "text": "category"
         },
         "type": "category"
        },
        "yaxis": {
         "anchor": "x",
         "autorange": false,
         "domain": [
          0,
          1
         ],
         "range": [
          -65.31780876751128,
          156.69592120960544
         ],
         "title": {
          "text": "N compounds"
         },
         "type": "linear"
        }
       }
      },
      "image/png": "[encoded data removed]",
      "text/html": [
       "<div>                            <div id=\"a657b8cf-b36f-452b-9e41-519724d9ada9\" class=\"plotly-graph-div\" style=\"height:525px; width:100%;\"></div>            <script type=\"text/javascript\">                require([\"plotly\"], function(Plotly) {                    window.PLOTLYENV=window.PLOTLYENV || {};                                    if (document.getElementById(\"a657b8cf-b36f-452b-9e41-519724d9ada9\")) {                    Plotly.newPlot(                        \"a657b8cf-b36f-452b-9e41-519724d9ada9\",                        [{\"alignmentgroup\":\"True\",\"hovertemplate\":\"status=Completed - structure released<br>fragment_notes=%{x}<br>value=%{y}<extra></extra>\",\"legendgroup\":\"Completed - structure released\",\"marker\":{\"color\":\"#636efa\",\"pattern\":{\"shape\":\"\"}},\"name\":\"Completed - structure released\",\"offsetgroup\":\"Completed - structure released\",\"orientation\":\"v\",\"showlegend\":true,\"textposition\":\"auto\",\"x\":[\"CovHetFrags\",\"DSiPoised\",\"DSiPoised,Euopen\",\"DSiPoised,Leed3D\",\"Euopen\",\"Invalid SMILES\",\"Leed3D\",\"Leed3D,SpotXplorer\",\"MatteoFerla-Manual-Submission\",\"MatteoFerla-ROCS&PyRosetta-filtering\",\"Postera\",\"Other P2\",\"PepLite\",\"SpotXplorer\",\"York3D\"],\"xaxis\":\"x\",\"y\":[5,55,0,0,0,0,8,0,2,1,20,0,0,17,8],\"yaxis\":\"y\",\"type\":\"bar\"},{\"alignmentgroup\":\"True\",\"hovertemplate\":\"status=Analysis in progress<br>fragment_notes=%{x}<br>value=%{y}<extra></extra>\",\"legendgroup\":\"Analysis in progress\",\"marker\":{\"color\":\"#EF553B\",\"pattern\":{\"shape\":\"\"}},\"name\":\"Analysis in progress\",\"offsetgroup\":\"Analysis in progress\",\"orientation\":\"v\",\"showlegend\":true,\"textposition\":\"auto\",\"x\":[\"CovHetFrags\",\"DSiPoised\",\"DSiPoised,Euopen\",\"DSiPoised,Leed3D\",\"Euopen\",\"Invalid SMILES\",\"Leed3D\",\"Leed3D,SpotXplorer\",\"MatteoFerla-Manual-Submission\",\"MatteoFerla-ROCS&PyRosetta-filtering\",\"Postera\",\"Other P2\",\"PepLite\",\"SpotXplorer\",\"York3D\"],\"xaxis\":\"x\",\"y\":[70,523,1,14,11,8,60,1,11,3,693,39,1,64,90],\"yaxis\":\"y\",\"type\":\"bar\"}],                        {\"template\":{\"data\":{\"histogram2dcontour\":[{\"type\":\"histogram2dcontour\",\"colorbar\":{\"outlinewidth\":0,\"ticks\":\"\"},\"colorscale\":[[0.0,\"#0d0887\"],[0.1111111111111111,\"#46039f\"],[0.2222222222222222,\"#7201a8\"],[0.3333333333333333,\"#9c179e\"],[0.4444444444444444,\"#bd3786\"],[0.5555555555555556,\"#d8576b\"],[0.6666666666666666,\"#ed7953\"],[0.7777777777777778,\"#fb9f3a\"],[0.8888888888888888,\"#fdca26\"],[1.0,\"#f0f921\"]]}],\"choropleth\":[{\"type\":\"choropleth\",\"colorbar\":{\"outlinewidth\":0,\"ticks\":\"\"}}],\"histogram2d\":[{\"type\":\"histogram2d\",\"colorbar\":{\"outlinewidth\":0,\"ticks\":\"\"},\"colorscale\":[[0.0,\"#0d0887\"],[0.1111111111111111,\"#46039f\"],[0.2222222222222222,\"#7201a8\"],[0.3333333333333333,\"#9c179e\"],[0.4444444444444444,\"#bd3786\"],[0.5555555555555556,\"#d8576b\"],[0.6666666666666666,\"#ed7953\"],[0.7777777777777778,\"#fb9f3a\"],[0.8888888888888888,\"#fdca26\"],[1.0,\"#f0f921\"]]}],\"heatmap\":[{\"type\":\"heatmap\",\"colorbar\":{\"outlinewidth\":0,\"ticks\":\"\"},\"colorscale\":[[0.0,\"#0d0887\"],[0.1111111111111111,\"#46039f\"],[0.2222222222222222,\"#7201a8\"],[0.3333333333333333,\"#9c179e\"],[0.4444444444444444,\"#bd3786\"],[0.5555555555555556,\"#d8576b\"],[0.6666666666666666,\"#ed7953\"],[0.7777777777777778,\"#fb9f3a\"],[0.8888888888888888,\"#fdca26\"],[1.0,\"#f0f921\"]]}],\"heatmapgl\":[{\"type\":\"heatmapgl\",\"colorbar\":{\"outlinewidth\":0,\"ticks\":\"\"},\"colorscale\":[[0.0,\"#0d0887\"],[0.1111111111111111,\"#46039f\"],[0.2222222222222222,\"#7201a8\"],[0.3333333333333333,\"#9c179e\"],[0.4444444444444444,\"#bd3786\"],[0.5555555555555556,\"#d8576b\"],[0.6666666666666666,\"#ed7953\"],[0.7777777777777778,\"#fb9f3a\"],[0.8888888888888888,\"#fdca26\"],[1.0,\"#f0f921\"]]}],\"contourcarpet\":[{\"type\":\"contourcarpet\",\"colorbar\":{\"outlinewidth\":0,\"ticks\":\"\"}}],\"contour\":[{\"type\":\"contour\",\"colorbar\":{\"outlinewidth\":0,\"ticks\":\"\"},\"colorscale\":[[0.0,\"#0d0887\"],[0.1111111111111111,\"#46039f\"],[0.2222222222222222,\"#7201a8\"],[0.3333333333333333,\"#9c179e\"],[0.4444444444444444,\"#bd3786\"],[0.5555555555555556,\"#d8576b\"],[0.6666666666666666,\"#ed7953\"],[0.7777777777777778,\"#fb9f3a\"],[0.8888888888888888,\"#fdca26\"],[1.0,\"#f0f921\"]]}],\"surface\":[{\"type\":\"surface\",\"colorbar\":{\"outlinewidth\":0,\"ticks\":\"\"},\"colorscale\":[[0.0,\"#0d0887\"],[0.1111111111111111,\"#46039f\"],[0.2222222222222222,\"#7201a8\"],[0.3333333333333333,\"#9c179e\"],[0.4444444444444444,\"#bd3786\"],[0.5555555555555556,\"#d8576b\"],[0.6666666666666666,\"#ed7953\"],[0.7777777777777778,\"#fb9f3a\"],[0.8888888888888888,\"#fdca26\"],[1.0,\"#f0f921\"]]}],\"mesh3d\":[{\"type\":\"mesh3d\",\"colorbar\":{\"outlinewidth\":0,\"ticks\":\"\"}}],\"scatter\":[{\"fillpattern\":{\"fillmode\":\"overlay\",\"size\":10,\"solidity\":0.2},\"type\":\"scatter\"}],\"parcoords\":[{\"type\":\"parcoords\",\"line\":{\"colorbar\":{\"outlinewidth\":0,\"ticks\":\"\"}}}],\"scatterpolargl\":[{\"type\":\"scatterpolargl\",\"marker\":{\"colorbar\":{\"outlinewidth\":0,\"ticks\":\"\"}}}],\"bar\":[{\"error_x\":{\"color\":\"#2a3f5f\"},\"error_y\":{\"color\":\"#2a3f5f\"},\"marker\":{\"line\":{\"color\":\"#E5ECF6\",\"width\":0.5},\"pattern\":{\"fillmode\":\"overlay\",\"size\":10,\"solidity\":0.2}},\"type\":\"bar\"}],\"scattergeo\":[{\"type\":\"scattergeo\",\"marker\":{\"colorbar\":{\"outlinewidth\":0,\"ticks\":\"\"}}}],\"scatterpolar\":[{\"type\":\"scatterpolar\",\"marker\":{\"colorbar\":{\"outlinewidth\":0,\"ticks\":\"\"}}}],\"histogram\":[{\"marker\":{\"pattern\":{\"fillmode\":\"overlay\",\"size\":10,\"solidity\":0.2}},\"type\":\"histogram\"}],\"scattergl\":[{\"type\":\"scattergl\",\"marker\":{\"colorbar\":{\"outlinewidth\":0,\"ticks\":\"\"}}}],\"scatter3d\":[{\"type\":\"scatter3d\",\"line\":{\"colorbar\":{\"outlinewidth\":0,\"ticks\":\"\"}},\"marker\":{\"colorbar\":{\"outlinewidth\":0,\"ticks\":\"\"}}}],\"scattermapbox\":[{\"type\":\"scattermapbox\",\"marker\":{\"colorbar\":{\"outlinewidth\":0,\"ticks\":\"\"}}}],\"scatterternary\":[{\"type\":\"scatterternary\",\"marker\":{\"colorbar\":{\"outlinewidth\":0,\"ticks\":\"\"}}}],\"scattercarpet\":[{\"type\":\"scattercarpet\",\"marker\":{\"colorbar\":{\"outlinewidth\":0,\"ticks\":\"\"}}}],\"carpet\":[{\"aaxis\":{\"endlinecolor\":\"#2a3f5f\",\"gridcolor\":\"white\",\"linecolor\":\"white\",\"minorgridcolor\":\"white\",\"startlinecolor\":\"#2a3f5f\"},\"baxis\":{\"endlinecolor\":\"#2a3f5f\",\"gridcolor\":\"white\",\"linecolor\":\"white\",\"minorgridcolor\":\"white\",\"startlinecolor\":\"#2a3f5f\"},\"type\":\"carpet\"}],\"table\":[{\"cells\":{\"fill\":{\"color\":\"#EBF0F8\"},\"line\":{\"color\":\"white\"}},\"header\":{\"fill\":{\"color\":\"#C8D4E3\"},\"line\":{\"color\":\"white\"}},\"type\":\"table\"}],\"barpolar\":[{\"marker\":{\"line\":{\"color\":\"#E5ECF6\",\"width\":0.5},\"pattern\":{\"fillmode\":\"overlay\",\"size\":10,\"solidity\":0.2}},\"type\":\"barpolar\"}],\"pie\":[{\"automargin\":true,\"type\":\"pie\"}]},\"layout\":{\"autotypenumbers\":\"strict\",\"colorway\":[\"#636efa\",\"#EF553B\",\"#00cc96\",\"#ab63fa\",\"#FFA15A\",\"#19d3f3\",\"#FF6692\",\"#B6E880\",\"#FF97FF\",\"#FECB52\"],\"font\":{\"color\":\"#2a3f5f\"},\"hovermode\":\"closest\",\"hoverlabel\":{\"align\":\"left\"},\"paper_bgcolor\":\"white\",\"plot_bgcolor\":\"#E5ECF6\",\"polar\":{\"bgcolor\":\"#E5ECF6\",\"angularaxis\":{\"gridcolor\":\"white\",\"linecolor\":\"white\",\"ticks\":\"\"},\"radialaxis\":{\"gridcolor\":\"white\",\"linecolor\":\"white\",\"ticks\":\"\"}},\"ternary\":{\"bgcolor\":\"#E5ECF6\",\"aaxis\":{\"gridcolor\":\"white\",\"linecolor\":\"white\",\"ticks\":\"\"},\"baxis\":{\"gridcolor\":\"white\",\"linecolor\":\"white\",\"ticks\":\"\"},\"caxis\":{\"gridcolor\":\"white\",\"linecolor\":\"white\",\"ticks\":\"\"}},\"coloraxis\":{\"colorbar\":{\"outlinewidth\":0,\"ticks\":\"\"}},\"colorscale\":{\"sequential\":[[0.0,\"#0d0887\"],[0.1111111111111111,\"#46039f\"],[0.2222222222222222,\"#7201a8\"],[0.3333333333333333,\"#9c179e\"],[0.4444444444444444,\"#bd3786\"],[0.5555555555555556,\"#d8576b\"],[0.6666666666666666,\"#ed7953\"],[0.7777777777777778,\"#fb9f3a\"],[0.8888888888888888,\"#fdca26\"],[1.0,\"#f0f921\"]],\"sequentialminus\":[[0.0,\"#0d0887\"],[0.1111111111111111,\"#46039f\"],[0.2222222222222222,\"#7201a8\"],[0.3333333333333333,\"#9c179e\"],[0.4444444444444444,\"#bd3786\"],[0.5555555555555556,\"#d8576b\"],[0.6666666666666666,\"#ed7953\"],[0.7777777777777778,\"#fb9f3a\"],[0.8888888888888888,\"#fdca26\"],[1.0,\"#f0f921\"]],\"diverging\":[[0,\"#8e0152\"],[0.1,\"#c51b7d\"],[0.2,\"#de77ae\"],[0.3,\"#f1b6da\"],[0.4,\"#fde0ef\"],[0.5,\"#f7f7f7\"],[0.6,\"#e6f5d0\"],[0.7,\"#b8e186\"],[0.8,\"#7fbc41\"],[0.9,\"#4d9221\"],[1,\"#276419\"]]},\"xaxis\":{\"gridcolor\":\"white\",\"linecolor\":\"white\",\"ticks\":\"\",\"title\":{\"standoff\":15},\"zerolinecolor\":\"white\",\"automargin\":true,\"zerolinewidth\":2},\"yaxis\":{\"gridcolor\":\"white\",\"linecolor\":\"white\",\"ticks\":\"\",\"title\":{\"standoff\":15},\"zerolinecolor\":\"white\",\"automargin\":true,\"zerolinewidth\":2},\"scene\":{\"xaxis\":{\"backgroundcolor\":\"#E5ECF6\",\"gridcolor\":\"white\",\"linecolor\":\"white\",\"showbackground\":true,\"ticks\":\"\",\"zerolinecolor\":\"white\",\"gridwidth\":2},\"yaxis\":{\"backgroundcolor\":\"#E5ECF6\",\"gridcolor\":\"white\",\"linecolor\":\"white\",\"showbackground\":true,\"ticks\":\"\",\"zerolinecolor\":\"white\",\"gridwidth\":2},\"zaxis\":{\"backgroundcolor\":\"#E5ECF6\",\"gridcolor\":\"white\",\"linecolor\":\"white\",\"showbackground\":true,\"ticks\":\"\",\"zerolinecolor\":\"white\",\"gridwidth\":2}},\"shapedefaults\":{\"line\":{\"color\":\"#2a3f5f\"}},\"annotationdefaults\":{\"arrowcolor\":\"#2a3f5f\",\"arrowhead\":0,\"arrowwidth\":1},\"geo\":{\"bgcolor\":\"white\",\"landcolor\":\"#E5ECF6\",\"subunitcolor\":\"white\",\"showland\":true,\"showlakes\":true,\"lakecolor\":\"white\"},\"title\":{\"x\":0.05},\"mapbox\":{\"style\":\"light\"}}},\"xaxis\":{\"anchor\":\"y\",\"domain\":[0.0,1.0],\"title\":{\"text\":\"category\"}},\"yaxis\":{\"anchor\":\"x\",\"domain\":[0.0,1.0],\"title\":{\"text\":\"N compounds\"}},\"legend\":{\"title\":{\"text\":\"status\"},\"tracegroupgap\":0},\"title\":{\"text\":\"Compound soaking outcome for D68 3C\"},\"barmode\":\"group\"},                        {\"responsive\": true}                    ).then(function(){\n",
       "                            \n",
       "var gd = document.getElementById('a657b8cf-b36f-452b-9e41-519724d9ada9');\n",
       "var x = new MutationObserver(function (mutations, observer) {{\n",
       "        var display = window.getComputedStyle(gd).display;\n",
       "        if (!display || display === 'none') {{\n",
       "            console.log([gd, 'removed!']);\n",
       "            Plotly.purge(gd);\n",
       "            observer.disconnect();\n",
       "        }}\n",
       "}});\n",
       "\n",
       "// Listen for the removal of the full notebook cells\n",
       "var notebookContainer = gd.closest('#notebook-container');\n",
       "if (notebookContainer) {{\n",
       "    x.observe(notebookContainer, {childList: true});\n",
       "}}\n",
       "\n",
       "// Listen for the clearing of the current output cell\n",
       "var outputEl = gd.closest('.output');\n",
       "if (outputEl) {{\n",
       "    x.observe(outputEl, {childList: true});\n",
       "}}\n",
       "\n",
       "                        })                };                });            </script>        </div>"
      ]
     },
     "metadata": {},
     "output_type": "display_data"
    }
   ],
   "source": [
    "fig = px.bar(pivotted.transpose()[['Completed - structure released', 'Analysis in progress']],\n",
    "      title='Compound soaking outcome for D68 3C'\n",
    "      )\n",
    "fig.update_layout(barmode='group')\n",
    "fig.update_layout(yaxis=dict(title='N compounds'), xaxis=dict(title='category'))\n",
    "\n",
    "fig"
   ]
  },
  {
   "cell_type": "code",
   "execution_count": 564,
   "id": "d9e8becf-2e8f-48c3-80fa-6c1710ac02b6",
   "metadata": {},
   "outputs": [
    {
     "data": {
      "application/vnd.plotly.v1+json": {
       "config": {
        "plotlyServerURL": "https://plot.ly"
       },
       "data": [
        {
         "alignmentgroup": "True",
         "hovertemplate": "status=released_smoothed<br>fragment_notes=%{x}<br>value=%{y}<extra></extra>",
         "legendgroup": "released_smoothed",
         "marker": {
          "color": "#636efa",
          "pattern": {
           "shape": ""
          }
         },
         "name": "released_smoothed",
         "offsetgroup": "released_smoothed",
         "orientation": "v",
         "showlegend": true,
         "textposition": "auto",
         "type": "bar",
         "x": [
          "CovHetFrags",
          "DSiPoised",
          "DSiPoised,Euopen",
          "DSiPoised,Leed3D",
          "Euopen",
          "Invalid SMILES",
          "Leed3D",
          "Leed3D,SpotXplorer",
          "MatteoFerla-Manual-Submission",
          "MatteoFerla-ROCS&PyRosetta-filtering",
          "Postera",
          "Other P2",
          "PepLite",
          "SpotXplorer",
          "York3D"
         ],
         "xaxis": "x",
         "y": [
          0.04580152671755725,
          0.42748091603053434,
          0.007633587786259542,
          0.007633587786259542,
          0.007633587786259542,
          0.007633587786259542,
          0.06870229007633588,
          0.007633587786259542,
          0.022900763358778626,
          0.015267175572519083,
          0.16030534351145037,
          0.007633587786259542,
          0.007633587786259542,
          0.13740458015267176,
          0.06870229007633588
         ],
         "yaxis": "y"
        },
        {
         "alignmentgroup": "True",
         "hovertemplate": "status=soaked_smoothed<br>fragment_notes=%{x}<br>value=%{y}<extra></extra>",
         "legendgroup": "soaked_smoothed",
         "marker": {
          "color": "#EF553B",
          "pattern": {
           "shape": ""
          }
         },
         "name": "soaked_smoothed",
         "offsetgroup": "soaked_smoothed",
         "orientation": "v",
         "showlegend": true,
         "textposition": "auto",
         "type": "bar",
         "x": [
          "CovHetFrags",
          "DSiPoised",
          "DSiPoised,Euopen",
          "DSiPoised,Leed3D",
          "Euopen",
          "Invalid SMILES",
          "Leed3D",
          "Leed3D,SpotXplorer",
          "MatteoFerla-Manual-Submission",
          "MatteoFerla-ROCS&PyRosetta-filtering",
          "Postera",
          "Other P2",
          "PepLite",
          "SpotXplorer",
          "York3D"
         ],
         "xaxis": "x",
         "y": [
          0.0442643391521197,
          0.3266832917705736,
          0.0012468827930174563,
          0.009351620947630923,
          0.007481296758104738,
          0.005610972568578554,
          0.038029925187032416,
          0.0012468827930174563,
          0.007481296758104738,
          0.0024937655860349127,
          0.43266832917705733,
          0.02493765586034913,
          0.0012468827930174563,
          0.040523690773067333,
          0.05673316708229426
         ],
         "yaxis": "y"
        }
       ],
       "layout": {
        "autosize": true,
        "barmode": "group",
        "legend": {
         "title": {
          "text": "status"
         },
         "tracegroupgap": 0
        },
        "template": {
         "data": {
          "bar": [
           {
            "error_x": {
             "color": "#2a3f5f"
            },
            "error_y": {
             "color": "#2a3f5f"
            },
            "marker": {
             "line": {
              "color": "#E5ECF6",
              "width": 0.5
             },
             "pattern": {
              "fillmode": "overlay",
              "size": 10,
              "solidity": 0.2
             }
            },
            "type": "bar"
           }
          ],
          "barpolar": [
           {
            "marker": {
             "line": {
              "color": "#E5ECF6",
              "width": 0.5
             },
             "pattern": {
              "fillmode": "overlay",
              "size": 10,
              "solidity": 0.2
             }
            },
            "type": "barpolar"
           }
          ],
          "carpet": [
           {
            "aaxis": {
             "endlinecolor": "#2a3f5f",
             "gridcolor": "white",
             "linecolor": "white",
             "minorgridcolor": "white",
             "startlinecolor": "#2a3f5f"
            },
            "baxis": {
             "endlinecolor": "#2a3f5f",
             "gridcolor": "white",
             "linecolor": "white",
             "minorgridcolor": "white",
             "startlinecolor": "#2a3f5f"
            },
            "type": "carpet"
           }
          ],
          "choropleth": [
           {
            "colorbar": {
             "outlinewidth": 0,
             "ticks": ""
            },
            "type": "choropleth"
           }
          ],
          "contour": [
           {
            "colorbar": {
             "outlinewidth": 0,
             "ticks": ""
            },
            "colorscale": [
             [
              0,
              "#0d0887"
             ],
             [
              0.1111111111111111,
              "#46039f"
             ],
             [
              0.2222222222222222,
              "#7201a8"
             ],
             [
              0.3333333333333333,
              "#9c179e"
             ],
             [
              0.4444444444444444,
              "#bd3786"
             ],
             [
              0.5555555555555556,
              "#d8576b"
             ],
             [
              0.6666666666666666,
              "#ed7953"
             ],
             [
              0.7777777777777778,
              "#fb9f3a"
             ],
             [
              0.8888888888888888,
              "#fdca26"
             ],
             [
              1,
              "#f0f921"
             ]
            ],
            "type": "contour"
           }
          ],
          "contourcarpet": [
           {
            "colorbar": {
             "outlinewidth": 0,
             "ticks": ""
            },
            "type": "contourcarpet"
           }
          ],
          "heatmap": [
           {
            "colorbar": {
             "outlinewidth": 0,
             "ticks": ""
            },
            "colorscale": [
             [
              0,
              "#0d0887"
             ],
             [
              0.1111111111111111,
              "#46039f"
             ],
             [
              0.2222222222222222,
              "#7201a8"
             ],
             [
              0.3333333333333333,
              "#9c179e"
             ],
             [
              0.4444444444444444,
              "#bd3786"
             ],
             [
              0.5555555555555556,
              "#d8576b"
             ],
             [
              0.6666666666666666,
              "#ed7953"
             ],
             [
              0.7777777777777778,
              "#fb9f3a"
             ],
             [
              0.8888888888888888,
              "#fdca26"
             ],
             [
              1,
              "#f0f921"
             ]
            ],
            "type": "heatmap"
           }
          ],
          "heatmapgl": [
           {
            "colorbar": {
             "outlinewidth": 0,
             "ticks": ""
            },
            "colorscale": [
             [
              0,
              "#0d0887"
             ],
             [
              0.1111111111111111,
              "#46039f"
             ],
             [
              0.2222222222222222,
              "#7201a8"
             ],
             [
              0.3333333333333333,
              "#9c179e"
             ],
             [
              0.4444444444444444,
              "#bd3786"
             ],
             [
              0.5555555555555556,
              "#d8576b"
             ],
             [
              0.6666666666666666,
              "#ed7953"
             ],
             [
              0.7777777777777778,
              "#fb9f3a"
             ],
             [
              0.8888888888888888,
              "#fdca26"
             ],
             [
              1,
              "#f0f921"
             ]
            ],
            "type": "heatmapgl"
           }
          ],
          "histogram": [
           {
            "marker": {
             "pattern": {
              "fillmode": "overlay",
              "size": 10,
              "solidity": 0.2
             }
            },
            "type": "histogram"
           }
          ],
          "histogram2d": [
           {
            "colorbar": {
             "outlinewidth": 0,
             "ticks": ""
            },
            "colorscale": [
             [
              0,
              "#0d0887"
             ],
             [
              0.1111111111111111,
              "#46039f"
             ],
             [
              0.2222222222222222,
              "#7201a8"
             ],
             [
              0.3333333333333333,
              "#9c179e"
             ],
             [
              0.4444444444444444,
              "#bd3786"
             ],
             [
              0.5555555555555556,
              "#d8576b"
             ],
             [
              0.6666666666666666,
              "#ed7953"
             ],
             [
              0.7777777777777778,
              "#fb9f3a"
             ],
             [
              0.8888888888888888,
              "#fdca26"
             ],
             [
              1,
              "#f0f921"
             ]
            ],
            "type": "histogram2d"
           }
          ],
          "histogram2dcontour": [
           {
            "colorbar": {
             "outlinewidth": 0,
             "ticks": ""
            },
            "colorscale": [
             [
              0,
              "#0d0887"
             ],
             [
              0.1111111111111111,
              "#46039f"
             ],
             [
              0.2222222222222222,
              "#7201a8"
             ],
             [
              0.3333333333333333,
              "#9c179e"
             ],
             [
              0.4444444444444444,
              "#bd3786"
             ],
             [
              0.5555555555555556,
              "#d8576b"
             ],
             [
              0.6666666666666666,
              "#ed7953"
             ],
             [
              0.7777777777777778,
              "#fb9f3a"
             ],
             [
              0.8888888888888888,
              "#fdca26"
             ],
             [
              1,
              "#f0f921"
             ]
            ],
            "type": "histogram2dcontour"
           }
          ],
          "mesh3d": [
           {
            "colorbar": {
             "outlinewidth": 0,
             "ticks": ""
            },
            "type": "mesh3d"
           }
          ],
          "parcoords": [
           {
            "line": {
             "colorbar": {
              "outlinewidth": 0,
              "ticks": ""
             }
            },
            "type": "parcoords"
           }
          ],
          "pie": [
           {
            "automargin": true,
            "type": "pie"
           }
          ],
          "scatter": [
           {
            "fillpattern": {
             "fillmode": "overlay",
             "size": 10,
             "solidity": 0.2
            },
            "type": "scatter"
           }
          ],
          "scatter3d": [
           {
            "line": {
             "colorbar": {
              "outlinewidth": 0,
              "ticks": ""
             }
            },
            "marker": {
             "colorbar": {
              "outlinewidth": 0,
              "ticks": ""
             }
            },
            "type": "scatter3d"
           }
          ],
          "scattercarpet": [
           {
            "marker": {
             "colorbar": {
              "outlinewidth": 0,
              "ticks": ""
             }
            },
            "type": "scattercarpet"
           }
          ],
          "scattergeo": [
           {
            "marker": {
             "colorbar": {
              "outlinewidth": 0,
              "ticks": ""
             }
            },
            "type": "scattergeo"
           }
          ],
          "scattergl": [
           {
            "marker": {
             "colorbar": {
              "outlinewidth": 0,
              "ticks": ""
             }
            },
            "type": "scattergl"
           }
          ],
          "scattermapbox": [
           {
            "marker": {
             "colorbar": {
              "outlinewidth": 0,
              "ticks": ""
             }
            },
            "type": "scattermapbox"
           }
          ],
          "scatterpolar": [
           {
            "marker": {
             "colorbar": {
              "outlinewidth": 0,
              "ticks": ""
             }
            },
            "type": "scatterpolar"
           }
          ],
          "scatterpolargl": [
           {
            "marker": {
             "colorbar": {
              "outlinewidth": 0,
              "ticks": ""
             }
            },
            "type": "scatterpolargl"
           }
          ],
          "scatterternary": [
           {
            "marker": {
             "colorbar": {
              "outlinewidth": 0,
              "ticks": ""
             }
            },
            "type": "scatterternary"
           }
          ],
          "surface": [
           {
            "colorbar": {
             "outlinewidth": 0,
             "ticks": ""
            },
            "colorscale": [
             [
              0,
              "#0d0887"
             ],
             [
              0.1111111111111111,
              "#46039f"
             ],
             [
              0.2222222222222222,
              "#7201a8"
             ],
             [
              0.3333333333333333,
              "#9c179e"
             ],
             [
              0.4444444444444444,
              "#bd3786"
             ],
             [
              0.5555555555555556,
              "#d8576b"
             ],
             [
              0.6666666666666666,
              "#ed7953"
             ],
             [
              0.7777777777777778,
              "#fb9f3a"
             ],
             [
              0.8888888888888888,
              "#fdca26"
             ],
             [
              1,
              "#f0f921"
             ]
            ],
            "type": "surface"
           }
          ],
          "table": [
           {
            "cells": {
             "fill": {
              "color": "#EBF0F8"
             },
             "line": {
              "color": "white"
             }
            },
            "header": {
             "fill": {
              "color": "#C8D4E3"
             },
             "line": {
              "color": "white"
             }
            },
            "type": "table"
           }
          ]
         },
         "layout": {
          "annotationdefaults": {
           "arrowcolor": "#2a3f5f",
           "arrowhead": 0,
           "arrowwidth": 1
          },
          "autotypenumbers": "strict",
          "coloraxis": {
           "colorbar": {
            "outlinewidth": 0,
            "ticks": ""
           }
          },
          "colorscale": {
           "diverging": [
            [
             0,
             "#8e0152"
            ],
            [
             0.1,
             "#c51b7d"
            ],
            [
             0.2,
             "#de77ae"
            ],
            [
             0.3,
             "#f1b6da"
            ],
            [
             0.4,
             "#fde0ef"
            ],
            [
             0.5,
             "#f7f7f7"
            ],
            [
             0.6,
             "#e6f5d0"
            ],
            [
             0.7,
             "#b8e186"
            ],
            [
             0.8,
             "#7fbc41"
            ],
            [
             0.9,
             "#4d9221"
            ],
            [
             1,
             "#276419"
            ]
           ],
           "sequential": [
            [
             0,
             "#0d0887"
            ],
            [
             0.1111111111111111,
             "#46039f"
            ],
            [
             0.2222222222222222,
             "#7201a8"
            ],
            [
             0.3333333333333333,
             "#9c179e"
            ],
            [
             0.4444444444444444,
             "#bd3786"
            ],
            [
             0.5555555555555556,
             "#d8576b"
            ],
            [
             0.6666666666666666,
             "#ed7953"
            ],
            [
             0.7777777777777778,
             "#fb9f3a"
            ],
            [
             0.8888888888888888,
             "#fdca26"
            ],
            [
             1,
             "#f0f921"
            ]
           ],
           "sequentialminus": [
            [
             0,
             "#0d0887"
            ],
            [
             0.1111111111111111,
             "#46039f"
            ],
            [
             0.2222222222222222,
             "#7201a8"
            ],
            [
             0.3333333333333333,
             "#9c179e"
            ],
            [
             0.4444444444444444,
             "#bd3786"
            ],
            [
             0.5555555555555556,
             "#d8576b"
            ],
            [
             0.6666666666666666,
             "#ed7953"
            ],
            [
             0.7777777777777778,
             "#fb9f3a"
            ],
            [
             0.8888888888888888,
             "#fdca26"
            ],
            [
             1,
             "#f0f921"
            ]
           ]
          },
          "colorway": [
           "#636efa",
           "#EF553B",
           "#00cc96",
           "#ab63fa",
           "#FFA15A",
           "#19d3f3",
           "#FF6692",
           "#B6E880",
           "#FF97FF",
           "#FECB52"
          ],
          "font": {
           "color": "#2a3f5f"
          },
          "geo": {
           "bgcolor": "white",
           "lakecolor": "white",
           "landcolor": "#E5ECF6",
           "showlakes": true,
           "showland": true,
           "subunitcolor": "white"
          },
          "hoverlabel": {
           "align": "left"
          },
          "hovermode": "closest",
          "mapbox": {
           "style": "light"
          },
          "paper_bgcolor": "white",
          "plot_bgcolor": "#E5ECF6",
          "polar": {
           "angularaxis": {
            "gridcolor": "white",
            "linecolor": "white",
            "ticks": ""
           },
           "bgcolor": "#E5ECF6",
           "radialaxis": {
            "gridcolor": "white",
            "linecolor": "white",
            "ticks": ""
           }
          },
          "scene": {
           "xaxis": {
            "backgroundcolor": "#E5ECF6",
            "gridcolor": "white",
            "gridwidth": 2,
            "linecolor": "white",
            "showbackground": true,
            "ticks": "",
            "zerolinecolor": "white"
           },
           "yaxis": {
            "backgroundcolor": "#E5ECF6",
            "gridcolor": "white",
            "gridwidth": 2,
            "linecolor": "white",
            "showbackground": true,
            "ticks": "",
            "zerolinecolor": "white"
           },
           "zaxis": {
            "backgroundcolor": "#E5ECF6",
            "gridcolor": "white",
            "gridwidth": 2,
            "linecolor": "white",
            "showbackground": true,
            "ticks": "",
            "zerolinecolor": "white"
           }
          },
          "shapedefaults": {
           "line": {
            "color": "#2a3f5f"
           }
          },
          "ternary": {
           "aaxis": {
            "gridcolor": "white",
            "linecolor": "white",
            "ticks": ""
           },
           "baxis": {
            "gridcolor": "white",
            "linecolor": "white",
            "ticks": ""
           },
           "bgcolor": "#E5ECF6",
           "caxis": {
            "gridcolor": "white",
            "linecolor": "white",
            "ticks": ""
           }
          },
          "title": {
           "x": 0.05
          },
          "xaxis": {
           "automargin": true,
           "gridcolor": "white",
           "linecolor": "white",
           "ticks": "",
           "title": {
            "standoff": 15
           },
           "zerolinecolor": "white",
           "zerolinewidth": 2
          },
          "yaxis": {
           "automargin": true,
           "gridcolor": "white",
           "linecolor": "white",
           "ticks": "",
           "title": {
            "standoff": 15
           },
           "zerolinecolor": "white",
           "zerolinewidth": 2
          }
         }
        },
        "title": {
         "text": "Compound soaking outcome for D68 3C"
        },
        "xaxis": {
         "anchor": "y",
         "autorange": true,
         "domain": [
          0,
          1
         ],
         "range": [
          -0.5,
          14.5
         ],
         "title": {
          "text": "fragment_notes"
         },
         "type": "category"
        },
        "yaxis": {
         "anchor": "x",
         "autorange": true,
         "domain": [
          0,
          1
         ],
         "range": [
          -3.045303783550323,
          -0.2227154782271301
         ],
         "title": {
          "text": "value"
         },
         "type": "log"
        }
       }
      },
      "image/png": "[encoded data removed]",
      "text/html": [
       "<div>                            <div id=\"34ce6b84-e08b-497e-ac3d-b282463c13ce\" class=\"plotly-graph-div\" style=\"height:525px; width:100%;\"></div>            <script type=\"text/javascript\">                require([\"plotly\"], function(Plotly) {                    window.PLOTLYENV=window.PLOTLYENV || {};                                    if (document.getElementById(\"34ce6b84-e08b-497e-ac3d-b282463c13ce\")) {                    Plotly.newPlot(                        \"34ce6b84-e08b-497e-ac3d-b282463c13ce\",                        [{\"alignmentgroup\":\"True\",\"hovertemplate\":\"status=released_smoothed<br>fragment_notes=%{x}<br>value=%{y}<extra></extra>\",\"legendgroup\":\"released_smoothed\",\"marker\":{\"color\":\"#636efa\",\"pattern\":{\"shape\":\"\"}},\"name\":\"released_smoothed\",\"offsetgroup\":\"released_smoothed\",\"orientation\":\"v\",\"showlegend\":true,\"textposition\":\"auto\",\"x\":[\"CovHetFrags\",\"DSiPoised\",\"DSiPoised,Euopen\",\"DSiPoised,Leed3D\",\"Euopen\",\"Invalid SMILES\",\"Leed3D\",\"Leed3D,SpotXplorer\",\"MatteoFerla-Manual-Submission\",\"MatteoFerla-ROCS&PyRosetta-filtering\",\"Postera\",\"Other P2\",\"PepLite\",\"SpotXplorer\",\"York3D\"],\"xaxis\":\"x\",\"y\":[0.04580152671755725,0.42748091603053434,0.007633587786259542,0.007633587786259542,0.007633587786259542,0.007633587786259542,0.06870229007633588,0.007633587786259542,0.022900763358778626,0.015267175572519083,0.16030534351145037,0.007633587786259542,0.007633587786259542,0.13740458015267176,0.06870229007633588],\"yaxis\":\"y\",\"type\":\"bar\"},{\"alignmentgroup\":\"True\",\"hovertemplate\":\"status=soaked_smoothed<br>fragment_notes=%{x}<br>value=%{y}<extra></extra>\",\"legendgroup\":\"soaked_smoothed\",\"marker\":{\"color\":\"#EF553B\",\"pattern\":{\"shape\":\"\"}},\"name\":\"soaked_smoothed\",\"offsetgroup\":\"soaked_smoothed\",\"orientation\":\"v\",\"showlegend\":true,\"textposition\":\"auto\",\"x\":[\"CovHetFrags\",\"DSiPoised\",\"DSiPoised,Euopen\",\"DSiPoised,Leed3D\",\"Euopen\",\"Invalid SMILES\",\"Leed3D\",\"Leed3D,SpotXplorer\",\"MatteoFerla-Manual-Submission\",\"MatteoFerla-ROCS&PyRosetta-filtering\",\"Postera\",\"Other P2\",\"PepLite\",\"SpotXplorer\",\"York3D\"],\"xaxis\":\"x\",\"y\":[0.0442643391521197,0.3266832917705736,0.0012468827930174563,0.009351620947630923,0.007481296758104738,0.005610972568578554,0.038029925187032416,0.0012468827930174563,0.007481296758104738,0.0024937655860349127,0.43266832917705733,0.02493765586034913,0.0012468827930174563,0.040523690773067333,0.05673316708229426],\"yaxis\":\"y\",\"type\":\"bar\"}],                        {\"template\":{\"data\":{\"histogram2dcontour\":[{\"type\":\"histogram2dcontour\",\"colorbar\":{\"outlinewidth\":0,\"ticks\":\"\"},\"colorscale\":[[0.0,\"#0d0887\"],[0.1111111111111111,\"#46039f\"],[0.2222222222222222,\"#7201a8\"],[0.3333333333333333,\"#9c179e\"],[0.4444444444444444,\"#bd3786\"],[0.5555555555555556,\"#d8576b\"],[0.6666666666666666,\"#ed7953\"],[0.7777777777777778,\"#fb9f3a\"],[0.8888888888888888,\"#fdca26\"],[1.0,\"#f0f921\"]]}],\"choropleth\":[{\"type\":\"choropleth\",\"colorbar\":{\"outlinewidth\":0,\"ticks\":\"\"}}],\"histogram2d\":[{\"type\":\"histogram2d\",\"colorbar\":{\"outlinewidth\":0,\"ticks\":\"\"},\"colorscale\":[[0.0,\"#0d0887\"],[0.1111111111111111,\"#46039f\"],[0.2222222222222222,\"#7201a8\"],[0.3333333333333333,\"#9c179e\"],[0.4444444444444444,\"#bd3786\"],[0.5555555555555556,\"#d8576b\"],[0.6666666666666666,\"#ed7953\"],[0.7777777777777778,\"#fb9f3a\"],[0.8888888888888888,\"#fdca26\"],[1.0,\"#f0f921\"]]}],\"heatmap\":[{\"type\":\"heatmap\",\"colorbar\":{\"outlinewidth\":0,\"ticks\":\"\"},\"colorscale\":[[0.0,\"#0d0887\"],[0.1111111111111111,\"#46039f\"],[0.2222222222222222,\"#7201a8\"],[0.3333333333333333,\"#9c179e\"],[0.4444444444444444,\"#bd3786\"],[0.5555555555555556,\"#d8576b\"],[0.6666666666666666,\"#ed7953\"],[0.7777777777777778,\"#fb9f3a\"],[0.8888888888888888,\"#fdca26\"],[1.0,\"#f0f921\"]]}],\"heatmapgl\":[{\"type\":\"heatmapgl\",\"colorbar\":{\"outlinewidth\":0,\"ticks\":\"\"},\"colorscale\":[[0.0,\"#0d0887\"],[0.1111111111111111,\"#46039f\"],[0.2222222222222222,\"#7201a8\"],[0.3333333333333333,\"#9c179e\"],[0.4444444444444444,\"#bd3786\"],[0.5555555555555556,\"#d8576b\"],[0.6666666666666666,\"#ed7953\"],[0.7777777777777778,\"#fb9f3a\"],[0.8888888888888888,\"#fdca26\"],[1.0,\"#f0f921\"]]}],\"contourcarpet\":[{\"type\":\"contourcarpet\",\"colorbar\":{\"outlinewidth\":0,\"ticks\":\"\"}}],\"contour\":[{\"type\":\"contour\",\"colorbar\":{\"outlinewidth\":0,\"ticks\":\"\"},\"colorscale\":[[0.0,\"#0d0887\"],[0.1111111111111111,\"#46039f\"],[0.2222222222222222,\"#7201a8\"],[0.3333333333333333,\"#9c179e\"],[0.4444444444444444,\"#bd3786\"],[0.5555555555555556,\"#d8576b\"],[0.6666666666666666,\"#ed7953\"],[0.7777777777777778,\"#fb9f3a\"],[0.8888888888888888,\"#fdca26\"],[1.0,\"#f0f921\"]]}],\"surface\":[{\"type\":\"surface\",\"colorbar\":{\"outlinewidth\":0,\"ticks\":\"\"},\"colorscale\":[[0.0,\"#0d0887\"],[0.1111111111111111,\"#46039f\"],[0.2222222222222222,\"#7201a8\"],[0.3333333333333333,\"#9c179e\"],[0.4444444444444444,\"#bd3786\"],[0.5555555555555556,\"#d8576b\"],[0.6666666666666666,\"#ed7953\"],[0.7777777777777778,\"#fb9f3a\"],[0.8888888888888888,\"#fdca26\"],[1.0,\"#f0f921\"]]}],\"mesh3d\":[{\"type\":\"mesh3d\",\"colorbar\":{\"outlinewidth\":0,\"ticks\":\"\"}}],\"scatter\":[{\"fillpattern\":{\"fillmode\":\"overlay\",\"size\":10,\"solidity\":0.2},\"type\":\"scatter\"}],\"parcoords\":[{\"type\":\"parcoords\",\"line\":{\"colorbar\":{\"outlinewidth\":0,\"ticks\":\"\"}}}],\"scatterpolargl\":[{\"type\":\"scatterpolargl\",\"marker\":{\"colorbar\":{\"outlinewidth\":0,\"ticks\":\"\"}}}],\"bar\":[{\"error_x\":{\"color\":\"#2a3f5f\"},\"error_y\":{\"color\":\"#2a3f5f\"},\"marker\":{\"line\":{\"color\":\"#E5ECF6\",\"width\":0.5},\"pattern\":{\"fillmode\":\"overlay\",\"size\":10,\"solidity\":0.2}},\"type\":\"bar\"}],\"scattergeo\":[{\"type\":\"scattergeo\",\"marker\":{\"colorbar\":{\"outlinewidth\":0,\"ticks\":\"\"}}}],\"scatterpolar\":[{\"type\":\"scatterpolar\",\"marker\":{\"colorbar\":{\"outlinewidth\":0,\"ticks\":\"\"}}}],\"histogram\":[{\"marker\":{\"pattern\":{\"fillmode\":\"overlay\",\"size\":10,\"solidity\":0.2}},\"type\":\"histogram\"}],\"scattergl\":[{\"type\":\"scattergl\",\"marker\":{\"colorbar\":{\"outlinewidth\":0,\"ticks\":\"\"}}}],\"scatter3d\":[{\"type\":\"scatter3d\",\"line\":{\"colorbar\":{\"outlinewidth\":0,\"ticks\":\"\"}},\"marker\":{\"colorbar\":{\"outlinewidth\":0,\"ticks\":\"\"}}}],\"scattermapbox\":[{\"type\":\"scattermapbox\",\"marker\":{\"colorbar\":{\"outlinewidth\":0,\"ticks\":\"\"}}}],\"scatterternary\":[{\"type\":\"scatterternary\",\"marker\":{\"colorbar\":{\"outlinewidth\":0,\"ticks\":\"\"}}}],\"scattercarpet\":[{\"type\":\"scattercarpet\",\"marker\":{\"colorbar\":{\"outlinewidth\":0,\"ticks\":\"\"}}}],\"carpet\":[{\"aaxis\":{\"endlinecolor\":\"#2a3f5f\",\"gridcolor\":\"white\",\"linecolor\":\"white\",\"minorgridcolor\":\"white\",\"startlinecolor\":\"#2a3f5f\"},\"baxis\":{\"endlinecolor\":\"#2a3f5f\",\"gridcolor\":\"white\",\"linecolor\":\"white\",\"minorgridcolor\":\"white\",\"startlinecolor\":\"#2a3f5f\"},\"type\":\"carpet\"}],\"table\":[{\"cells\":{\"fill\":{\"color\":\"#EBF0F8\"},\"line\":{\"color\":\"white\"}},\"header\":{\"fill\":{\"color\":\"#C8D4E3\"},\"line\":{\"color\":\"white\"}},\"type\":\"table\"}],\"barpolar\":[{\"marker\":{\"line\":{\"color\":\"#E5ECF6\",\"width\":0.5},\"pattern\":{\"fillmode\":\"overlay\",\"size\":10,\"solidity\":0.2}},\"type\":\"barpolar\"}],\"pie\":[{\"automargin\":true,\"type\":\"pie\"}]},\"layout\":{\"autotypenumbers\":\"strict\",\"colorway\":[\"#636efa\",\"#EF553B\",\"#00cc96\",\"#ab63fa\",\"#FFA15A\",\"#19d3f3\",\"#FF6692\",\"#B6E880\",\"#FF97FF\",\"#FECB52\"],\"font\":{\"color\":\"#2a3f5f\"},\"hovermode\":\"closest\",\"hoverlabel\":{\"align\":\"left\"},\"paper_bgcolor\":\"white\",\"plot_bgcolor\":\"#E5ECF6\",\"polar\":{\"bgcolor\":\"#E5ECF6\",\"angularaxis\":{\"gridcolor\":\"white\",\"linecolor\":\"white\",\"ticks\":\"\"},\"radialaxis\":{\"gridcolor\":\"white\",\"linecolor\":\"white\",\"ticks\":\"\"}},\"ternary\":{\"bgcolor\":\"#E5ECF6\",\"aaxis\":{\"gridcolor\":\"white\",\"linecolor\":\"white\",\"ticks\":\"\"},\"baxis\":{\"gridcolor\":\"white\",\"linecolor\":\"white\",\"ticks\":\"\"},\"caxis\":{\"gridcolor\":\"white\",\"linecolor\":\"white\",\"ticks\":\"\"}},\"coloraxis\":{\"colorbar\":{\"outlinewidth\":0,\"ticks\":\"\"}},\"colorscale\":{\"sequential\":[[0.0,\"#0d0887\"],[0.1111111111111111,\"#46039f\"],[0.2222222222222222,\"#7201a8\"],[0.3333333333333333,\"#9c179e\"],[0.4444444444444444,\"#bd3786\"],[0.5555555555555556,\"#d8576b\"],[0.6666666666666666,\"#ed7953\"],[0.7777777777777778,\"#fb9f3a\"],[0.8888888888888888,\"#fdca26\"],[1.0,\"#f0f921\"]],\"sequentialminus\":[[0.0,\"#0d0887\"],[0.1111111111111111,\"#46039f\"],[0.2222222222222222,\"#7201a8\"],[0.3333333333333333,\"#9c179e\"],[0.4444444444444444,\"#bd3786\"],[0.5555555555555556,\"#d8576b\"],[0.6666666666666666,\"#ed7953\"],[0.7777777777777778,\"#fb9f3a\"],[0.8888888888888888,\"#fdca26\"],[1.0,\"#f0f921\"]],\"diverging\":[[0,\"#8e0152\"],[0.1,\"#c51b7d\"],[0.2,\"#de77ae\"],[0.3,\"#f1b6da\"],[0.4,\"#fde0ef\"],[0.5,\"#f7f7f7\"],[0.6,\"#e6f5d0\"],[0.7,\"#b8e186\"],[0.8,\"#7fbc41\"],[0.9,\"#4d9221\"],[1,\"#276419\"]]},\"xaxis\":{\"gridcolor\":\"white\",\"linecolor\":\"white\",\"ticks\":\"\",\"title\":{\"standoff\":15},\"zerolinecolor\":\"white\",\"automargin\":true,\"zerolinewidth\":2},\"yaxis\":{\"gridcolor\":\"white\",\"linecolor\":\"white\",\"ticks\":\"\",\"title\":{\"standoff\":15},\"zerolinecolor\":\"white\",\"automargin\":true,\"zerolinewidth\":2},\"scene\":{\"xaxis\":{\"backgroundcolor\":\"#E5ECF6\",\"gridcolor\":\"white\",\"linecolor\":\"white\",\"showbackground\":true,\"ticks\":\"\",\"zerolinecolor\":\"white\",\"gridwidth\":2},\"yaxis\":{\"backgroundcolor\":\"#E5ECF6\",\"gridcolor\":\"white\",\"linecolor\":\"white\",\"showbackground\":true,\"ticks\":\"\",\"zerolinecolor\":\"white\",\"gridwidth\":2},\"zaxis\":{\"backgroundcolor\":\"#E5ECF6\",\"gridcolor\":\"white\",\"linecolor\":\"white\",\"showbackground\":true,\"ticks\":\"\",\"zerolinecolor\":\"white\",\"gridwidth\":2}},\"shapedefaults\":{\"line\":{\"color\":\"#2a3f5f\"}},\"annotationdefaults\":{\"arrowcolor\":\"#2a3f5f\",\"arrowhead\":0,\"arrowwidth\":1},\"geo\":{\"bgcolor\":\"white\",\"landcolor\":\"#E5ECF6\",\"subunitcolor\":\"white\",\"showland\":true,\"showlakes\":true,\"lakecolor\":\"white\"},\"title\":{\"x\":0.05},\"mapbox\":{\"style\":\"light\"}}},\"xaxis\":{\"anchor\":\"y\",\"domain\":[0.0,1.0],\"title\":{\"text\":\"fragment_notes\"}},\"yaxis\":{\"anchor\":\"x\",\"domain\":[0.0,1.0],\"title\":{\"text\":\"value\"},\"type\":\"log\"},\"legend\":{\"title\":{\"text\":\"status\"},\"tracegroupgap\":0},\"title\":{\"text\":\"Compound soaking outcome for D68 3C\"},\"barmode\":\"group\"},                        {\"responsive\": true}                    ).then(function(){\n",
       "                            \n",
       "var gd = document.getElementById('34ce6b84-e08b-497e-ac3d-b282463c13ce');\n",
       "var x = new MutationObserver(function (mutations, observer) {{\n",
       "        var display = window.getComputedStyle(gd).display;\n",
       "        if (!display || display === 'none') {{\n",
       "            console.log([gd, 'removed!']);\n",
       "            Plotly.purge(gd);\n",
       "            observer.disconnect();\n",
       "        }}\n",
       "}});\n",
       "\n",
       "// Listen for the removal of the full notebook cells\n",
       "var notebookContainer = gd.closest('#notebook-container');\n",
       "if (notebookContainer) {{\n",
       "    x.observe(notebookContainer, {childList: true});\n",
       "}}\n",
       "\n",
       "// Listen for the clearing of the current output cell\n",
       "var outputEl = gd.closest('.output');\n",
       "if (outputEl) {{\n",
       "    x.observe(outputEl, {childList: true});\n",
       "}}\n",
       "\n",
       "                        })                };                });            </script>        </div>"
      ]
     },
     "metadata": {},
     "output_type": "display_data"
    }
   ],
   "source": [
    "def laplace_smooth(series, alpha=1):\n",
    "    \"\"\"Laplace smoothing of a pandas Series.\"\"\"\n",
    "    # Total count of all categories\n",
    "    N = series.sum()\n",
    "    # Number of unique categories\n",
    "    K = len(series)\n",
    "    # Apply Laplace smoothing formula\n",
    "    smoothed = (series + alpha) / (N + alpha * K)    \n",
    "    return smoothed\n",
    "\n",
    "pivotted.loc['soaked_smoothed'] = laplace_smooth(pivotted.loc['Analysis in progress'])\n",
    "pivotted.loc['released_smoothed'] = laplace_smooth(pivotted.loc['Completed - structure released'] )\n",
    "\n",
    "fig = px.bar(pivotted.transpose()[['released_smoothed', 'soaked_smoothed']],\n",
    "      title='Compound soaking outcome for D68 3C', log_y=True\n",
    "      )\n",
    "fig.update_layout(barmode='group')\n",
    "fig"
   ]
  },
  {
   "cell_type": "code",
   "execution_count": 534,
   "id": "587da727-74a6-4710-b7d5-2463c981b23a",
   "metadata": {},
   "outputs": [],
   "source": [
    "pd.concat([soaked.reset_index(drop=True),\n",
    "           matched.reset_index(drop=True)],\n",
    "         axis=1,\n",
    "         ).to_csv('soak_annotated.csv')"
   ]
  },
  {
   "cell_type": "code",
   "execution_count": 478,
   "id": "43933b78-0aa0-4bba-be8b-12956462e092",
   "metadata": {},
   "outputs": [],
   "source": [
    "def categorize(row):\n",
    "    if str(row.error) != 'nan':\n",
    "        row.fragment_notes = row.error\n",
    "        return row.error\n",
    "    elif str(row.library) != 'nan':\n",
    "        row.fragment_notes = row.library\n",
    "        return row.library\n",
    "    elif str(row.fragment_notes) != 'nan':\n",
    "        return row.\n",
    "    else:\n",
    "        raise ValueError\n",
    "    \n",
    "matched['category'] = matched.apply(categorize, axis=1)"
   ]
  },
  {
   "cell_type": "code",
   "execution_count": null,
   "id": "a6e6d7dd-17ab-4530-91cd-00256110d871",
   "metadata": {},
   "outputs": [],
   "source": []
  }
 ],
 "metadata": {
  "kernelspec": {
   "name": "python3",
   "language": "python",
   "display_name": "Python 3 (ipykernel)"
  },
  "language_info": {
   "codemirror_mode": {
    "name": "ipython",
    "version": 3
   },
   "file_extension": ".py",
   "mimetype": "text/x-python",
   "name": "python",
   "nbconvert_exporter": "python",
   "pygments_lexer": "ipython3",
   "version": "3.10.10"
  }
 },
 "nbformat": 4,
 "nbformat_minor": 5
}
