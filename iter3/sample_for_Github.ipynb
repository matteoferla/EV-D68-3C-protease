{
 "cells": [
  {
   "cell_type": "code",
   "execution_count": 2,
   "id": "b3b0e475-bfc3-4db7-be39-3f94faea6641",
   "metadata": {},
   "outputs": [
    {
     "name": "stdout",
     "output_type": "stream",
     "text": [
      "fragmenstein_analogs_iter3.pkl.gz 17633\n",
      "fragmenstein_mergers_iter3.pkl.gz 21087\n",
      "fragmenstein_placed_iter3.pkl.gz 17633\n"
     ]
    }
   ],
   "source": [
    "from pathlib import Path\n",
    "import pandas as pd\n",
    "from typing import List\n",
    "\n",
    "sample_size: int = 50\n",
    "\n",
    "for file in Path('.').glob('*.pkl.gz'):\n",
    "    df = pd.read_pickle(file)\n",
    "    print(file.name, len(df))\n",
    "    name = file.name.split('.')[0]\n",
    "    exportable_cols: List[str] = [col for col in df.columns if '_bin' not in col and '_mol' not in col]\n",
    "    df[exportable_cols].sample(sample_size).to_csv(f'{name}_all_sample{sample_size}.csv')\n",
    "    if 'outcome' not in df.columns:\n",
    "        continue\n",
    "    df.loc[df.outcome == 'acceptable'][exportable_cols].sample(sample_size).to_csv(f'{name}_acceptable_sample{sample_size}.csv')"
   ]
  },
  {
   "cell_type": "code",
   "execution_count": null,
   "id": "4f804423-5bd0-4d57-9924-28df4fa0c92e",
   "metadata": {},
   "outputs": [],
   "source": []
  }
 ],
 "metadata": {
  "kernelspec": {
   "display_name": "Python [conda env:py310]",
   "language": "python",
   "name": "conda-env-py310-py"
  },
  "language_info": {
   "codemirror_mode": {
    "name": "ipython",
    "version": 3
   },
   "file_extension": ".py",
   "mimetype": "text/x-python",
   "name": "python",
   "nbconvert_exporter": "python",
   "pygments_lexer": "ipython3",
   "version": "3.10.10"
  }
 },
 "nbformat": 4,
 "nbformat_minor": 5
}
